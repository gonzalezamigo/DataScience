{
 "cells": [
  {
   "cell_type": "markdown",
   "metadata": {},
   "source": [
    "Esteban González"
   ]
  },
  {
   "cell_type": "markdown",
   "metadata": {},
   "source": [
    "Paso 1: importamos las librerías basicas para el procesamiento de datos"
   ]
  },
  {
   "cell_type": "code",
   "execution_count": 1,
   "metadata": {},
   "outputs": [],
   "source": [
    "import pandas as pd\n",
    "import numpy as np\n",
    "import seaborn as sns\n",
    "import matplotlib.pyplot as plt\n",
    "import warnings\n",
    "from sklearn.metrics import confusion_matrix\n",
    "import pickle\n",
    "import preproc_nyc_sqf as sqf\n",
    "import missingno as msngo\n",
    "import operator\n",
    "from sklearn.model_selection import GridSearchCV\n",
    "from sklearn.metrics import classification_report\n",
    "from sklearn.tree import DecisionTreeClassifier\n",
    "from sklearn.ensemble import AdaBoostClassifier\n",
    "from imblearn.over_sampling import SMOTE\n",
    "from imblearn.under_sampling import RandomUnderSampler\n",
    "from sklearn.preprocessing import StandardScaler\n",
    "from sklearn.naive_bayes import BernoulliNB\n",
    "from sklearn.linear_model import LogisticRegression\n",
    "from sklearn.svm import SVC\n",
    "\n",
    "warnings.filterwarnings('ignore')\n",
    "\n",
    "plt.style.use('ggplot')\n",
    "plt.rcParams['figure.figsize'] = (10, 6)\n",
    "pd.options.display.max_rows = 200"
   ]
  },
  {
   "cell_type": "markdown",
   "metadata": {},
   "source": [
    "Paso 2: Importamos los dataframes y dropeamos las variables unnamed:0"
   ]
  },
  {
   "cell_type": "code",
   "execution_count": 2,
   "metadata": {},
   "outputs": [],
   "source": [
    "df_2009 = pd.read_csv('2009_1perc.csv').drop(columns='Unnamed: 0')\n",
    "df_2010 = pd.read_csv('2010_1perc.csv').drop(columns='Unnamed: 0')"
   ]
  },
  {
   "cell_type": "markdown",
   "metadata": {},
   "source": [
    "Paso 2.1: Obtenemos las dimensiones de los dataframes cargados"
   ]
  },
  {
   "cell_type": "code",
   "execution_count": 3,
   "metadata": {},
   "outputs": [
    {
     "data": {
      "text/plain": [
       "((5812, 111), (6013, 111))"
      ]
     },
     "execution_count": 3,
     "metadata": {},
     "output_type": "execute_result"
    }
   ],
   "source": [
    "df_2009.shape, df_2010.shape"
   ]
  },
  {
   "cell_type": "markdown",
   "metadata": {},
   "source": [
    "Paso 2.2: Realizamos un mapeo de la cantdad de variables, y los dtypes"
   ]
  },
  {
   "cell_type": "code",
   "execution_count": 4,
   "metadata": {},
   "outputs": [
    {
     "name": "stdout",
     "output_type": "stream",
     "text": [
      "<class 'pandas.core.frame.DataFrame'>\n",
      "RangeIndex: 5812 entries, 0 to 5811\n",
      "Columns: 111 entries, year to detailcm\n",
      "dtypes: float64(1), int64(18), object(92)\n",
      "memory usage: 4.9+ MB\n"
     ]
    }
   ],
   "source": [
    "df_2009.info()"
   ]
  },
  {
   "cell_type": "markdown",
   "metadata": {},
   "source": [
    "Paso 2.3: preprocesamos los dataframes a través de la función create_suitable_dataframe, y revisamos los tipos de variables"
   ]
  },
  {
   "cell_type": "code",
   "execution_count": 5,
   "metadata": {},
   "outputs": [
    {
     "name": "stdout",
     "output_type": "stream",
     "text": [
      "['perobs']\n",
      "['perobs', 'meters', 'age_individual']\n",
      "\n",
      "\n",
      "<class 'pandas.core.frame.DataFrame'>\n",
      "RangeIndex: 5812 entries, 0 to 5811\n",
      "Columns: 114 entries, year to age_individual\n",
      "dtypes: float64(3), int64(19), object(92)\n",
      "memory usage: 5.1+ MB\n"
     ]
    }
   ],
   "source": [
    "sqf.create_suitable_dataframe(df_2009)\n",
    "save_2009,_,_ = sqf.create_suitable_dataframe(df_2009)\n",
    "df_save_2009 = pd.DataFrame(save_2009)\n",
    "print('\\n')\n",
    "df_2009.info()"
   ]
  },
  {
   "cell_type": "markdown",
   "metadata": {},
   "source": [
    "Paso 2.4: Revisamos la cantidad de categorías que tiene las variables nominales"
   ]
  },
  {
   "cell_type": "code",
   "execution_count": 6,
   "metadata": {},
   "outputs": [],
   "source": [
    "x = sqf.count_freq(df_2009, df_2009.select_dtypes('object').columns)\n",
    "sorted_x = sorted(x.items(), key=operator.itemgetter(1), reverse=True)"
   ]
  },
  {
   "cell_type": "code",
   "execution_count": 7,
   "metadata": {},
   "outputs": [
    {
     "data": {
      "text/plain": [
       "[('ycoord', 4430),\n",
       " ('xcoord', 4346),\n",
       " ('crossst', 1686),\n",
       " ('stinter', 1595),\n",
       " ('addrnum', 1431),\n",
       " ('stname', 977),\n",
       " ('premname', 562),\n",
       " ('crimsusp', 388),\n",
       " ('sumoffen', 192),\n",
       " ('arstoffn', 164),\n",
       " ('post', 83),\n",
       " ('beat', 34),\n",
       " ('sector', 18),\n",
       " ('haircolr', 11),\n",
       " ('eyecolor', 10),\n",
       " ('race', 8),\n",
       " ('build', 5),\n",
       " ('city', 5),\n",
       " ('trhsloc', 4),\n",
       " ('typeofid', 4),\n",
       " ('sex', 3),\n",
       " ('recstat', 2),\n",
       " ('inout', 2),\n",
       " ('explnstp', 2),\n",
       " ('othpers', 2),\n",
       " ('arstmade', 2),\n",
       " ('sumissue', 2),\n",
       " ('offunif', 2),\n",
       " ('frisked', 2),\n",
       " ('searched', 2),\n",
       " ('contrabn', 2),\n",
       " ('pistol', 2),\n",
       " ('riflshot', 2),\n",
       " ('asltweap', 2),\n",
       " ('knifcuti', 2),\n",
       " ('othrweap', 2),\n",
       " ('pf_hands', 2),\n",
       " ('pf_wall', 2),\n",
       " ('pf_grnd', 2),\n",
       " ('pf_drwep', 2),\n",
       " ('pf_ptwep', 2),\n",
       " ('pf_baton', 2),\n",
       " ('pf_hcuff', 2),\n",
       " ('pf_pepsp', 2),\n",
       " ('pf_other', 2),\n",
       " ('radio', 2),\n",
       " ('ac_rept', 2),\n",
       " ('ac_inves', 2),\n",
       " ('rf_vcrim', 2),\n",
       " ('rf_othsw', 2),\n",
       " ('ac_proxm', 2),\n",
       " ('rf_attir', 2),\n",
       " ('cs_objcs', 2),\n",
       " ('cs_descr', 2),\n",
       " ('cs_casng', 2),\n",
       " ('cs_lkout', 2),\n",
       " ('rf_vcact', 2),\n",
       " ('cs_cloth', 2),\n",
       " ('cs_drgtr', 2),\n",
       " ('ac_evasv', 2),\n",
       " ('ac_assoc', 2),\n",
       " ('cs_furtv', 2),\n",
       " ('rf_rfcmp', 2),\n",
       " ('ac_cgdir', 2),\n",
       " ('rf_verbl', 2),\n",
       " ('cs_vcrim', 2),\n",
       " ('cs_bulge', 2),\n",
       " ('cs_other', 2),\n",
       " ('ac_incid', 2),\n",
       " ('ac_time', 2),\n",
       " ('rf_knowl', 2),\n",
       " ('ac_stsnd', 2),\n",
       " ('ac_other', 2),\n",
       " ('sb_hdobj', 2),\n",
       " ('sb_outln', 2),\n",
       " ('sb_admis', 2),\n",
       " ('sb_other', 2),\n",
       " ('rf_furt', 2),\n",
       " ('rf_bulg', 2),\n",
       " ('officrid', 1),\n",
       " ('adtlrept', 1),\n",
       " ('machgun', 1),\n",
       " ('offverb', 1),\n",
       " ('offshld', 1),\n",
       " ('othfeatr', 1),\n",
       " ('addrtyp', 1),\n",
       " ('rescode', 1),\n",
       " ('premtype', 1),\n",
       " ('aptnum', 1),\n",
       " ('state', 1),\n",
       " ('zip', 1),\n",
       " ('dettypcm', 1)]"
      ]
     },
     "execution_count": 7,
     "metadata": {},
     "output_type": "execute_result"
    }
   ],
   "source": [
    "sorted_x"
   ]
  },
  {
   "cell_type": "markdown",
   "metadata": {},
   "source": [
    "- Podemos ver que existen muchas variables constantes (variables que tienen una sola categoría, como por ejemplo zip, rescode, etc) y otras con mucha dimensionalidad, cuya cantidad de categorías dificulta el trabajo, al momento de binarizar las variables."
   ]
  },
  {
   "cell_type": "markdown",
   "metadata": {},
   "source": [
    "- Graficamos la variables enteras y decimales, para ver la distribución y observar si existe un sesgo"
   ]
  },
  {
   "cell_type": "code",
   "execution_count": 8,
   "metadata": {},
   "outputs": [],
   "source": [
    "def grid_plot_batch(df, cols, plot_type):\n",
    "\n",
    "    \"\"\"\n",
    "    grid_plot_batch: Genera una grilla matplotlib para cada conjunto de variables.\n",
    "\n",
    "    Parámetros de ingreso:\n",
    "        - df: un objeto pd.DataFrame\n",
    "        - cols: cantidad de columnas en la grilla.\n",
    "        - plot_type: tipo de gráfico a generar. Puede ser una instrucción genérica de matplotlib o seaborn.\n",
    "\n",
    "    Retorno:\n",
    "        - Una grilla generada con plt.subplots y las instrucciones dentro de cada celda.\n",
    "\n",
    "    \"\"\"\n",
    "    # calcular un aproximado a la cantidad de filas\n",
    "    rows = np.ceil(df.shape[1] / cols)\n",
    "\n",
    "    # para cada columna\n",
    "    for index, (colname, serie) in enumerate(df.iteritems()):\n",
    "        plt.subplot(rows, cols, index + 1)\n",
    "        plot_type(serie)\n",
    "        plt.tight_layout()"
   ]
  },
  {
   "cell_type": "code",
   "execution_count": 9,
   "metadata": {},
   "outputs": [
    {
     "data": {
      "image/png": "[encoded data removed]",
      "text/plain": [
       "<Figure size 1080x1080 with 19 Axes>"
      ]
     },
     "metadata": {
      "needs_background": "light"
     },
     "output_type": "display_data"
    }
   ],
   "source": [
    "plt.rcParams['figure.figsize'] = (15, 15)\n",
    "grid_plot_batch(df_2009.select_dtypes('integer'), 2, sns.distplot)"
   ]
  },
  {
   "cell_type": "markdown",
   "metadata": {},
   "source": [
    "- Existen variables enteras que hay que limpiar, porque son constantes. Tambien se puede ver existe sesgo en varias varables. Guardamos las variables enteras que deben ser escaladas en el futuro."
   ]
  },
  {
   "cell_type": "code",
   "execution_count": 10,
   "metadata": {},
   "outputs": [
    {
     "data": {
      "text/plain": [
       "Index(['pct', 'ser_num', 'datestop', 'timestop', 'perstop', 'repcmd', 'revcmd',\n",
       "       'dob', 'age', 'ht_feet', 'ht_inch', 'weight', 'addrpct', 'detailcm',\n",
       "       'month'],\n",
       "      dtype='object')"
      ]
     },
     "execution_count": 10,
     "metadata": {},
     "output_type": "execute_result"
    }
   ],
   "source": [
    "var_enteras = df_2009.select_dtypes('integer').columns\n",
    "var_enteras.drop(['year','compyear','comppct','linecm'])"
   ]
  },
  {
   "cell_type": "markdown",
   "metadata": {},
   "source": [
    "Iniciamos la limpieza del dataframe. para asegurar que ambos dataframes tengan la misma estructura de columnas. Estos seran\n",
    "concatenados para realizar la limpieza de variables. Iniciamos concatenando ambos Dataframes, para que tanto train como test, ambos tengan la misma dimensionalidad."
   ]
  },
  {
   "cell_type": "code",
   "execution_count": 11,
   "metadata": {},
   "outputs": [
    {
     "data": {
      "text/plain": [
       "Index(['ac_assoc', 'ac_cgdir', 'ac_evasv', 'ac_incid', 'ac_inves', 'ac_other',\n",
       "       'ac_proxm', 'ac_rept', 'ac_stsnd', 'ac_time',\n",
       "       ...\n",
       "       'sumissue', 'sumoffen', 'timestop', 'trhsloc', 'typeofid', 'weight',\n",
       "       'xcoord', 'ycoord', 'year', 'zip'],\n",
       "      dtype='object', length=114)"
      ]
     },
     "execution_count": 11,
     "metadata": {},
     "output_type": "execute_result"
    }
   ],
   "source": [
    "df_concat = pd.concat([df_2009,df_2010])\n",
    "df_concat.columns"
   ]
  },
  {
   "cell_type": "markdown",
   "metadata": {},
   "source": [
    "Vemos la información general del nuevo dataset concatenado."
   ]
  },
  {
   "cell_type": "code",
   "execution_count": 12,
   "metadata": {},
   "outputs": [
    {
     "name": "stdout",
     "output_type": "stream",
     "text": [
      "<class 'pandas.core.frame.DataFrame'>\n",
      "Int64Index: 11825 entries, 0 to 6012\n",
      "Columns: 114 entries, ac_assoc to zip\n",
      "dtypes: float64(4), int64(15), object(95)\n",
      "memory usage: 10.4+ MB\n"
     ]
    }
   ],
   "source": [
    "df_concat.info()"
   ]
  },
  {
   "cell_type": "markdown",
   "metadata": {},
   "source": [
    "Preprocesamos el dataset concatenado. Para posteriormente efectuar la limpieza de las variables nulas"
   ]
  },
  {
   "cell_type": "code",
   "execution_count": 13,
   "metadata": {},
   "outputs": [
    {
     "name": "stdout",
     "output_type": "stream",
     "text": [
      "['age_individual', 'meters', 'month', 'perobs']\n"
     ]
    },
    {
     "data": {
      "text/plain": [
       "(     ac_assoc ac_cgdir ac_evasv ac_incid ac_inves ac_other ac_proxm ac_rept  \\\n",
       " 0           N        N        N        N        N        N        Y       N   \n",
       " 2           N        N        N        Y        N        N        N       N   \n",
       " 3           N        N        N        Y        N        N        N       N   \n",
       " 5           N        N        N        N        N        N        N       N   \n",
       " 6           N        N        N        Y        N        N        Y       N   \n",
       " 8           N        N        N        N        N        Y        Y       Y   \n",
       " 9           N        Y        N        N        N        N        N       N   \n",
       " 10          N        Y        N        Y        N        N        N       N   \n",
       " 11          N        Y        N        Y        N        N        N       N   \n",
       " 12          N        N        N        Y        Y        N        N       N   \n",
       " 14          N        N        N        Y        N        N        N       N   \n",
       " 16          N        N        N        N        N        N        N       N   \n",
       " 17          N        N        N        Y        Y        N        N       N   \n",
       " 18          N        Y        Y        N        N        N        N       N   \n",
       " 19          N        N        N        Y        N        N        Y       N   \n",
       " 20          N        N        N        N        N        N        Y       N   \n",
       " 23          Y        Y        N        Y        Y        N        Y       N   \n",
       " 24          N        N        Y        Y        N        N        N       N   \n",
       " 25          N        N        Y        Y        N        N        N       N   \n",
       " 29          N        N        N        N        N        N        N       N   \n",
       " 30          N        N        N        Y        N        N        N       N   \n",
       " 31          N        N        Y        N        N        N        N       N   \n",
       " 32          N        N        N        Y        N        N        N       N   \n",
       " 33          N        N        N        N        N        N        N       N   \n",
       " 34          N        Y        Y        N        Y        N        N       N   \n",
       " 36          N        N        N        Y        N        N        Y       N   \n",
       " 38          N        N        N        Y        N        N        N       N   \n",
       " 39          N        N        N        Y        N        N        N       N   \n",
       " 40          N        N        N        Y        N        N        N       N   \n",
       " 41          N        N        N        Y        N        N        N       N   \n",
       " 42          N        N        Y        Y        N        N        N       N   \n",
       " 43          N        N        N        Y        N        N        N       N   \n",
       " 44          N        N        N        N        N        N        Y       N   \n",
       " 45          N        N        N        Y        N        N        N       N   \n",
       " 46          N        N        N        N        N        N        Y       N   \n",
       " 48          N        N        N        N        N        N        N       N   \n",
       " 49          N        N        N        Y        Y        N        Y       N   \n",
       " 51          N        Y        N        Y        N        N        N       N   \n",
       " 52          N        Y        Y        Y        N        N        Y       N   \n",
       " 53          Y        Y        Y        Y        Y        N        Y       N   \n",
       " 56          N        N        N        Y        N        N        N       Y   \n",
       " 57          N        N        Y        Y        N        N        N       N   \n",
       " 58          N        N        N        Y        Y        N        N       N   \n",
       " 59          N        N        N        Y        N        N        N       N   \n",
       " 60          N        N        N        Y        N        N        N       N   \n",
       " 61          N        N        N        N        N        N        N       N   \n",
       " 62          N        N        N        Y        N        N        N       N   \n",
       " 64          N        N        N        Y        N        N        N       N   \n",
       " 65          N        N        N        N        N        N        N       N   \n",
       " 67          N        N        N        Y        N        N        Y       N   \n",
       " 68          N        N        N        Y        N        N        Y       N   \n",
       " 69          N        N        N        Y        N        N        N       N   \n",
       " 71          N        N        N        N        N        N        N       Y   \n",
       " 72          N        N        N        Y        N        N        N       N   \n",
       " 74          N        N        Y        Y        Y        N        N       N   \n",
       " 76          N        Y        Y        Y        N        N        N       N   \n",
       " 78          N        N        N        Y        N        N        N       N   \n",
       " 81          N        Y        N        N        N        N        N       N   \n",
       " 82          N        Y        N        N        Y        N        N       N   \n",
       " 83          N        N        N        N        N        N        Y       N   \n",
       " 85          N        Y        N        N        N        N        N       N   \n",
       " 86          N        N        Y        Y        N        N        N       N   \n",
       " 87          N        N        N        Y        N        Y        Y       N   \n",
       " 88          N        N        N        Y        N        N        N       N   \n",
       " 89          N        N        N        Y        N        N        N       N   \n",
       " 90          N        N        N        Y        N        N        N       N   \n",
       " 91          N        Y        Y        N        N        N        N       N   \n",
       " 92          N        Y        N        N        N        N        N       N   \n",
       " 93          N        N        N        Y        N        N        N       N   \n",
       " 94          N        Y        Y        Y        Y        N        Y       N   \n",
       " 95          N        N        N        N        N        N        N       N   \n",
       " 96          N        N        N        N        N        N        N       Y   \n",
       " 97          N        Y        N        Y        Y        N        Y       N   \n",
       " 98          N        N        Y        Y        N        N        N       N   \n",
       " 99          N        N        N        Y        N        N        N       N   \n",
       " 100         N        N        N        N        N        N        N       N   \n",
       " 101         N        N        N        Y        N        N        N       N   \n",
       " 102         N        N        N        Y        N        N        N       N   \n",
       " 103         N        Y        N        Y        N        N        Y       N   \n",
       " 105         N        N        N        Y        N        N        N       N   \n",
       " 106         N        N        N        Y        N        N        N       N   \n",
       " 107         N        N        N        Y        Y        N        Y       N   \n",
       " 108         N        N        Y        Y        N        N        N       N   \n",
       " 109         N        Y        Y        N        N        N        N       N   \n",
       " 110         N        Y        Y        N        N        N        N       N   \n",
       " 112         N        Y        N        Y        N        N        Y       N   \n",
       " 113         N        N        N        Y        N        N        N       N   \n",
       " 114         N        Y        Y        N        N        N        Y       N   \n",
       " 115         N        N        N        Y        N        N        N       N   \n",
       " 116         N        N        N        Y        N        N        N       N   \n",
       " 117         Y        Y        Y        Y        Y        N        Y       Y   \n",
       " 119         N        Y        Y        N        N        N        N       N   \n",
       " 120         N        N        N        N        N        N        N       N   \n",
       " 121         N        N        N        N        N        N        N       N   \n",
       " 123         N        N        N        N        N        N        N       N   \n",
       " 124         N        N        N        Y        N        N        N       N   \n",
       " 126         N        N        Y        N        N        N        N       N   \n",
       " 127         N        N        N        N        N        N        N       N   \n",
       " 130         N        N        N        Y        N        Y        Y       N   \n",
       " 132         N        N        N        Y        N        N        N       N   \n",
       " ...       ...      ...      ...      ...      ...      ...      ...     ...   \n",
       " 5888        N        N        N        N        N        N        N       N   \n",
       " 5889        N        Y        N        Y        N        N        N       N   \n",
       " 5891        N        N        N        Y        N        N        N       N   \n",
       " 5892        Y        N        N        Y        N        N        N       Y   \n",
       " 5893        N        N        N        Y        N        N        Y       N   \n",
       " 5894        N        N        N        N        N        N        N       N   \n",
       " 5895        N        N        N        N        N        Y        N       Y   \n",
       " 5897        N        N        N        Y        N        N        N       N   \n",
       " 5899        N        N        N        Y        N        Y        N       N   \n",
       " 5900        N        N        N        N        N        Y        N       N   \n",
       " 5902        N        Y        Y        Y        Y        N        N       N   \n",
       " 5903        N        N        N        N        N        Y        Y       N   \n",
       " 5904        N        Y        Y        Y        Y        N        N       N   \n",
       " 5905        N        N        N        N        N        N        N       Y   \n",
       " 5906        N        Y        Y        N        N        N        Y       N   \n",
       " 5907        N        N        Y        Y        N        N        N       N   \n",
       " 5908        N        N        N        Y        Y        N        N       N   \n",
       " 5912        N        Y        Y        Y        N        N        N       N   \n",
       " 5913        N        N        N        Y        N        N        N       N   \n",
       " 5914        N        Y        N        N        Y        N        N       N   \n",
       " 5915        N        N        N        Y        N        N        N       N   \n",
       " 5916        N        N        N        Y        N        N        N       N   \n",
       " 5917        N        N        N        N        Y        N        Y       N   \n",
       " 5918        N        N        N        N        N        N        N       N   \n",
       " 5919        N        N        N        Y        N        N        N       N   \n",
       " 5920        N        Y        Y        Y        N        N        N       N   \n",
       " 5921        N        N        N        Y        N        N        N       N   \n",
       " 5923        N        N        N        N        Y        Y        N       N   \n",
       " 5924        N        N        N        Y        N        N        N       Y   \n",
       " 5925        N        N        N        Y        N        N        N       Y   \n",
       " 5927        N        N        N        Y        N        N        N       N   \n",
       " 5928        Y        N        N        Y        N        N        N       N   \n",
       " 5929        N        N        N        N        N        N        Y       N   \n",
       " 5932        N        N        N        Y        N        N        N       N   \n",
       " 5933        N        Y        N        N        N        N        Y       N   \n",
       " 5934        N        N        N        N        N        N        N       N   \n",
       " 5935        N        N        N        N        N        N        N       N   \n",
       " 5936        N        N        N        Y        N        N        Y       N   \n",
       " 5937        N        Y        N        N        N        N        Y       N   \n",
       " 5938        N        N        N        Y        N        N        N       N   \n",
       " 5939        N        Y        Y        Y        N        N        N       N   \n",
       " 5940        N        N        N        Y        Y        N        N       N   \n",
       " 5941        Y        N        N        Y        N        N        N       N   \n",
       " 5942        N        N        N        N        N        N        N       N   \n",
       " 5943        N        N        N        Y        N        N        N       N   \n",
       " 5944        N        N        N        Y        N        N        N       N   \n",
       " 5946        N        N        N        Y        N        Y        N       N   \n",
       " 5948        N        Y        N        N        N        N        Y       Y   \n",
       " 5949        N        Y        N        Y        Y        N        Y       N   \n",
       " 5952        N        N        N        Y        N        N        N       N   \n",
       " 5953        N        N        N        Y        N        N        N       N   \n",
       " 5954        N        Y        Y        N        N        N        N       N   \n",
       " 5955        N        N        N        Y        N        N        N       N   \n",
       " 5956        N        N        N        Y        N        N        N       N   \n",
       " 5957        N        Y        N        Y        N        N        N       N   \n",
       " 5958        N        N        N        N        N        N        N       N   \n",
       " 5959        N        N        N        Y        Y        N        N       N   \n",
       " 5960        N        N        N        N        N        N        N       N   \n",
       " 5962        N        N        N        N        N        Y        N       N   \n",
       " 5963        N        N        N        N        N        N        N       N   \n",
       " 5964        N        Y        Y        N        Y        N        N       N   \n",
       " 5965        N        Y        Y        Y        N        N        N       N   \n",
       " 5966        N        N        Y        N        N        N        N       N   \n",
       " 5968        N        Y        Y        N        N        N        N       N   \n",
       " 5969        N        N        N        Y        N        N        N       N   \n",
       " 5970        N        N        N        N        N        N        N       N   \n",
       " 5971        N        Y        Y        N        N        N        N       N   \n",
       " 5972        N        N        N        Y        N        N        N       N   \n",
       " 5973        N        Y        Y        N        N        N        N       N   \n",
       " 5974        N        N        N        Y        Y        N        Y       N   \n",
       " 5975        N        N        N        N        N        N        N       N   \n",
       " 5977        N        N        N        N        N        N        N       Y   \n",
       " 5978        N        N        N        Y        N        N        N       N   \n",
       " 5979        N        Y        Y        Y        Y        N        Y       N   \n",
       " 5980        N        N        Y        Y        N        N        N       N   \n",
       " 5982        N        N        N        N        N        N        N       N   \n",
       " 5983        N        N        N        Y        Y        N        N       Y   \n",
       " 5984        N        N        N        N        N        N        N       N   \n",
       " 5987        N        N        N        N        N        N        N       N   \n",
       " 5988        N        N        N        N        Y        N        Y       N   \n",
       " 5989        N        Y        N        Y        N        N        N       N   \n",
       " 5991        N        N        N        N        N        Y        Y       Y   \n",
       " 5992        N        N        N        Y        N        N        N       N   \n",
       " 5993        N        N        N        N        N        N        N       N   \n",
       " 5995        N        Y        N        N        N        N        N       N   \n",
       " 5996        N        Y        Y        Y        N        N        N       N   \n",
       " 5997        N        N        N        Y        N        N        N       N   \n",
       " 5998        N        N        N        N        N        Y        N       N   \n",
       " 5999        N        N        N        Y        N        N        Y       N   \n",
       " 6000        N        Y        N        Y        N        N        N       N   \n",
       " 6002        N        N        N        N        N        N        N       N   \n",
       " 6003        N        N        N        Y        N        N        N       N   \n",
       " 6004        N        N        Y        Y        N        N        N       N   \n",
       " 6005        N        Y        Y        N        Y        N        N       N   \n",
       " 6006        N        N        N        Y        N        N        Y       N   \n",
       " 6007        N        N        Y        Y        Y        N        N       N   \n",
       " 6008        N        N        Y        N        N        N        N       N   \n",
       " 6009        N        N        Y        N        Y        N        N       N   \n",
       " 6011        N        Y        Y        N        N        N        N       N   \n",
       " 6012        N        N        N        Y        N        N        Y       Y   \n",
       " \n",
       "      ac_stsnd ac_time    ...    sb_other sb_outln searched sector sex  \\\n",
       " 0           N       Y    ...           N        N        N      G   M   \n",
       " 2           N       N    ...           N        N        N      E   M   \n",
       " 3           N       Y    ...           N        N        N      J   M   \n",
       " 5           N       N    ...           N        N        N      F   M   \n",
       " 6           N       Y    ...           Y        Y        Y      N   M   \n",
       " 8           N       N    ...           N        N        N      B   M   \n",
       " 9           Y       N    ...           N        N        N      N   M   \n",
       " 10          N       Y    ...           N        N        N      J   M   \n",
       " 11          N       N    ...           N        N        N      B   M   \n",
       " 12          N       Y    ...           Y        N        Y      C   M   \n",
       " 14          N       Y    ...           N        N        N      G   M   \n",
       " 16          N       N    ...           N        N        N      F   Z   \n",
       " 17          N       N    ...           N        N        N      F   M   \n",
       " 18          N       N    ...           N        N        N      C   M   \n",
       " 19          N       Y    ...           N        N        N      A   M   \n",
       " 20          N       N    ...           N        N        N      I   M   \n",
       " 23          N       Y    ...           N        N        N      H   M   \n",
       " 24          N       Y    ...           N        N        N      P   M   \n",
       " 25          N       Y    ...           N        N        N      A   M   \n",
       " 29          N       N    ...           N        N        N      D   M   \n",
       " 30          N       N    ...           N        N        N      G   M   \n",
       " 31          N       N    ...           N        N        N      F   M   \n",
       " 32          N       Y    ...           N        N        N      M   M   \n",
       " 33          N       N    ...           N        N        N      F   M   \n",
       " 34          N       N    ...           N        N        N      B   M   \n",
       " 36          N       Y    ...           N        N        N      G   F   \n",
       " 38          N       Y    ...           N        N        N      F   M   \n",
       " 39          N       Y    ...           N        N        N      G   M   \n",
       " 40          N       N    ...           N        N        N      E   M   \n",
       " 41          N       Y    ...           N        N        N      I   M   \n",
       " 42          N       Y    ...           Y        N        Y      A   M   \n",
       " 43          N       N    ...           N        N        N      D   M   \n",
       " 44          N       N    ...           N        N        N      H   M   \n",
       " 45          N       N    ...           N        N        N      C   M   \n",
       " 46          N       Y    ...           N        N        N      G   M   \n",
       " 48          N       N    ...           N        N        N      U   M   \n",
       " 49          N       N    ...           N        N        N      F   M   \n",
       " 51          N       Y    ...           N        N        N      T   M   \n",
       " 52          N       Y    ...           N        N        N      G   M   \n",
       " 53          N       Y    ...           N        N        N      J   M   \n",
       " 56          N       Y    ...           N        N        N      E   F   \n",
       " 57          N       Y    ...           N        N        N      I   M   \n",
       " 58          N       Y    ...           N        N        N      M   M   \n",
       " 59          N       Y    ...           N        N        N      F   M   \n",
       " 60          N       N    ...           N        N        N      C   M   \n",
       " 61          N       N    ...           N        N        N      B   M   \n",
       " 62          N       N    ...           N        N        N      G   M   \n",
       " 64          N       Y    ...           N        N        N      D   M   \n",
       " 65          N       N    ...           N        N        N      J   M   \n",
       " 67          N       Y    ...           N        N        N      K   M   \n",
       " 68          N       Y    ...           N        N        N      P   M   \n",
       " 69          N       N    ...           N        N        N      D   M   \n",
       " 71          N       N    ...           N        N        N      G   F   \n",
       " 72          N       N    ...           N        N        N      C   M   \n",
       " 74          N       Y    ...           N        N        N      B   M   \n",
       " 76          N       N    ...           N        N        N      E   M   \n",
       " 78          N       Y    ...           N        N        N      B   M   \n",
       " 81          N       N    ...           N        N        N      F   M   \n",
       " 82          N       Y    ...           N        N        N      F   M   \n",
       " 83          N       N    ...           N        N        N      E   M   \n",
       " 85          N       N    ...           N        N        Y      P   M   \n",
       " 86          N       Y    ...           N        N        N      I   M   \n",
       " 87          N       Y    ...           N        N        Y      E   M   \n",
       " 88          N       N    ...           N        N        N      P   M   \n",
       " 89          N       N    ...           N        N        N      K   M   \n",
       " 90          N       N    ...           N        N        N      K   M   \n",
       " 91          N       N    ...           N        N        N      F   F   \n",
       " 92          N       N    ...           N        N        N      E   M   \n",
       " 93          N       Y    ...           N        N        N      H   M   \n",
       " 94          N       Y    ...           N        N        Y      G   M   \n",
       " 95          N       Y    ...           N        N        N      A   M   \n",
       " 96          N       N    ...           N        N        N      B   F   \n",
       " 97          N       Y    ...           N        N        N      J   F   \n",
       " 98          N       Y    ...           N        N        N      H   M   \n",
       " 99          N       N    ...           N        N        N      G   M   \n",
       " 100         N       Y    ...           N        N        N      I   M   \n",
       " 101         N       Y    ...           N        N        N      C   M   \n",
       " 102         N       N    ...           N        N        N      A   M   \n",
       " 103         N       Y    ...           N        N        N      M   M   \n",
       " 105         N       Y    ...           N        N        N      G   M   \n",
       " 106         N       Y    ...           N        N        N      A   M   \n",
       " 107         N       N    ...           N        N        N      J   M   \n",
       " 108         N       Y    ...           N        N        N      F   M   \n",
       " 109         N       N    ...           Y        N        Y      H   M   \n",
       " 110         N       N    ...           Y        N        Y      I   M   \n",
       " 112         N       Y    ...           N        N        N      P   M   \n",
       " 113         N       Y    ...           Y        N        Y      G   M   \n",
       " 114         N       N    ...           N        N        N      A   M   \n",
       " 115         N       N    ...           N        N        N      B   M   \n",
       " 116         N       N    ...           N        N        N      B   M   \n",
       " 117         N       Y    ...           N        N        N      A   M   \n",
       " 119         N       N    ...           N        N        N      A   M   \n",
       " 120         N       Y    ...           N        N        Y      C   M   \n",
       " 121         N       N    ...           N        N        N      G   M   \n",
       " 123         N       N    ...           N        N        N      H   M   \n",
       " 124         N       Y    ...           N        N        N      T   M   \n",
       " 126         N       N    ...           N        N        N      E   F   \n",
       " 127         N       N    ...           N        N        N      B   M   \n",
       " 130         N       N    ...           N        N        N      J   F   \n",
       " 132         N       Y    ...           Y        N        Y      B   M   \n",
       " ...       ...     ...    ...         ...      ...      ...    ...  ..   \n",
       " 5888        N       Y    ...           N        N        N      B   M   \n",
       " 5889        N       N    ...           N        N        N      G   M   \n",
       " 5891        N       N    ...           N        N        N      C   M   \n",
       " 5892        N       Y    ...           N        N        N      B   M   \n",
       " 5893        N       Y    ...           N        N        N      C   F   \n",
       " 5894        N       N    ...           N        N        N      C   F   \n",
       " 5895        N       N    ...           N        N        N      D   M   \n",
       " 5897        N       N    ...           N        N        N      F   M   \n",
       " 5899        N       N    ...           N        N        N      E   M   \n",
       " 5900        N       N    ...           N        N        N      H   M   \n",
       " 5902        N       Y    ...           N        N        N      A   M   \n",
       " 5903        N       N    ...           N        N        N      B   F   \n",
       " 5904        N       Y    ...           N        N        N      A   M   \n",
       " 5905        N       N    ...           N        N        N      E   M   \n",
       " 5906        N       Y    ...           N        N        Y      J   M   \n",
       " 5907        N       Y    ...           N        N        N      B   M   \n",
       " 5908        N       Y    ...           N        N        N      B   F   \n",
       " 5912        N       Y    ...           N        N        N      A   M   \n",
       " 5913        N       N    ...           N        N        N      A   M   \n",
       " 5914        N       N    ...           N        N        N      C   M   \n",
       " 5915        N       N    ...           N        N        N      H   M   \n",
       " 5916        N       Y    ...           N        N        N      P   M   \n",
       " 5917        N       N    ...           N        N        N      E   M   \n",
       " 5918        N       N    ...           N        N        N      I   F   \n",
       " 5919        N       N    ...           N        N        N      I   M   \n",
       " 5920        Y       Y    ...           N        N        N      M   M   \n",
       " 5921        N       N    ...           N        N        N      D   M   \n",
       " 5923        N       N    ...           N        N        N      B   M   \n",
       " 5924        N       N    ...           N        N        N      J   M   \n",
       " 5925        N       N    ...           N        N        N      E   M   \n",
       " 5927        N       Y    ...           N        N        N      G   M   \n",
       " 5928        N       Y    ...           N        N        N      C   M   \n",
       " 5929        N       N    ...           N        N        N      A   M   \n",
       " 5932        N       Y    ...           N        N        N      D   M   \n",
       " 5933        N       N    ...           N        N        N      D   M   \n",
       " 5934        N       N    ...           N        N        N      C   M   \n",
       " 5935        N       Y    ...           N        N        N      J   M   \n",
       " 5936        N       N    ...           N        N        N      G   M   \n",
       " 5937        N       Y    ...           N        N        N      T   M   \n",
       " 5938        N       N    ...           N        N        Y      B   M   \n",
       " 5939        N       Y    ...           N        N        N      A   M   \n",
       " 5940        N       N    ...           N        N        N      A   M   \n",
       " 5941        Y       N    ...           N        N        N      M   M   \n",
       " 5942        N       N    ...           N        N        N      B   M   \n",
       " 5943        N       N    ...           N        N        N      N   M   \n",
       " 5944        N       N    ...           N        N        N      B   M   \n",
       " 5946        N       Y    ...           N        N        N      C   M   \n",
       " 5948        N       N    ...           N        N        N      D   M   \n",
       " 5949        N       Y    ...           N        N        N      I   M   \n",
       " 5952        N       Y    ...           N        N        N      C   F   \n",
       " 5953        N       N    ...           N        N        N      G   M   \n",
       " 5954        N       N    ...           N        N        N      I   M   \n",
       " 5955        N       N    ...           N        N        N      K   M   \n",
       " 5956        N       N    ...           N        N        N      G   M   \n",
       " 5957        N       Y    ...           N        N        N      K   M   \n",
       " 5958        N       N    ...           N        N        N      D   M   \n",
       " 5959        N       N    ...           N        N        N      J   M   \n",
       " 5960        N       N    ...           N        N        N      R   M   \n",
       " 5962        N       N    ...           N        N        N      E   M   \n",
       " 5963        N       Y    ...           N        N        N      P   M   \n",
       " 5964        N       N    ...           N        N        N      C   M   \n",
       " 5965        N       Y    ...           N        N        N      C   M   \n",
       " 5966        N       N    ...           N        N        N      U   M   \n",
       " 5968        N       N    ...           N        N        N      F   M   \n",
       " 5969        N       Y    ...           N        N        N      E   M   \n",
       " 5970        N       N    ...           N        N        N      C   M   \n",
       " 5971        N       Y    ...           N        N        N      G   M   \n",
       " 5972        N       N    ...           N        N        N      C   M   \n",
       " 5973        N       N    ...           N        N        N      F   M   \n",
       " 5974        N       Y    ...           N        N        N      A   F   \n",
       " 5975        N       N    ...           N        N        N      E   M   \n",
       " 5977        N       N    ...           N        N        N      E   M   \n",
       " 5978        N       N    ...           N        N        N      E   M   \n",
       " 5979        N       Y    ...           N        N        N      C   M   \n",
       " 5980        N       Y    ...           N        N        N      H   M   \n",
       " 5982        N       Y    ...           N        N        N      G   M   \n",
       " 5983        N       N    ...           N        N        N      F   M   \n",
       " 5984        N       N    ...           N        N        N      R   M   \n",
       " 5987        N       Y    ...           N        N        N      C   M   \n",
       " 5988        N       Y    ...           N        N        N      E   M   \n",
       " 5989        N       Y    ...           N        N        N      B   M   \n",
       " 5991        N       N    ...           N        N        N      A   M   \n",
       " 5992        N       Y    ...           N        N        N      F   M   \n",
       " 5993        N       N    ...           N        N        N      H   M   \n",
       " 5995        N       N    ...           N        N        N      B   M   \n",
       " 5996        N       Y    ...           N        N        N      D   M   \n",
       " 5997        N       Y    ...           N        N        Y      G   M   \n",
       " 5998        N       N    ...           N        N        N      P   M   \n",
       " 5999        N       Y    ...           N        N        N      I   F   \n",
       " 6000        N       N    ...           N        N        N      K   M   \n",
       " 6002        N       Y    ...           N        N        N      Q   M   \n",
       " 6003        N       Y    ...           N        N        N      E   M   \n",
       " 6004        N       Y    ...           N        N        N      E   M   \n",
       " 6005        N       N    ...           N        N        N      H   Z   \n",
       " 6006        N       Y    ...           N        N        N      B   M   \n",
       " 6007        N       Y    ...           N        N        N      A   F   \n",
       " 6008        N       N    ...           N        N        N      I   M   \n",
       " 6009        N       Y    ...           N        N        N      A   M   \n",
       " 6011        N       Y    ...           N        N        N      E   M   \n",
       " 6012        N       N    ...           N        N        N      H   M   \n",
       " \n",
       "      sumissue trhsloc typeofid month    meters  \n",
       " 0           N       P        P     4  1.798320  \n",
       " 2           N       P        V    10  1.920240  \n",
       " 3           N       P        P    12  1.676400  \n",
       " 5           N       T        V     5  1.767840  \n",
       " 6           N       P        P    11  1.557528  \n",
       " 8           N       P        P    12  1.859280  \n",
       " 9           N       P        P     4  1.554480  \n",
       " 10          N       P        V    11  1.554480  \n",
       " 11          N       T        O    12  1.828800  \n",
       " 12          N       T        V    11  1.767840  \n",
       " 14          N       P        P     4  1.767840  \n",
       " 16          N       P        V     4  1.737360  \n",
       " 17          N       T        V     6  1.767840  \n",
       " 18          N       T        V    12  1.767840  \n",
       " 19          N       H        V    10  1.737360  \n",
       " 20          N       P        P     5  1.557528  \n",
       " 23          N       P        P     5  1.554480  \n",
       " 24          Y       P        P     3  1.554480  \n",
       " 25          Y       P        P     8  1.767840  \n",
       " 29          N       T        P     8  1.676400  \n",
       " 30          N       P        P     9  1.798320  \n",
       " 31          N       P        P    10  1.828800  \n",
       " 32          N       P        V     7  1.798320  \n",
       " 33          N       P        P     4  1.859280  \n",
       " 34          N       H        V     4  1.676400  \n",
       " 36          N       H        P     8  1.645920  \n",
       " 38          N       P        V     9  1.828800  \n",
       " 39          Y       H        P     5  1.737360  \n",
       " 40          N       P        P     5  1.950720  \n",
       " 41          N       H        P     5  1.828800  \n",
       " 42          N       P        V     2  1.706880  \n",
       " 43          N       P        P     7  1.557528  \n",
       " 44          N       P        V     3  1.798320  \n",
       " 45          N       P        P     2  1.828800  \n",
       " 46          N       H        P     8  1.828800  \n",
       " 48          N       P        V    10  1.798320  \n",
       " 49          N       P        P    10  1.554480  \n",
       " 51          N       P        P     2  1.737360  \n",
       " 52          N       P        P    12  1.798320  \n",
       " 53          N       P        P    11  1.737360  \n",
       " 56          N       P        P     8  1.737360  \n",
       " 57          N       P        V     1  1.828800  \n",
       " 58          N       P        V    11  1.889760  \n",
       " 59          N       P        V     3  1.798320  \n",
       " 60          N       H        V    11  1.767840  \n",
       " 61          N       P        P     4  1.798320  \n",
       " 62          N       U        P    11  1.767840  \n",
       " 64          N       P        P     4  1.767840  \n",
       " 65          N       P        V     3  1.737360  \n",
       " 67          N       H        P     3  1.767840  \n",
       " 68          N       P        P    11  1.706880  \n",
       " 69          N       P        P     4  1.645920  \n",
       " 71          N       P        V     2  1.524000  \n",
       " 72          N       P        P     9  1.554480  \n",
       " 74          N       P        P    11  1.737360  \n",
       " 76          N       U        V    11  1.554480  \n",
       " 78          Y       P        P     7  1.950720  \n",
       " 81          Y       P        P     5  1.737360  \n",
       " 82          N       H        V     9  1.767840  \n",
       " 83          N       P        V    11  1.767840  \n",
       " 85          N       U        V    10  1.767840  \n",
       " 86          N       P        P     2  1.554480  \n",
       " 87          N       P        P     6  1.859280  \n",
       " 88          N       H        V     7  1.737360  \n",
       " 89          N       P        P     3  1.554480  \n",
       " 90          N       P        P    11  1.767840  \n",
       " 91          N       T        V     4  1.615440  \n",
       " 92          N       P        P     2  1.737360  \n",
       " 93          N       P        P     2  1.889760  \n",
       " 94          N       P        P     9  1.557528  \n",
       " 95          N       T        V    10  1.706880  \n",
       " 96          N       H        P     2  1.615440  \n",
       " 97          N       P        P     9  1.615440  \n",
       " 98          N       P        P     3  1.828800  \n",
       " 99          N       P        P     8  1.828800  \n",
       " 100         N       T        V    10  1.554480  \n",
       " 101         N       P        V     2  1.920240  \n",
       " 102         N       P        P    10  1.859280  \n",
       " 103         N       P        V     9  1.828800  \n",
       " 105         N       P        V     3  1.798320  \n",
       " 106         N       P        P     9  1.706880  \n",
       " 107         N       P        P    10  1.557528  \n",
       " 108         N       T        V    12  1.798320  \n",
       " 109         N       P        P     8  1.889760  \n",
       " 110         N       P        P     9  1.767840  \n",
       " 112         N       P        V     8  1.767840  \n",
       " 113         N       H        P     2  1.645920  \n",
       " 114         N       T        P     9  1.889760  \n",
       " 115         N       H        P     6  1.798320  \n",
       " 116         N       T        P     8  1.706880  \n",
       " 117         N       P        P     2  1.828800  \n",
       " 119         Y       P        P    10  1.798320  \n",
       " 120         N       P        P     9  1.798320  \n",
       " 121         N       P        V     3  1.557528  \n",
       " 123         N       P        V    12  1.767840  \n",
       " 124         N       P        V    11  1.676400  \n",
       " 126         N       P        P     9  1.798320  \n",
       " 127         N       P        P     8  1.737360  \n",
       " 130         N       H        P     6  1.706880  \n",
       " 132         N       H        O     8  1.798320  \n",
       " ...       ...     ...      ...   ...       ...  \n",
       " 5888        N       P        P    11  1.828800  \n",
       " 5889        N       P        P    10  1.737360  \n",
       " 5891        N       P        V     8  1.828800  \n",
       " 5892        N       P        P    12  1.767840  \n",
       " 5893        N       P        V     5  1.615440  \n",
       " 5894        N       P        V    12  1.645920  \n",
       " 5895        N       P        P     9  1.706880  \n",
       " 5897        N       P        V    10  1.767840  \n",
       " 5899        N       P        P     3  1.767840  \n",
       " 5900        N       T        P     6  1.554480  \n",
       " 5902        N       P        P     6  1.645920  \n",
       " 5903        N       P        P    12  1.645920  \n",
       " 5904        N       P        P     8  1.706880  \n",
       " 5905        N       P        V     2  1.737360  \n",
       " 5906        N       P        V     2  1.554480  \n",
       " 5907        N       P        V     5  1.767840  \n",
       " 5908        N       P        P    10  1.557528  \n",
       " 5912        N       P        P     6  1.554480  \n",
       " 5913        Y       T        O    12  2.011680  \n",
       " 5914        N       P        P     2  1.554480  \n",
       " 5915        N       P        V     2  1.615440  \n",
       " 5916        N       H        V     5  1.557528  \n",
       " 5917        N       T        V     2  1.737360  \n",
       " 5918        N       P        O     9  1.737360  \n",
       " 5919        N       P        P     3  1.767840  \n",
       " 5920        N       P        P     2  1.554480  \n",
       " 5921        N       P        P     6  1.557528  \n",
       " 5923        N       P        P    12  1.828800  \n",
       " 5924        N       P        V     6  1.706880  \n",
       " 5925        N       P        V    11  1.828800  \n",
       " 5927        N       P        P     4  1.557528  \n",
       " 5928        N       P        P     6  1.767840  \n",
       " 5929        N       P        P    11  1.737360  \n",
       " 5932        N       P        V     7  1.859280  \n",
       " 5933        N       P        P     8  1.798320  \n",
       " 5934        N       P        P    10  1.828800  \n",
       " 5935        N       P        R     8  1.889760  \n",
       " 5936        Y       P        P     5  1.554480  \n",
       " 5937        N       P        V     1  1.557528  \n",
       " 5938        N       P        V     4  1.706880  \n",
       " 5939        N       P        V     9  1.706880  \n",
       " 5940        N       P        P     3  1.737360  \n",
       " 5941        N       P        P    10  1.737360  \n",
       " 5942        N       T        P     2  1.920240  \n",
       " 5943        N       P        V     2  1.706880  \n",
       " 5944        N       P        P     2  1.798320  \n",
       " 5946        N       P        P     2  1.554480  \n",
       " 5948        N       P        R    10  1.706880  \n",
       " 5949        N       P        V     7  1.557528  \n",
       " 5952        N       P        P     3  1.737360  \n",
       " 5953        N       H        V    12  1.737360  \n",
       " 5954        N       P        P     6  1.554480  \n",
       " 5955        N       P        V    10  1.798320  \n",
       " 5956        N       P        V     4  1.557528  \n",
       " 5957        N       P        P     9  1.676400  \n",
       " 5958        N       P        V     4  1.706880  \n",
       " 5959        N       P        P     4  1.828800  \n",
       " 5960        N       H        P     4  1.767840  \n",
       " 5962        N       T        P     9  1.737360  \n",
       " 5963        N       P        V     4  1.767840  \n",
       " 5964        N       T        P     8  1.737360  \n",
       " 5965        N       P        P    12  1.767840  \n",
       " 5966        N       P        P     3  1.706880  \n",
       " 5968        N       P        P     3  1.706880  \n",
       " 5969        Y       P        P     5  1.706880  \n",
       " 5970        N       P        P     3  1.557528  \n",
       " 5971        N       P        P    10  1.950720  \n",
       " 5972        N       T        V    10  1.828800  \n",
       " 5973        N       P        P     3  1.767840  \n",
       " 5974        N       H        P    10  1.645920  \n",
       " 5975        N       P        P     3  1.706880  \n",
       " 5977        N       P        V     9  1.828800  \n",
       " 5978        N       P        V     4  1.767840  \n",
       " 5979        N       P        V     5  1.859280  \n",
       " 5980        N       P        P     2  1.859280  \n",
       " 5982        N       P        P     8  1.767840  \n",
       " 5983        N       P        V    12  1.737360  \n",
       " 5984        N       P        V     4  1.798320  \n",
       " 5987        N       T        V     3  1.767840  \n",
       " 5988        N       P        P     4  1.584960  \n",
       " 5989        N       P        P     7  1.554480  \n",
       " 5991        N       T        R     3  1.767840  \n",
       " 5992        N       T        P    11  1.676400  \n",
       " 5993        N       P        V    10  1.767840  \n",
       " 5995        N       H        P    10  1.920240  \n",
       " 5996        N       P        P    11  1.859280  \n",
       " 5997        N       P        P     3  1.859280  \n",
       " 5998        N       P        P     7  1.554480  \n",
       " 5999        Y       H        P    10  1.706880  \n",
       " 6000        N       P        P     7  1.798320  \n",
       " 6002        N       P        V     8  1.737360  \n",
       " 6003        N       T        V     6  1.767840  \n",
       " 6004        N       P        V    12  1.981200  \n",
       " 6005        N       P        V     8  1.798320  \n",
       " 6006        N       P        V    10  1.557528  \n",
       " 6007        N       P        P     6  1.706880  \n",
       " 6008        N       H        P     9  1.554480  \n",
       " 6009        N       P        R     7  1.737360  \n",
       " 6011        N       P        P    11  1.557528  \n",
       " 6012        N       T        P    10  1.859280  \n",
       " \n",
       " [9383 rows x 76 columns],\n",
       " ['ac_assoc',\n",
       "  'ac_cgdir',\n",
       "  'ac_evasv',\n",
       "  'ac_incid',\n",
       "  'ac_inves',\n",
       "  'ac_other',\n",
       "  'ac_proxm',\n",
       "  'ac_rept',\n",
       "  'ac_stsnd',\n",
       "  'ac_time',\n",
       "  'addrtyp',\n",
       "  'arstmade',\n",
       "  'asltweap',\n",
       "  'beat',\n",
       "  'build',\n",
       "  'city',\n",
       "  'contrabn',\n",
       "  'cs_bulge',\n",
       "  'cs_casng',\n",
       "  'cs_cloth',\n",
       "  'cs_descr',\n",
       "  'cs_drgtr',\n",
       "  'cs_furtv',\n",
       "  'cs_lkout',\n",
       "  'cs_objcs',\n",
       "  'cs_other',\n",
       "  'cs_vcrim',\n",
       "  'dettypcm',\n",
       "  'explnstp',\n",
       "  'eyecolor',\n",
       "  'frisked',\n",
       "  'haircolr',\n",
       "  'inout',\n",
       "  'knifcuti',\n",
       "  'linecm',\n",
       "  'officrid',\n",
       "  'offshld',\n",
       "  'offunif',\n",
       "  'offverb',\n",
       "  'othpers',\n",
       "  'othrweap',\n",
       "  'pf_baton',\n",
       "  'pf_drwep',\n",
       "  'pf_grnd',\n",
       "  'pf_hands',\n",
       "  'pf_hcuff',\n",
       "  'pf_other',\n",
       "  'pf_pepsp',\n",
       "  'pf_ptwep',\n",
       "  'pf_wall',\n",
       "  'pistol',\n",
       "  'race',\n",
       "  'radio',\n",
       "  'recstat',\n",
       "  'rf_attir',\n",
       "  'rf_bulg',\n",
       "  'rf_furt',\n",
       "  'rf_knowl',\n",
       "  'rf_othsw',\n",
       "  'rf_rfcmp',\n",
       "  'rf_vcact',\n",
       "  'rf_vcrim',\n",
       "  'rf_verbl',\n",
       "  'riflshot',\n",
       "  'sb_admis',\n",
       "  'sb_hdobj',\n",
       "  'sb_other',\n",
       "  'sb_outln',\n",
       "  'searched',\n",
       "  'sector',\n",
       "  'sex',\n",
       "  'sumissue',\n",
       "  'trhsloc',\n",
       "  'typeofid'],\n",
       " ['age_individual', 'meters', 'month', 'perobs'])"
      ]
     },
     "execution_count": 13,
     "metadata": {},
     "output_type": "execute_result"
    }
   ],
   "source": [
    "sqf.create_suitable_dataframe(df_concat)"
   ]
  },
  {
   "cell_type": "code",
   "execution_count": 14,
   "metadata": {},
   "outputs": [
    {
     "data": {
      "text/plain": [
       "ac_assoc             0\n",
       "ac_cgdir             0\n",
       "ac_evasv             0\n",
       "ac_incid             0\n",
       "ac_inves             0\n",
       "ac_other             0\n",
       "ac_proxm             0\n",
       "ac_rept              0\n",
       "ac_stsnd             0\n",
       "ac_time              0\n",
       "addrnum              0\n",
       "addrpct              0\n",
       "addrtyp              0\n",
       "adtlrept             0\n",
       "age                  0\n",
       "age_individual    2440\n",
       "aptnum               0\n",
       "arstmade             0\n",
       "arstoffn             0\n",
       "asltweap             0\n",
       "beat                 0\n",
       "build                0\n",
       "city                 0\n",
       "comppct              0\n",
       "compyear             0\n",
       "contrabn             0\n",
       "crimsusp             0\n",
       "crossst              0\n",
       "cs_bulge             0\n",
       "cs_casng             0\n",
       "cs_cloth             0\n",
       "cs_descr             0\n",
       "cs_drgtr             0\n",
       "cs_furtv             0\n",
       "cs_lkout             0\n",
       "cs_objcs             0\n",
       "cs_other             0\n",
       "cs_vcrim             0\n",
       "datestop             0\n",
       "detailcm             0\n",
       "dettypcm             0\n",
       "dob                  0\n",
       "explnstp             0\n",
       "eyecolor             0\n",
       "frisked              0\n",
       "haircolr             0\n",
       "ht_feet              0\n",
       "ht_inch              0\n",
       "inout                0\n",
       "knifcuti             0\n",
       "linecm               0\n",
       "machgun              0\n",
       "meters               0\n",
       "month                0\n",
       "officrid             0\n",
       "offshld              0\n",
       "offunif              0\n",
       "offverb              0\n",
       "othfeatr             0\n",
       "othpers              0\n",
       "othrweap             0\n",
       "pct                  0\n",
       "perobs               0\n",
       "perstop              0\n",
       "pf_baton             0\n",
       "pf_drwep             0\n",
       "pf_grnd              0\n",
       "pf_hands             0\n",
       "pf_hcuff             0\n",
       "pf_other             0\n",
       "pf_pepsp             0\n",
       "pf_ptwep             0\n",
       "pf_wall              0\n",
       "pistol               0\n",
       "post                 0\n",
       "premname             1\n",
       "premtype             0\n",
       "race                 0\n",
       "radio                0\n",
       "recstat              0\n",
       "repcmd               0\n",
       "rescode              0\n",
       "revcmd               0\n",
       "rf_attir             0\n",
       "rf_bulg              0\n",
       "rf_furt              0\n",
       "rf_knowl             0\n",
       "rf_othsw             0\n",
       "rf_rfcmp             0\n",
       "rf_vcact             0\n",
       "rf_vcrim             0\n",
       "rf_verbl             0\n",
       "riflshot             0\n",
       "sb_admis             0\n",
       "sb_hdobj             0\n",
       "sb_other             0\n",
       "sb_outln             0\n",
       "searched             0\n",
       "sector               0\n",
       "ser_num              0\n",
       "sex                  0\n",
       "state                0\n",
       "stinter              1\n",
       "stname               0\n",
       "sumissue             0\n",
       "sumoffen             0\n",
       "timestop             0\n",
       "trhsloc              0\n",
       "typeofid             0\n",
       "weight               0\n",
       "xcoord               0\n",
       "ycoord               0\n",
       "year                 0\n",
       "zip                  0\n",
       "dtype: int64"
      ]
     },
     "execution_count": 14,
     "metadata": {},
     "output_type": "execute_result"
    }
   ],
   "source": [
    "#visualizamos la cantidad de datos perdidos por cada variables del dataframe\n",
    "df_concat.isnull().sum()"
   ]
  },
  {
   "cell_type": "markdown",
   "metadata": {},
   "source": [
    "Como se puede ver, la mayoria de los valores perdidos se concentra en la edad del individuo. Utilizamos la matriz de valores perdidos de msngo para visualizarlas."
   ]
  },
  {
   "cell_type": "code",
   "execution_count": 15,
   "metadata": {},
   "outputs": [
    {
     "data": {
      "text/plain": [
       "<matplotlib.axes._subplots.AxesSubplot at 0x22b8c55dcc0>"
      ]
     },
     "execution_count": 15,
     "metadata": {},
     "output_type": "execute_result"
    },
    {
     "data": {
      "text/plain": [
       "<Figure size 288x288 with 0 Axes>"
      ]
     },
     "metadata": {},
     "output_type": "display_data"
    },
    {
     "data": {
      "image/png": "[encoded data removed]",
      "text/plain": [
       "<Figure size 1800x720 with 2 Axes>"
      ]
     },
     "metadata": {
      "needs_background": "light"
     },
     "output_type": "display_data"
    }
   ],
   "source": [
    "plt.figure(figsize=(4,4))\n",
    "msngo.matrix(df_concat)"
   ]
  },
  {
   "cell_type": "markdown",
   "metadata": {},
   "source": [
    "Dropeamos los valores perdidos"
   ]
  },
  {
   "cell_type": "code",
   "execution_count": 16,
   "metadata": {},
   "outputs": [],
   "source": [
    "df_concat = df_concat.dropna()"
   ]
  },
  {
   "cell_type": "markdown",
   "metadata": {},
   "source": [
    "Generamos los atributos target para el hito 3 y para el hito 4. Para el hito 3, binarizamos la variable \"arstmade\""
   ]
  },
  {
   "cell_type": "code",
   "execution_count": 17,
   "metadata": {},
   "outputs": [],
   "source": [
    "df_concat['target1'] = np.where(df_concat['arstmade']=='N',0,1)"
   ]
  },
  {
   "cell_type": "markdown",
   "metadata": {},
   "source": [
    "Para el hito 4: recodificamos las variables que definen el grado de violencia, la sumamos, binarizamos este resultado dropeamos las variables originales, para dejar solo el target 2"
   ]
  },
  {
   "cell_type": "code",
   "execution_count": 18,
   "metadata": {},
   "outputs": [],
   "source": [
    "#binarizar\n",
    "df_concat['pf_hands'] = np.where(df_concat['pf_hands']=='N',0,1)\n",
    "df_concat['pf_wall'] = np.where(df_concat['pf_wall']=='N',0,1)\n",
    "df_concat['pf_grnd'] = np.where(df_concat['pf_grnd']=='N',0,1)\n",
    "df_concat['pf_drwep'] = np.where(df_concat['pf_drwep']=='N',0,1)\n",
    "df_concat['pf_baton'] = np.where(df_concat['pf_baton']=='N',0,1)\n",
    "df_concat['pf_hcuff'] = np.where(df_concat['pf_hcuff']=='N',0,1)\n",
    "df_concat['pf_pepsp'] = np.where(df_concat['pf_pepsp']=='N',0,1)\n",
    "df_concat['pf_other'] = np.where(df_concat['pf_other']=='N',0,1)\n",
    "\n",
    "#Agregar variables binarias\n",
    "df_concat['target2']=df_concat['pf_hands']+df_concat['pf_wall']+df_concat['pf_grnd']+df_concat['pf_drwep']+df_concat['pf_baton']+df_concat['pf_hcuff']+df_concat['pf_pepsp']+df_concat['pf_other']\n",
    "\n",
    "#binarizamos la variable target2\n",
    "df_concat['target2'] = np.where(df_concat['target2']==0,0,1)\n",
    "\n",
    "#Se dropean las variables originales\n",
    "df_concat = df_concat.drop(columns=['pf_hands','pf_wall','pf_grnd','pf_drwep','pf_baton','pf_hcuff','pf_pepsp','pf_other','arstmade'],axis=1)"
   ]
  },
  {
   "cell_type": "markdown",
   "metadata": {},
   "source": [
    "- Una vez realizada la limpieza, revisamos las variables del dataframe. Separamos las variables objetos de las enteras en dataframes distintos"
   ]
  },
  {
   "cell_type": "code",
   "execution_count": 19,
   "metadata": {},
   "outputs": [],
   "source": [
    "df_obj=pd.DataFrame()\n",
    "df_nobj=pd.DataFrame()\n",
    "for colname, series in df_concat.iteritems():\n",
    "    if series.dtype=='object':\n",
    "        df_obj= pd.concat([df_obj,series],axis=1)\n",
    "    elif series.dtype== 'int64' or series.dtype== 'float64' or series.dtype== 'int32':\n",
    "        df_nobj= pd.concat([df_nobj,series],axis=1)"
   ]
  },
  {
   "cell_type": "markdown",
   "metadata": {},
   "source": [
    "Eliminamos los atributos que poseen 1 sola categoría, por ser constante, y no aportar a la predicción"
   ]
  },
  {
   "cell_type": "code",
   "execution_count": 20,
   "metadata": {},
   "outputs": [],
   "source": [
    "borrado1 = []\n",
    "for i in df_obj.columns:\n",
    "    tmp = df_obj[i].unique()\n",
    "    ndatos = len(tmp)\n",
    "    if ndatos==1:\n",
    "        borrado1.append(i)\n",
    "        df_obj.drop(columns=i)\n",
    "\n",
    "df_obj = df_obj.drop(columns=borrado1)"
   ]
  },
  {
   "cell_type": "markdown",
   "metadata": {},
   "source": [
    "Eliminamos las variables que tienen más de 20 categorias, para reducir el costo de computo"
   ]
  },
  {
   "cell_type": "code",
   "execution_count": 21,
   "metadata": {},
   "outputs": [
    {
     "data": {
      "text/plain": [
       "14"
      ]
     },
     "execution_count": 21,
     "metadata": {},
     "output_type": "execute_result"
    }
   ],
   "source": [
    "borrado2 = []\n",
    "for i in df_obj.columns:\n",
    "    tmp = df_obj[i].unique()\n",
    "    ndatos = len(tmp)\n",
    "    if ndatos>20:\n",
    "        borrado2.append(i)\n",
    "        df_obj.drop(columns=i)\n",
    "\n",
    "df_obj = df_obj.drop(columns=borrado2)\n",
    "len(borrado2)"
   ]
  },
  {
   "cell_type": "markdown",
   "metadata": {},
   "source": [
    "- Eliminamos las variables binarias cuya 1 de las categorias, tiene menos del 5%, dado que van a presentar poca información para la clasificación"
   ]
  },
  {
   "cell_type": "code",
   "execution_count": 22,
   "metadata": {},
   "outputs": [],
   "source": [
    "ensayo_0=[]\n",
    "borrado_0=[]\n",
    "for i in df_obj.columns:\n",
    "    tmp = df_obj[i].unique()\n",
    "    ndatos = len(tmp)\n",
    "    if ndatos==2:\n",
    "        ensayo_0.append(i)\n",
    "        for m in df_obj[i].value_counts('%').values:\n",
    "            if m < 0.05:\n",
    "                borrado_0.append(i)\n",
    "                \n",
    "df_obj = df_obj.drop(columns=borrado_0)"
   ]
  },
  {
   "cell_type": "markdown",
   "metadata": {},
   "source": [
    "- de las variables enteras, eliminamos compyear, comppct, perobs y perstop por ser constantes y no aportar en la clasificación"
   ]
  },
  {
   "cell_type": "code",
   "execution_count": 23,
   "metadata": {},
   "outputs": [],
   "source": [
    "df_nobj = df_nobj.drop(columns=['compyear','comppct','perobs','perstop'],axis=1)"
   ]
  },
  {
   "cell_type": "markdown",
   "metadata": {},
   "source": [
    "Efectuamos las transformaciones finales al dataframe"
   ]
  },
  {
   "cell_type": "code",
   "execution_count": 24,
   "metadata": {},
   "outputs": [
    {
     "data": {
      "text/plain": [
       "((4636, 111), (4747, 111))"
      ]
     },
     "execution_count": 24,
     "metadata": {},
     "output_type": "execute_result"
    }
   ],
   "source": [
    "#concatenamos ambos dataframe para crear el dataframe limpio\n",
    "df_clean = pd.concat([df_nobj, df_obj], axis=1)\n",
    "\n",
    "#recodificamos las variables nominales\n",
    "objetos = df_clean.select_dtypes('object').columns\n",
    "df_clean_recod = pd.get_dummies(data=df_clean, columns=objetos, drop_first=True, prefix=objetos)\n",
    "\n",
    "#Dividimos las muestras de entrenamiento y testeo\n",
    "df_train = df_clean_recod.query(\"year==2009\")\n",
    "df_test = df_clean_recod.query(\"year==2010\")\n",
    "\n",
    "#Dimensionamos ambos datasets\n",
    "df_train.shape, df_test.shape"
   ]
  },
  {
   "cell_type": "markdown",
   "metadata": {},
   "source": [
    "Revisamos la distribución de la variable target 1"
   ]
  },
  {
   "cell_type": "code",
   "execution_count": 25,
   "metadata": {},
   "outputs": [
    {
     "data": {
      "text/plain": [
       "<matplotlib.axes._subplots.AxesSubplot at 0x22b8c8e1550>"
      ]
     },
     "execution_count": 25,
     "metadata": {},
     "output_type": "execute_result"
    },
    {
     "data": {
      "image/png": "[encoded data removed]",
      "text/plain": [
       "<Figure size 360x360 with 1 Axes>"
      ]
     },
     "metadata": {
      "needs_background": "light"
     },
     "output_type": "display_data"
    }
   ],
   "source": [
    "plt.rcParams['figure.figsize'] = (5, 5)\n",
    "sns.countplot(df_clean['target1'])"
   ]
  },
  {
   "cell_type": "markdown",
   "metadata": {},
   "source": [
    "Vemos un claro desbalance entre las clases. Implementamos el algoritmo ADABoost, y probaremos un rebalanceo de las clases para generar modelos"
   ]
  },
  {
   "cell_type": "markdown",
   "metadata": {},
   "source": [
    "Separamos las variables en Y y X segun los dataframe"
   ]
  },
  {
   "cell_type": "code",
   "execution_count": 26,
   "metadata": {},
   "outputs": [],
   "source": [
    "y_train = df_train['target1']\n",
    "x_train = df_train.drop(['target1','year'], axis=1)\n",
    "y_test = df_test['target1']\n",
    "x_test = df_test.drop(['target1','year'], axis=1)"
   ]
  },
  {
   "cell_type": "markdown",
   "metadata": {},
   "source": [
    "Entrenamos un modelo adaboost sin balancear la muestra"
   ]
  },
  {
   "cell_type": "code",
   "execution_count": 27,
   "metadata": {},
   "outputs": [
    {
     "data": {
      "text/plain": [
       "AdaBoostClassifier(algorithm='SAMME.R',\n",
       "                   base_estimator=DecisionTreeClassifier(class_weight=None,\n",
       "                                                         criterion='gini',\n",
       "                                                         max_depth=1,\n",
       "                                                         max_features=None,\n",
       "                                                         max_leaf_nodes=None,\n",
       "                                                         min_impurity_decrease=0.0,\n",
       "                                                         min_impurity_split=None,\n",
       "                                                         min_samples_leaf=1,\n",
       "                                                         min_samples_split=2,\n",
       "                                                         min_weight_fraction_leaf=0.0,\n",
       "                                                         presort=False,\n",
       "                                                         random_state=16984,\n",
       "                                                         splitter='best'),\n",
       "                   learning_rate=0.01, n_estimators=2000, random_state=16984)"
      ]
     },
     "execution_count": 27,
     "metadata": {},
     "output_type": "execute_result"
    }
   ],
   "source": [
    "# Entrenamos el decision stump\n",
    "decision_stump = DecisionTreeClassifier(max_depth=1,random_state=16984).fit(x_train, y_train)\n",
    "# Entrenamo el clasificador con adaptive boosting\n",
    "Adaboost_model = GridSearchCV(AdaBoostClassifier(base_estimator=decision_stump,random_state=16984),{'learning_rate':[0.01,0.1,0.5],'n_estimators':[50, 100, 500, 1000, 2000]},cv=2,n_jobs=-1).fit(x_train, y_train)\n",
    "# Obtenemos el best estimator\n",
    "Adaboost_model.best_estimator_"
   ]
  },
  {
   "cell_type": "markdown",
   "metadata": {},
   "source": [
    "Vemos los resultados del adaboost en el reporte de clasificación"
   ]
  },
  {
   "cell_type": "code",
   "execution_count": 28,
   "metadata": {},
   "outputs": [
    {
     "name": "stdout",
     "output_type": "stream",
     "text": [
      "              precision    recall  f1-score   support\n",
      "\n",
      "           0       0.95      0.99      0.97      4438\n",
      "           1       0.64      0.29      0.40       309\n",
      "\n",
      "    accuracy                           0.94      4747\n",
      "   macro avg       0.79      0.64      0.68      4747\n",
      "weighted avg       0.93      0.94      0.93      4747\n",
      "\n"
     ]
    }
   ],
   "source": [
    "y_hat = Adaboost_model.best_estimator_.predict(x_test)\n",
    "print(classification_report(y_test, y_hat))"
   ]
  },
  {
   "cell_type": "markdown",
   "metadata": {},
   "source": [
    "Utilizamos metodos para rebalancear la data: oversampling y subsampling"
   ]
  },
  {
   "cell_type": "code",
   "execution_count": 29,
   "metadata": {},
   "outputs": [
    {
     "data": {
      "text/plain": [
       "((8710, 109), (562, 109))"
      ]
     },
     "execution_count": 29,
     "metadata": {},
     "output_type": "execute_result"
    }
   ],
   "source": [
    "#definimos el oversampler\n",
    "oversmp = SMOTE(random_state=16984, ratio='minority')\n",
    "x_train_oversmp, y_train_oversmp = oversmp.fit_sample(x_train, y_train)\n",
    "\n",
    "df_train_oversmp = pd.DataFrame(x_train_oversmp)\n",
    "df_train_oversmp.columns = x_train.columns\n",
    "df_train_oversmp['target1']= y_train_oversmp\n",
    "\n",
    "#definimos el undersampler\n",
    "rus = RandomUnderSampler(sampling_strategy='majority',random_state=16984)\n",
    "x_train_undersmp, y_train_undersmp = rus.fit_sample(x_train, y_train)\n",
    "\n",
    "df_train_undersmp = pd.DataFrame(x_train_undersmp)\n",
    "df_train_undersmp.columns = x_train.columns\n",
    "df_train_undersmp['target1']= y_train_undersmp\n",
    "\n",
    "x_train_oversmp.shape, x_train_undersmp.shape"
   ]
  },
  {
   "cell_type": "markdown",
   "metadata": {},
   "source": [
    "Graficamos la variable target1, con oversampling"
   ]
  },
  {
   "cell_type": "code",
   "execution_count": 30,
   "metadata": {},
   "outputs": [
    {
     "data": {
      "text/plain": [
       "<matplotlib.axes._subplots.AxesSubplot at 0x22b8ccd09b0>"
      ]
     },
     "execution_count": 30,
     "metadata": {},
     "output_type": "execute_result"
    },
    {
     "data": {
      "image/png": "[encoded data removed]",
      "text/plain": [
       "<Figure size 360x360 with 1 Axes>"
      ]
     },
     "metadata": {
      "needs_background": "light"
     },
     "output_type": "display_data"
    }
   ],
   "source": [
    "plt.rcParams['figure.figsize'] = (5, 5)\n",
    "sns.countplot(df_train_oversmp['target1'])"
   ]
  },
  {
   "cell_type": "markdown",
   "metadata": {},
   "source": [
    "Graficamos la variable target1, con subsampling"
   ]
  },
  {
   "cell_type": "code",
   "execution_count": 31,
   "metadata": {},
   "outputs": [
    {
     "data": {
      "text/plain": [
       "<matplotlib.axes._subplots.AxesSubplot at 0x22b8caff5c0>"
      ]
     },
     "execution_count": 31,
     "metadata": {},
     "output_type": "execute_result"
    },
    {
     "data": {
      "image/png": "[encoded data removed]",
      "text/plain": [
       "<Figure size 360x360 with 1 Axes>"
      ]
     },
     "metadata": {
      "needs_background": "light"
     },
     "output_type": "display_data"
    }
   ],
   "source": [
    "plt.rcParams['figure.figsize'] = (5, 5)\n",
    "sns.countplot(df_train_undersmp['target1'])"
   ]
  },
  {
   "cell_type": "markdown",
   "metadata": {},
   "source": [
    "Adaboost con oversampling"
   ]
  },
  {
   "cell_type": "code",
   "execution_count": 32,
   "metadata": {},
   "outputs": [
    {
     "data": {
      "text/plain": [
       "AdaBoostClassifier(algorithm='SAMME.R',\n",
       "                   base_estimator=DecisionTreeClassifier(class_weight=None,\n",
       "                                                         criterion='gini',\n",
       "                                                         max_depth=1,\n",
       "                                                         max_features=None,\n",
       "                                                         max_leaf_nodes=None,\n",
       "                                                         min_impurity_decrease=0.0,\n",
       "                                                         min_impurity_split=None,\n",
       "                                                         min_samples_leaf=1,\n",
       "                                                         min_samples_split=2,\n",
       "                                                         min_weight_fraction_leaf=0.0,\n",
       "                                                         presort=False,\n",
       "                                                         random_state=16984,\n",
       "                                                         splitter='best'),\n",
       "                   learning_rate=0.1, n_estimators=500, random_state=16984)"
      ]
     },
     "execution_count": 32,
     "metadata": {},
     "output_type": "execute_result"
    }
   ],
   "source": [
    "# Entrenamos el decision stump\n",
    "decision_stump = DecisionTreeClassifier(max_depth=1,random_state=16984).fit(x_train_oversmp, y_train_oversmp)\n",
    "# Entrenamo el clasificador con adaptive boosting\n",
    "Adaboost_model_over = GridSearchCV(AdaBoostClassifier(base_estimator=decision_stump,random_state=16984),{'learning_rate':[0.01,0.1,0.5],'n_estimators':[50, 100, 500, 1000, 2000]},cv=2,n_jobs=-1).fit(x_train_oversmp, y_train_oversmp)\n",
    "Adaboost_model_over.best_estimator_"
   ]
  },
  {
   "cell_type": "markdown",
   "metadata": {},
   "source": [
    "Vemos los resultados del adaboost en el reporte de clasificación"
   ]
  },
  {
   "cell_type": "code",
   "execution_count": 33,
   "metadata": {},
   "outputs": [
    {
     "name": "stdout",
     "output_type": "stream",
     "text": [
      "              precision    recall  f1-score   support\n",
      "\n",
      "           0       0.97      0.97      0.97      4438\n",
      "           1       0.60      0.54      0.57       309\n",
      "\n",
      "    accuracy                           0.95      4747\n",
      "   macro avg       0.78      0.76      0.77      4747\n",
      "weighted avg       0.94      0.95      0.95      4747\n",
      "\n"
     ]
    }
   ],
   "source": [
    "y_over_hat= Adaboost_model_over.best_estimator_.predict(x_test)\n",
    "print(classification_report(y_test, y_over_hat))"
   ]
  },
  {
   "cell_type": "markdown",
   "metadata": {},
   "source": [
    "Adaboost con undersampling"
   ]
  },
  {
   "cell_type": "code",
   "execution_count": 34,
   "metadata": {},
   "outputs": [
    {
     "data": {
      "text/plain": [
       "AdaBoostClassifier(algorithm='SAMME.R',\n",
       "                   base_estimator=DecisionTreeClassifier(class_weight=None,\n",
       "                                                         criterion='gini',\n",
       "                                                         max_depth=1,\n",
       "                                                         max_features=None,\n",
       "                                                         max_leaf_nodes=None,\n",
       "                                                         min_impurity_decrease=0.0,\n",
       "                                                         min_impurity_split=None,\n",
       "                                                         min_samples_leaf=1,\n",
       "                                                         min_samples_split=2,\n",
       "                                                         min_weight_fraction_leaf=0.0,\n",
       "                                                         presort=False,\n",
       "                                                         random_state=16984,\n",
       "                                                         splitter='best'),\n",
       "                   learning_rate=0.01, n_estimators=500, random_state=16984)"
      ]
     },
     "execution_count": 34,
     "metadata": {},
     "output_type": "execute_result"
    }
   ],
   "source": [
    "# Entrenamos el decision stump\n",
    "decision_stump = DecisionTreeClassifier(max_depth=1,random_state=16984).fit(x_train_undersmp, y_train_undersmp)\n",
    "# Entrenamo el clasificador con adaptive boosting\n",
    "Adaboost_model_under = GridSearchCV(AdaBoostClassifier(base_estimator=decision_stump,random_state=16984),{'learning_rate':[0.01,0.1,0.5],'n_estimators':[50, 100, 500, 1000, 2000]},cv=2,n_jobs=-1).fit(x_train_undersmp, y_train_undersmp)\n",
    "Adaboost_model_under.best_estimator_"
   ]
  },
  {
   "cell_type": "markdown",
   "metadata": {},
   "source": [
    "Vemos los resultados del adaboost en el reporte de clasificación"
   ]
  },
  {
   "cell_type": "code",
   "execution_count": 35,
   "metadata": {
    "scrolled": true
   },
   "outputs": [
    {
     "name": "stdout",
     "output_type": "stream",
     "text": [
      "              precision    recall  f1-score   support\n",
      "\n",
      "           0       0.98      0.95      0.96      4438\n",
      "           1       0.48      0.65      0.56       309\n",
      "\n",
      "    accuracy                           0.93      4747\n",
      "   macro avg       0.73      0.80      0.76      4747\n",
      "weighted avg       0.94      0.93      0.94      4747\n",
      "\n"
     ]
    }
   ],
   "source": [
    "y_under_hat= Adaboost_model_under.best_estimator_.predict(x_test)\n",
    "print(classification_report(y_test, y_under_hat))"
   ]
  },
  {
   "cell_type": "markdown",
   "metadata": {},
   "source": [
    "Con ambos metodos de sampleo, mejora el f1 de la clase relevante, sin embargo, entre ambos metodos de redimensión de muestreos no mejora mayormente el performance. Utilizaremos el metodo de oversampling"
   ]
  },
  {
   "cell_type": "markdown",
   "metadata": {},
   "source": [
    "Creamos la división de las 30 variables más importantes, y las graficamos"
   ]
  },
  {
   "cell_type": "code",
   "execution_count": 36,
   "metadata": {},
   "outputs": [
    {
     "name": "stdout",
     "output_type": "stream",
     "text": [
      "17         ac_incid_Y\n",
      "64          offunif_Y\n",
      "35         cs_furtv_Y\n",
      "22            build_M\n",
      "75          recstat_A\n",
      "78          rf_furt_Y\n",
      "82         searched_Y\n",
      "23            build_T\n",
      "14            target2\n",
      "27     city_MANHATTAN\n",
      "12           timestop\n",
      "8                 pct\n",
      "21          ac_time_Y\n",
      "4             ht_feet\n",
      "106        typeofid_P\n",
      "28        city_QUEENS\n",
      "67             race_B\n",
      "49          frisked_Y\n",
      "108        typeofid_V\n",
      "20          ac_rept_Y\n",
      "60            inout_O\n",
      "26      city_BROOKLYN\n",
      "7               month\n",
      "34         cs_drgtr_Y\n",
      "13             weight\n",
      "50        haircolr_BK\n",
      "5             ht_inch\n",
      "83           sector_B\n",
      "10             revcmd\n",
      "77          rf_bulg_Y\n",
      "Name: atributos, dtype: object\n"
     ]
    }
   ],
   "source": [
    "\n",
    "importance = Adaboost_model_over.best_estimator_.feature_importances_\n",
    "sort_importance = np.argsort(importance)[::-1]\n",
    "\n",
    "importancia = pd.DataFrame(importance)\n",
    "\n",
    "importancia['atributos'] = x_train.columns.T\n",
    "importancia.columns=('importancia','atributos')\n",
    "df_30 = importancia.sort_values(by='importancia',ascending=False).head(30)\n",
    "atributos_30 = importancia.sort_values(by='importancia',ascending=False).head(30)['atributos']\n",
    "print(atributos_30)"
   ]
  },
  {
   "cell_type": "code",
   "execution_count": 37,
   "metadata": {},
   "outputs": [
    {
     "data": {
      "text/plain": [
       "<matplotlib.axes._subplots.AxesSubplot at 0x22b8c54efd0>"
      ]
     },
     "execution_count": 37,
     "metadata": {},
     "output_type": "execute_result"
    },
    {
     "data": {
      "image/png": "[encoded data removed]",
      "text/plain": [
       "<Figure size 360x360 with 1 Axes>"
      ]
     },
     "metadata": {
      "needs_background": "light"
     },
     "output_type": "display_data"
    }
   ],
   "source": [
    "sns.barplot(data=df_30, x='importancia', y='atributos')"
   ]
  },
  {
   "cell_type": "markdown",
   "metadata": {},
   "source": [
    "Entrenamos el Adaboost, con las 30 variables seleccionadas"
   ]
  },
  {
   "cell_type": "code",
   "execution_count": 38,
   "metadata": {},
   "outputs": [],
   "source": [
    "# Entrenamos el decision stump\n",
    "decision_stump_x = DecisionTreeClassifier(max_depth=1,random_state=16984).fit(x_train[atributos_30], y_train)\n",
    "# Entrenamo el clasificador con adaptive boosting\n",
    "Adaboost_model_30 = GridSearchCV(AdaBoostClassifier(base_estimator=decision_stump_x,random_state=16984),{'learning_rate':[0.01,0.1,0.5],'n_estimators':[50, 100, 500, 1000, 2000]},cv=2,n_jobs=-1).fit(x_train[atributos_30], y_train)"
   ]
  },
  {
   "cell_type": "code",
   "execution_count": 39,
   "metadata": {
    "scrolled": false
   },
   "outputs": [
    {
     "data": {
      "text/plain": [
       "AdaBoostClassifier(algorithm='SAMME.R',\n",
       "                   base_estimator=DecisionTreeClassifier(class_weight=None,\n",
       "                                                         criterion='gini',\n",
       "                                                         max_depth=1,\n",
       "                                                         max_features=None,\n",
       "                                                         max_leaf_nodes=None,\n",
       "                                                         min_impurity_decrease=0.0,\n",
       "                                                         min_impurity_split=None,\n",
       "                                                         min_samples_leaf=1,\n",
       "                                                         min_samples_split=2,\n",
       "                                                         min_weight_fraction_leaf=0.0,\n",
       "                                                         presort=False,\n",
       "                                                         random_state=16984,\n",
       "                                                         splitter='best'),\n",
       "                   learning_rate=0.1, n_estimators=2000, random_state=16984)"
      ]
     },
     "execution_count": 39,
     "metadata": {},
     "output_type": "execute_result"
    }
   ],
   "source": [
    "Adaboost_model_30.best_estimator_"
   ]
  },
  {
   "cell_type": "code",
   "execution_count": 40,
   "metadata": {},
   "outputs": [
    {
     "name": "stdout",
     "output_type": "stream",
     "text": [
      "              precision    recall  f1-score   support\n",
      "\n",
      "           0       0.96      0.98      0.97      4438\n",
      "           1       0.61      0.37      0.46       309\n",
      "\n",
      "    accuracy                           0.94      4747\n",
      "   macro avg       0.78      0.68      0.72      4747\n",
      "weighted avg       0.93      0.94      0.94      4747\n",
      "\n"
     ]
    }
   ],
   "source": [
    "y_hat1 = Adaboost_model_30.best_estimator_.predict(x_test[atributos_30])\n",
    "print(classification_report(y_test, y_hat1))"
   ]
  },
  {
   "cell_type": "markdown",
   "metadata": {},
   "source": [
    "Este es el modelo predicho con los 30 atributos más relevantes. Sin embargo podemos ver que este modelo, obtiene menor precisión que el modelo inicial. obteniendo 3% de precision menos que el modelo inicial (64%), sobre la clase relevante. el original con oversampling presenta mejores metricas f1"
   ]
  },
  {
   "cell_type": "markdown",
   "metadata": {},
   "source": [
    "Agrupamos las probabilidad por ciudad raza y sexo"
   ]
  },
  {
   "cell_type": "code",
   "execution_count": 41,
   "metadata": {},
   "outputs": [
    {
     "data": {
      "text/plain": [
       "((4636, 75), (9383, 111))"
      ]
     },
     "execution_count": 41,
     "metadata": {},
     "output_type": "execute_result"
    }
   ],
   "source": [
    "#Sacamos la probabilidad conjunta, para obtener las probabilidades por raza, sexo y barrio\n",
    "df_agrupado = df_save_2009.copy(deep=True)\n",
    "y_hat1= Adaboost_model_over.best_estimator_.predict(df_train.drop(columns=['target1','year']))\n",
    "df_agrupado['prob'] = y_hat1\n",
    "df_agrupado.shape, df_clean_recod.shape"
   ]
  },
  {
   "cell_type": "code",
   "execution_count": 42,
   "metadata": {},
   "outputs": [
    {
     "data": {
      "text/plain": [
       "sex  race  city         \n",
       "F    A     BRONX            0.000000\n",
       "           BROOKLYN         0.000000\n",
       "           MANHATTAN        0.666667\n",
       "           QUEENS           0.000000\n",
       "           STATEN ISLAND    0.000000\n",
       "     B     BRONX            0.130435\n",
       "           BROOKLYN         0.079365\n",
       "           MANHATTAN        0.147059\n",
       "           QUEENS           0.050000\n",
       "           STATEN ISLAND    0.000000\n",
       "     I     BROOKLYN         0.000000\n",
       "     P     BRONX            0.000000\n",
       "           BROOKLYN         0.000000\n",
       "           MANHATTAN        0.200000\n",
       "           QUEENS           0.000000\n",
       "     Q     BRONX            0.000000\n",
       "           BROOKLYN         0.052632\n",
       "           MANHATTAN        0.071429\n",
       "           QUEENS           0.000000\n",
       "           STATEN ISLAND    0.000000\n",
       "     U     QUEENS           0.000000\n",
       "     W     BRONX            0.000000\n",
       "           BROOKLYN         0.000000\n",
       "           MANHATTAN        0.000000\n",
       "           QUEENS           0.000000\n",
       "           STATEN ISLAND    0.000000\n",
       "     Z     BRONX            0.000000\n",
       "           BROOKLYN         0.000000\n",
       "           QUEENS           0.000000\n",
       "M    A     BRONX            0.000000\n",
       "           BROOKLYN         0.043478\n",
       "           MANHATTAN        0.000000\n",
       "           QUEENS           0.055556\n",
       "           STATEN ISLAND    0.000000\n",
       "     B     BRONX            0.043344\n",
       "           BROOKLYN         0.027723\n",
       "           MANHATTAN        0.092702\n",
       "           QUEENS           0.078534\n",
       "           STATEN ISLAND    0.035398\n",
       "     I     BRONX            0.000000\n",
       "           BROOKLYN         0.000000\n",
       "           MANHATTAN        0.500000\n",
       "           QUEENS           0.000000\n",
       "     P     BRONX            0.051282\n",
       "           BROOKLYN         0.000000\n",
       "           MANHATTAN        0.058824\n",
       "           QUEENS           0.045455\n",
       "           STATEN ISLAND    0.000000\n",
       "     Q     BRONX            0.045226\n",
       "           BROOKLYN         0.065502\n",
       "           MANHATTAN        0.062992\n",
       "           QUEENS           0.065156\n",
       "           STATEN ISLAND    0.031250\n",
       "     U     BRONX            0.000000\n",
       "           BROOKLYN         0.000000\n",
       "           MANHATTAN        0.125000\n",
       "           QUEENS           0.000000\n",
       "           STATEN ISLAND    0.000000\n",
       "     W     BRONX            0.031250\n",
       "           BROOKLYN         0.026087\n",
       "           MANHATTAN        0.120000\n",
       "           QUEENS           0.090909\n",
       "           STATEN ISLAND    0.045455\n",
       "     Z     BRONX            0.052632\n",
       "           BROOKLYN         0.153846\n",
       "           MANHATTAN        0.066667\n",
       "           QUEENS           0.000000\n",
       "           STATEN ISLAND    0.000000\n",
       "Z    A     QUEENS           0.000000\n",
       "     B     BRONX            0.000000\n",
       "           BROOKLYN         0.000000\n",
       "           MANHATTAN        0.000000\n",
       "           QUEENS           0.000000\n",
       "     P     BRONX            0.000000\n",
       "           MANHATTAN        0.000000\n",
       "     Q     BRONX            0.000000\n",
       "           BROOKLYN         0.000000\n",
       "           MANHATTAN        0.000000\n",
       "     U     BRONX            0.000000\n",
       "           MANHATTAN        1.000000\n",
       "     Z     BRONX            0.066667\n",
       "           BROOKLYN         0.000000\n",
       "           MANHATTAN        0.000000\n",
       "           QUEENS           0.000000\n",
       "Name: prob, dtype: float64"
      ]
     },
     "execution_count": 42,
     "metadata": {},
     "output_type": "execute_result"
    }
   ],
   "source": [
    "df_agrupado.groupby(by=['sex','race','city']).mean()['prob']"
   ]
  },
  {
   "cell_type": "markdown",
   "metadata": {},
   "source": [
    "En general, podemos que la gente de sexo no identificado y de raza no identificada en manhattan, tiene la probabilidad más alta de ser arrestada. De las mujeres: Asiaticas y negros hispanicos en manhattan, son las que presentan mayor probabilidad de arresto (66% y 20% respectivamente). De los hombres, los negros- hispanicos, tienen mayor probabilidad de ser arrestados en un procedimiento , en la ciudad de Manhattan, seguido de otros en Brooklin ( 15%)"
   ]
  },
  {
   "cell_type": "markdown",
   "metadata": {},
   "source": [
    "### Generamos los 5 modelos predictivos: Para eso, hacemos un pre-procesamiento de la data. Escalamos las variables."
   ]
  },
  {
   "cell_type": "code",
   "execution_count": 43,
   "metadata": {},
   "outputs": [],
   "source": [
    "#escalamos la data\n",
    "from sklearn.preprocessing import StandardScaler\n",
    "\n",
    "df_clean_recod2 = df_clean_recod\n",
    "df_clean_recod2 = df_clean_recod2.reset_index()\n",
    "df_clean_recod2.drop(columns='index',inplace=True)\n",
    "\n",
    "\n",
    "sc = StandardScaler()\n",
    "col_sc = list(df_clean_recod.columns)\n",
    "col_sc.remove('year')\n",
    "col_sc.remove('target2')\n",
    "\n",
    "df_recoded_scale = pd.DataFrame(sc.fit_transform(df_clean_recod[col_sc]), columns = col_sc)\n",
    "\n",
    "df_recoded_scale['year']= df_clean_recod2['year']\n",
    "df_recoded_scale['target2']= df_clean_recod2['target2']\n"
   ]
  },
  {
   "cell_type": "markdown",
   "metadata": {},
   "source": [
    "Dividimos las muestras en train y test, a su vez dividimos en variables dependientes e independientes"
   ]
  },
  {
   "cell_type": "code",
   "execution_count": 44,
   "metadata": {},
   "outputs": [],
   "source": [
    "#Volvemos a dividir las muestras de entrenamiento y testeo\n",
    "df_train = df_recoded_scale.query(\"year==2009\")\n",
    "df_test = df_recoded_scale.query(\"year==2010\")\n",
    "\n",
    "#separamos las variables en Y y X segun los dataframe\n",
    "y_train = df_train['target2']\n",
    "x_train = df_train.drop(['target2','year'], axis=1)\n",
    "y_test = df_test['target2']\n",
    "x_test = df_test.drop(['target2','year'], axis=1)"
   ]
  },
  {
   "cell_type": "markdown",
   "metadata": {},
   "source": [
    "Exploramos la distribución de la variable target2"
   ]
  },
  {
   "cell_type": "code",
   "execution_count": 45,
   "metadata": {},
   "outputs": [
    {
     "data": {
      "text/plain": [
       "<matplotlib.axes._subplots.AxesSubplot at 0x22b8c67bf28>"
      ]
     },
     "execution_count": 45,
     "metadata": {},
     "output_type": "execute_result"
    },
    {
     "data": {
      "image/png": "[encoded data removed]",
      "text/plain": [
       "<Figure size 360x360 with 1 Axes>"
      ]
     },
     "metadata": {
      "needs_background": "light"
     },
     "output_type": "display_data"
    }
   ],
   "source": [
    "sns.countplot(y_train)"
   ]
  },
  {
   "cell_type": "markdown",
   "metadata": {},
   "source": [
    "Nos enfrentamos a un desbalance de clases. Por tanto se rebalancean las clases mediante un oversampling, y se pasa a correr los modelos, sobre las bases rebalanceadas"
   ]
  },
  {
   "cell_type": "code",
   "execution_count": 46,
   "metadata": {},
   "outputs": [],
   "source": [
    "oversmp = SMOTE(random_state=16984, ratio='minority')\n",
    "x_train_oversmp, y_train_oversmp = oversmp.fit_sample(x_train, y_train)"
   ]
  },
  {
   "cell_type": "markdown",
   "metadata": {},
   "source": [
    "## ADABOOST"
   ]
  },
  {
   "cell_type": "code",
   "execution_count": 47,
   "metadata": {},
   "outputs": [],
   "source": [
    "# Entrenamos el decision stump\n",
    "decision_stump = DecisionTreeClassifier(max_depth=1,random_state=16984).fit(x_train_oversmp, y_train_oversmp)\n",
    "# Entrenamo el clasificador con adaptive boosting\n",
    "Adaboost_model = GridSearchCV(AdaBoostClassifier(base_estimator=decision_stump,random_state=16984),{'learning_rate':[0.01,0.1,0.5],'n_estimators':[50, 100, 500, 1000, 2000]},cv=2,n_jobs=-1).fit(x_train_oversmp, y_train_oversmp)"
   ]
  },
  {
   "cell_type": "code",
   "execution_count": 48,
   "metadata": {},
   "outputs": [
    {
     "data": {
      "text/plain": [
       "AdaBoostClassifier(algorithm='SAMME.R',\n",
       "                   base_estimator=DecisionTreeClassifier(class_weight=None,\n",
       "                                                         criterion='gini',\n",
       "                                                         max_depth=1,\n",
       "                                                         max_features=None,\n",
       "                                                         max_leaf_nodes=None,\n",
       "                                                         min_impurity_decrease=0.0,\n",
       "                                                         min_impurity_split=None,\n",
       "                                                         min_samples_leaf=1,\n",
       "                                                         min_samples_split=2,\n",
       "                                                         min_weight_fraction_leaf=0.0,\n",
       "                                                         presort=False,\n",
       "                                                         random_state=16984,\n",
       "                                                         splitter='best'),\n",
       "                   learning_rate=0.5, n_estimators=2000, random_state=16984)"
      ]
     },
     "execution_count": 48,
     "metadata": {},
     "output_type": "execute_result"
    }
   ],
   "source": [
    "Adaboost_model.best_estimator_"
   ]
  },
  {
   "cell_type": "code",
   "execution_count": 49,
   "metadata": {},
   "outputs": [
    {
     "name": "stdout",
     "output_type": "stream",
     "text": [
      "              precision    recall  f1-score   support\n",
      "\n",
      "           0       0.84      0.86      0.85      3643\n",
      "           1       0.50      0.46      0.48      1104\n",
      "\n",
      "    accuracy                           0.77      4747\n",
      "   macro avg       0.67      0.66      0.66      4747\n",
      "weighted avg       0.76      0.77      0.76      4747\n",
      "\n"
     ]
    }
   ],
   "source": [
    "#vemos los resultados del adaboost\n",
    "print(classification_report(y_test, Adaboost_model.best_estimator_.predict(x_test)))"
   ]
  },
  {
   "cell_type": "markdown",
   "metadata": {},
   "source": [
    "## Naive Bayes"
   ]
  },
  {
   "cell_type": "code",
   "execution_count": 50,
   "metadata": {},
   "outputs": [],
   "source": [
    "# importamos los módulos de sklearn\n",
    "from sklearn.naive_bayes import BernoulliNB\n",
    "\n",
    "nb_classifier = BernoulliNB()\n",
    "nb_fit=nb_classifier.fit(x_train_oversmp, y_train_oversmp)\n"
   ]
  },
  {
   "cell_type": "code",
   "execution_count": 51,
   "metadata": {},
   "outputs": [
    {
     "name": "stdout",
     "output_type": "stream",
     "text": [
      "              precision    recall  f1-score   support\n",
      "\n",
      "           0       0.90      0.67      0.77      3643\n",
      "           1       0.41      0.77      0.54      1104\n",
      "\n",
      "    accuracy                           0.69      4747\n",
      "   macro avg       0.66      0.72      0.65      4747\n",
      "weighted avg       0.79      0.69      0.72      4747\n",
      "\n"
     ]
    }
   ],
   "source": [
    "print(classification_report(y_test, nb_classifier.predict(x_test)))"
   ]
  },
  {
   "cell_type": "code",
   "execution_count": 52,
   "metadata": {},
   "outputs": [],
   "source": [
    "#mejora bastante"
   ]
  },
  {
   "cell_type": "markdown",
   "metadata": {},
   "source": [
    "## Arboles de clasificación"
   ]
  },
  {
   "cell_type": "code",
   "execution_count": 53,
   "metadata": {},
   "outputs": [],
   "source": [
    "dec_tree_grid_cv = GridSearchCV(DecisionTreeClassifier(),{'min_samples_split': np.linspace(0.1, 1.0, 5),'max_features': np.linspace(1,x_train_oversmp.shape[1],5, dtype='int')},cv=2, scoring='f1_macro',n_jobs=-1).fit(x_train_oversmp, y_train_oversmp)"
   ]
  },
  {
   "cell_type": "code",
   "execution_count": 54,
   "metadata": {},
   "outputs": [
    {
     "data": {
      "text/plain": [
       "DecisionTreeClassifier(class_weight=None, criterion='gini', max_depth=None,\n",
       "                       max_features=82, max_leaf_nodes=None,\n",
       "                       min_impurity_decrease=0.0, min_impurity_split=None,\n",
       "                       min_samples_leaf=1, min_samples_split=0.775,\n",
       "                       min_weight_fraction_leaf=0.0, presort=False,\n",
       "                       random_state=None, splitter='best')"
      ]
     },
     "execution_count": 54,
     "metadata": {},
     "output_type": "execute_result"
    }
   ],
   "source": [
    "dec_tree_grid_cv.best_estimator_"
   ]
  },
  {
   "cell_type": "code",
   "execution_count": 55,
   "metadata": {},
   "outputs": [
    {
     "name": "stdout",
     "output_type": "stream",
     "text": [
      "              precision    recall  f1-score   support\n",
      "\n",
      "           0       0.96      0.56      0.71      3643\n",
      "           1       0.39      0.92      0.55      1104\n",
      "\n",
      "    accuracy                           0.65      4747\n",
      "   macro avg       0.67      0.74      0.63      4747\n",
      "weighted avg       0.83      0.65      0.67      4747\n",
      "\n"
     ]
    }
   ],
   "source": [
    "print(classification_report(y_test, dec_tree_grid_cv.predict(x_test)))"
   ]
  },
  {
   "cell_type": "markdown",
   "metadata": {},
   "source": [
    "## Regresion logistica"
   ]
  },
  {
   "cell_type": "code",
   "execution_count": 56,
   "metadata": {},
   "outputs": [
    {
     "data": {
      "text/plain": [
       "{'C': 0.01, 'fit_intercept': True, 'penalty': 'l1'}"
      ]
     },
     "execution_count": 56,
     "metadata": {},
     "output_type": "execute_result"
    }
   ],
   "source": [
    "from sklearn.linear_model import LogisticRegression\n",
    "\n",
    "grid={\"C\":np.logspace(-3,3,7), \"penalty\":[\"l1\",\"l2\"], \"fit_intercept\":[True,False]}# l1 lasso l2 ridge\n",
    "logreg=LogisticRegression(random_state=16984)\n",
    "logreg_cv=GridSearchCV(logreg,grid,cv=2, scoring='f1', n_jobs=-1)\n",
    "logreg_cv.fit(x_train_oversmp, y_train_oversmp)\n",
    "logreg_cv.best_params_"
   ]
  },
  {
   "cell_type": "code",
   "execution_count": 57,
   "metadata": {},
   "outputs": [
    {
     "name": "stdout",
     "output_type": "stream",
     "text": [
      "              precision    recall  f1-score   support\n",
      "\n",
      "           0       0.96      0.56      0.71      3643\n",
      "           1       0.39      0.92      0.55      1104\n",
      "\n",
      "    accuracy                           0.65      4747\n",
      "   macro avg       0.67      0.74      0.63      4747\n",
      "weighted avg       0.83      0.65      0.67      4747\n",
      "\n"
     ]
    }
   ],
   "source": [
    "print(classification_report(y_test, logreg_cv.predict(x_test)))"
   ]
  },
  {
   "cell_type": "markdown",
   "metadata": {},
   "source": [
    "## SVM"
   ]
  },
  {
   "cell_type": "code",
   "execution_count": 58,
   "metadata": {},
   "outputs": [],
   "source": [
    "from sklearn.svm import SVC\n",
    "\n",
    "SVM_grid = GridSearchCV(SVC(kernel='rbf'),{'C':[.01, .1, 1, 10, 100],'gamma':[0.0001, 0.01,0.1, 1, 10, 100]},cv=2,n_jobs=-1).fit(x_train_oversmp, y_train_oversmp)"
   ]
  },
  {
   "cell_type": "code",
   "execution_count": 59,
   "metadata": {},
   "outputs": [
    {
     "data": {
      "text/plain": [
       "{'C': 10, 'gamma': 0.1}"
      ]
     },
     "execution_count": 59,
     "metadata": {},
     "output_type": "execute_result"
    }
   ],
   "source": [
    "SVM_grid.best_params_"
   ]
  },
  {
   "cell_type": "code",
   "execution_count": 60,
   "metadata": {},
   "outputs": [
    {
     "name": "stdout",
     "output_type": "stream",
     "text": [
      "              precision    recall  f1-score   support\n",
      "\n",
      "           0       0.77      1.00      0.87      3643\n",
      "           1       0.00      0.00      0.00      1104\n",
      "\n",
      "    accuracy                           0.77      4747\n",
      "   macro avg       0.38      0.50      0.43      4747\n",
      "weighted avg       0.59      0.77      0.67      4747\n",
      "\n"
     ]
    }
   ],
   "source": [
    "print(classification_report(y_test, SVM_grid.predict(x_test)))"
   ]
  },
  {
   "cell_type": "markdown",
   "metadata": {},
   "source": [
    "#### Finalmente, escogemos los dos modelos con mayor f1-score, teniendo en cuenta que prediga algo en la clase relevante, los modelos escogidos son el ADAboost con clases rebalanceadas (oversampling), y el clasificador Bayesiano Ingenuo, cuyas metricas promedio ponderadas del f1 son 76% y 72% respectivamente, muy por sobre las metricas reportadas por los otros modelos."
   ]
  },
  {
   "cell_type": "code",
   "execution_count": 61,
   "metadata": {},
   "outputs": [],
   "source": [
    "#pickle and dump de modelos\n",
    "pickle.dump(Adaboost_model.best_estimator_, open('Adaboost.sav', 'wb'))\n",
    "pickle.dump(nb_fit, open('Naive_Bayes.sav', 'wb'))\n",
    "pickle.dump(x_train_oversmp, open('x_train.sav', 'wb'))\n",
    "pickle.dump(x_test, open('x_test.sav', 'wb'))\n",
    "pickle.dump(y_train_oversmp, open('y_train.sav', 'wb'))\n",
    "pickle.dump(y_test, open('y_test.sav', 'wb'))"
   ]
  }
 ],
 "metadata": {
  "kernelspec": {
   "display_name": "Python 3",
   "language": "python",
   "name": "python3"
  },
  "language_info": {
   "codemirror_mode": {
    "name": "ipython",
    "version": 3
   },
   "file_extension": ".py",
   "mimetype": "text/x-python",
   "name": "python",
   "nbconvert_exporter": "python",
   "pygments_lexer": "ipython3",
   "version": "3.7.3"
  }
 },
 "nbformat": 4,
 "nbformat_minor": 2
}
