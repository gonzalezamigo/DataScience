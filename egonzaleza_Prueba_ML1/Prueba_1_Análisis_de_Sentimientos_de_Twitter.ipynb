{
 "cells": [
  {
   "cell_type": "markdown",
   "metadata": {
    "colab_type": "text",
    "id": "tfM62ItENE4Z"
   },
   "source": [
    "Esteban Gonzalez Amigo"
   ]
  },
  {
   "cell_type": "markdown",
   "metadata": {
    "colab_type": "text",
    "id": "a6xvcNTXu6RK"
   },
   "source": [
    "A continuación se presenta un problema clásico en el análisis de texto: Extraer el sentimiento\n",
    "asociado a un texto.\n",
    "Para esto, utilizaremos una base de datos provenientes de CrowdFlower.\n",
    "Para descargar los datos puede ejecutar el siguiente código:"
   ]
  },
  {
   "cell_type": "code",
   "execution_count": 1,
   "metadata": {
    "colab": {
     "base_uri": "https://localhost:8080/",
     "height": 408
    },
    "colab_type": "code",
    "id": "I4n7Pm8zuhqa",
    "outputId": "8b34dc92-7f0b-4d28-bd91-a1d3642f42b1"
   },
   "outputs": [],
   "source": [
    "\n",
    "#!wget https://www.crowdflower.com/wp-content/uploads/2016/07/text_emotion.csv -p drive/[text_emotion.csv]\n"
   ]
  },
  {
   "cell_type": "markdown",
   "metadata": {
    "colab_type": "text",
    "id": "vnXbCVw7vHp6"
   },
   "source": [
    "El objetivo general de esta prueba es alcanzar el mejor desempeño posible para clasificar si un\n",
    "tweet es positivo o negativo.\n",
    "- Para medir el desempeño, se evaluará con un conjunto de datos del cuál no tendrán acceso. De esta manera evitaremos que los modelos aprendan información sobre el conjunto de validación.\n",
    "  - Crea una carpeta de trabajo y guarda todos los archivos correspondientes (notebook, archivos auxiliares y csv).\n",
    "  - Una vez terminada la prueba, comprime la carpeta y sube el .zip a la sección correspondiente.\n",
    "  \n",
    "**Objetivos**\n",
    "\n",
    "Para alcanzar el objetivo general, su trabajo se puede desagregar en los siguientes puntos:\n",
    "1. Generar un análisis exploratorio sobre los datos contenidos en el DataFrame, considerando\n",
    "palabras más comunes y distribución de las clases en el vector objetivo.\n",
    "\n"
   ]
  },
  {
   "cell_type": "code",
   "execution_count": 2,
   "metadata": {
    "colab": {},
    "colab_type": "code",
    "id": "fmX_Wpcs0ccC"
   },
   "outputs": [],
   "source": [
    "import warnings\n",
    "warnings.filterwarnings('ignore')\n",
    "import numpy as np\n",
    "import pandas as pd\n",
    "import matplotlib.pyplot as plt\n",
    "# añadimos seaborn\n",
    "import seaborn as sns\n",
    "plt.style.use('seaborn')\n",
    "plt.rcParams['figure.figsize'] = (10, 6)"
   ]
  },
  {
   "cell_type": "code",
   "execution_count": 3,
   "metadata": {
    "colab": {},
    "colab_type": "code",
    "id": "ht_J6ErW5Z68"
   },
   "outputs": [
    {
     "name": "stderr",
     "output_type": "stream",
     "text": [
      "[nltk_data] Downloading package stopwords to\n",
      "[nltk_data]     C:\\Users\\karla\\AppData\\Roaming\\nltk_data...\n",
      "[nltk_data]   Package stopwords is already up-to-date!\n",
      "[nltk_data] Downloading package punkt to\n",
      "[nltk_data]     C:\\Users\\karla\\AppData\\Roaming\\nltk_data...\n",
      "[nltk_data]   Package punkt is already up-to-date!\n",
      "[nltk_data] Downloading package wordnet to\n",
      "[nltk_data]     C:\\Users\\karla\\AppData\\Roaming\\nltk_data...\n",
      "[nltk_data]   Package wordnet is already up-to-date!\n"
     ]
    }
   ],
   "source": [
    "from sklearn.tree import DecisionTreeRegressor\n",
    "from sklearn.model_selection import train_test_split, cross_val_score\n",
    "from sklearn.model_selection import GridSearchCV\n",
    "\n",
    "import funciones_auxiliares as func"
   ]
  },
  {
   "cell_type": "code",
   "execution_count": 4,
   "metadata": {
    "colab": {
     "base_uri": "https://localhost:8080/",
     "height": 204
    },
    "colab_type": "code",
    "id": "sTSJJLTM0hze",
    "outputId": "6e647d65-3ded-4149-e402-a83f1144d41f"
   },
   "outputs": [
    {
     "data": {
      "text/html": [
       "<div>\n",
       "<style scoped>\n",
       "    .dataframe tbody tr th:only-of-type {\n",
       "        vertical-align: middle;\n",
       "    }\n",
       "\n",
       "    .dataframe tbody tr th {\n",
       "        vertical-align: top;\n",
       "    }\n",
       "\n",
       "    .dataframe thead th {\n",
       "        text-align: right;\n",
       "    }\n",
       "</style>\n",
       "<table border=\"1\" class=\"dataframe\">\n",
       "  <thead>\n",
       "    <tr style=\"text-align: right;\">\n",
       "      <th></th>\n",
       "      <th>sentiment</th>\n",
       "      <th>author</th>\n",
       "      <th>content</th>\n",
       "    </tr>\n",
       "  </thead>\n",
       "  <tbody>\n",
       "    <tr>\n",
       "      <th>0</th>\n",
       "      <td>empty</td>\n",
       "      <td>xoshayzers</td>\n",
       "      <td>@tiffanylue i know  i was listenin to bad habi...</td>\n",
       "    </tr>\n",
       "    <tr>\n",
       "      <th>1</th>\n",
       "      <td>sadness</td>\n",
       "      <td>wannamama</td>\n",
       "      <td>Layin n bed with a headache  ughhhh...waitin o...</td>\n",
       "    </tr>\n",
       "    <tr>\n",
       "      <th>2</th>\n",
       "      <td>sadness</td>\n",
       "      <td>coolfunky</td>\n",
       "      <td>Funeral ceremony...gloomy friday...</td>\n",
       "    </tr>\n",
       "    <tr>\n",
       "      <th>3</th>\n",
       "      <td>enthusiasm</td>\n",
       "      <td>czareaquino</td>\n",
       "      <td>wants to hang out with friends SOON!</td>\n",
       "    </tr>\n",
       "    <tr>\n",
       "      <th>4</th>\n",
       "      <td>neutral</td>\n",
       "      <td>xkilljoyx</td>\n",
       "      <td>@dannycastillo We want to trade with someone w...</td>\n",
       "    </tr>\n",
       "  </tbody>\n",
       "</table>\n",
       "</div>"
      ],
      "text/plain": [
       "    sentiment       author                                            content\n",
       "0       empty   xoshayzers  @tiffanylue i know  i was listenin to bad habi...\n",
       "1     sadness    wannamama  Layin n bed with a headache  ughhhh...waitin o...\n",
       "2     sadness    coolfunky                Funeral ceremony...gloomy friday...\n",
       "3  enthusiasm  czareaquino               wants to hang out with friends SOON!\n",
       "4     neutral    xkilljoyx  @dannycastillo We want to trade with someone w..."
      ]
     },
     "execution_count": 4,
     "metadata": {},
     "output_type": "execute_result"
    }
   ],
   "source": [
    "df=pd.read_csv('text_emotion.csv').drop(columns='tweet_id')\n",
    "df.head()"
   ]
  },
  {
   "cell_type": "markdown",
   "metadata": {
    "colab_type": "text",
    "id": "0HwjZG-ZMLf9"
   },
   "source": [
    "El dataset se compone por 4 columnas originalmente. El número de identificación del Tweet, el tipo de sentimiento que expresa el Tweet, autor y el mensaje.\n",
    "\n",
    "De la base de datos original eliminamos la información correspondiente al ID porque no implica ninguna diferencia para la investigación que se desea realizar"
   ]
  },
  {
   "cell_type": "code",
   "execution_count": 5,
   "metadata": {
    "colab": {
     "base_uri": "https://localhost:8080/",
     "height": 34
    },
    "colab_type": "code",
    "id": "8YegEFfEv_qd",
    "outputId": "72bd0b59-637a-4243-b1cd-f7e7a7c13381"
   },
   "outputs": [
    {
     "data": {
      "text/plain": [
       "(40000, 3)"
      ]
     },
     "execution_count": 5,
     "metadata": {},
     "output_type": "execute_result"
    }
   ],
   "source": [
    "df.shape"
   ]
  },
  {
   "cell_type": "markdown",
   "metadata": {
    "colab_type": "text",
    "id": "eOM9WLpbRaot"
   },
   "source": [
    "El dataset se compone por una base de datos de 3 columnas y 40000 filas"
   ]
  },
  {
   "cell_type": "code",
   "execution_count": 6,
   "metadata": {
    "colab": {
     "base_uri": "https://localhost:8080/",
     "height": 85
    },
    "colab_type": "code",
    "id": "sxRCZ1_I0B-x",
    "outputId": "39c5c2fc-c836-443e-cca3-62a6d3dcdfa7"
   },
   "outputs": [
    {
     "data": {
      "text/plain": [
       "sentiment    object\n",
       "author       object\n",
       "content      object\n",
       "dtype: object"
      ]
     },
     "execution_count": 6,
     "metadata": {},
     "output_type": "execute_result"
    }
   ],
   "source": [
    "df.dtypes"
   ]
  },
  {
   "cell_type": "markdown",
   "metadata": {
    "colab_type": "text",
    "id": "jZIIKdlbMugK"
   },
   "source": [
    "Las tres columnas del dataset son columnas objeto, es decir que se componen principalmente por mensajes (tipo de datos strings)"
   ]
  },
  {
   "cell_type": "code",
   "execution_count": 7,
   "metadata": {
    "colab": {
     "base_uri": "https://localhost:8080/",
     "height": 441
    },
    "colab_type": "code",
    "id": "_fRc_FW0JuSG",
    "outputId": "91f06512-6539-43de-9af4-4e022bd30b80"
   },
   "outputs": [
    {
     "data": {
      "image/png": "[encoded data removed]",
      "text/plain": [
       "<Figure size 720x432 with 1 Axes>"
      ]
     },
     "metadata": {},
     "output_type": "display_data"
    }
   ],
   "source": [
    "ax1 = sns.countplot(x='sentiment',data=df,order=df['sentiment'].value_counts().index)\n",
    "ax1.set_xticklabels(ax1.get_xticklabels(),rotation=45,ha='right')\n",
    "plt.tight_layout()\n",
    "plt.show()"
   ]
  },
  {
   "cell_type": "markdown",
   "metadata": {
    "colab_type": "text",
    "id": "uTQn6Ov0M7Co"
   },
   "source": [
    "En el gráfico mostrado, podemos observar que el sentimiento más común es el neutral, seguido de cerca del sentimiento preocupación. Por otro lado, el sentimiento menos común es la rabia."
   ]
  },
  {
   "cell_type": "code",
   "execution_count": 8,
   "metadata": {
    "colab": {
     "base_uri": "https://localhost:8080/",
     "height": 359
    },
    "colab_type": "code",
    "id": "a28hxSQLSO8d",
    "outputId": "43fed5a6-b9ff-4917-a1b7-272cf84e2343"
   },
   "outputs": [
    {
     "data": {
      "text/html": [
       "<div>\n",
       "<style scoped>\n",
       "    .dataframe tbody tr th:only-of-type {\n",
       "        vertical-align: middle;\n",
       "    }\n",
       "\n",
       "    .dataframe tbody tr th {\n",
       "        vertical-align: top;\n",
       "    }\n",
       "\n",
       "    .dataframe thead th {\n",
       "        text-align: right;\n",
       "    }\n",
       "</style>\n",
       "<table border=\"1\" class=\"dataframe\">\n",
       "  <thead>\n",
       "    <tr style=\"text-align: right;\">\n",
       "      <th></th>\n",
       "      <th>author</th>\n",
       "      <th>content</th>\n",
       "    </tr>\n",
       "  </thead>\n",
       "  <tbody>\n",
       "    <tr>\n",
       "      <th>7942</th>\n",
       "      <td>MissxMarisa</td>\n",
       "      <td>23</td>\n",
       "    </tr>\n",
       "    <tr>\n",
       "      <th>2171</th>\n",
       "      <td>ChineseLearn</td>\n",
       "      <td>22</td>\n",
       "    </tr>\n",
       "    <tr>\n",
       "      <th>7668</th>\n",
       "      <td>MiDesfileNegro</td>\n",
       "      <td>19</td>\n",
       "    </tr>\n",
       "    <tr>\n",
       "      <th>18330</th>\n",
       "      <td>erkagarcia</td>\n",
       "      <td>19</td>\n",
       "    </tr>\n",
       "    <tr>\n",
       "      <th>24210</th>\n",
       "      <td>lost_dog</td>\n",
       "      <td>18</td>\n",
       "    </tr>\n",
       "    <tr>\n",
       "      <th>32187</th>\n",
       "      <td>tsarnick</td>\n",
       "      <td>17</td>\n",
       "    </tr>\n",
       "    <tr>\n",
       "      <th>23944</th>\n",
       "      <td>linnetwoods</td>\n",
       "      <td>15</td>\n",
       "    </tr>\n",
       "    <tr>\n",
       "      <th>6093</th>\n",
       "      <td>KimmiMcfly</td>\n",
       "      <td>15</td>\n",
       "    </tr>\n",
       "    <tr>\n",
       "      <th>9312</th>\n",
       "      <td>Quimo</td>\n",
       "      <td>14</td>\n",
       "    </tr>\n",
       "    <tr>\n",
       "      <th>3079</th>\n",
       "      <td>Dogbook</td>\n",
       "      <td>14</td>\n",
       "    </tr>\n",
       "  </tbody>\n",
       "</table>\n",
       "</div>"
      ],
      "text/plain": [
       "               author  content\n",
       "7942      MissxMarisa       23\n",
       "2171     ChineseLearn       22\n",
       "7668   MiDesfileNegro       19\n",
       "18330      erkagarcia       19\n",
       "24210        lost_dog       18\n",
       "32187        tsarnick       17\n",
       "23944     linnetwoods       15\n",
       "6093       KimmiMcfly       15\n",
       "9312            Quimo       14\n",
       "3079          Dogbook       14"
      ]
     },
     "execution_count": 8,
     "metadata": {},
     "output_type": "execute_result"
    }
   ],
   "source": [
    "func.act_more_tweet(df)"
   ]
  },
  {
   "cell_type": "markdown",
   "metadata": {
    "colab_type": "text",
    "id": "4J6bKZ2QX52e"
   },
   "source": [
    "En la siguiente tabla se muestran los 10 autores que han escrito más tweets. Siendo MissxMarissa la que más ha hecho."
   ]
  },
  {
   "cell_type": "code",
   "execution_count": 9,
   "metadata": {
    "colab": {
     "base_uri": "https://localhost:8080/",
     "height": 235
    },
    "colab_type": "code",
    "id": "2Z55YEzuQ3s9",
    "outputId": "4d7320d3-12ea-4a4a-d18b-1247ea04c491"
   },
   "outputs": [
    {
     "data": {
      "text/html": [
       "<div>\n",
       "<style scoped>\n",
       "    .dataframe tbody tr th:only-of-type {\n",
       "        vertical-align: middle;\n",
       "    }\n",
       "\n",
       "    .dataframe tbody tr th {\n",
       "        vertical-align: top;\n",
       "    }\n",
       "\n",
       "    .dataframe thead th {\n",
       "        text-align: right;\n",
       "    }\n",
       "</style>\n",
       "<table border=\"1\" class=\"dataframe\">\n",
       "  <thead>\n",
       "    <tr style=\"text-align: right;\">\n",
       "      <th>sentiment</th>\n",
       "      <th>anger</th>\n",
       "      <th>boredom</th>\n",
       "      <th>empty</th>\n",
       "      <th>enthusiasm</th>\n",
       "      <th>fun</th>\n",
       "      <th>happiness</th>\n",
       "      <th>hate</th>\n",
       "      <th>love</th>\n",
       "      <th>neutral</th>\n",
       "      <th>relief</th>\n",
       "      <th>sadness</th>\n",
       "      <th>surprise</th>\n",
       "      <th>worry</th>\n",
       "    </tr>\n",
       "    <tr>\n",
       "      <th>author</th>\n",
       "      <th></th>\n",
       "      <th></th>\n",
       "      <th></th>\n",
       "      <th></th>\n",
       "      <th></th>\n",
       "      <th></th>\n",
       "      <th></th>\n",
       "      <th></th>\n",
       "      <th></th>\n",
       "      <th></th>\n",
       "      <th></th>\n",
       "      <th></th>\n",
       "      <th></th>\n",
       "    </tr>\n",
       "  </thead>\n",
       "  <tbody>\n",
       "    <tr>\n",
       "      <th>000yea000</th>\n",
       "      <td>0</td>\n",
       "      <td>0</td>\n",
       "      <td>0</td>\n",
       "      <td>0</td>\n",
       "      <td>0</td>\n",
       "      <td>0</td>\n",
       "      <td>0</td>\n",
       "      <td>1</td>\n",
       "      <td>0</td>\n",
       "      <td>0</td>\n",
       "      <td>0</td>\n",
       "      <td>0</td>\n",
       "      <td>0</td>\n",
       "    </tr>\n",
       "    <tr>\n",
       "      <th>001BabyGirl</th>\n",
       "      <td>0</td>\n",
       "      <td>0</td>\n",
       "      <td>0</td>\n",
       "      <td>0</td>\n",
       "      <td>0</td>\n",
       "      <td>0</td>\n",
       "      <td>0</td>\n",
       "      <td>0</td>\n",
       "      <td>1</td>\n",
       "      <td>0</td>\n",
       "      <td>0</td>\n",
       "      <td>0</td>\n",
       "      <td>0</td>\n",
       "    </tr>\n",
       "    <tr>\n",
       "      <th>00mouse2000</th>\n",
       "      <td>0</td>\n",
       "      <td>0</td>\n",
       "      <td>0</td>\n",
       "      <td>0</td>\n",
       "      <td>0</td>\n",
       "      <td>0</td>\n",
       "      <td>0</td>\n",
       "      <td>0</td>\n",
       "      <td>0</td>\n",
       "      <td>0</td>\n",
       "      <td>1</td>\n",
       "      <td>0</td>\n",
       "      <td>0</td>\n",
       "    </tr>\n",
       "    <tr>\n",
       "      <th>06Di06</th>\n",
       "      <td>0</td>\n",
       "      <td>0</td>\n",
       "      <td>0</td>\n",
       "      <td>0</td>\n",
       "      <td>0</td>\n",
       "      <td>0</td>\n",
       "      <td>0</td>\n",
       "      <td>0</td>\n",
       "      <td>0</td>\n",
       "      <td>0</td>\n",
       "      <td>0</td>\n",
       "      <td>0</td>\n",
       "      <td>1</td>\n",
       "    </tr>\n",
       "    <tr>\n",
       "      <th>08vintagelove</th>\n",
       "      <td>0</td>\n",
       "      <td>0</td>\n",
       "      <td>0</td>\n",
       "      <td>0</td>\n",
       "      <td>0</td>\n",
       "      <td>0</td>\n",
       "      <td>0</td>\n",
       "      <td>1</td>\n",
       "      <td>0</td>\n",
       "      <td>0</td>\n",
       "      <td>0</td>\n",
       "      <td>0</td>\n",
       "      <td>0</td>\n",
       "    </tr>\n",
       "  </tbody>\n",
       "</table>\n",
       "</div>"
      ],
      "text/plain": [
       "sentiment      anger  boredom  empty  enthusiasm  fun  happiness  hate  love  \\\n",
       "author                                                                         \n",
       "000yea000          0        0      0           0    0          0     0     1   \n",
       "001BabyGirl        0        0      0           0    0          0     0     0   \n",
       "00mouse2000        0        0      0           0    0          0     0     0   \n",
       "06Di06             0        0      0           0    0          0     0     0   \n",
       "08vintagelove      0        0      0           0    0          0     0     1   \n",
       "\n",
       "sentiment      neutral  relief  sadness  surprise  worry  \n",
       "author                                                    \n",
       "000yea000            0       0        0         0      0  \n",
       "001BabyGirl          1       0        0         0      0  \n",
       "00mouse2000          0       0        1         0      0  \n",
       "06Di06               0       0        0         0      1  \n",
       "08vintagelove        0       0        0         0      0  "
      ]
     },
     "execution_count": 9,
     "metadata": {},
     "output_type": "execute_result"
    }
   ],
   "source": [
    "#Al dataframe le agregamos una columna llamada count que nos permitirá agrupar valores\n",
    "df['count']=1\n",
    "\n",
    "#Agrupamos los valores de acuerdo a los sentimientos por autor\n",
    "agrupacion = df.groupby(by=[ 'author','sentiment'], as_index=False).count()\n",
    "\n",
    "#Pivotear los datos\n",
    "p= agrupacion.pivot( 'author','sentiment','count')\n",
    "\n",
    "#Reemplaza los NA por 0 y deja los números en enteros\n",
    "p= p.fillna(0).astype(int)\n",
    "\n",
    "p.head()"
   ]
  },
  {
   "cell_type": "markdown",
   "metadata": {
    "colab_type": "text",
    "id": "7G50coGbaO3C"
   },
   "source": [
    "La tabla nos muestra los sentimientos expresados por autor"
   ]
  },
  {
   "cell_type": "code",
   "execution_count": 10,
   "metadata": {
    "colab": {
     "base_uri": "https://localhost:8080/",
     "height": 390
    },
    "colab_type": "code",
    "id": "tj-eqZKRY7cl",
    "outputId": "0aab5450-61ee-4e39-fa32-9a00a4d4246c"
   },
   "outputs": [
    {
     "data": {
      "text/html": [
       "<div>\n",
       "<style scoped>\n",
       "    .dataframe tbody tr th:only-of-type {\n",
       "        vertical-align: middle;\n",
       "    }\n",
       "\n",
       "    .dataframe tbody tr th {\n",
       "        vertical-align: top;\n",
       "    }\n",
       "\n",
       "    .dataframe thead th {\n",
       "        text-align: right;\n",
       "    }\n",
       "</style>\n",
       "<table border=\"1\" class=\"dataframe\">\n",
       "  <thead>\n",
       "    <tr style=\"text-align: right;\">\n",
       "      <th>sentiment</th>\n",
       "      <th>anger</th>\n",
       "      <th>boredom</th>\n",
       "      <th>empty</th>\n",
       "      <th>enthusiasm</th>\n",
       "      <th>fun</th>\n",
       "      <th>happiness</th>\n",
       "      <th>hate</th>\n",
       "      <th>love</th>\n",
       "      <th>neutral</th>\n",
       "      <th>relief</th>\n",
       "      <th>sadness</th>\n",
       "      <th>surprise</th>\n",
       "      <th>worry</th>\n",
       "    </tr>\n",
       "    <tr>\n",
       "      <th>author</th>\n",
       "      <th></th>\n",
       "      <th></th>\n",
       "      <th></th>\n",
       "      <th></th>\n",
       "      <th></th>\n",
       "      <th></th>\n",
       "      <th></th>\n",
       "      <th></th>\n",
       "      <th></th>\n",
       "      <th></th>\n",
       "      <th></th>\n",
       "      <th></th>\n",
       "      <th></th>\n",
       "    </tr>\n",
       "  </thead>\n",
       "  <tbody>\n",
       "    <tr>\n",
       "      <th>lesley007</th>\n",
       "      <td>0</td>\n",
       "      <td>0</td>\n",
       "      <td>1</td>\n",
       "      <td>0</td>\n",
       "      <td>0</td>\n",
       "      <td>5</td>\n",
       "      <td>1</td>\n",
       "      <td>0</td>\n",
       "      <td>1</td>\n",
       "      <td>1</td>\n",
       "      <td>0</td>\n",
       "      <td>0</td>\n",
       "      <td>3</td>\n",
       "    </tr>\n",
       "    <tr>\n",
       "      <th>tsarnick</th>\n",
       "      <td>0</td>\n",
       "      <td>0</td>\n",
       "      <td>0</td>\n",
       "      <td>0</td>\n",
       "      <td>1</td>\n",
       "      <td>5</td>\n",
       "      <td>0</td>\n",
       "      <td>2</td>\n",
       "      <td>3</td>\n",
       "      <td>0</td>\n",
       "      <td>0</td>\n",
       "      <td>4</td>\n",
       "      <td>2</td>\n",
       "    </tr>\n",
       "    <tr>\n",
       "      <th>Quimo</th>\n",
       "      <td>0</td>\n",
       "      <td>0</td>\n",
       "      <td>0</td>\n",
       "      <td>0</td>\n",
       "      <td>0</td>\n",
       "      <td>5</td>\n",
       "      <td>0</td>\n",
       "      <td>2</td>\n",
       "      <td>3</td>\n",
       "      <td>0</td>\n",
       "      <td>1</td>\n",
       "      <td>2</td>\n",
       "      <td>1</td>\n",
       "    </tr>\n",
       "    <tr>\n",
       "      <th>ChineseLearn</th>\n",
       "      <td>0</td>\n",
       "      <td>0</td>\n",
       "      <td>1</td>\n",
       "      <td>2</td>\n",
       "      <td>2</td>\n",
       "      <td>5</td>\n",
       "      <td>0</td>\n",
       "      <td>2</td>\n",
       "      <td>9</td>\n",
       "      <td>0</td>\n",
       "      <td>0</td>\n",
       "      <td>1</td>\n",
       "      <td>0</td>\n",
       "    </tr>\n",
       "    <tr>\n",
       "      <th>lopezwilfred</th>\n",
       "      <td>0</td>\n",
       "      <td>0</td>\n",
       "      <td>0</td>\n",
       "      <td>1</td>\n",
       "      <td>0</td>\n",
       "      <td>5</td>\n",
       "      <td>0</td>\n",
       "      <td>0</td>\n",
       "      <td>5</td>\n",
       "      <td>0</td>\n",
       "      <td>0</td>\n",
       "      <td>0</td>\n",
       "      <td>1</td>\n",
       "    </tr>\n",
       "    <tr>\n",
       "      <th>lotusheartbreak</th>\n",
       "      <td>0</td>\n",
       "      <td>0</td>\n",
       "      <td>0</td>\n",
       "      <td>0</td>\n",
       "      <td>0</td>\n",
       "      <td>4</td>\n",
       "      <td>0</td>\n",
       "      <td>1</td>\n",
       "      <td>0</td>\n",
       "      <td>0</td>\n",
       "      <td>0</td>\n",
       "      <td>0</td>\n",
       "      <td>0</td>\n",
       "    </tr>\n",
       "    <tr>\n",
       "      <th>KimmiMcfly</th>\n",
       "      <td>0</td>\n",
       "      <td>0</td>\n",
       "      <td>1</td>\n",
       "      <td>0</td>\n",
       "      <td>2</td>\n",
       "      <td>4</td>\n",
       "      <td>0</td>\n",
       "      <td>0</td>\n",
       "      <td>5</td>\n",
       "      <td>0</td>\n",
       "      <td>0</td>\n",
       "      <td>0</td>\n",
       "      <td>3</td>\n",
       "    </tr>\n",
       "    <tr>\n",
       "      <th>MissxMarisa</th>\n",
       "      <td>0</td>\n",
       "      <td>0</td>\n",
       "      <td>0</td>\n",
       "      <td>0</td>\n",
       "      <td>1</td>\n",
       "      <td>4</td>\n",
       "      <td>1</td>\n",
       "      <td>3</td>\n",
       "      <td>6</td>\n",
       "      <td>0</td>\n",
       "      <td>1</td>\n",
       "      <td>3</td>\n",
       "      <td>4</td>\n",
       "    </tr>\n",
       "    <tr>\n",
       "      <th>Djalfy</th>\n",
       "      <td>0</td>\n",
       "      <td>0</td>\n",
       "      <td>0</td>\n",
       "      <td>0</td>\n",
       "      <td>0</td>\n",
       "      <td>4</td>\n",
       "      <td>0</td>\n",
       "      <td>0</td>\n",
       "      <td>0</td>\n",
       "      <td>0</td>\n",
       "      <td>0</td>\n",
       "      <td>0</td>\n",
       "      <td>3</td>\n",
       "    </tr>\n",
       "    <tr>\n",
       "      <th>JavierChua</th>\n",
       "      <td>0</td>\n",
       "      <td>0</td>\n",
       "      <td>0</td>\n",
       "      <td>0</td>\n",
       "      <td>0</td>\n",
       "      <td>4</td>\n",
       "      <td>0</td>\n",
       "      <td>0</td>\n",
       "      <td>0</td>\n",
       "      <td>0</td>\n",
       "      <td>0</td>\n",
       "      <td>0</td>\n",
       "      <td>0</td>\n",
       "    </tr>\n",
       "  </tbody>\n",
       "</table>\n",
       "</div>"
      ],
      "text/plain": [
       "sentiment        anger  boredom  empty  enthusiasm  fun  happiness  hate  \\\n",
       "author                                                                     \n",
       "lesley007            0        0      1           0    0          5     1   \n",
       "tsarnick             0        0      0           0    1          5     0   \n",
       "Quimo                0        0      0           0    0          5     0   \n",
       "ChineseLearn         0        0      1           2    2          5     0   \n",
       "lopezwilfred         0        0      0           1    0          5     0   \n",
       "lotusheartbreak      0        0      0           0    0          4     0   \n",
       "KimmiMcfly           0        0      1           0    2          4     0   \n",
       "MissxMarisa          0        0      0           0    1          4     1   \n",
       "Djalfy               0        0      0           0    0          4     0   \n",
       "JavierChua           0        0      0           0    0          4     0   \n",
       "\n",
       "sentiment        love  neutral  relief  sadness  surprise  worry  \n",
       "author                                                            \n",
       "lesley007           0        1       1        0         0      3  \n",
       "tsarnick            2        3       0        0         4      2  \n",
       "Quimo               2        3       0        1         2      1  \n",
       "ChineseLearn        2        9       0        0         1      0  \n",
       "lopezwilfred        0        5       0        0         0      1  \n",
       "lotusheartbreak     1        0       0        0         0      0  \n",
       "KimmiMcfly          0        5       0        0         0      3  \n",
       "MissxMarisa         3        6       0        1         3      4  \n",
       "Djalfy              0        0       0        0         0      3  \n",
       "JavierChua          0        0       0        0         0      0  "
      ]
     },
     "execution_count": 10,
     "metadata": {},
     "output_type": "execute_result"
    }
   ],
   "source": [
    "p.sort_values(by='happiness',ascending=False).head(10)"
   ]
  },
  {
   "cell_type": "markdown",
   "metadata": {
    "colab_type": "text",
    "id": "wqBVf6ecaWy_"
   },
   "source": [
    "Ahora tomamos los autores que publicaron más tweets con sentimientos de felicidad. Como se observa MissxMarisa, la autora con más tweets ha posteado 6 tweets con sentimientos neutrales y 4 con sentimientos de felicidad, entre otros"
   ]
  },
  {
   "cell_type": "markdown",
   "metadata": {
    "colab_type": "text",
    "id": "1T94fqqgLahg"
   },
   "source": [
    "**Preprocesamiento de Texto:**\n",
    "- Para trabajar adecuadamente con texto, debemos preprocesar y posteriormente representar cada oración como un conjunto de características.\n",
    "- Para preprocesar los tweets, debemos transformarlos a lower case. Un problema recurrente\n",
    "en el análisis de texto es la alta ocurrencia de palabras comunes. Se recomienda eliminarlas mediante la declaración de stopwords. Para generar la exclusión de stopwords, podemos\n",
    "utilizar la librería nltk (Natural Language ToolKit) y descargar los stopwords con la siguiente\n",
    "instrucción.\n",
    "\n"
   ]
  },
  {
   "cell_type": "code",
   "execution_count": 11,
   "metadata": {
    "colab": {
     "base_uri": "https://localhost:8080/",
     "height": 68
    },
    "colab_type": "code",
    "id": "uJPGL9-AvAZA",
    "outputId": "c1903532-780b-4485-ebcd-a3a7d94cc429"
   },
   "outputs": [
    {
     "name": "stderr",
     "output_type": "stream",
     "text": [
      "[nltk_data] Downloading package stopwords to\n",
      "[nltk_data]     C:\\Users\\karla\\AppData\\Roaming\\nltk_data...\n",
      "[nltk_data]   Package stopwords is already up-to-date!\n"
     ]
    },
    {
     "data": {
      "text/plain": [
       "True"
      ]
     },
     "execution_count": 11,
     "metadata": {},
     "output_type": "execute_result"
    }
   ],
   "source": [
    "import nltk\n",
    "nltk.download('stopwords')"
   ]
  },
  {
   "cell_type": "markdown",
   "metadata": {
    "colab_type": "text",
    "id": "_EgJOHHIA_yZ"
   },
   "source": [
    "- Puede refinar los atributos a capturar mediante el proceso de lemantización (la reducción de\n",
    "variadas palabras con un tronco léxico común; ejemplo: Organización, Organiza, y Organizado\n",
    "presentan organi_ como tronco léxico en comúmn) o Stemming (la reducción de una\n",
    "palabra a una expresión generalizable). Cabe destacar que ésta última carece de análisis\n",
    "morfológico del lenguaje.\n"
   ]
  },
  {
   "cell_type": "code",
   "execution_count": 12,
   "metadata": {
    "colab": {
     "base_uri": "https://localhost:8080/",
     "height": 85
    },
    "colab_type": "code",
    "id": "Cbj4uYjNLfKJ",
    "outputId": "c9d755fd-f25b-45e2-9199-89d55af45827"
   },
   "outputs": [
    {
     "name": "stderr",
     "output_type": "stream",
     "text": [
      "[nltk_data] Downloading package punkt to\n",
      "[nltk_data]     C:\\Users\\karla\\AppData\\Roaming\\nltk_data...\n",
      "[nltk_data]   Package punkt is already up-to-date!\n",
      "[nltk_data] Downloading package wordnet to\n",
      "[nltk_data]     C:\\Users\\karla\\AppData\\Roaming\\nltk_data...\n",
      "[nltk_data]   Package wordnet is already up-to-date!\n"
     ]
    }
   ],
   "source": [
    "nltk.download('punkt')\n",
    "nltk.download('wordnet')\n",
    "from nltk import sent_tokenize, word_tokenize\n",
    "from nltk.stem.snowball import SnowballStemmer\n",
    "from nltk.stem.wordnet import WordNetLemmatizer\n",
    "from nltk.corpus import stopwords\n",
    "import re                      # Regular expressions"
   ]
  },
  {
   "cell_type": "code",
   "execution_count": 13,
   "metadata": {
    "colab": {
     "base_uri": "https://localhost:8080/",
     "height": 34
    },
    "colab_type": "code",
    "id": "WjPby4DlB3ub",
    "outputId": "2bd5fc1f-a51c-4767-dbac-a4c428fedec0",
    "scrolled": false
   },
   "outputs": [
    {
     "data": {
      "text/plain": [
       "str"
      ]
     },
     "execution_count": 13,
     "metadata": {},
     "output_type": "execute_result"
    }
   ],
   "source": [
    "import string\n",
    "from string import punctuation\n",
    "type(punctuation)"
   ]
  },
  {
   "cell_type": "code",
   "execution_count": 14,
   "metadata": {
    "colab": {},
    "colab_type": "code",
    "id": "BRExJPhr6tCJ"
   },
   "outputs": [],
   "source": [
    "# remover menciones de twitter (@user)\n",
    "df['content_recod'] = np.vectorize(func.remove_pattern)(df['content'], \"@[\\w]*\")"
   ]
  },
  {
   "cell_type": "code",
   "execution_count": 15,
   "metadata": {
    "colab": {
     "base_uri": "https://localhost:8080/",
     "height": 119
    },
    "colab_type": "code",
    "id": "VaxxvVST8d0f",
    "outputId": "fbbcf1d3-2fde-4f09-89a7-9c19d7fd65d1"
   },
   "outputs": [
    {
     "data": {
      "text/plain": [
       "0     i know  i was listenin to bad habit earlier a...\n",
       "1    Layin n bed with a headache  ughhhh...waitin o...\n",
       "2                  Funeral ceremony...gloomy friday...\n",
       "3                 wants to hang out with friends SOON!\n",
       "4     We want to trade with someone who has Houston...\n",
       "Name: content_recod, dtype: object"
      ]
     },
     "execution_count": 15,
     "metadata": {},
     "output_type": "execute_result"
    }
   ],
   "source": [
    "df['content_recod'].head()"
   ]
  },
  {
   "cell_type": "code",
   "execution_count": 16,
   "metadata": {
    "colab": {},
    "colab_type": "code",
    "id": "aPvYyEKECCKD"
   },
   "outputs": [
    {
     "data": {
      "text/html": [
       "<div>\n",
       "<style scoped>\n",
       "    .dataframe tbody tr th:only-of-type {\n",
       "        vertical-align: middle;\n",
       "    }\n",
       "\n",
       "    .dataframe tbody tr th {\n",
       "        vertical-align: top;\n",
       "    }\n",
       "\n",
       "    .dataframe thead th {\n",
       "        text-align: right;\n",
       "    }\n",
       "</style>\n",
       "<table border=\"1\" class=\"dataframe\">\n",
       "  <thead>\n",
       "    <tr style=\"text-align: right;\">\n",
       "      <th></th>\n",
       "      <th>sentiment</th>\n",
       "      <th>author</th>\n",
       "      <th>content</th>\n",
       "      <th>count</th>\n",
       "      <th>content_recod</th>\n",
       "    </tr>\n",
       "  </thead>\n",
       "  <tbody>\n",
       "    <tr>\n",
       "      <th>0</th>\n",
       "      <td>empty</td>\n",
       "      <td>xoshayzers</td>\n",
       "      <td>@tiffanylue i know  i was listenin to bad habi...</td>\n",
       "      <td>1</td>\n",
       "      <td>i know  i was listenin to bad habit earlier a...</td>\n",
       "    </tr>\n",
       "    <tr>\n",
       "      <th>1</th>\n",
       "      <td>sadness</td>\n",
       "      <td>wannamama</td>\n",
       "      <td>Layin n bed with a headache  ughhhh...waitin o...</td>\n",
       "      <td>1</td>\n",
       "      <td>layin n bed with a headache  ughhhh   waitin o...</td>\n",
       "    </tr>\n",
       "    <tr>\n",
       "      <th>2</th>\n",
       "      <td>sadness</td>\n",
       "      <td>coolfunky</td>\n",
       "      <td>Funeral ceremony...gloomy friday...</td>\n",
       "      <td>1</td>\n",
       "      <td>funeral ceremony   gloomy friday</td>\n",
       "    </tr>\n",
       "    <tr>\n",
       "      <th>3</th>\n",
       "      <td>enthusiasm</td>\n",
       "      <td>czareaquino</td>\n",
       "      <td>wants to hang out with friends SOON!</td>\n",
       "      <td>1</td>\n",
       "      <td>wants to hang out with friends soon</td>\n",
       "    </tr>\n",
       "    <tr>\n",
       "      <th>4</th>\n",
       "      <td>neutral</td>\n",
       "      <td>xkilljoyx</td>\n",
       "      <td>@dannycastillo We want to trade with someone w...</td>\n",
       "      <td>1</td>\n",
       "      <td>we want to trade with someone who has houston...</td>\n",
       "    </tr>\n",
       "  </tbody>\n",
       "</table>\n",
       "</div>"
      ],
      "text/plain": [
       "    sentiment       author                                            content  \\\n",
       "0       empty   xoshayzers  @tiffanylue i know  i was listenin to bad habi...   \n",
       "1     sadness    wannamama  Layin n bed with a headache  ughhhh...waitin o...   \n",
       "2     sadness    coolfunky                Funeral ceremony...gloomy friday...   \n",
       "3  enthusiasm  czareaquino               wants to hang out with friends SOON!   \n",
       "4     neutral    xkilljoyx  @dannycastillo We want to trade with someone w...   \n",
       "\n",
       "   count                                      content_recod  \n",
       "0      1   i know  i was listenin to bad habit earlier a...  \n",
       "1      1  layin n bed with a headache  ughhhh   waitin o...  \n",
       "2      1                funeral ceremony   gloomy friday     \n",
       "3      1               wants to hang out with friends soon   \n",
       "4      1   we want to trade with someone who has houston...  "
      ]
     },
     "execution_count": 16,
     "metadata": {},
     "output_type": "execute_result"
    }
   ],
   "source": [
    "\n",
    "\n",
    "# reemplazamos en la variable/columna content todos los signos o numeros que contiene non_words\n",
    "func.just_words(df,'content_recod')"
   ]
  },
  {
   "cell_type": "code",
   "execution_count": 17,
   "metadata": {
    "colab": {
     "base_uri": "https://localhost:8080/",
     "height": 119
    },
    "colab_type": "code",
    "id": "-w9shWXZ8mUv",
    "outputId": "dc9288ec-a0e5-4307-efc4-4cbf282e3f12"
   },
   "outputs": [
    {
     "data": {
      "text/plain": [
       "0     i know  i was listenin to bad habit earlier a...\n",
       "1    layin n bed with a headache  ughhhh   waitin o...\n",
       "2                  funeral ceremony   gloomy friday   \n",
       "3                 wants to hang out with friends soon \n",
       "4     we want to trade with someone who has houston...\n",
       "Name: content_recod, dtype: object"
      ]
     },
     "execution_count": 17,
     "metadata": {},
     "output_type": "execute_result"
    }
   ],
   "source": [
    "df['content_recod'].head()"
   ]
  },
  {
   "cell_type": "code",
   "execution_count": 18,
   "metadata": {
    "colab": {
     "base_uri": "https://localhost:8080/",
     "height": 34
    },
    "colab_type": "code",
    "id": "maULMS4aBBFY",
    "outputId": "35a13570-d581-4437-e7bb-87fe3615aaf0"
   },
   "outputs": [],
   "source": [
    "#non_words"
   ]
  },
  {
   "cell_type": "code",
   "execution_count": 19,
   "metadata": {
    "colab": {
     "base_uri": "https://localhost:8080/",
     "height": 119
    },
    "colab_type": "code",
    "id": "VPev938eDNgv",
    "outputId": "d155e875-a39e-44dc-d534-108adf30a214"
   },
   "outputs": [
    {
     "data": {
      "text/plain": [
       "0     i know  i was listenin to bad habit earlier a...\n",
       "1    layin n bed with a headache  ughhhh   waitin o...\n",
       "2                  funeral ceremony   gloomy friday   \n",
       "3                 wants to hang out with friends soon \n",
       "4     we want to trade with someone who has houston...\n",
       "Name: content_recod, dtype: object"
      ]
     },
     "execution_count": 19,
     "metadata": {},
     "output_type": "execute_result"
    }
   ],
   "source": [
    "df['content_recod'].head()"
   ]
  },
  {
   "cell_type": "code",
   "execution_count": 20,
   "metadata": {
    "colab": {},
    "colab_type": "code",
    "id": "MlxfwQUaML4E"
   },
   "outputs": [
    {
     "data": {
      "text/html": [
       "<div>\n",
       "<style scoped>\n",
       "    .dataframe tbody tr th:only-of-type {\n",
       "        vertical-align: middle;\n",
       "    }\n",
       "\n",
       "    .dataframe tbody tr th {\n",
       "        vertical-align: top;\n",
       "    }\n",
       "\n",
       "    .dataframe thead th {\n",
       "        text-align: right;\n",
       "    }\n",
       "</style>\n",
       "<table border=\"1\" class=\"dataframe\">\n",
       "  <thead>\n",
       "    <tr style=\"text-align: right;\">\n",
       "      <th></th>\n",
       "      <th>sentiment</th>\n",
       "      <th>author</th>\n",
       "      <th>content</th>\n",
       "      <th>count</th>\n",
       "      <th>content_recod</th>\n",
       "    </tr>\n",
       "  </thead>\n",
       "  <tbody>\n",
       "    <tr>\n",
       "      <th>0</th>\n",
       "      <td>empty</td>\n",
       "      <td>xoshayzers</td>\n",
       "      <td>@tiffanylue i know  i was listenin to bad habi...</td>\n",
       "      <td>1</td>\n",
       "      <td>know listenin habit earlier started freakin part</td>\n",
       "    </tr>\n",
       "    <tr>\n",
       "      <th>1</th>\n",
       "      <td>sadness</td>\n",
       "      <td>wannamama</td>\n",
       "      <td>Layin n bed with a headache  ughhhh...waitin o...</td>\n",
       "      <td>1</td>\n",
       "      <td>layin with headache ughhhh waitin your call</td>\n",
       "    </tr>\n",
       "    <tr>\n",
       "      <th>2</th>\n",
       "      <td>sadness</td>\n",
       "      <td>coolfunky</td>\n",
       "      <td>Funeral ceremony...gloomy friday...</td>\n",
       "      <td>1</td>\n",
       "      <td>funeral ceremony gloomy friday</td>\n",
       "    </tr>\n",
       "    <tr>\n",
       "      <th>3</th>\n",
       "      <td>enthusiasm</td>\n",
       "      <td>czareaquino</td>\n",
       "      <td>wants to hang out with friends SOON!</td>\n",
       "      <td>1</td>\n",
       "      <td>wants hang with friends soon</td>\n",
       "    </tr>\n",
       "    <tr>\n",
       "      <th>4</th>\n",
       "      <td>neutral</td>\n",
       "      <td>xkilljoyx</td>\n",
       "      <td>@dannycastillo We want to trade with someone w...</td>\n",
       "      <td>1</td>\n",
       "      <td>want trade with someone houston tickets will</td>\n",
       "    </tr>\n",
       "  </tbody>\n",
       "</table>\n",
       "</div>"
      ],
      "text/plain": [
       "    sentiment       author                                            content  \\\n",
       "0       empty   xoshayzers  @tiffanylue i know  i was listenin to bad habi...   \n",
       "1     sadness    wannamama  Layin n bed with a headache  ughhhh...waitin o...   \n",
       "2     sadness    coolfunky                Funeral ceremony...gloomy friday...   \n",
       "3  enthusiasm  czareaquino               wants to hang out with friends SOON!   \n",
       "4     neutral    xkilljoyx  @dannycastillo We want to trade with someone w...   \n",
       "\n",
       "   count                                     content_recod  \n",
       "0      1  know listenin habit earlier started freakin part  \n",
       "1      1       layin with headache ughhhh waitin your call  \n",
       "2      1                    funeral ceremony gloomy friday  \n",
       "3      1                      wants hang with friends soon  \n",
       "4      1      want trade with someone houston tickets will  "
      ]
     },
     "execution_count": 20,
     "metadata": {},
     "output_type": "execute_result"
    }
   ],
   "source": [
    "#Se eliminan las palabras con 3 o menos caracteres\n",
    "func.eliminate_litle_words(df,'content_recod')"
   ]
  },
  {
   "cell_type": "code",
   "execution_count": 21,
   "metadata": {
    "colab": {
     "base_uri": "https://localhost:8080/",
     "height": 119
    },
    "colab_type": "code",
    "id": "IKzT5k5J4bIv",
    "outputId": "8deba400-265f-4b5e-95a0-8c0262bda8f9"
   },
   "outputs": [
    {
     "data": {
      "text/plain": [
       "0    know listenin habit earlier started freakin part\n",
       "1         layin with headache ughhhh waitin your call\n",
       "2                      funeral ceremony gloomy friday\n",
       "3                        wants hang with friends soon\n",
       "4        want trade with someone houston tickets will\n",
       "Name: content_recod, dtype: object"
      ]
     },
     "execution_count": 21,
     "metadata": {},
     "output_type": "execute_result"
    }
   ],
   "source": [
    "df['content_recod'].head()"
   ]
  },
  {
   "cell_type": "code",
   "execution_count": 22,
   "metadata": {
    "colab": {
     "base_uri": "https://localhost:8080/",
     "height": 51
    },
    "colab_type": "code",
    "id": "9DgCJVEBVMxf",
    "outputId": "4fd440f2-5463-4029-dd25-b99e305021d8"
   },
   "outputs": [
    {
     "name": "stderr",
     "output_type": "stream",
     "text": [
      "[nltk_data] Downloading package stopwords to\n",
      "[nltk_data]     C:\\Users\\karla\\AppData\\Roaming\\nltk_data...\n",
      "[nltk_data]   Package stopwords is already up-to-date!\n"
     ]
    }
   ],
   "source": [
    "# importamos nltk, descargamos las stop words\n",
    "import nltk\n",
    "nltk.download('stopwords')\n",
    "from nltk.corpus import stopwords"
   ]
  },
  {
   "cell_type": "code",
   "execution_count": 23,
   "metadata": {
    "colab": {},
    "colab_type": "code",
    "id": "eA7d5N2YMtcq"
   },
   "outputs": [
    {
     "data": {
      "text/html": [
       "<div>\n",
       "<style scoped>\n",
       "    .dataframe tbody tr th:only-of-type {\n",
       "        vertical-align: middle;\n",
       "    }\n",
       "\n",
       "    .dataframe tbody tr th {\n",
       "        vertical-align: top;\n",
       "    }\n",
       "\n",
       "    .dataframe thead th {\n",
       "        text-align: right;\n",
       "    }\n",
       "</style>\n",
       "<table border=\"1\" class=\"dataframe\">\n",
       "  <thead>\n",
       "    <tr style=\"text-align: right;\">\n",
       "      <th></th>\n",
       "      <th>sentiment</th>\n",
       "      <th>author</th>\n",
       "      <th>content</th>\n",
       "      <th>count</th>\n",
       "      <th>content_recod</th>\n",
       "    </tr>\n",
       "  </thead>\n",
       "  <tbody>\n",
       "    <tr>\n",
       "      <th>0</th>\n",
       "      <td>empty</td>\n",
       "      <td>xoshayzers</td>\n",
       "      <td>@tiffanylue i know  i was listenin to bad habi...</td>\n",
       "      <td>1</td>\n",
       "      <td>know listenin habit earlier started freakin part</td>\n",
       "    </tr>\n",
       "    <tr>\n",
       "      <th>1</th>\n",
       "      <td>sadness</td>\n",
       "      <td>wannamama</td>\n",
       "      <td>Layin n bed with a headache  ughhhh...waitin o...</td>\n",
       "      <td>1</td>\n",
       "      <td>layin headache ughhhh waitin call</td>\n",
       "    </tr>\n",
       "    <tr>\n",
       "      <th>2</th>\n",
       "      <td>sadness</td>\n",
       "      <td>coolfunky</td>\n",
       "      <td>Funeral ceremony...gloomy friday...</td>\n",
       "      <td>1</td>\n",
       "      <td>funeral ceremony gloomy friday</td>\n",
       "    </tr>\n",
       "    <tr>\n",
       "      <th>3</th>\n",
       "      <td>enthusiasm</td>\n",
       "      <td>czareaquino</td>\n",
       "      <td>wants to hang out with friends SOON!</td>\n",
       "      <td>1</td>\n",
       "      <td>wants hang friends soon</td>\n",
       "    </tr>\n",
       "    <tr>\n",
       "      <th>4</th>\n",
       "      <td>neutral</td>\n",
       "      <td>xkilljoyx</td>\n",
       "      <td>@dannycastillo We want to trade with someone w...</td>\n",
       "      <td>1</td>\n",
       "      <td>want trade someone houston tickets</td>\n",
       "    </tr>\n",
       "  </tbody>\n",
       "</table>\n",
       "</div>"
      ],
      "text/plain": [
       "    sentiment       author                                            content  \\\n",
       "0       empty   xoshayzers  @tiffanylue i know  i was listenin to bad habi...   \n",
       "1     sadness    wannamama  Layin n bed with a headache  ughhhh...waitin o...   \n",
       "2     sadness    coolfunky                Funeral ceremony...gloomy friday...   \n",
       "3  enthusiasm  czareaquino               wants to hang out with friends SOON!   \n",
       "4     neutral    xkilljoyx  @dannycastillo We want to trade with someone w...   \n",
       "\n",
       "   count                                     content_recod  \n",
       "0      1  know listenin habit earlier started freakin part  \n",
       "1      1                 layin headache ughhhh waitin call  \n",
       "2      1                    funeral ceremony gloomy friday  \n",
       "3      1                           wants hang friends soon  \n",
       "4      1                want trade someone houston tickets  "
      ]
     },
     "execution_count": 23,
     "metadata": {},
     "output_type": "execute_result"
    }
   ],
   "source": [
    "#eliminamos las stop words de la variabl/columna content\n",
    "func.eliminate_stop_words(df, 'content_recod')"
   ]
  },
  {
   "cell_type": "code",
   "execution_count": 24,
   "metadata": {
    "colab": {
     "base_uri": "https://localhost:8080/",
     "height": 119
    },
    "colab_type": "code",
    "id": "6Qdm7GAi8zhc",
    "outputId": "8d9a2447-f5fd-4c8f-c70e-fa3a7e3e7fa2"
   },
   "outputs": [
    {
     "data": {
      "text/plain": [
       "0    know listenin habit earlier started freakin part\n",
       "1                   layin headache ughhhh waitin call\n",
       "2                      funeral ceremony gloomy friday\n",
       "3                             wants hang friends soon\n",
       "4                  want trade someone houston tickets\n",
       "Name: content_recod, dtype: object"
      ]
     },
     "execution_count": 24,
     "metadata": {},
     "output_type": "execute_result"
    }
   ],
   "source": [
    "df['content_recod'].head()"
   ]
  },
  {
   "cell_type": "code",
   "execution_count": 25,
   "metadata": {
    "colab": {
     "base_uri": "https://localhost:8080/",
     "height": 119
    },
    "colab_type": "code",
    "id": "Ui6KyOPmVnXG",
    "outputId": "e436425f-8451-416d-832c-0ad5219dfaf9"
   },
   "outputs": [
    {
     "data": {
      "text/html": [
       "<div>\n",
       "<style scoped>\n",
       "    .dataframe tbody tr th:only-of-type {\n",
       "        vertical-align: middle;\n",
       "    }\n",
       "\n",
       "    .dataframe tbody tr th {\n",
       "        vertical-align: top;\n",
       "    }\n",
       "\n",
       "    .dataframe thead th {\n",
       "        text-align: right;\n",
       "    }\n",
       "</style>\n",
       "<table border=\"1\" class=\"dataframe\">\n",
       "  <thead>\n",
       "    <tr style=\"text-align: right;\">\n",
       "      <th></th>\n",
       "      <th>sentiment</th>\n",
       "      <th>author</th>\n",
       "      <th>content</th>\n",
       "      <th>count</th>\n",
       "      <th>content_recod</th>\n",
       "      <th>content_recod2</th>\n",
       "    </tr>\n",
       "  </thead>\n",
       "  <tbody>\n",
       "    <tr>\n",
       "      <th>0</th>\n",
       "      <td>empty</td>\n",
       "      <td>xoshayzers</td>\n",
       "      <td>@tiffanylue i know  i was listenin to bad habi...</td>\n",
       "      <td>1</td>\n",
       "      <td>know listenin habit earlier started freakin part</td>\n",
       "      <td>[know, listenin, habit, earlier, started, frea...</td>\n",
       "    </tr>\n",
       "    <tr>\n",
       "      <th>1</th>\n",
       "      <td>sadness</td>\n",
       "      <td>wannamama</td>\n",
       "      <td>Layin n bed with a headache  ughhhh...waitin o...</td>\n",
       "      <td>1</td>\n",
       "      <td>layin headache ughhhh waitin call</td>\n",
       "      <td>[layin, headache, ughhhh, waitin, call]</td>\n",
       "    </tr>\n",
       "    <tr>\n",
       "      <th>2</th>\n",
       "      <td>sadness</td>\n",
       "      <td>coolfunky</td>\n",
       "      <td>Funeral ceremony...gloomy friday...</td>\n",
       "      <td>1</td>\n",
       "      <td>funeral ceremony gloomy friday</td>\n",
       "      <td>[funeral, ceremony, gloomy, friday]</td>\n",
       "    </tr>\n",
       "    <tr>\n",
       "      <th>3</th>\n",
       "      <td>enthusiasm</td>\n",
       "      <td>czareaquino</td>\n",
       "      <td>wants to hang out with friends SOON!</td>\n",
       "      <td>1</td>\n",
       "      <td>wants hang friends soon</td>\n",
       "      <td>[wants, hang, friends, soon]</td>\n",
       "    </tr>\n",
       "    <tr>\n",
       "      <th>4</th>\n",
       "      <td>neutral</td>\n",
       "      <td>xkilljoyx</td>\n",
       "      <td>@dannycastillo We want to trade with someone w...</td>\n",
       "      <td>1</td>\n",
       "      <td>want trade someone houston tickets</td>\n",
       "      <td>[want, trade, someone, houston, tickets]</td>\n",
       "    </tr>\n",
       "  </tbody>\n",
       "</table>\n",
       "</div>"
      ],
      "text/plain": [
       "    sentiment       author                                            content  \\\n",
       "0       empty   xoshayzers  @tiffanylue i know  i was listenin to bad habi...   \n",
       "1     sadness    wannamama  Layin n bed with a headache  ughhhh...waitin o...   \n",
       "2     sadness    coolfunky                Funeral ceremony...gloomy friday...   \n",
       "3  enthusiasm  czareaquino               wants to hang out with friends SOON!   \n",
       "4     neutral    xkilljoyx  @dannycastillo We want to trade with someone w...   \n",
       "\n",
       "   count                                     content_recod  \\\n",
       "0      1  know listenin habit earlier started freakin part   \n",
       "1      1                 layin headache ughhhh waitin call   \n",
       "2      1                    funeral ceremony gloomy friday   \n",
       "3      1                           wants hang friends soon   \n",
       "4      1                want trade someone houston tickets   \n",
       "\n",
       "                                      content_recod2  \n",
       "0  [know, listenin, habit, earlier, started, frea...  \n",
       "1            [layin, headache, ughhhh, waitin, call]  \n",
       "2                [funeral, ceremony, gloomy, friday]  \n",
       "3                       [wants, hang, friends, soon]  \n",
       "4           [want, trade, someone, houston, tickets]  "
      ]
     },
     "execution_count": 25,
     "metadata": {},
     "output_type": "execute_result"
    }
   ],
   "source": [
    "# Ahora hacemos un token con todos los tweets limpios de nuestro df.\n",
    "func.tokenize(df,'content_recod')"
   ]
  },
  {
   "cell_type": "code",
   "execution_count": 26,
   "metadata": {
    "colab": {
     "base_uri": "https://localhost:8080/",
     "height": 119
    },
    "colab_type": "code",
    "id": "4i_unItM6Axm",
    "outputId": "234db9a8-2bfc-4b00-c4c7-d78e6ce7b699"
   },
   "outputs": [
    {
     "data": {
      "text/html": [
       "<div>\n",
       "<style scoped>\n",
       "    .dataframe tbody tr th:only-of-type {\n",
       "        vertical-align: middle;\n",
       "    }\n",
       "\n",
       "    .dataframe tbody tr th {\n",
       "        vertical-align: top;\n",
       "    }\n",
       "\n",
       "    .dataframe thead th {\n",
       "        text-align: right;\n",
       "    }\n",
       "</style>\n",
       "<table border=\"1\" class=\"dataframe\">\n",
       "  <thead>\n",
       "    <tr style=\"text-align: right;\">\n",
       "      <th></th>\n",
       "      <th>sentiment</th>\n",
       "      <th>author</th>\n",
       "      <th>content</th>\n",
       "      <th>count</th>\n",
       "      <th>content_recod</th>\n",
       "      <th>content_recod2</th>\n",
       "    </tr>\n",
       "  </thead>\n",
       "  <tbody>\n",
       "    <tr>\n",
       "      <th>0</th>\n",
       "      <td>empty</td>\n",
       "      <td>xoshayzers</td>\n",
       "      <td>@tiffanylue i know  i was listenin to bad habi...</td>\n",
       "      <td>1</td>\n",
       "      <td>know listenin habit earlier started freakin part</td>\n",
       "      <td>[know, listenin, habit, earlier, start, freaki...</td>\n",
       "    </tr>\n",
       "    <tr>\n",
       "      <th>1</th>\n",
       "      <td>sadness</td>\n",
       "      <td>wannamama</td>\n",
       "      <td>Layin n bed with a headache  ughhhh...waitin o...</td>\n",
       "      <td>1</td>\n",
       "      <td>layin headache ughhhh waitin call</td>\n",
       "      <td>[layin, headach, ughhhh, waitin, call]</td>\n",
       "    </tr>\n",
       "    <tr>\n",
       "      <th>2</th>\n",
       "      <td>sadness</td>\n",
       "      <td>coolfunky</td>\n",
       "      <td>Funeral ceremony...gloomy friday...</td>\n",
       "      <td>1</td>\n",
       "      <td>funeral ceremony gloomy friday</td>\n",
       "      <td>[funer, ceremoni, gloomi, friday]</td>\n",
       "    </tr>\n",
       "    <tr>\n",
       "      <th>3</th>\n",
       "      <td>enthusiasm</td>\n",
       "      <td>czareaquino</td>\n",
       "      <td>wants to hang out with friends SOON!</td>\n",
       "      <td>1</td>\n",
       "      <td>wants hang friends soon</td>\n",
       "      <td>[want, hang, friend, soon]</td>\n",
       "    </tr>\n",
       "    <tr>\n",
       "      <th>4</th>\n",
       "      <td>neutral</td>\n",
       "      <td>xkilljoyx</td>\n",
       "      <td>@dannycastillo We want to trade with someone w...</td>\n",
       "      <td>1</td>\n",
       "      <td>want trade someone houston tickets</td>\n",
       "      <td>[want, trade, someon, houston, ticket]</td>\n",
       "    </tr>\n",
       "  </tbody>\n",
       "</table>\n",
       "</div>"
      ],
      "text/plain": [
       "    sentiment       author                                            content  \\\n",
       "0       empty   xoshayzers  @tiffanylue i know  i was listenin to bad habi...   \n",
       "1     sadness    wannamama  Layin n bed with a headache  ughhhh...waitin o...   \n",
       "2     sadness    coolfunky                Funeral ceremony...gloomy friday...   \n",
       "3  enthusiasm  czareaquino               wants to hang out with friends SOON!   \n",
       "4     neutral    xkilljoyx  @dannycastillo We want to trade with someone w...   \n",
       "\n",
       "   count                                     content_recod  \\\n",
       "0      1  know listenin habit earlier started freakin part   \n",
       "1      1                 layin headache ughhhh waitin call   \n",
       "2      1                    funeral ceremony gloomy friday   \n",
       "3      1                           wants hang friends soon   \n",
       "4      1                want trade someone houston tickets   \n",
       "\n",
       "                                      content_recod2  \n",
       "0  [know, listenin, habit, earlier, start, freaki...  \n",
       "1             [layin, headach, ughhhh, waitin, call]  \n",
       "2                  [funer, ceremoni, gloomi, friday]  \n",
       "3                         [want, hang, friend, soon]  \n",
       "4             [want, trade, someon, houston, ticket]  "
      ]
     },
     "execution_count": 26,
     "metadata": {},
     "output_type": "execute_result"
    }
   ],
   "source": [
    "#Se importa el paquete para hacer el proceso de stemming\n",
    "from nltk.stem.porter import *\n",
    "stemmer = PorterStemmer()\n",
    "\n",
    "func.stemming (df,'content_recod2')"
   ]
  },
  {
   "cell_type": "markdown",
   "metadata": {
    "colab_type": "text",
    "id": "NSQL0iG9v6Df"
   },
   "source": [
    "- Posterior a la refinación y preprocesamiento de las palabras, podemos representar cada\n",
    "oración en una matriz (o corpus) que permitirá reflejar la cantidad de ocurrencias de\n",
    "palabra en un registro. Para ello, pueden hacer uso de las librerías de preprocesamiento\n",
    "sklearn.feature_extraction.text.CountVectorizer o\n",
    "sklearn.feature_extraction.text.TfidfVectorizer . De esta manera, tendremos un\n",
    "conjunto de características es mediante la frecuencia de ocurrencia de una palabra o término\n",
    "en el texto."
   ]
  },
  {
   "cell_type": "code",
   "execution_count": 27,
   "metadata": {
    "colab": {},
    "colab_type": "code",
    "id": "x1tHyQ9rDGqh"
   },
   "outputs": [],
   "source": [
    "import collections\n",
    "import itertools"
   ]
  },
  {
   "cell_type": "code",
   "execution_count": 28,
   "metadata": {
    "colab": {},
    "colab_type": "code",
    "id": "g6LIkdSSDLTY"
   },
   "outputs": [],
   "source": [
    "all_words = list(itertools.chain(*df['content_recod2']))"
   ]
  },
  {
   "cell_type": "code",
   "execution_count": 29,
   "metadata": {
    "colab": {},
    "colab_type": "code",
    "id": "Gu4xZK7rDNXi"
   },
   "outputs": [],
   "source": [
    "counts_all_words = collections.Counter(all_words)"
   ]
  },
  {
   "cell_type": "code",
   "execution_count": 30,
   "metadata": {
    "colab": {
     "base_uri": "https://localhost:8080/",
     "height": 1000
    },
    "colab_type": "code",
    "id": "xYbeeXK8DWUF",
    "outputId": "dc8e9a3f-3476-4e86-f926-967e9785f01f"
   },
   "outputs": [
    {
     "data": {
      "text/plain": [
       "[('good', 2334),\n",
       " ('work', 2208),\n",
       " ('love', 2128),\n",
       " ('like', 2085),\n",
       " ('quot', 1893),\n",
       " ('http', 1840),\n",
       " ('today', 1676),\n",
       " ('time', 1585),\n",
       " ('go', 1575),\n",
       " ('happi', 1506),\n",
       " ('thank', 1494),\n",
       " ('know', 1411),\n",
       " ('want', 1387),\n",
       " ('miss', 1385),\n",
       " ('back', 1359),\n",
       " ('think', 1294),\n",
       " ('realli', 1280),\n",
       " ('feel', 1273),\n",
       " ('mother', 1223),\n",
       " ('night', 1165),\n",
       " ('hope', 1117),\n",
       " ('make', 1096),\n",
       " ('home', 1083),\n",
       " ('look', 1046),\n",
       " ('well', 1036),\n",
       " ('need', 1019),\n",
       " ('still', 982),\n",
       " ('much', 955),\n",
       " ('watch', 949),\n",
       " ('last', 892),\n",
       " ('come', 892),\n",
       " ('wish', 889),\n",
       " ('twitter', 882),\n",
       " ('great', 881),\n",
       " ('morn', 878),\n",
       " ('haha', 808),\n",
       " ('week', 739),\n",
       " ('would', 726),\n",
       " ('tomorrow', 725),\n",
       " ('wait', 721),\n",
       " ('get', 708),\n",
       " ('tonight', 704),\n",
       " ('thing', 698),\n",
       " ('sorri', 697),\n",
       " ('sleep', 692),\n",
       " ('follow', 689),\n",
       " ('friend', 674),\n",
       " ('right', 664),\n",
       " ('nice', 640),\n",
       " ('though', 622),\n",
       " ('better', 613),\n",
       " ('yeah', 604),\n",
       " ('gonna', 604),\n",
       " ('take', 593),\n",
       " ('weekend', 592),\n",
       " ('could', 585),\n",
       " ('even', 572),\n",
       " ('hate', 549),\n",
       " ('show', 548),\n",
       " ('peopl', 544),\n",
       " ('hour', 538),\n",
       " ('twitpic', 527),\n",
       " ('next', 514),\n",
       " ('start', 513),\n",
       " ('school', 508),\n",
       " ('awesom', 499),\n",
       " ('tweet', 498),\n",
       " ('play', 490),\n",
       " ('day', 483),\n",
       " ('dont', 482),\n",
       " ('tri', 464),\n",
       " ('call', 456),\n",
       " ('movi', 456),\n",
       " ('best', 449),\n",
       " ('never', 448),\n",
       " ('suck', 441),\n",
       " ('littl', 441),\n",
       " ('long', 437),\n",
       " ('soon', 432),\n",
       " ('final', 432),\n",
       " ('year', 430),\n",
       " ('live', 427),\n",
       " ('girl', 420),\n",
       " ('pleas', 411),\n",
       " ('head', 403),\n",
       " ('sure', 399),\n",
       " ('tire', 398),\n",
       " ('done', 394),\n",
       " ('cant', 392),\n",
       " ('find', 392),\n",
       " ('life', 389),\n",
       " ('everyon', 388),\n",
       " ('rain', 383),\n",
       " ('sick', 382),\n",
       " ('alway', 378),\n",
       " ('first', 373),\n",
       " ('phone', 371),\n",
       " ('bore', 370),\n",
       " ('wanna', 366),\n",
       " ('keep', 364),\n",
       " ('cool', 364),\n",
       " ('guy', 359),\n",
       " ('talk', 358),\n",
       " ('alreadi', 357),\n",
       " ('anoth', 354),\n",
       " ('someth', 352),\n",
       " ('made', 352),\n",
       " ('thought', 348),\n",
       " ('hurt', 346),\n",
       " ('enjoy', 344),\n",
       " ('friday', 334),\n",
       " ('ever', 333),\n",
       " ('help', 333),\n",
       " ('song', 330),\n",
       " ('hous', 330),\n",
       " ('leav', 323),\n",
       " ('readi', 322),\n",
       " ('guess', 317),\n",
       " ('mayb', 316),\n",
       " ('read', 315),\n",
       " ('pretti', 315),\n",
       " ('monday', 313),\n",
       " ('mean', 312),\n",
       " ('damn', 308),\n",
       " ('tell', 306),\n",
       " ('amaz', 300),\n",
       " ('went', 300),\n",
       " ('left', 299),\n",
       " ('listen', 299),\n",
       " ('away', 298),\n",
       " ('noth', 295),\n",
       " ('someon', 292),\n",
       " ('finish', 292),\n",
       " ('star', 286),\n",
       " ('hear', 284),\n",
       " ('sound', 282),\n",
       " ('give', 281),\n",
       " ('babi', 279),\n",
       " ('also', 278),\n",
       " ('excit', 278),\n",
       " ('happen', 278),\n",
       " ('check', 277),\n",
       " ('actual', 277),\n",
       " ('later', 269),\n",
       " ('said', 267),\n",
       " ('hard', 262),\n",
       " ('glad', 262),\n",
       " ('stop', 259),\n",
       " ('late', 258),\n",
       " ('parti', 257),\n",
       " ('move', 253),\n",
       " ('lost', 251),\n",
       " ('wonder', 251),\n",
       " ('earli', 251),\n",
       " ('world', 248),\n",
       " ('use', 246),\n",
       " ('meet', 246),\n",
       " ('game', 245),\n",
       " ('weather', 245),\n",
       " ('tinyurl', 245),\n",
       " ('fuck', 244),\n",
       " ('say', 242),\n",
       " ('birthday', 242),\n",
       " ('stuff', 241),\n",
       " ('around', 237),\n",
       " ('might', 237),\n",
       " ('post', 234),\n",
       " ('gone', 232),\n",
       " ('music', 232),\n",
       " ('gotta', 230),\n",
       " ('stay', 230),\n",
       " ('must', 229),\n",
       " ('poor', 227),\n",
       " ('yesterday', 227),\n",
       " ('sinc', 225),\n",
       " ('that', 223),\n",
       " ('book', 222),\n",
       " ('hair', 221),\n",
       " ('famili', 221),\n",
       " ('total', 219),\n",
       " ('plan', 219),\n",
       " ('sunday', 218),\n",
       " ('anyth', 217),\n",
       " ('seem', 217),\n",
       " ('place', 214),\n",
       " ('summer', 214),\n",
       " ('found', 213),\n",
       " ('month', 212),\n",
       " ('till', 212),\n",
       " ('caus', 211),\n",
       " ('almost', 209),\n",
       " ('shop', 209),\n",
       " ('welcom', 209),\n",
       " ('drink', 207),\n",
       " ('chang', 207),\n",
       " ('drive', 207),\n",
       " ('least', 206),\n",
       " ('cute', 206),\n",
       " ('busi', 206),\n",
       " ('everyth', 205),\n",
       " ('anyon', 204),\n",
       " ('lunch', 204),\n",
       " ('mine', 202),\n",
       " ('kid', 201),\n",
       " ('without', 201),\n",
       " ('beauti', 201),\n",
       " ('dinner', 197),\n",
       " ('pictur', 197),\n",
       " ('funni', 196),\n",
       " ('video', 195),\n",
       " ('write', 195),\n",
       " ('free', 195),\n",
       " ('money', 194),\n",
       " ('believ', 192),\n",
       " ('food', 191),\n",
       " ('close', 191),\n",
       " ('turn', 190),\n",
       " ('stupid', 188),\n",
       " ('mani', 188),\n",
       " ('cold', 187),\n",
       " ('forward', 187),\n",
       " ('probabl', 184),\n",
       " ('clean', 183),\n",
       " ('sweet', 183),\n",
       " ('luck', 183),\n",
       " ('everi', 181),\n",
       " ('okay', 180),\n",
       " ('class', 180),\n",
       " ('send', 178),\n",
       " ('exam', 178),\n",
       " ('coffe', 178),\n",
       " ('name', 176),\n",
       " ('headach', 175),\n",
       " ('shit', 175),\n",
       " ('minut', 175),\n",
       " ('updat', 174),\n",
       " ('break', 171),\n",
       " ('fail', 169),\n",
       " ('offic', 169),\n",
       " ('dream', 168),\n",
       " ('eat', 168),\n",
       " ('outsid', 168),\n",
       " ('real', 167),\n",
       " ('didnt', 167),\n",
       " ('hahaha', 166),\n",
       " ('enough', 165),\n",
       " ('room', 162),\n",
       " ('quit', 161),\n",
       " ('photo', 161),\n",
       " ('plurk', 160),\n",
       " ('stuck', 159),\n",
       " ('awww', 159),\n",
       " ('whole', 157),\n",
       " ('took', 157),\n",
       " ('rock', 157),\n",
       " ('kinda', 157),\n",
       " ('sooo', 156),\n",
       " ('holiday', 156),\n",
       " ('seen', 156),\n",
       " ('rememb', 155),\n",
       " ('idea', 154),\n",
       " ('came', 152),\n",
       " ('woke', 151),\n",
       " ('kill', 151),\n",
       " ('wrong', 150),\n",
       " ('mommi', 150),\n",
       " ('anymor', 149),\n",
       " ('person', 149),\n",
       " ('mom', 149),\n",
       " ('els', 148),\n",
       " ('forgot', 147),\n",
       " ('full', 147),\n",
       " ('problem', 146),\n",
       " ('walk', 146),\n",
       " ('comput', 145),\n",
       " ('goodnight', 145),\n",
       " ('wake', 145),\n",
       " ('sit', 145),\n",
       " ('super', 143),\n",
       " ('repli', 142),\n",
       " ('hang', 140),\n",
       " ('die', 140),\n",
       " ('anyway', 140),\n",
       " ('abl', 139),\n",
       " ('pain', 139),\n",
       " ('blog', 139),\n",
       " ('youtub', 139),\n",
       " ('alon', 137),\n",
       " ('dude', 136),\n",
       " ('internet', 136),\n",
       " ('half', 136),\n",
       " ('iphon', 136),\n",
       " ('trip', 135),\n",
       " ('word', 135),\n",
       " ('spend', 135),\n",
       " ('trek', 135),\n",
       " ('face', 134),\n",
       " ('link', 134),\n",
       " ('facebook', 134),\n",
       " ('studi', 134),\n",
       " ('lot', 134),\n",
       " ('part', 133),\n",
       " ('brother', 133),\n",
       " ('vote', 133),\n",
       " ('hell', 133),\n",
       " ('see', 132),\n",
       " ('site', 132),\n",
       " ('onlin', 131),\n",
       " ('learn', 131),\n",
       " ('ticket', 130),\n",
       " ('kind', 130),\n",
       " ('sometim', 130),\n",
       " ('text', 130),\n",
       " ('card', 130),\n",
       " ('rest', 130),\n",
       " ('told', 129),\n",
       " ('nite', 129),\n",
       " ('suppos', 129),\n",
       " ('care', 129),\n",
       " ('saturday', 129),\n",
       " ('worri', 128),\n",
       " ('news', 127),\n",
       " ('crazi', 127),\n",
       " ('hello', 127),\n",
       " ('war', 127),\n",
       " ('email', 126),\n",
       " ('bank', 126),\n",
       " ('test', 125),\n",
       " ('hehe', 125),\n",
       " ('wont', 123),\n",
       " ('catch', 123),\n",
       " ('interest', 123),\n",
       " ('open', 122),\n",
       " ('mind', 122),\n",
       " ('either', 121),\n",
       " ('cri', 121),\n",
       " ('messag', 121),\n",
       " ('heart', 119),\n",
       " ('shower', 119),\n",
       " ('blip', 119),\n",
       " ('wear', 118),\n",
       " ('awak', 117),\n",
       " ('heard', 117),\n",
       " ('broke', 117),\n",
       " ('lucki', 117),\n",
       " ('breakfast', 117),\n",
       " ('concert', 116),\n",
       " ('true', 115),\n",
       " ('instead', 115),\n",
       " ('run', 115),\n",
       " ('high', 114),\n",
       " ('danc', 114),\n",
       " ('lmao', 114),\n",
       " ('ladi', 113),\n",
       " ('beach', 113),\n",
       " ('bring', 111),\n",
       " ('list', 111),\n",
       " ('perfect', 111),\n",
       " ('fall', 110),\n",
       " ('complet', 109),\n",
       " ('pick', 107),\n",
       " ('save', 107),\n",
       " ('moment', 107),\n",
       " ('fine', 107),\n",
       " ('pass', 106),\n",
       " ('hand', 106),\n",
       " ('sign', 106),\n",
       " ('dead', 105),\n",
       " ('favorit', 105),\n",
       " ('second', 105),\n",
       " ('bought', 105),\n",
       " ('figur', 105),\n",
       " ('park', 105),\n",
       " ('soooo', 104),\n",
       " ('hungri', 104),\n",
       " ('definit', 103),\n",
       " ('goe', 103),\n",
       " ('date', 103),\n",
       " ('reason', 102),\n",
       " ('relax', 102),\n",
       " ('bout', 101),\n",
       " ('sing', 101),\n",
       " ('one', 101),\n",
       " ('page', 101),\n",
       " ('episod', 101),\n",
       " ('june', 101),\n",
       " ('sigh', 100),\n",
       " ('sister', 100),\n",
       " ('pack', 99),\n",
       " ('chocol', 99),\n",
       " ('account', 99),\n",
       " ('ride', 99),\n",
       " ('short', 98),\n",
       " ('ipod', 98),\n",
       " ('citi', 98),\n",
       " ('serious', 98),\n",
       " ('tour', 98),\n",
       " ('agre', 97),\n",
       " ('crap', 97),\n",
       " ('join', 97),\n",
       " ('sunni', 97),\n",
       " ('differ', 97),\n",
       " ('coupl', 96),\n",
       " ('train', 96),\n",
       " ('share', 95),\n",
       " ('point', 95),\n",
       " ('pic', 95),\n",
       " ('visit', 95),\n",
       " ('laugh', 95),\n",
       " ('bless', 95),\n",
       " ('asleep', 94),\n",
       " ('window', 94),\n",
       " ('usual', 94),\n",
       " ('season', 94),\n",
       " ('eye', 94),\n",
       " ('forget', 94),\n",
       " ('smile', 94),\n",
       " ('graduat', 93),\n",
       " ('download', 93),\n",
       " ('cours', 93),\n",
       " ('laptop', 93),\n",
       " ('sore', 92),\n",
       " ('upload', 92),\n",
       " ('load', 92),\n",
       " ('less', 91),\n",
       " ('jealou', 91),\n",
       " ('finger', 91),\n",
       " ('water', 90),\n",
       " ('fast', 90),\n",
       " ('hug', 90),\n",
       " ('special', 90),\n",
       " ('revis', 90),\n",
       " ('realiz', 89),\n",
       " ('goin', 89),\n",
       " ('cake', 88),\n",
       " ('gave', 87),\n",
       " ('town', 87),\n",
       " ('film', 87),\n",
       " ('warm', 87),\n",
       " ('stori', 86),\n",
       " ('togeth', 86),\n",
       " ('garden', 86),\n",
       " ('cream', 86),\n",
       " ('afternoon', 85),\n",
       " ('answer', 85),\n",
       " ('dear', 85),\n",
       " ('chat', 84),\n",
       " ('block', 84),\n",
       " ('present', 84),\n",
       " ('mama', 84),\n",
       " ('black', 83),\n",
       " ('sadli', 83),\n",
       " ('store', 83),\n",
       " ('googl', 83),\n",
       " ('boy', 83),\n",
       " ('cook', 82),\n",
       " ('past', 82),\n",
       " ('fair', 82),\n",
       " ('pizza', 81),\n",
       " ('horribl', 81),\n",
       " ('broken', 80),\n",
       " ('unfortun', 80),\n",
       " ('order', 80),\n",
       " ('beer', 80),\n",
       " ('comment', 80),\n",
       " ('mood', 80),\n",
       " ('chanc', 80),\n",
       " ('knew', 79),\n",
       " ('dress', 79),\n",
       " ('side', 79),\n",
       " ('cancel', 79),\n",
       " ('club', 79),\n",
       " ('worth', 79),\n",
       " ('upset', 79),\n",
       " ('slow', 78),\n",
       " ('offici', 78),\n",
       " ('myspac', 78),\n",
       " ('babe', 78),\n",
       " ('fell', 77),\n",
       " ('weird', 77),\n",
       " ('decid', 77),\n",
       " ('line', 77),\n",
       " ('doesnt', 77),\n",
       " ('spent', 76),\n",
       " ('jona', 76),\n",
       " ('nope', 76),\n",
       " ('sunshin', 75),\n",
       " ('except', 75),\n",
       " ('three', 75),\n",
       " ('cheer', 75),\n",
       " ('band', 75),\n",
       " ('gift', 75),\n",
       " ('wed', 75),\n",
       " ('london', 74),\n",
       " ('bday', 74),\n",
       " ('lose', 74),\n",
       " ('scare', 74),\n",
       " ('sent', 74),\n",
       " ('kick', 74),\n",
       " ('project', 74),\n",
       " ('end', 74),\n",
       " ('parent', 73),\n",
       " ('insid', 73),\n",
       " ('congrat', 73),\n",
       " ('annoy', 72),\n",
       " ('album', 72),\n",
       " ('especi', 72),\n",
       " ('number', 72),\n",
       " ('rather', 72),\n",
       " ('huge', 71),\n",
       " ('appreci', 71),\n",
       " ('ask', 71),\n",
       " ('stress', 71),\n",
       " ('celebr', 70),\n",
       " ('depress', 70),\n",
       " ('daughter', 70),\n",
       " ('disappoint', 70),\n",
       " ('profil', 70),\n",
       " ('wors', 70),\n",
       " ('white', 70),\n",
       " ('shot', 69),\n",
       " ('wash', 69),\n",
       " ('appar', 69),\n",
       " ('view', 69),\n",
       " ('drop', 68),\n",
       " ('fan', 68),\n",
       " ('remind', 68),\n",
       " ('english', 68),\n",
       " ('shame', 68),\n",
       " ('meant', 68),\n",
       " ('green', 68),\n",
       " ('question', 68),\n",
       " ('arriv', 68),\n",
       " ('havent', 67),\n",
       " ('mess', 67),\n",
       " ('plu', 67),\n",
       " ('notic', 67),\n",
       " ('shoe', 67),\n",
       " ('bike', 67),\n",
       " ('shirt', 67),\n",
       " ('camera', 67),\n",
       " ('what', 67),\n",
       " ('ahhh', 67),\n",
       " ('fight', 67),\n",
       " ('support', 66),\n",
       " ('throat', 66),\n",
       " ('absolut', 66),\n",
       " ('invit', 66),\n",
       " ('understand', 66),\n",
       " ('everybodi', 66),\n",
       " ('apart', 65),\n",
       " ('mile', 65),\n",
       " ('appl', 65),\n",
       " ('earlier', 64),\n",
       " ('beat', 64),\n",
       " ('deal', 64),\n",
       " ('slept', 64),\n",
       " ('lame', 64),\n",
       " ('possibl', 64),\n",
       " ('chill', 64),\n",
       " ('worst', 64),\n",
       " ('guitar', 64),\n",
       " ('let', 64),\n",
       " ('easi', 64),\n",
       " ('cousin', 64),\n",
       " ('traffic', 64),\n",
       " ('yummi', 64),\n",
       " ('whatev', 64),\n",
       " ('prom', 63),\n",
       " ('paper', 63),\n",
       " ('dang', 63),\n",
       " ('near', 63),\n",
       " ('surpris', 63),\n",
       " ('lesson', 63),\n",
       " ('ball', 62),\n",
       " ('drunk', 62),\n",
       " ('light', 62),\n",
       " ('touch', 62),\n",
       " ('compani', 62),\n",
       " ('record', 62),\n",
       " ('blue', 62),\n",
       " ('cross', 61),\n",
       " ('power', 61),\n",
       " ('safe', 61),\n",
       " ('version', 61),\n",
       " ('vega', 61),\n",
       " ('travel', 61),\n",
       " ('pull', 61),\n",
       " ('hubbi', 61),\n",
       " ('cloth', 61),\n",
       " ('design', 61),\n",
       " ('radio', 60),\n",
       " ('note', 60),\n",
       " ('burn', 60),\n",
       " ('pray', 60),\n",
       " ('felt', 60),\n",
       " ('longer', 60),\n",
       " ('mention', 60),\n",
       " ('becom', 60),\n",
       " ('along', 60),\n",
       " ('homework', 59),\n",
       " ('lazi', 59),\n",
       " ('chees', 59),\n",
       " ('expect', 59),\n",
       " ('pool', 59),\n",
       " ('freak', 58),\n",
       " ('wife', 58),\n",
       " ('math', 58),\n",
       " ('bodi', 58),\n",
       " ('stomach', 58),\n",
       " ('count', 58),\n",
       " ('doctor', 58),\n",
       " ('behind', 58),\n",
       " ('chicken', 58),\n",
       " ('hold', 58),\n",
       " ('fantast', 58),\n",
       " ('feet', 58),\n",
       " ('cannot', 57),\n",
       " ('cover', 57),\n",
       " ('gut', 57),\n",
       " ('mail', 57),\n",
       " ('lone', 57),\n",
       " ('fact', 57),\n",
       " ('although', 57),\n",
       " ('hmmm', 56),\n",
       " ('matter', 56),\n",
       " ('piss', 56),\n",
       " ('crash', 56),\n",
       " ('min', 56),\n",
       " ('small', 56),\n",
       " ('talent', 56),\n",
       " ('track', 56),\n",
       " ('road', 56),\n",
       " ('david', 56),\n",
       " ('sleepi', 55),\n",
       " ('singl', 55),\n",
       " ('boyfriend', 55),\n",
       " ('church', 55),\n",
       " ('sexi', 55),\n",
       " ('flight', 55),\n",
       " ('manag', 55),\n",
       " ('forev', 55),\n",
       " ('justin', 55),\n",
       " ('wine', 54),\n",
       " ('aint', 54),\n",
       " ('wast', 54),\n",
       " ('event', 54),\n",
       " ('screen', 54),\n",
       " ('tuesday', 54),\n",
       " ('team', 54),\n",
       " ('edit', 54),\n",
       " ('shoot', 54),\n",
       " ('middl', 53),\n",
       " ('thursday', 53),\n",
       " ('mobil', 53),\n",
       " ('websit', 53),\n",
       " ('case', 53),\n",
       " ('quick', 53),\n",
       " ('ouch', 53),\n",
       " ('bitch', 53),\n",
       " ('normal', 53),\n",
       " ('return', 53),\n",
       " ('sold', 53),\n",
       " ('colleg', 53),\n",
       " ('current', 53),\n",
       " ('code', 52),\n",
       " ('peac', 52),\n",
       " ('none', 52),\n",
       " ('taken', 52),\n",
       " ('chines', 52),\n",
       " ('state', 52),\n",
       " ('mate', 52),\n",
       " ('tummi', 52),\n",
       " ('stand', 52),\n",
       " ('proud', 52),\n",
       " ('front', 52),\n",
       " ('twit', 52),\n",
       " ('shift', 51),\n",
       " ('paint', 51),\n",
       " ('heat', 51),\n",
       " ('airport', 51),\n",
       " ('confus', 51),\n",
       " ('chillin', 51),\n",
       " ('product', 51),\n",
       " ('leg', 51),\n",
       " ('alright', 51),\n",
       " ('kiss', 51),\n",
       " ('hospit', 51),\n",
       " ('hahah', 51),\n",
       " ('exactli', 51),\n",
       " ('raini', 51),\n",
       " ('issu', 50),\n",
       " ('speak', 50),\n",
       " ('practic', 50),\n",
       " ('goodby', 50),\n",
       " ('experi', 50),\n",
       " ('voic', 50),\n",
       " ('sort', 50),\n",
       " ('round', 50),\n",
       " ('group', 50),\n",
       " ('copi', 50),\n",
       " ('fix', 49),\n",
       " ('sale', 49),\n",
       " ('anim', 49),\n",
       " ('bill', 49),\n",
       " ('moon', 49),\n",
       " ('servic', 49),\n",
       " ('prob', 48),\n",
       " ('expens', 48),\n",
       " ('cooki', 48),\n",
       " ('doubl', 48),\n",
       " ('juli', 48),\n",
       " ('exhaust', 48),\n",
       " ('joke', 48),\n",
       " ('bird', 48),\n",
       " ('dark', 48),\n",
       " ('connect', 48),\n",
       " ('shall', 48),\n",
       " ('review', 48),\n",
       " ('roll', 48),\n",
       " ('momma', 48),\n",
       " ('ad', 48),\n",
       " ('impress', 47),\n",
       " ('wednesday', 47),\n",
       " ('puppi', 47),\n",
       " ('somewher', 47),\n",
       " ('addict', 47),\n",
       " ('bum', 47),\n",
       " ('dunno', 47),\n",
       " ('quiet', 47),\n",
       " ('other', 47),\n",
       " ('tast', 47),\n",
       " ('alot', 47),\n",
       " ('swine', 47),\n",
       " ('swim', 47),\n",
       " ('john', 47),\n",
       " ('ach', 47),\n",
       " ('machin', 47),\n",
       " ('sell', 47),\n",
       " ('flower', 47),\n",
       " ('type', 46),\n",
       " ('perform', 46),\n",
       " ('door', 46),\n",
       " ('race', 46),\n",
       " ('young', 46),\n",
       " ('feelin', 46),\n",
       " ('gettin', 46),\n",
       " ('tear', 46),\n",
       " ('extra', 46),\n",
       " ('memori', 46),\n",
       " ('followfriday', 46),\n",
       " ('hannah', 46),\n",
       " ('french', 45),\n",
       " ('self', 45),\n",
       " ('terribl', 45),\n",
       " ('smell', 45),\n",
       " ('caught', 45),\n",
       " ('peep', 45),\n",
       " ('aw', 45),\n",
       " ('promis', 45),\n",
       " ('interview', 45),\n",
       " ('shut', 45),\n",
       " ('imagin', 45),\n",
       " ('inde', 45),\n",
       " ('wolverin', 45),\n",
       " ('milk', 44),\n",
       " ('paid', 44),\n",
       " ('jack', 44),\n",
       " ('jump', 44),\n",
       " ('bummer', 44),\n",
       " ('app', 44),\n",
       " ('fever', 44),\n",
       " ('random', 44),\n",
       " ('fill', 44),\n",
       " ('isnt', 44),\n",
       " ('gorgeou', 44),\n",
       " ('receiv', 44),\n",
       " ('miley', 44),\n",
       " ('holli', 44),\n",
       " ('street', 43),\n",
       " ('vacat', 43),\n",
       " ('piec', 43),\n",
       " ('teach', 43),\n",
       " ('drag', 43),\n",
       " ('includ', 43),\n",
       " ('bottl', 43),\n",
       " ('public', 43),\n",
       " ('nobodi', 43),\n",
       " ('mark', 43),\n",
       " ('hero', 43),\n",
       " ('burnt', 43),\n",
       " ('suggest', 42),\n",
       " ('mum', 42),\n",
       " ('yall', 42),\n",
       " ('recommend', 42),\n",
       " ('success', 42),\n",
       " ('releas', 42),\n",
       " ('pay', 42),\n",
       " ('she', 42),\n",
       " ('troubl', 42),\n",
       " ('entir', 42),\n",
       " ('shine', 42),\n",
       " ('offer', 42),\n",
       " ('futur', 42),\n",
       " ('direct', 42),\n",
       " ('hilari', 42),\n",
       " ('congratul', 42),\n",
       " ('freakin', 41),\n",
       " ('screw', 41),\n",
       " ('scari', 41),\n",
       " ('access', 41),\n",
       " ('begin', 41),\n",
       " ('convers', 41),\n",
       " ('gosh', 41),\n",
       " ('taylor', 41),\n",
       " ('chicago', 41),\n",
       " ('itun', 41),\n",
       " ('starbuck', 41),\n",
       " ('histori', 41),\n",
       " ('session', 41),\n",
       " ('marri', 40),\n",
       " ('blackberri', 40),\n",
       " ('cat', 40),\n",
       " ('ador', 40),\n",
       " ('teacher', 40),\n",
       " ('darn', 40),\n",
       " ('glass', 40),\n",
       " ('brain', 40),\n",
       " ('allow', 40),\n",
       " ('ignor', 40),\n",
       " ('tonit', 40),\n",
       " ('search', 40),\n",
       " ('pink', 40),\n",
       " ('seriou', 40),\n",
       " ('space', 40),\n",
       " ('xoxo', 40),\n",
       " ('land', 40),\n",
       " ('step', 40),\n",
       " ('recov', 40),\n",
       " ('inspir', 40),\n",
       " ('instal', 40),\n",
       " ('twilight', 40),\n",
       " ('hill', 39),\n",
       " ('topic', 39),\n",
       " ('fresh', 39),\n",
       " ('women', 39),\n",
       " ('dog', 39),\n",
       " ('contact', 39),\n",
       " ('info', 39),\n",
       " ('nick', 39),\n",
       " ('throw', 39),\n",
       " ('spell', 39),\n",
       " ('afraid', 39),\n",
       " ('ruin', 39),\n",
       " ('ring', 39),\n",
       " ('price', 39),\n",
       " ('daddi', 39),\n",
       " ('breath', 39),\n",
       " ('buddi', 39),\n",
       " ('deserv', 39),\n",
       " ('bath', 38),\n",
       " ('avail', 38),\n",
       " ('woman', 38),\n",
       " ('stick', 38),\n",
       " ('put', 38),\n",
       " ('death', 38),\n",
       " ('awwww', 38),\n",
       " ('howev', 38),\n",
       " ('grow', 38),\n",
       " ('sooooo', 38),\n",
       " ('import', 38),\n",
       " ('sweeti', 38),\n",
       " ('american', 38),\n",
       " ('blah', 38),\n",
       " ('germani', 38),\n",
       " ('bloodi', 38),\n",
       " ('favourit', 38),\n",
       " ('treat', 38),\n",
       " ('fire', 38),\n",
       " ('realis', 37),\n",
       " ('storm', 37),\n",
       " ('charg', 37),\n",
       " ('myloc', 37),\n",
       " ('neck', 37),\n",
       " ('across', 37),\n",
       " ('buy', 37),\n",
       " ('everyday', 37),\n",
       " ('cost', 37),\n",
       " ('spam', 37),\n",
       " ('limit', 37),\n",
       " ('delici', 37),\n",
       " ('bare', 37),\n",
       " ('five', 37),\n",
       " ('foot', 37),\n",
       " ('sunburn', 37),\n",
       " ('smoke', 36),\n",
       " ('blood', 36),\n",
       " ('grandma', 36),\n",
       " ('articl', 36),\n",
       " ('often', 36),\n",
       " ('report', 36),\n",
       " ('camp', 36),\n",
       " ('children', 36),\n",
       " ('tree', 36),\n",
       " ('attempt', 36),\n",
       " ('social', 36),\n",
       " ('match', 36),\n",
       " ('schedul', 36),\n",
       " ('thru', 36),\n",
       " ('delay', 36),\n",
       " ('bother', 36),\n",
       " ('countri', 36),\n",
       " ('area', 36),\n",
       " ('mcfli', 36),\n",
       " ('set', 36),\n",
       " ('frenchieb', 36),\n",
       " ('blow', 35),\n",
       " ('spring', 35),\n",
       " ('magic', 35),\n",
       " ('nail', 35),\n",
       " ('empti', 35),\n",
       " ('seat', 35),\n",
       " ('age', 35),\n",
       " ('somebodi', 35),\n",
       " ('straight', 35),\n",
       " ('tweetdeck', 35),\n",
       " ('chri', 35),\n",
       " ('award', 35),\n",
       " ('knee', 35),\n",
       " ('degre', 35),\n",
       " ('mouth', 35),\n",
       " ('excel', 35),\n",
       " ('surgeri', 35),\n",
       " ('host', 35),\n",
       " ('brought', 35),\n",
       " ('fish', 35),\n",
       " ('posit', 35),\n",
       " ('outta', 35),\n",
       " ('dentist', 34),\n",
       " ('build', 34),\n",
       " ('scream', 34),\n",
       " ('husband', 34),\n",
       " ('assign', 34),\n",
       " ('teeth', 34),\n",
       " ('anybodi', 34),\n",
       " ('bear', 34),\n",
       " ('clear', 34),\n",
       " ('delet', 34),\n",
       " ('britain', 34),\n",
       " ('thanx', 34),\n",
       " ('yfrog', 34),\n",
       " ('disney', 34),\n",
       " ('couldnt', 34),\n",
       " ('earth', 34),\n",
       " ('tweep', 34),\n",
       " ('continu', 34),\n",
       " ('doin', 34),\n",
       " ('print', 34),\n",
       " ('background', 34),\n",
       " ('canada', 33),\n",
       " ('hotel', 33),\n",
       " ('result', 33),\n",
       " ('file', 33),\n",
       " ('attack', 33),\n",
       " ('kitti', 33),\n",
       " ('student', 33),\n",
       " ('plant', 33),\n",
       " ('sens', 33),\n",
       " ('privat', 33),\n",
       " ('soup', 33),\n",
       " ('there', 33),\n",
       " ('oop', 33),\n",
       " ('grey', 33),\n",
       " ('anytim', 33),\n",
       " ('swear', 33),\n",
       " ('wave', 33),\n",
       " ('everywher', 33),\n",
       " ('epic', 33),\n",
       " ('cough', 32),\n",
       " ('plane', 32),\n",
       " ('studio', 32),\n",
       " ('spot', 32),\n",
       " ('seri', 32),\n",
       " ('chick', 32),\n",
       " ('nearli', 32),\n",
       " ('incred', 32),\n",
       " ('tumblr', 32),\n",
       " ('four', 32),\n",
       " ('fave', 32),\n",
       " ('request', 32),\n",
       " ('latest', 32),\n",
       " ('driver', 32),\n",
       " ('consid', 32),\n",
       " ('bang', 32),\n",
       " ('gener', 32),\n",
       " ('mall', 32),\n",
       " ('silli', 32),\n",
       " ('senior', 32),\n",
       " ('macbook', 32),\n",
       " ('credit', 31),\n",
       " ...]"
      ]
     },
     "execution_count": 30,
     "metadata": {},
     "output_type": "execute_result"
    }
   ],
   "source": [
    "counts_all_words.most_common()"
   ]
  },
  {
   "cell_type": "code",
   "execution_count": 31,
   "metadata": {
    "colab": {},
    "colab_type": "code",
    "id": "fpbS4P-JDho2"
   },
   "outputs": [],
   "source": [
    "clean_tweets = pd.DataFrame(counts_all_words.most_common(20),\n",
    "                            columns=['words', 'count'])"
   ]
  },
  {
   "cell_type": "code",
   "execution_count": 32,
   "metadata": {
    "colab": {
     "base_uri": "https://localhost:8080/",
     "height": 669
    },
    "colab_type": "code",
    "id": "_Ge9xSDlDmwK",
    "outputId": "9f517feb-1a5c-46d8-dc35-200bce64e0e7"
   },
   "outputs": [
    {
     "data": {
      "text/html": [
       "<div>\n",
       "<style scoped>\n",
       "    .dataframe tbody tr th:only-of-type {\n",
       "        vertical-align: middle;\n",
       "    }\n",
       "\n",
       "    .dataframe tbody tr th {\n",
       "        vertical-align: top;\n",
       "    }\n",
       "\n",
       "    .dataframe thead th {\n",
       "        text-align: right;\n",
       "    }\n",
       "</style>\n",
       "<table border=\"1\" class=\"dataframe\">\n",
       "  <thead>\n",
       "    <tr style=\"text-align: right;\">\n",
       "      <th></th>\n",
       "      <th>words</th>\n",
       "      <th>count</th>\n",
       "    </tr>\n",
       "  </thead>\n",
       "  <tbody>\n",
       "    <tr>\n",
       "      <th>0</th>\n",
       "      <td>good</td>\n",
       "      <td>2334</td>\n",
       "    </tr>\n",
       "    <tr>\n",
       "      <th>1</th>\n",
       "      <td>work</td>\n",
       "      <td>2208</td>\n",
       "    </tr>\n",
       "    <tr>\n",
       "      <th>2</th>\n",
       "      <td>love</td>\n",
       "      <td>2128</td>\n",
       "    </tr>\n",
       "    <tr>\n",
       "      <th>3</th>\n",
       "      <td>like</td>\n",
       "      <td>2085</td>\n",
       "    </tr>\n",
       "    <tr>\n",
       "      <th>4</th>\n",
       "      <td>quot</td>\n",
       "      <td>1893</td>\n",
       "    </tr>\n",
       "    <tr>\n",
       "      <th>5</th>\n",
       "      <td>http</td>\n",
       "      <td>1840</td>\n",
       "    </tr>\n",
       "    <tr>\n",
       "      <th>6</th>\n",
       "      <td>today</td>\n",
       "      <td>1676</td>\n",
       "    </tr>\n",
       "    <tr>\n",
       "      <th>7</th>\n",
       "      <td>time</td>\n",
       "      <td>1585</td>\n",
       "    </tr>\n",
       "    <tr>\n",
       "      <th>8</th>\n",
       "      <td>go</td>\n",
       "      <td>1575</td>\n",
       "    </tr>\n",
       "    <tr>\n",
       "      <th>9</th>\n",
       "      <td>happi</td>\n",
       "      <td>1506</td>\n",
       "    </tr>\n",
       "    <tr>\n",
       "      <th>10</th>\n",
       "      <td>thank</td>\n",
       "      <td>1494</td>\n",
       "    </tr>\n",
       "    <tr>\n",
       "      <th>11</th>\n",
       "      <td>know</td>\n",
       "      <td>1411</td>\n",
       "    </tr>\n",
       "    <tr>\n",
       "      <th>12</th>\n",
       "      <td>want</td>\n",
       "      <td>1387</td>\n",
       "    </tr>\n",
       "    <tr>\n",
       "      <th>13</th>\n",
       "      <td>miss</td>\n",
       "      <td>1385</td>\n",
       "    </tr>\n",
       "    <tr>\n",
       "      <th>14</th>\n",
       "      <td>back</td>\n",
       "      <td>1359</td>\n",
       "    </tr>\n",
       "    <tr>\n",
       "      <th>15</th>\n",
       "      <td>think</td>\n",
       "      <td>1294</td>\n",
       "    </tr>\n",
       "    <tr>\n",
       "      <th>16</th>\n",
       "      <td>realli</td>\n",
       "      <td>1280</td>\n",
       "    </tr>\n",
       "    <tr>\n",
       "      <th>17</th>\n",
       "      <td>feel</td>\n",
       "      <td>1273</td>\n",
       "    </tr>\n",
       "    <tr>\n",
       "      <th>18</th>\n",
       "      <td>mother</td>\n",
       "      <td>1223</td>\n",
       "    </tr>\n",
       "    <tr>\n",
       "      <th>19</th>\n",
       "      <td>night</td>\n",
       "      <td>1165</td>\n",
       "    </tr>\n",
       "  </tbody>\n",
       "</table>\n",
       "</div>"
      ],
      "text/plain": [
       "     words  count\n",
       "0     good   2334\n",
       "1     work   2208\n",
       "2     love   2128\n",
       "3     like   2085\n",
       "4     quot   1893\n",
       "5     http   1840\n",
       "6    today   1676\n",
       "7     time   1585\n",
       "8       go   1575\n",
       "9    happi   1506\n",
       "10   thank   1494\n",
       "11    know   1411\n",
       "12    want   1387\n",
       "13    miss   1385\n",
       "14    back   1359\n",
       "15   think   1294\n",
       "16  realli   1280\n",
       "17    feel   1273\n",
       "18  mother   1223\n",
       "19   night   1165"
      ]
     },
     "execution_count": 32,
     "metadata": {},
     "output_type": "execute_result"
    }
   ],
   "source": [
    "clean_tweets"
   ]
  },
  {
   "cell_type": "code",
   "execution_count": 33,
   "metadata": {
    "colab": {
     "base_uri": "https://localhost:8080/",
     "height": 498
    },
    "colab_type": "code",
    "id": "bTMHdZsuEUUY",
    "outputId": "8025b768-82a0-4863-b307-cb51a4a10ce5"
   },
   "outputs": [
    {
     "data": {
      "image/png": "[encoded data removed]",
      "text/plain": [
       "<Figure size 576x576 with 1 Axes>"
      ]
     },
     "metadata": {},
     "output_type": "display_data"
    }
   ],
   "source": [
    "fig, ax = plt.subplots(figsize=(8, 8))\n",
    "\n",
    "# Plot horizontal bar graph\n",
    "clean_tweets.sort_values(by='count').plot.barh(x='words',\n",
    "                      y='count',\n",
    "                      ax=ax,\n",
    "                      color=\"purple\")\n",
    "\n",
    "ax.set_title(\"Palabras más comunes en Tweets\")\n",
    "\n",
    "plt.show()"
   ]
  },
  {
   "cell_type": "markdown",
   "metadata": {
    "colab_type": "text",
    "id": "ekde1AKaf4pY"
   },
   "source": [
    "La palabra más común en tweets según el gráfico de arriba es good, seguida por work y love."
   ]
  },
  {
   "cell_type": "code",
   "execution_count": 34,
   "metadata": {
    "colab": {
     "base_uri": "https://localhost:8080/",
     "height": 400
    },
    "colab_type": "code",
    "id": "KHXdfljKJytQ",
    "outputId": "650150ee-e0e3-4c7b-f830-824f86517429"
   },
   "outputs": [],
   "source": [
    "#all_words = ' '.join([text for text in clean_tweets['words']])\n",
    "#from wordcloud import WordCloud\n",
    "#wordcloud = WordCloud(width=800, height=500, random_state=21, max_font_size=110).generate(all_words)\n",
    "\n",
    "#plt.figure(figsize=(10, 7))\n",
    "#plt.imshow(wordcloud, interpolation=\"bilinear\")\n",
    "#plt.axis('off')\n",
    "#plt.show()"
   ]
  },
  {
   "cell_type": "markdown",
   "metadata": {
    "colab_type": "text",
    "id": "o2QfPPLiasmj"
   },
   "source": [
    "**3. Preparación del vector objetivo y las matrices de entrenamiento y validación:**\n",
    "Nos interesa trabajar con dos tipos de emociones: positivas o negativas. Para ello deberá\n",
    "generar la recodificación de cada una de las clases en una de las dos emociones.\n",
    "- Si el tweet está asignado como neutral , clasifíquelo aleatoriamente entre positivo o\n",
    "negativo.\n"
   ]
  },
  {
   "cell_type": "markdown",
   "metadata": {
    "colab": {},
    "colab_type": "code",
    "id": "IwfAYt45JlLC"
   },
   "source": [
    "utilizaremos una funcion simple para generar aleatoriamente si retorna la palabra positivo o negativo\n"
   ]
  },
  {
   "cell_type": "code",
   "execution_count": 36,
   "metadata": {
    "colab": {},
    "colab_type": "code",
    "id": "ZfuoqXGrE6c1"
   },
   "outputs": [],
   "source": [
    "#reemplazamos los sentiemientos de la vatriable objetivo segun los indicado, sentimientos positivos, negativos y los neutrales aleatoriamente distribuidos entre los ya nombrados\n",
    "df['sentiment'] = df['sentiment'].replace(\n",
    "['worry', 'sadness', 'hate', 'empty', 'boredom', 'anger','happiness', 'love', 'surprise', 'fun','relief', 'enthusiasm', 'neutral'],\n",
    "['negative','negative','negative','negative','negative','negative', 'positive', 'positive', 'positive', 'positive', 'positive', 'positive', func.generate_sent()])"
   ]
  },
  {
   "cell_type": "code",
   "execution_count": 37,
   "metadata": {
    "colab": {
     "base_uri": "https://localhost:8080/",
     "height": 238
    },
    "colab_type": "code",
    "id": "9pUJ4d9UCKI1",
    "outputId": "f631bb82-2bb0-451c-f0d0-667109030006"
   },
   "outputs": [
    {
     "data": {
      "text/html": [
       "<div>\n",
       "<style scoped>\n",
       "    .dataframe tbody tr th:only-of-type {\n",
       "        vertical-align: middle;\n",
       "    }\n",
       "\n",
       "    .dataframe tbody tr th {\n",
       "        vertical-align: top;\n",
       "    }\n",
       "\n",
       "    .dataframe thead th {\n",
       "        text-align: right;\n",
       "    }\n",
       "</style>\n",
       "<table border=\"1\" class=\"dataframe\">\n",
       "  <thead>\n",
       "    <tr style=\"text-align: right;\">\n",
       "      <th></th>\n",
       "      <th>sentiment</th>\n",
       "      <th>author</th>\n",
       "      <th>content</th>\n",
       "      <th>count</th>\n",
       "      <th>content_recod</th>\n",
       "      <th>content_recod2</th>\n",
       "    </tr>\n",
       "  </thead>\n",
       "  <tbody>\n",
       "    <tr>\n",
       "      <th>0</th>\n",
       "      <td>negative</td>\n",
       "      <td>xoshayzers</td>\n",
       "      <td>@tiffanylue i know  i was listenin to bad habi...</td>\n",
       "      <td>1</td>\n",
       "      <td>know listenin habit earlier started freakin part</td>\n",
       "      <td>[know, listenin, habit, earlier, start, freaki...</td>\n",
       "    </tr>\n",
       "    <tr>\n",
       "      <th>1</th>\n",
       "      <td>negative</td>\n",
       "      <td>wannamama</td>\n",
       "      <td>Layin n bed with a headache  ughhhh...waitin o...</td>\n",
       "      <td>1</td>\n",
       "      <td>layin headache ughhhh waitin call</td>\n",
       "      <td>[layin, headach, ughhhh, waitin, call]</td>\n",
       "    </tr>\n",
       "    <tr>\n",
       "      <th>2</th>\n",
       "      <td>negative</td>\n",
       "      <td>coolfunky</td>\n",
       "      <td>Funeral ceremony...gloomy friday...</td>\n",
       "      <td>1</td>\n",
       "      <td>funeral ceremony gloomy friday</td>\n",
       "      <td>[funer, ceremoni, gloomi, friday]</td>\n",
       "    </tr>\n",
       "    <tr>\n",
       "      <th>3</th>\n",
       "      <td>positive</td>\n",
       "      <td>czareaquino</td>\n",
       "      <td>wants to hang out with friends SOON!</td>\n",
       "      <td>1</td>\n",
       "      <td>wants hang friends soon</td>\n",
       "      <td>[want, hang, friend, soon]</td>\n",
       "    </tr>\n",
       "    <tr>\n",
       "      <th>4</th>\n",
       "      <td>negative</td>\n",
       "      <td>xkilljoyx</td>\n",
       "      <td>@dannycastillo We want to trade with someone w...</td>\n",
       "      <td>1</td>\n",
       "      <td>want trade someone houston tickets</td>\n",
       "      <td>[want, trade, someon, houston, ticket]</td>\n",
       "    </tr>\n",
       "    <tr>\n",
       "      <th>5</th>\n",
       "      <td>negative</td>\n",
       "      <td>xxxPEACHESxxx</td>\n",
       "      <td>Re-pinging @ghostridah14: why didn't you go to...</td>\n",
       "      <td>1</td>\n",
       "      <td>pinging prom like friends</td>\n",
       "      <td>[ping, prom, like, friend]</td>\n",
       "    </tr>\n",
       "    <tr>\n",
       "      <th>6</th>\n",
       "      <td>negative</td>\n",
       "      <td>ShansBee</td>\n",
       "      <td>I should be sleep, but im not! thinking about ...</td>\n",
       "      <td>1</td>\n",
       "      <td>sleep thinking friend want married damn wants ...</td>\n",
       "      <td>[sleep, think, friend, want, marri, damn, want...</td>\n",
       "    </tr>\n",
       "    <tr>\n",
       "      <th>7</th>\n",
       "      <td>negative</td>\n",
       "      <td>mcsleazy</td>\n",
       "      <td>Hmmm. http://www.djhero.com/ is down</td>\n",
       "      <td>1</td>\n",
       "      <td>hmmm http djhero</td>\n",
       "      <td>[hmmm, http, djhero]</td>\n",
       "    </tr>\n",
       "    <tr>\n",
       "      <th>8</th>\n",
       "      <td>negative</td>\n",
       "      <td>nic0lepaula</td>\n",
       "      <td>@charviray Charlene my love. I miss you</td>\n",
       "      <td>1</td>\n",
       "      <td>charlene love miss</td>\n",
       "      <td>[charlen, love, miss]</td>\n",
       "    </tr>\n",
       "    <tr>\n",
       "      <th>9</th>\n",
       "      <td>negative</td>\n",
       "      <td>Ingenue_Em</td>\n",
       "      <td>@kelcouch I'm sorry  at least it's Friday?</td>\n",
       "      <td>1</td>\n",
       "      <td>sorry least friday</td>\n",
       "      <td>[sorri, least, friday]</td>\n",
       "    </tr>\n",
       "    <tr>\n",
       "      <th>10</th>\n",
       "      <td>negative</td>\n",
       "      <td>feinyheiny</td>\n",
       "      <td>cant fall asleep</td>\n",
       "      <td>1</td>\n",
       "      <td>cant fall asleep</td>\n",
       "      <td>[cant, fall, asleep]</td>\n",
       "    </tr>\n",
       "    <tr>\n",
       "      <th>11</th>\n",
       "      <td>negative</td>\n",
       "      <td>dudeitsmanda</td>\n",
       "      <td>Choked on her retainers</td>\n",
       "      <td>1</td>\n",
       "      <td>choked retainers</td>\n",
       "      <td>[choke, retain]</td>\n",
       "    </tr>\n",
       "    <tr>\n",
       "      <th>12</th>\n",
       "      <td>negative</td>\n",
       "      <td>Danied32</td>\n",
       "      <td>Ugh! I have to beat this stupid song to get to...</td>\n",
       "      <td>1</td>\n",
       "      <td>beat stupid song next rude</td>\n",
       "      <td>[beat, stupid, song, next, rude]</td>\n",
       "    </tr>\n",
       "    <tr>\n",
       "      <th>13</th>\n",
       "      <td>negative</td>\n",
       "      <td>Samm_xo</td>\n",
       "      <td>@BrodyJenner if u watch the hills in london u ...</td>\n",
       "      <td>1</td>\n",
       "      <td>watch hills london realise tourture weeks week...</td>\n",
       "      <td>[watch, hill, london, realis, tourtur, week, w...</td>\n",
       "    </tr>\n",
       "    <tr>\n",
       "      <th>14</th>\n",
       "      <td>positive</td>\n",
       "      <td>okiepeanut93</td>\n",
       "      <td>Got the news</td>\n",
       "      <td>1</td>\n",
       "      <td>news</td>\n",
       "      <td>[news]</td>\n",
       "    </tr>\n",
       "  </tbody>\n",
       "</table>\n",
       "</div>"
      ],
      "text/plain": [
       "   sentiment         author  \\\n",
       "0   negative     xoshayzers   \n",
       "1   negative      wannamama   \n",
       "2   negative      coolfunky   \n",
       "3   positive    czareaquino   \n",
       "4   negative      xkilljoyx   \n",
       "5   negative  xxxPEACHESxxx   \n",
       "6   negative       ShansBee   \n",
       "7   negative       mcsleazy   \n",
       "8   negative    nic0lepaula   \n",
       "9   negative     Ingenue_Em   \n",
       "10  negative     feinyheiny   \n",
       "11  negative   dudeitsmanda   \n",
       "12  negative       Danied32   \n",
       "13  negative        Samm_xo   \n",
       "14  positive   okiepeanut93   \n",
       "\n",
       "                                              content  count  \\\n",
       "0   @tiffanylue i know  i was listenin to bad habi...      1   \n",
       "1   Layin n bed with a headache  ughhhh...waitin o...      1   \n",
       "2                 Funeral ceremony...gloomy friday...      1   \n",
       "3                wants to hang out with friends SOON!      1   \n",
       "4   @dannycastillo We want to trade with someone w...      1   \n",
       "5   Re-pinging @ghostridah14: why didn't you go to...      1   \n",
       "6   I should be sleep, but im not! thinking about ...      1   \n",
       "7                Hmmm. http://www.djhero.com/ is down      1   \n",
       "8             @charviray Charlene my love. I miss you      1   \n",
       "9          @kelcouch I'm sorry  at least it's Friday?      1   \n",
       "10                                   cant fall asleep      1   \n",
       "11                            Choked on her retainers      1   \n",
       "12  Ugh! I have to beat this stupid song to get to...      1   \n",
       "13  @BrodyJenner if u watch the hills in london u ...      1   \n",
       "14                                       Got the news      1   \n",
       "\n",
       "                                        content_recod  \\\n",
       "0    know listenin habit earlier started freakin part   \n",
       "1                   layin headache ughhhh waitin call   \n",
       "2                      funeral ceremony gloomy friday   \n",
       "3                             wants hang friends soon   \n",
       "4                  want trade someone houston tickets   \n",
       "5                           pinging prom like friends   \n",
       "6   sleep thinking friend want married damn wants ...   \n",
       "7                                    hmmm http djhero   \n",
       "8                                  charlene love miss   \n",
       "9                                  sorry least friday   \n",
       "10                                   cant fall asleep   \n",
       "11                                   choked retainers   \n",
       "12                         beat stupid song next rude   \n",
       "13  watch hills london realise tourture weeks week...   \n",
       "14                                               news   \n",
       "\n",
       "                                       content_recod2  \n",
       "0   [know, listenin, habit, earlier, start, freaki...  \n",
       "1              [layin, headach, ughhhh, waitin, call]  \n",
       "2                   [funer, ceremoni, gloomi, friday]  \n",
       "3                          [want, hang, friend, soon]  \n",
       "4              [want, trade, someon, houston, ticket]  \n",
       "5                          [ping, prom, like, friend]  \n",
       "6   [sleep, think, friend, want, marri, damn, want...  \n",
       "7                                [hmmm, http, djhero]  \n",
       "8                               [charlen, love, miss]  \n",
       "9                              [sorri, least, friday]  \n",
       "10                               [cant, fall, asleep]  \n",
       "11                                    [choke, retain]  \n",
       "12                   [beat, stupid, song, next, rude]  \n",
       "13  [watch, hill, london, realis, tourtur, week, w...  \n",
       "14                                             [news]  "
      ]
     },
     "execution_count": 37,
     "metadata": {},
     "output_type": "execute_result"
    }
   ],
   "source": [
    "df.head(15)"
   ]
  },
  {
   "cell_type": "code",
   "execution_count": 38,
   "metadata": {
    "colab": {
     "base_uri": "https://localhost:8080/",
     "height": 441
    },
    "colab_type": "code",
    "id": "ic7AmQDfy9IG",
    "outputId": "c80e6ced-baba-457b-a80f-395df17dfc16"
   },
   "outputs": [
    {
     "data": {
      "image/png": "[encoded data removed]",
      "text/plain": [
       "<Figure size 720x432 with 1 Axes>"
      ]
     },
     "metadata": {},
     "output_type": "display_data"
    }
   ],
   "source": [
    "ax1 = sns.countplot(x='sentiment',data=df,order=df['sentiment'].value_counts().index)\n",
    "ax1.set_xticklabels(ax1.get_xticklabels(),rotation=0,ha='right')\n",
    "plt.tight_layout()\n",
    "plt.show()"
   ]
  },
  {
   "cell_type": "code",
   "execution_count": 39,
   "metadata": {
    "colab": {
     "base_uri": "https://localhost:8080/",
     "height": 235
    },
    "colab_type": "code",
    "id": "gPoBRtI1bGHI",
    "outputId": "5c2f770f-f4e7-49aa-f5d9-01055e4ed3da"
   },
   "outputs": [
    {
     "data": {
      "text/html": [
       "<div>\n",
       "<style scoped>\n",
       "    .dataframe tbody tr th:only-of-type {\n",
       "        vertical-align: middle;\n",
       "    }\n",
       "\n",
       "    .dataframe tbody tr th {\n",
       "        vertical-align: top;\n",
       "    }\n",
       "\n",
       "    .dataframe thead th {\n",
       "        text-align: right;\n",
       "    }\n",
       "</style>\n",
       "<table border=\"1\" class=\"dataframe\">\n",
       "  <thead>\n",
       "    <tr style=\"text-align: right;\">\n",
       "      <th>sentiment</th>\n",
       "      <th>negative</th>\n",
       "      <th>positive</th>\n",
       "    </tr>\n",
       "    <tr>\n",
       "      <th>author</th>\n",
       "      <th></th>\n",
       "      <th></th>\n",
       "    </tr>\n",
       "  </thead>\n",
       "  <tbody>\n",
       "    <tr>\n",
       "      <th>tsarnick</th>\n",
       "      <td>5</td>\n",
       "      <td>12</td>\n",
       "    </tr>\n",
       "    <tr>\n",
       "      <th>ChineseLearn</th>\n",
       "      <td>10</td>\n",
       "      <td>12</td>\n",
       "    </tr>\n",
       "    <tr>\n",
       "      <th>MissxMarisa</th>\n",
       "      <td>12</td>\n",
       "      <td>11</td>\n",
       "    </tr>\n",
       "    <tr>\n",
       "      <th>twebbstack</th>\n",
       "      <td>4</td>\n",
       "      <td>10</td>\n",
       "    </tr>\n",
       "    <tr>\n",
       "      <th>erkagarcia</th>\n",
       "      <td>10</td>\n",
       "      <td>9</td>\n",
       "    </tr>\n",
       "  </tbody>\n",
       "</table>\n",
       "</div>"
      ],
      "text/plain": [
       "sentiment     negative  positive\n",
       "author                          \n",
       "tsarnick             5        12\n",
       "ChineseLearn        10        12\n",
       "MissxMarisa         12        11\n",
       "twebbstack           4        10\n",
       "erkagarcia          10         9"
      ]
     },
     "execution_count": 39,
     "metadata": {},
     "output_type": "execute_result"
    }
   ],
   "source": [
    "#Agrupamos los valores de acuerdo a los sentimientos por autor\n",
    "agrupacion2 = df.groupby(by=[ 'author','sentiment'], as_index=False).count()\n",
    "\n",
    "#Pivotear los datos\n",
    "f= agrupacion2.pivot( 'author','sentiment','count')\n",
    "\n",
    "#Reemplaza los NA por 0 y deja los números en enteros\n",
    "f= f.fillna(0).astype(int)\n",
    "\n",
    "f.sort_values(by='positive',ascending=False).head(5)"
   ]
  },
  {
   "cell_type": "markdown",
   "metadata": {
    "colab_type": "text",
    "id": "U1ZjCiFzcUcU"
   },
   "source": [
    "Según la tabla, el autor con los comentarios expresando la mayor cantidad de sentimientos positivos es tsarnick"
   ]
  },
  {
   "cell_type": "code",
   "execution_count": 40,
   "metadata": {
    "colab": {
     "base_uri": "https://localhost:8080/",
     "height": 235
    },
    "colab_type": "code",
    "id": "VOzkBHLgcPI2",
    "outputId": "9ae93e43-b9cd-41b6-950a-4d307f186f53"
   },
   "outputs": [
    {
     "data": {
      "text/html": [
       "<div>\n",
       "<style scoped>\n",
       "    .dataframe tbody tr th:only-of-type {\n",
       "        vertical-align: middle;\n",
       "    }\n",
       "\n",
       "    .dataframe tbody tr th {\n",
       "        vertical-align: top;\n",
       "    }\n",
       "\n",
       "    .dataframe thead th {\n",
       "        text-align: right;\n",
       "    }\n",
       "</style>\n",
       "<table border=\"1\" class=\"dataframe\">\n",
       "  <thead>\n",
       "    <tr style=\"text-align: right;\">\n",
       "      <th>sentiment</th>\n",
       "      <th>negative</th>\n",
       "      <th>positive</th>\n",
       "    </tr>\n",
       "    <tr>\n",
       "      <th>author</th>\n",
       "      <th></th>\n",
       "      <th></th>\n",
       "    </tr>\n",
       "  </thead>\n",
       "  <tbody>\n",
       "    <tr>\n",
       "      <th>lost_dog</th>\n",
       "      <td>17</td>\n",
       "      <td>1</td>\n",
       "    </tr>\n",
       "    <tr>\n",
       "      <th>MiDesfileNegro</th>\n",
       "      <td>14</td>\n",
       "      <td>5</td>\n",
       "    </tr>\n",
       "    <tr>\n",
       "      <th>Dogbook</th>\n",
       "      <td>12</td>\n",
       "      <td>2</td>\n",
       "    </tr>\n",
       "    <tr>\n",
       "      <th>MissxMarisa</th>\n",
       "      <td>12</td>\n",
       "      <td>11</td>\n",
       "    </tr>\n",
       "    <tr>\n",
       "      <th>beingnobody</th>\n",
       "      <td>11</td>\n",
       "      <td>0</td>\n",
       "    </tr>\n",
       "  </tbody>\n",
       "</table>\n",
       "</div>"
      ],
      "text/plain": [
       "sentiment       negative  positive\n",
       "author                            \n",
       "lost_dog              17         1\n",
       "MiDesfileNegro        14         5\n",
       "Dogbook               12         2\n",
       "MissxMarisa           12        11\n",
       "beingnobody           11         0"
      ]
     },
     "execution_count": 40,
     "metadata": {},
     "output_type": "execute_result"
    }
   ],
   "source": [
    "f.sort_values(by='negative',ascending=False).head(5)"
   ]
  },
  {
   "cell_type": "markdown",
   "metadata": {
    "colab_type": "text",
    "id": "ROAc1mSMch0p"
   },
   "source": [
    "Por otro lado, el autor con los comentarios expresando la mayor cantidad de sentimientos negativos es lost_dog"
   ]
  },
  {
   "cell_type": "code",
   "execution_count": 41,
   "metadata": {
    "colab": {},
    "colab_type": "code",
    "id": "2PKAD1lXCSpN"
   },
   "outputs": [],
   "source": [
    "df['sentiment_recod'] = np.where(df['sentiment']=='negative',-1,1)"
   ]
  },
  {
   "cell_type": "code",
   "execution_count": 42,
   "metadata": {
    "colab": {
     "base_uri": "https://localhost:8080/",
     "height": 441
    },
    "colab_type": "code",
    "id": "aBphHGV9EeDC",
    "outputId": "c57c3aa4-5edd-4814-e55d-32a9bd393e3a"
   },
   "outputs": [
    {
     "data": {
      "image/png": "[encoded data removed]",
      "text/plain": [
       "<Figure size 720x432 with 1 Axes>"
      ]
     },
     "metadata": {},
     "output_type": "display_data"
    }
   ],
   "source": [
    "ax1 = sns.countplot(x='sentiment_recod',data=df,order=df['sentiment_recod'].value_counts().index)\n",
    "ax1.set_xticklabels(ax1.get_xticklabels(),rotation=0,ha='right')\n",
    "plt.tight_layout()\n",
    "plt.show()"
   ]
  },
  {
   "cell_type": "markdown",
   "metadata": {},
   "source": [
    "nuestro vector objetivo esta algo desbalanceado presentando 62% para sentiemientos negativos(-1) y 38% para sentimientos positivos(1), a pesar del desbalance de clases trabajaremos el vector como quedo luego de la distribucion aleatoria de los sentimientos neutrales."
   ]
  },
  {
   "cell_type": "code",
   "execution_count": 43,
   "metadata": {
    "colab": {
     "base_uri": "https://localhost:8080/",
     "height": 68
    },
    "colab_type": "code",
    "id": "qqj_T9d7paF7",
    "outputId": "80e88616-81b7-4d87-f7c2-d4f81cc23b69"
   },
   "outputs": [
    {
     "data": {
      "text/plain": [
       "-1    0.617525\n",
       " 1    0.382475\n",
       "Name: sentiment_recod, dtype: float64"
      ]
     },
     "execution_count": 43,
     "metadata": {},
     "output_type": "execute_result"
    }
   ],
   "source": [
    "df['sentiment_recod'].value_counts('%')"
   ]
  },
  {
   "cell_type": "code",
   "execution_count": 44,
   "metadata": {
    "colab": {
     "base_uri": "https://localhost:8080/",
     "height": 255
    },
    "colab_type": "code",
    "id": "OzWhvD7MEy8O",
    "outputId": "0d432e79-7384-4b24-de41-a7f4ff3c3c04"
   },
   "outputs": [
    {
     "data": {
      "text/html": [
       "<div>\n",
       "<style scoped>\n",
       "    .dataframe tbody tr th:only-of-type {\n",
       "        vertical-align: middle;\n",
       "    }\n",
       "\n",
       "    .dataframe tbody tr th {\n",
       "        vertical-align: top;\n",
       "    }\n",
       "\n",
       "    .dataframe thead th {\n",
       "        text-align: right;\n",
       "    }\n",
       "</style>\n",
       "<table border=\"1\" class=\"dataframe\">\n",
       "  <thead>\n",
       "    <tr style=\"text-align: right;\">\n",
       "      <th></th>\n",
       "      <th>sentiment</th>\n",
       "      <th>author</th>\n",
       "      <th>content</th>\n",
       "      <th>count</th>\n",
       "      <th>content_recod</th>\n",
       "      <th>content_recod2</th>\n",
       "      <th>sentiment_recod</th>\n",
       "    </tr>\n",
       "  </thead>\n",
       "  <tbody>\n",
       "    <tr>\n",
       "      <th>0</th>\n",
       "      <td>negative</td>\n",
       "      <td>xoshayzers</td>\n",
       "      <td>@tiffanylue i know  i was listenin to bad habi...</td>\n",
       "      <td>1</td>\n",
       "      <td>know listenin habit earlier started freakin part</td>\n",
       "      <td>[know, listenin, habit, earlier, start, freaki...</td>\n",
       "      <td>-1</td>\n",
       "    </tr>\n",
       "    <tr>\n",
       "      <th>1</th>\n",
       "      <td>negative</td>\n",
       "      <td>wannamama</td>\n",
       "      <td>Layin n bed with a headache  ughhhh...waitin o...</td>\n",
       "      <td>1</td>\n",
       "      <td>layin headache ughhhh waitin call</td>\n",
       "      <td>[layin, headach, ughhhh, waitin, call]</td>\n",
       "      <td>-1</td>\n",
       "    </tr>\n",
       "    <tr>\n",
       "      <th>2</th>\n",
       "      <td>negative</td>\n",
       "      <td>coolfunky</td>\n",
       "      <td>Funeral ceremony...gloomy friday...</td>\n",
       "      <td>1</td>\n",
       "      <td>funeral ceremony gloomy friday</td>\n",
       "      <td>[funer, ceremoni, gloomi, friday]</td>\n",
       "      <td>-1</td>\n",
       "    </tr>\n",
       "    <tr>\n",
       "      <th>3</th>\n",
       "      <td>positive</td>\n",
       "      <td>czareaquino</td>\n",
       "      <td>wants to hang out with friends SOON!</td>\n",
       "      <td>1</td>\n",
       "      <td>wants hang friends soon</td>\n",
       "      <td>[want, hang, friend, soon]</td>\n",
       "      <td>1</td>\n",
       "    </tr>\n",
       "    <tr>\n",
       "      <th>4</th>\n",
       "      <td>negative</td>\n",
       "      <td>xkilljoyx</td>\n",
       "      <td>@dannycastillo We want to trade with someone w...</td>\n",
       "      <td>1</td>\n",
       "      <td>want trade someone houston tickets</td>\n",
       "      <td>[want, trade, someon, houston, ticket]</td>\n",
       "      <td>-1</td>\n",
       "    </tr>\n",
       "  </tbody>\n",
       "</table>\n",
       "</div>"
      ],
      "text/plain": [
       "  sentiment       author                                            content  \\\n",
       "0  negative   xoshayzers  @tiffanylue i know  i was listenin to bad habi...   \n",
       "1  negative    wannamama  Layin n bed with a headache  ughhhh...waitin o...   \n",
       "2  negative    coolfunky                Funeral ceremony...gloomy friday...   \n",
       "3  positive  czareaquino               wants to hang out with friends SOON!   \n",
       "4  negative    xkilljoyx  @dannycastillo We want to trade with someone w...   \n",
       "\n",
       "   count                                     content_recod  \\\n",
       "0      1  know listenin habit earlier started freakin part   \n",
       "1      1                 layin headache ughhhh waitin call   \n",
       "2      1                    funeral ceremony gloomy friday   \n",
       "3      1                           wants hang friends soon   \n",
       "4      1                want trade someone houston tickets   \n",
       "\n",
       "                                      content_recod2  sentiment_recod  \n",
       "0  [know, listenin, habit, earlier, start, freaki...               -1  \n",
       "1             [layin, headach, ughhhh, waitin, call]               -1  \n",
       "2                  [funer, ceremoni, gloomi, friday]               -1  \n",
       "3                         [want, hang, friend, soon]                1  \n",
       "4             [want, trade, someon, houston, ticket]               -1  "
      ]
     },
     "execution_count": 44,
     "metadata": {},
     "output_type": "execute_result"
    }
   ],
   "source": [
    "df.head()"
   ]
  },
  {
   "cell_type": "markdown",
   "metadata": {
    "colab_type": "text",
    "id": "WdM7x7GKzogX"
   },
   "source": [
    "**4. Entrenamiento de modelos:**\n",
    "- En base a los modelos vistos en clase, implemente por lo menos 5. Para cada uno de\n",
    "ellos justifique la elección de hiperparámetros. Si implementa búsqueda de grilla para\n",
    "cada uno de ellos, defina el rango de valores a tomar en cada hiperparámetro.\n",
    "- Reporte el desempeño de cada modelo en las muestras de entrenamiento y validación.\n",
    "Comente sobre la capacidad de generalización de cada uno de ellos haciendo uso de los\n",
    "conceptos vistos en el curso."
   ]
  },
  {
   "cell_type": "code",
   "execution_count": 45,
   "metadata": {
    "colab": {},
    "colab_type": "code",
    "id": "xTwfwKW5Lx1j"
   },
   "outputs": [],
   "source": [
    "from sklearn.feature_extraction.text import CountVectorizer"
   ]
  },
  {
   "cell_type": "code",
   "execution_count": 46,
   "metadata": {
    "colab": {},
    "colab_type": "code",
    "id": "C3c3CUj_FaxY"
   },
   "outputs": [],
   "source": [
    "cv = CountVectorizer(stop_words='english',max_features=1000)\n",
    "\n",
    "cv_fit = cv.fit_transform(df['content_recod'])\n",
    "\n",
    "cv_fit\n",
    "\n",
    "words = cv.get_feature_names()\n",
    "\n",
    "\n",
    "\n",
    "word_freq = cv_fit.toarray()\n",
    "\n",
    "type(df['content_recod'])\n",
    "\n",
    "df_cv = pd.DataFrame(word_freq,columns=words)"
   ]
  },
  {
   "cell_type": "code",
   "execution_count": 47,
   "metadata": {
    "colab": {
     "base_uri": "https://localhost:8080/",
     "height": 273
    },
    "colab_type": "code",
    "id": "MX1ot56KKtbR",
    "outputId": "66ce319e-5992-4d30-dfea-db6a0e8da6db"
   },
   "outputs": [
    {
     "data": {
      "text/html": [
       "<div>\n",
       "<style scoped>\n",
       "    .dataframe tbody tr th:only-of-type {\n",
       "        vertical-align: middle;\n",
       "    }\n",
       "\n",
       "    .dataframe tbody tr th {\n",
       "        vertical-align: top;\n",
       "    }\n",
       "\n",
       "    .dataframe thead th {\n",
       "        text-align: right;\n",
       "    }\n",
       "</style>\n",
       "<table border=\"1\" class=\"dataframe\">\n",
       "  <thead>\n",
       "    <tr style=\"text-align: right;\">\n",
       "      <th></th>\n",
       "      <th>able</th>\n",
       "      <th>absolutely</th>\n",
       "      <th>access</th>\n",
       "      <th>account</th>\n",
       "      <th>actually</th>\n",
       "      <th>afford</th>\n",
       "      <th>afraid</th>\n",
       "      <th>afternoon</th>\n",
       "      <th>ages</th>\n",
       "      <th>agree</th>\n",
       "      <th>...</th>\n",
       "      <th>xoxo</th>\n",
       "      <th>yall</th>\n",
       "      <th>yeah</th>\n",
       "      <th>year</th>\n",
       "      <th>years</th>\n",
       "      <th>yesterday</th>\n",
       "      <th>yfrog</th>\n",
       "      <th>young</th>\n",
       "      <th>youtube</th>\n",
       "      <th>yummy</th>\n",
       "    </tr>\n",
       "  </thead>\n",
       "  <tbody>\n",
       "    <tr>\n",
       "      <th>0</th>\n",
       "      <td>0</td>\n",
       "      <td>0</td>\n",
       "      <td>0</td>\n",
       "      <td>0</td>\n",
       "      <td>0</td>\n",
       "      <td>0</td>\n",
       "      <td>0</td>\n",
       "      <td>0</td>\n",
       "      <td>0</td>\n",
       "      <td>0</td>\n",
       "      <td>...</td>\n",
       "      <td>0</td>\n",
       "      <td>0</td>\n",
       "      <td>0</td>\n",
       "      <td>0</td>\n",
       "      <td>0</td>\n",
       "      <td>0</td>\n",
       "      <td>0</td>\n",
       "      <td>0</td>\n",
       "      <td>0</td>\n",
       "      <td>0</td>\n",
       "    </tr>\n",
       "    <tr>\n",
       "      <th>1</th>\n",
       "      <td>0</td>\n",
       "      <td>0</td>\n",
       "      <td>0</td>\n",
       "      <td>0</td>\n",
       "      <td>0</td>\n",
       "      <td>0</td>\n",
       "      <td>0</td>\n",
       "      <td>0</td>\n",
       "      <td>0</td>\n",
       "      <td>0</td>\n",
       "      <td>...</td>\n",
       "      <td>0</td>\n",
       "      <td>0</td>\n",
       "      <td>0</td>\n",
       "      <td>0</td>\n",
       "      <td>0</td>\n",
       "      <td>0</td>\n",
       "      <td>0</td>\n",
       "      <td>0</td>\n",
       "      <td>0</td>\n",
       "      <td>0</td>\n",
       "    </tr>\n",
       "    <tr>\n",
       "      <th>2</th>\n",
       "      <td>0</td>\n",
       "      <td>0</td>\n",
       "      <td>0</td>\n",
       "      <td>0</td>\n",
       "      <td>0</td>\n",
       "      <td>0</td>\n",
       "      <td>0</td>\n",
       "      <td>0</td>\n",
       "      <td>0</td>\n",
       "      <td>0</td>\n",
       "      <td>...</td>\n",
       "      <td>0</td>\n",
       "      <td>0</td>\n",
       "      <td>0</td>\n",
       "      <td>0</td>\n",
       "      <td>0</td>\n",
       "      <td>0</td>\n",
       "      <td>0</td>\n",
       "      <td>0</td>\n",
       "      <td>0</td>\n",
       "      <td>0</td>\n",
       "    </tr>\n",
       "    <tr>\n",
       "      <th>3</th>\n",
       "      <td>0</td>\n",
       "      <td>0</td>\n",
       "      <td>0</td>\n",
       "      <td>0</td>\n",
       "      <td>0</td>\n",
       "      <td>0</td>\n",
       "      <td>0</td>\n",
       "      <td>0</td>\n",
       "      <td>0</td>\n",
       "      <td>0</td>\n",
       "      <td>...</td>\n",
       "      <td>0</td>\n",
       "      <td>0</td>\n",
       "      <td>0</td>\n",
       "      <td>0</td>\n",
       "      <td>0</td>\n",
       "      <td>0</td>\n",
       "      <td>0</td>\n",
       "      <td>0</td>\n",
       "      <td>0</td>\n",
       "      <td>0</td>\n",
       "    </tr>\n",
       "    <tr>\n",
       "      <th>4</th>\n",
       "      <td>0</td>\n",
       "      <td>0</td>\n",
       "      <td>0</td>\n",
       "      <td>0</td>\n",
       "      <td>0</td>\n",
       "      <td>0</td>\n",
       "      <td>0</td>\n",
       "      <td>0</td>\n",
       "      <td>0</td>\n",
       "      <td>0</td>\n",
       "      <td>...</td>\n",
       "      <td>0</td>\n",
       "      <td>0</td>\n",
       "      <td>0</td>\n",
       "      <td>0</td>\n",
       "      <td>0</td>\n",
       "      <td>0</td>\n",
       "      <td>0</td>\n",
       "      <td>0</td>\n",
       "      <td>0</td>\n",
       "      <td>0</td>\n",
       "    </tr>\n",
       "  </tbody>\n",
       "</table>\n",
       "<p>5 rows × 1000 columns</p>\n",
       "</div>"
      ],
      "text/plain": [
       "   able  absolutely  access  account  actually  afford  afraid  afternoon  \\\n",
       "0     0           0       0        0         0       0       0          0   \n",
       "1     0           0       0        0         0       0       0          0   \n",
       "2     0           0       0        0         0       0       0          0   \n",
       "3     0           0       0        0         0       0       0          0   \n",
       "4     0           0       0        0         0       0       0          0   \n",
       "\n",
       "   ages  agree  ...  xoxo  yall  yeah  year  years  yesterday  yfrog  young  \\\n",
       "0     0      0  ...     0     0     0     0      0          0      0      0   \n",
       "1     0      0  ...     0     0     0     0      0          0      0      0   \n",
       "2     0      0  ...     0     0     0     0      0          0      0      0   \n",
       "3     0      0  ...     0     0     0     0      0          0      0      0   \n",
       "4     0      0  ...     0     0     0     0      0          0      0      0   \n",
       "\n",
       "   youtube  yummy  \n",
       "0        0      0  \n",
       "1        0      0  \n",
       "2        0      0  \n",
       "3        0      0  \n",
       "4        0      0  \n",
       "\n",
       "[5 rows x 1000 columns]"
      ]
     },
     "execution_count": 47,
     "metadata": {},
     "output_type": "execute_result"
    }
   ],
   "source": [
    "df_cv.head()"
   ]
  },
  {
   "cell_type": "code",
   "execution_count": 48,
   "metadata": {
    "colab": {},
    "colab_type": "code",
    "id": "nK2kHmxNGBwc"
   },
   "outputs": [],
   "source": [
    "X_train, X_test, y_train, y_test = train_test_split(df_cv,\n",
    "                                                  df['sentiment_recod'],\n",
    "                                                  test_size=.33,\n",
    "                                                  random_state=3504)"
   ]
  },
  {
   "cell_type": "markdown",
   "metadata": {
    "colab_type": "text",
    "id": "KysM_JSWL75A"
   },
   "source": [
    "Definimos un 30% de datos para el set de prueba y un 70% para el set de entrenamiento"
   ]
  },
  {
   "cell_type": "markdown",
   "metadata": {
    "colab_type": "text",
    "id": "HJ6OzQupP_zh"
   },
   "source": [
    "**4.1- Naive Bayes**"
   ]
  },
  {
   "cell_type": "code",
   "execution_count": 49,
   "metadata": {
    "colab": {
     "base_uri": "https://localhost:8080/",
     "height": 34
    },
    "colab_type": "code",
    "id": "FE6Vn2ZDGEhu",
    "outputId": "53a340fa-6804-4cd8-a98c-0d5a37414fa9"
   },
   "outputs": [
    {
     "data": {
      "text/plain": [
       "BernoulliNB(alpha=1.0, binarize=0.0, class_prior=None, fit_prior=True)"
      ]
     },
     "execution_count": 49,
     "metadata": {},
     "output_type": "execute_result"
    }
   ],
   "source": [
    "from sklearn.naive_bayes import BernoulliNB\n",
    "\n",
    "NB = BernoulliNB()\n",
    "\n",
    "NB.fit(X_train, y_train)"
   ]
  },
  {
   "cell_type": "code",
   "execution_count": 50,
   "metadata": {
    "colab": {
     "base_uri": "https://localhost:8080/",
     "height": 170
    },
    "colab_type": "code",
    "id": "d1xTe6QQ2SwL",
    "outputId": "24fc882c-959d-40b9-e184-0c398cfe5f01"
   },
   "outputs": [
    {
     "name": "stdout",
     "output_type": "stream",
     "text": [
      "              precision    recall  f1-score   support\n",
      "\n",
      "          -1       0.73      0.85      0.79      8192\n",
      "           1       0.67      0.49      0.57      5008\n",
      "\n",
      "    accuracy                           0.71     13200\n",
      "   macro avg       0.70      0.67      0.68     13200\n",
      "weighted avg       0.71      0.71      0.70     13200\n",
      "\n"
     ]
    }
   ],
   "source": [
    "from sklearn.metrics import classification_report\n",
    "\n",
    "y_hat = NB.predict(X_test)\n",
    "print(classification_report(y_test, y_hat))"
   ]
  },
  {
   "cell_type": "markdown",
   "metadata": {},
   "source": [
    "A pesar de ser un modelo simple, NB funciona bastante bien, teniendo un rendimiento superior en la clase -1, generando en su conjunto un f-1 de 68% el mas alto junto con voting classifier por lo que ambos seran serializados"
   ]
  },
  {
   "cell_type": "markdown",
   "metadata": {
    "colab_type": "text",
    "id": "NKa_20mw6i8C"
   },
   "source": [
    "A pesar de ser un modelo simple, NB funciona bastante bien, teniendo un rendimiento superior en la clase -1, generando en su conjunto un f-1 de 68%"
   ]
  },
  {
   "cell_type": "markdown",
   "metadata": {
    "colab_type": "text",
    "id": "-sTzYjgsGspS"
   },
   "source": [
    "**4.2- Logistic Regression**"
   ]
  },
  {
   "cell_type": "code",
   "execution_count": 51,
   "metadata": {
    "colab": {
     "base_uri": "https://localhost:8080/",
     "height": 102
    },
    "colab_type": "code",
    "id": "W0SEY0ZbJB13",
    "outputId": "f8580c15-de17-428f-9d64-b2b274255aa5"
   },
   "outputs": [
    {
     "data": {
      "text/plain": [
       "LogisticRegression(C=1.0, class_weight=None, dual=False, fit_intercept=True,\n",
       "                   intercept_scaling=1, l1_ratio=None, max_iter=100,\n",
       "                   multi_class='warn', n_jobs=None, penalty='l2',\n",
       "                   random_state=3540, solver='warn', tol=0.0001, verbose=0,\n",
       "                   warm_start=False)"
      ]
     },
     "execution_count": 51,
     "metadata": {},
     "output_type": "execute_result"
    }
   ],
   "source": [
    "from sklearn.linear_model import LogisticRegression\n",
    "\n",
    "lr = LogisticRegression(random_state=3540, penalty='l2')\n",
    "lr.fit(X_train, y_train)"
   ]
  },
  {
   "cell_type": "code",
   "execution_count": 52,
   "metadata": {
    "colab": {
     "base_uri": "https://localhost:8080/",
     "height": 170
    },
    "colab_type": "code",
    "id": "_Qd_AjwKJOsM",
    "outputId": "b9687290-1be8-497c-a0d4-314c3db3e612"
   },
   "outputs": [
    {
     "name": "stdout",
     "output_type": "stream",
     "text": [
      "              precision    recall  f1-score   support\n",
      "\n",
      "          -1       0.73      0.86      0.79      8192\n",
      "           1       0.67      0.47      0.55      5008\n",
      "\n",
      "    accuracy                           0.71     13200\n",
      "   macro avg       0.70      0.67      0.67     13200\n",
      "weighted avg       0.71      0.71      0.70     13200\n",
      "\n"
     ]
    }
   ],
   "source": [
    "y_hat = lr.predict(X_test)\n",
    "print(classification_report(y_test, y_hat))"
   ]
  },
  {
   "cell_type": "code",
   "execution_count": 53,
   "metadata": {
    "colab": {
     "base_uri": "https://localhost:8080/",
     "height": 255
    },
    "colab_type": "code",
    "id": "NTwLxacRKYVU",
    "outputId": "a2a00965-47a3-4f6d-ebc0-64b5a0b725d6"
   },
   "outputs": [
    {
     "data": {
      "text/plain": [
       "GridSearchCV(cv=5, error_score='raise-deprecating',\n",
       "             estimator=LogisticRegression(C=1.0, class_weight=None, dual=False,\n",
       "                                          fit_intercept=False,\n",
       "                                          intercept_scaling=1, l1_ratio=None,\n",
       "                                          max_iter=100, multi_class='warn',\n",
       "                                          n_jobs=None, penalty='l2',\n",
       "                                          random_state=3504, solver='warn',\n",
       "                                          tol=0.0001, verbose=0,\n",
       "                                          warm_start=False),\n",
       "             iid='warn', n_jobs=-1,\n",
       "             param_grid={'C': array([1.e-03, 1.e-02, 1.e-01, 1.e+00, 1.e+01, 1.e+02, 1.e+03]),\n",
       "                         'penalty': ['l1', 'l2']},\n",
       "             pre_dispatch='2*n_jobs', refit=True, return_train_score=False,\n",
       "             scoring='f1', verbose=0)"
      ]
     },
     "execution_count": 53,
     "metadata": {},
     "output_type": "execute_result"
    }
   ],
   "source": [
    "grid={\"C\":np.logspace(-3,3,7), \"penalty\":[\"l1\",\"l2\"]}# l1 lasso l2 ridge\n",
    "logreg=LogisticRegression(random_state=3504, fit_intercept=False)\n",
    "logreg_cv=GridSearchCV(logreg,grid,cv=5, scoring='f1', n_jobs=-1)\n",
    "logreg_cv.fit(X_train,y_train)"
   ]
  },
  {
   "cell_type": "markdown",
   "metadata": {
    "colab_type": "text",
    "id": "0EsdO_KQEMGl"
   },
   "source": [
    "Utilizamos GridSearch para optimizar los hiperparámetros"
   ]
  },
  {
   "cell_type": "code",
   "execution_count": 54,
   "metadata": {
    "colab": {
     "base_uri": "https://localhost:8080/",
     "height": 34
    },
    "colab_type": "code",
    "id": "JxXooLC3Kmm6",
    "outputId": "8847adf8-8149-4cb3-c28f-e28c5f2f4dd7"
   },
   "outputs": [
    {
     "data": {
      "text/plain": [
       "{'C': 1.0, 'penalty': 'l1'}"
      ]
     },
     "execution_count": 54,
     "metadata": {},
     "output_type": "execute_result"
    }
   ],
   "source": [
    "logreg_cv.best_params_"
   ]
  },
  {
   "cell_type": "code",
   "execution_count": 55,
   "metadata": {
    "colab": {
     "base_uri": "https://localhost:8080/",
     "height": 170
    },
    "colab_type": "code",
    "id": "qdpCWe0RzUj2",
    "outputId": "b05d7ea2-238c-4cc2-9a35-ba4f40b8ccca"
   },
   "outputs": [
    {
     "name": "stdout",
     "output_type": "stream",
     "text": [
      "              precision    recall  f1-score   support\n",
      "\n",
      "          -1       0.73      0.81      0.77      8192\n",
      "           1       0.63      0.52      0.57      5008\n",
      "\n",
      "    accuracy                           0.70     13200\n",
      "   macro avg       0.68      0.67      0.67     13200\n",
      "weighted avg       0.69      0.70      0.69     13200\n",
      "\n"
     ]
    }
   ],
   "source": [
    "y_hat = logreg_cv.best_estimator_.predict(X_test)\n",
    "print(classification_report(y_test, y_hat))"
   ]
  },
  {
   "cell_type": "markdown",
   "metadata": {
    "colab_type": "text",
    "id": "Zmih3zFiD3Er"
   },
   "source": [
    "al utilizar la regresion logistica observamos que se repite el patron, la clase -1 tiene un valor de mejor desempeño que 1, por otro lado en su conjunto la metrica f-1 nos arroja un 67%"
   ]
  },
  {
   "cell_type": "markdown",
   "metadata": {
    "colab_type": "text",
    "id": "ceuaojNQHqxi"
   },
   "source": [
    "**4.3- Classification Tree**"
   ]
  },
  {
   "cell_type": "code",
   "execution_count": 56,
   "metadata": {
    "colab": {},
    "colab_type": "code",
    "id": "g15z8nsE3QoH"
   },
   "outputs": [],
   "source": [
    "from sklearn.tree import DecisionTreeClassifier\n",
    "\n",
    "dtc = DecisionTreeClassifier()"
   ]
  },
  {
   "cell_type": "code",
   "execution_count": 57,
   "metadata": {
    "colab": {
     "base_uri": "https://localhost:8080/",
     "height": 119
    },
    "colab_type": "code",
    "id": "XOPmyeQEIBVk",
    "outputId": "811bac1f-bcca-40e0-8afe-1471542b5235"
   },
   "outputs": [
    {
     "data": {
      "text/plain": [
       "DecisionTreeClassifier(class_weight=None, criterion='gini', max_depth=None,\n",
       "                       max_features=None, max_leaf_nodes=None,\n",
       "                       min_impurity_decrease=0.0, min_impurity_split=None,\n",
       "                       min_samples_leaf=1, min_samples_split=2,\n",
       "                       min_weight_fraction_leaf=0.0, presort=False,\n",
       "                       random_state=None, splitter='best')"
      ]
     },
     "execution_count": 57,
     "metadata": {},
     "output_type": "execute_result"
    }
   ],
   "source": [
    "dtc.fit(X_train, y_train)"
   ]
  },
  {
   "cell_type": "code",
   "execution_count": 58,
   "metadata": {
    "colab": {
     "base_uri": "https://localhost:8080/",
     "height": 170
    },
    "colab_type": "code",
    "id": "5_GNEiE8IGRb",
    "outputId": "d84f0552-2c70-4376-efd8-b9fc3937921a"
   },
   "outputs": [
    {
     "name": "stdout",
     "output_type": "stream",
     "text": [
      "              precision    recall  f1-score   support\n",
      "\n",
      "          -1       0.71      0.76      0.73      8192\n",
      "           1       0.55      0.48      0.51      5008\n",
      "\n",
      "    accuracy                           0.65     13200\n",
      "   macro avg       0.63      0.62      0.62     13200\n",
      "weighted avg       0.65      0.65      0.65     13200\n",
      "\n"
     ]
    }
   ],
   "source": [
    "y_hat = dtc.predict(X_test)\n",
    "print(classification_report(y_test, y_hat))"
   ]
  },
  {
   "cell_type": "markdown",
   "metadata": {},
   "source": [
    "para el arbol de clasificacion obetenemos que la tendencia de obtener mejores resultados en la clase -1 continua, en este caso enontramos un valo de f-1 promedio de 62%"
   ]
  },
  {
   "cell_type": "code",
   "execution_count": 59,
   "metadata": {
    "colab": {},
    "colab_type": "code",
    "id": "QBtGtJsoskO4"
   },
   "outputs": [],
   "source": [
    "import pickle"
   ]
  },
  {
   "cell_type": "code",
   "execution_count": 60,
   "metadata": {
    "colab": {
     "base_uri": "https://localhost:8080/",
     "height": 426
    },
    "colab_type": "code",
    "id": "SrwDqM54IhN8",
    "outputId": "b1e5d2db-09eb-4e82-aa6a-6dc12a59d948"
   },
   "outputs": [],
   "source": [
    "try:\n",
    "    dec_tree_grid_cv = pickle.load(open('dec_tree_grid_cv.sav','rb'))\n",
    "except:\n",
    "\n",
    "    dec_tree_grid_cv = GridSearchCV(DecisionTreeClassifier(),\n",
    "                                        # evaluamos 10 escenarios\n",
    "                                       {'min_samples_split': np.linspace(0.1, 1.0, 10),\n",
    "                                        # implementando 2 criterios de partición\n",
    "                                        'criterion': ['gini', 'entropy'],\n",
    "                                        # con una profundidad de ramas hasta 5\n",
    "                                       'max_depth': np.linspace(1, 5, 5),\n",
    "                                        # evaluando 10 escenarios\n",
    "                                       'min_samples_leaf': np.linspace(0.1, 0.5, 10)},\n",
    "                                    # Con 3 validaciones cruzadas\n",
    "                                    cv=3,\n",
    "                                    # Ocupando todos los núcleos del computador\n",
    "                                    n_jobs=-1, scoring='f1').fit(X_train, y_train)\n",
    "\n",
    "    pickle.dump(dec_tree_grid_cv, open('dec_tree_grid_cv.sav','wb'))"
   ]
  },
  {
   "cell_type": "code",
   "execution_count": 61,
   "metadata": {
    "colab": {
     "base_uri": "https://localhost:8080/",
     "height": 85
    },
    "colab_type": "code",
    "id": "W-jPZgA7IvrF",
    "outputId": "5367d1a2-a8a5-4d15-de91-d3369a3d24c2"
   },
   "outputs": [
    {
     "data": {
      "text/plain": [
       "{'criterion': 'gini',\n",
       " 'max_depth': 1.0,\n",
       " 'min_samples_leaf': 0.1,\n",
       " 'min_samples_split': 0.1}"
      ]
     },
     "execution_count": 61,
     "metadata": {},
     "output_type": "execute_result"
    }
   ],
   "source": [
    "dec_tree_grid_cv.best_params_"
   ]
  },
  {
   "cell_type": "code",
   "execution_count": 62,
   "metadata": {
    "colab": {
     "base_uri": "https://localhost:8080/",
     "height": 170
    },
    "colab_type": "code",
    "id": "5ANehls_JgSr",
    "outputId": "015c0146-cad5-4dd8-f3b2-0b39a1ac2b74"
   },
   "outputs": [
    {
     "name": "stdout",
     "output_type": "stream",
     "text": [
      "              precision    recall  f1-score   support\n",
      "\n",
      "          -1       0.62      1.00      0.77      8192\n",
      "           1       0.00      0.00      0.00      5008\n",
      "\n",
      "    accuracy                           0.62     13200\n",
      "   macro avg       0.31      0.50      0.38     13200\n",
      "weighted avg       0.39      0.62      0.48     13200\n",
      "\n"
     ]
    }
   ],
   "source": [
    "y_hat = dec_tree_grid_cv.best_estimator_.predict(X_test)\n",
    "print(classification_report(y_test, y_hat))"
   ]
  },
  {
   "cell_type": "markdown",
   "metadata": {},
   "source": [
    "al intentar hacer una busqueda de mejores hiperparametros nos encontramos con que la clase -1 tiene una mejora en su f-1, pero nos arroja un valor de 0 para la clase 1, por lo que nuestro f-1 se ve bastante afectado con un f-1 de 38%"
   ]
  },
  {
   "cell_type": "markdown",
   "metadata": {
    "colab_type": "text",
    "id": "_TA5e1rt21Ey"
   },
   "source": [
    "**4.4- Random Forest**"
   ]
  },
  {
   "cell_type": "code",
   "execution_count": 63,
   "metadata": {
    "colab": {},
    "colab_type": "code",
    "id": "CaZMaFik3NXV"
   },
   "outputs": [],
   "source": [
    "from sklearn.ensemble import RandomForestClassifier"
   ]
  },
  {
   "cell_type": "code",
   "execution_count": 64,
   "metadata": {
    "colab": {},
    "colab_type": "code",
    "id": "03jJC2OB29qu"
   },
   "outputs": [],
   "source": [
    "voting_rf = RandomForestClassifier(oob_score=True, random_state=11238).fit(X_train, y_train)"
   ]
  },
  {
   "cell_type": "code",
   "execution_count": 65,
   "metadata": {
    "colab": {
     "base_uri": "https://localhost:8080/",
     "height": 170
    },
    "colab_type": "code",
    "id": "YixUA6dr2oju",
    "outputId": "ba07b01d-fe27-47df-b1c0-5af7c24cb73e"
   },
   "outputs": [
    {
     "name": "stdout",
     "output_type": "stream",
     "text": [
      "              precision    recall  f1-score   support\n",
      "\n",
      "          -1       0.72      0.77      0.75      8192\n",
      "           1       0.58      0.51      0.54      5008\n",
      "\n",
      "    accuracy                           0.67     13200\n",
      "   macro avg       0.65      0.64      0.64     13200\n",
      "weighted avg       0.67      0.67      0.67     13200\n",
      "\n"
     ]
    }
   ],
   "source": [
    "print(classification_report(y_test, voting_rf.predict(X_test)))"
   ]
  },
  {
   "cell_type": "markdown",
   "metadata": {
    "colab_type": "text",
    "id": "ugNixZmRG6yl"
   },
   "source": [
    "en random forest como en todos los modelos vistos la clase -1 de nuestro vector objetivo tiene mucho mejor f-1 que la clase 1, nuestro F-1 de ambas clases nos arroja un %64"
   ]
  },
  {
   "cell_type": "markdown",
   "metadata": {
    "colab_type": "text",
    "id": "vL6J0z093qZT"
   },
   "source": [
    "**4.5- AdaBoost**"
   ]
  },
  {
   "cell_type": "code",
   "execution_count": 66,
   "metadata": {
    "colab": {},
    "colab_type": "code",
    "id": "k55y5H5C3mX_"
   },
   "outputs": [],
   "source": [
    "decision_stump = DecisionTreeClassifier(max_depth=5, random_state=11238).fit(X_train, y_train)"
   ]
  },
  {
   "cell_type": "code",
   "execution_count": 67,
   "metadata": {
    "colab": {},
    "colab_type": "code",
    "id": "lPWoMGcl3mwj"
   },
   "outputs": [],
   "source": [
    "from sklearn.ensemble import AdaBoostClassifier\n",
    "#adaboost_classifier = AdaBoostClassifier(base_estimator=logreg_cv.best_estimator_, random_state=3504).fit(X_train, y_train)\n",
    "adaboost_classifier = GridSearchCV(AdaBoostClassifier(base_estimator=decision_stump, random_state=3504),{'learning_rate':[0.01,0.1,0.5],'n_estimators':[50,100]},cv=2, n_jobs=-1).fit(X_train, y_train)"
   ]
  },
  {
   "cell_type": "code",
   "execution_count": 68,
   "metadata": {},
   "outputs": [
    {
     "data": {
      "text/plain": [
       "{'learning_rate': 0.5, 'n_estimators': 50}"
      ]
     },
     "execution_count": 68,
     "metadata": {},
     "output_type": "execute_result"
    }
   ],
   "source": [
    "adaboost_classifier.best_params_"
   ]
  },
  {
   "cell_type": "code",
   "execution_count": 69,
   "metadata": {},
   "outputs": [],
   "source": [
    "adaboost_y_hat=adaboost_classifier.predict(X_test)"
   ]
  },
  {
   "cell_type": "code",
   "execution_count": 70,
   "metadata": {
    "colab": {
     "base_uri": "https://localhost:8080/",
     "height": 170
    },
    "colab_type": "code",
    "id": "KJDCGIh83nGZ",
    "outputId": "de6a1ace-5e6d-426c-9eac-0769112ce476"
   },
   "outputs": [
    {
     "name": "stdout",
     "output_type": "stream",
     "text": [
      "              precision    recall  f1-score   support\n",
      "\n",
      "          -1       0.72      0.86      0.79      8192\n",
      "           1       0.67      0.45      0.54      5008\n",
      "\n",
      "    accuracy                           0.71     13200\n",
      "   macro avg       0.70      0.66      0.66     13200\n",
      "weighted avg       0.70      0.71      0.69     13200\n",
      "\n"
     ]
    }
   ],
   "source": [
    "print(classification_report(y_test, adaboost_y_hat))"
   ]
  },
  {
   "cell_type": "markdown",
   "metadata": {
    "colab_type": "text",
    "id": "jVVW1wXcFUAs"
   },
   "source": [
    "pese a hacer una busqueda de grilla el modelo  no presenta un buen rendimiento, en la clase -1 es otra vez mejor pero en la clase 1 preseta un rendimeinto mas bajo, se repite el patron general de todos los modelos vistos anteriormente, el promedio del f-1 de ambas clases es de %66"
   ]
  },
  {
   "cell_type": "markdown",
   "metadata": {
    "colab_type": "text",
    "id": "hdinBH2I40a3"
   },
   "source": [
    "**4.6- Voting Clasifier**"
   ]
  },
  {
   "cell_type": "code",
   "execution_count": 71,
   "metadata": {
    "colab": {},
    "colab_type": "code",
    "id": "u7aYZcTU3oIF"
   },
   "outputs": [],
   "source": [
    "from sklearn.discriminant_analysis import LinearDiscriminantAnalysis\n",
    "\n",
    "\n",
    "# definimos el comité de clasificadores en una lista de tuplas\n",
    "\n",
    "rep_seed = 3504\n",
    "\n",
    "\n",
    "estimators3 = [('Linear Discriminant Analysis', LinearDiscriminantAnalysis()),\n",
    "              ('Logistic Regression', LogisticRegression(random_state= rep_seed,fit_intercept=False)),\n",
    "              \n",
    "              ('Naive Bayes', BernoulliNB())\n",
    "             ]"
   ]
  },
  {
   "cell_type": "markdown",
   "metadata": {
    "colab_type": "text",
    "id": "4HhAHiiqIiw1"
   },
   "source": [
    "\n",
    "Generamos un loop que nos permite buscar cual es el mejor f-1 macro de una combinación de pesos, de forma de elegir el mejor"
   ]
  },
  {
   "cell_type": "code",
   "execution_count": 72,
   "metadata": {
    "colab": {
     "base_uri": "https://localhost:8080/",
     "height": 793
    },
    "colab_type": "code",
    "id": "ZufZopad4-dU",
    "outputId": "f944538a-4c8b-4c48-c05b-07ffca327e07"
   },
   "outputs": [
    {
     "data": {
      "text/html": [
       "<div>\n",
       "<style scoped>\n",
       "    .dataframe tbody tr th:only-of-type {\n",
       "        vertical-align: middle;\n",
       "    }\n",
       "\n",
       "    .dataframe tbody tr th {\n",
       "        vertical-align: top;\n",
       "    }\n",
       "\n",
       "    .dataframe thead th {\n",
       "        text-align: right;\n",
       "    }\n",
       "</style>\n",
       "<table border=\"1\" class=\"dataframe\">\n",
       "  <thead>\n",
       "    <tr style=\"text-align: right;\">\n",
       "      <th></th>\n",
       "      <th>w1</th>\n",
       "      <th>w2</th>\n",
       "      <th>w3</th>\n",
       "      <th>f1</th>\n",
       "    </tr>\n",
       "  </thead>\n",
       "  <tbody>\n",
       "    <tr>\n",
       "      <th>0</th>\n",
       "      <td>1.0</td>\n",
       "      <td>1.0</td>\n",
       "      <td>2.0</td>\n",
       "      <td>0.679118</td>\n",
       "    </tr>\n",
       "    <tr>\n",
       "      <th>4</th>\n",
       "      <td>1.0</td>\n",
       "      <td>2.0</td>\n",
       "      <td>3.0</td>\n",
       "      <td>0.679029</td>\n",
       "    </tr>\n",
       "    <tr>\n",
       "      <th>7</th>\n",
       "      <td>1.0</td>\n",
       "      <td>3.0</td>\n",
       "      <td>3.0</td>\n",
       "      <td>0.678387</td>\n",
       "    </tr>\n",
       "    <tr>\n",
       "      <th>12</th>\n",
       "      <td>2.0</td>\n",
       "      <td>2.0</td>\n",
       "      <td>3.0</td>\n",
       "      <td>0.678216</td>\n",
       "    </tr>\n",
       "    <tr>\n",
       "      <th>6</th>\n",
       "      <td>1.0</td>\n",
       "      <td>3.0</td>\n",
       "      <td>2.0</td>\n",
       "      <td>0.678194</td>\n",
       "    </tr>\n",
       "    <tr>\n",
       "      <th>3</th>\n",
       "      <td>1.0</td>\n",
       "      <td>2.0</td>\n",
       "      <td>2.0</td>\n",
       "      <td>0.678077</td>\n",
       "    </tr>\n",
       "    <tr>\n",
       "      <th>2</th>\n",
       "      <td>1.0</td>\n",
       "      <td>2.0</td>\n",
       "      <td>1.0</td>\n",
       "      <td>0.677955</td>\n",
       "    </tr>\n",
       "    <tr>\n",
       "      <th>15</th>\n",
       "      <td>2.0</td>\n",
       "      <td>3.0</td>\n",
       "      <td>3.0</td>\n",
       "      <td>0.677876</td>\n",
       "    </tr>\n",
       "    <tr>\n",
       "      <th>1</th>\n",
       "      <td>1.0</td>\n",
       "      <td>1.0</td>\n",
       "      <td>3.0</td>\n",
       "      <td>0.677844</td>\n",
       "    </tr>\n",
       "    <tr>\n",
       "      <th>10</th>\n",
       "      <td>2.0</td>\n",
       "      <td>1.0</td>\n",
       "      <td>3.0</td>\n",
       "      <td>0.677238</td>\n",
       "    </tr>\n",
       "    <tr>\n",
       "      <th>14</th>\n",
       "      <td>2.0</td>\n",
       "      <td>3.0</td>\n",
       "      <td>2.0</td>\n",
       "      <td>0.677124</td>\n",
       "    </tr>\n",
       "    <tr>\n",
       "      <th>21</th>\n",
       "      <td>3.0</td>\n",
       "      <td>2.0</td>\n",
       "      <td>3.0</td>\n",
       "      <td>0.677068</td>\n",
       "    </tr>\n",
       "    <tr>\n",
       "      <th>9</th>\n",
       "      <td>2.0</td>\n",
       "      <td>1.0</td>\n",
       "      <td>2.0</td>\n",
       "      <td>0.676543</td>\n",
       "    </tr>\n",
       "    <tr>\n",
       "      <th>5</th>\n",
       "      <td>1.0</td>\n",
       "      <td>3.0</td>\n",
       "      <td>1.0</td>\n",
       "      <td>0.676388</td>\n",
       "    </tr>\n",
       "    <tr>\n",
       "      <th>18</th>\n",
       "      <td>3.0</td>\n",
       "      <td>1.0</td>\n",
       "      <td>3.0</td>\n",
       "      <td>0.676256</td>\n",
       "    </tr>\n",
       "    <tr>\n",
       "      <th>13</th>\n",
       "      <td>2.0</td>\n",
       "      <td>3.0</td>\n",
       "      <td>1.0</td>\n",
       "      <td>0.675959</td>\n",
       "    </tr>\n",
       "    <tr>\n",
       "      <th>23</th>\n",
       "      <td>3.0</td>\n",
       "      <td>3.0</td>\n",
       "      <td>2.0</td>\n",
       "      <td>0.675417</td>\n",
       "    </tr>\n",
       "    <tr>\n",
       "      <th>19</th>\n",
       "      <td>3.0</td>\n",
       "      <td>2.0</td>\n",
       "      <td>1.0</td>\n",
       "      <td>0.675337</td>\n",
       "    </tr>\n",
       "    <tr>\n",
       "      <th>17</th>\n",
       "      <td>3.0</td>\n",
       "      <td>1.0</td>\n",
       "      <td>2.0</td>\n",
       "      <td>0.675265</td>\n",
       "    </tr>\n",
       "    <tr>\n",
       "      <th>11</th>\n",
       "      <td>2.0</td>\n",
       "      <td>2.0</td>\n",
       "      <td>1.0</td>\n",
       "      <td>0.675170</td>\n",
       "    </tr>\n",
       "    <tr>\n",
       "      <th>20</th>\n",
       "      <td>3.0</td>\n",
       "      <td>2.0</td>\n",
       "      <td>2.0</td>\n",
       "      <td>0.675055</td>\n",
       "    </tr>\n",
       "    <tr>\n",
       "      <th>22</th>\n",
       "      <td>3.0</td>\n",
       "      <td>3.0</td>\n",
       "      <td>1.0</td>\n",
       "      <td>0.674369</td>\n",
       "    </tr>\n",
       "    <tr>\n",
       "      <th>16</th>\n",
       "      <td>3.0</td>\n",
       "      <td>1.0</td>\n",
       "      <td>1.0</td>\n",
       "      <td>0.674253</td>\n",
       "    </tr>\n",
       "    <tr>\n",
       "      <th>8</th>\n",
       "      <td>2.0</td>\n",
       "      <td>1.0</td>\n",
       "      <td>1.0</td>\n",
       "      <td>0.674082</td>\n",
       "    </tr>\n",
       "  </tbody>\n",
       "</table>\n",
       "</div>"
      ],
      "text/plain": [
       "     w1   w2   w3        f1\n",
       "0   1.0  1.0  2.0  0.679118\n",
       "4   1.0  2.0  3.0  0.679029\n",
       "7   1.0  3.0  3.0  0.678387\n",
       "12  2.0  2.0  3.0  0.678216\n",
       "6   1.0  3.0  2.0  0.678194\n",
       "3   1.0  2.0  2.0  0.678077\n",
       "2   1.0  2.0  1.0  0.677955\n",
       "15  2.0  3.0  3.0  0.677876\n",
       "1   1.0  1.0  3.0  0.677844\n",
       "10  2.0  1.0  3.0  0.677238\n",
       "14  2.0  3.0  2.0  0.677124\n",
       "21  3.0  2.0  3.0  0.677068\n",
       "9   2.0  1.0  2.0  0.676543\n",
       "5   1.0  3.0  1.0  0.676388\n",
       "18  3.0  1.0  3.0  0.676256\n",
       "13  2.0  3.0  1.0  0.675959\n",
       "23  3.0  3.0  2.0  0.675417\n",
       "19  3.0  2.0  1.0  0.675337\n",
       "17  3.0  1.0  2.0  0.675265\n",
       "11  2.0  2.0  1.0  0.675170\n",
       "20  3.0  2.0  2.0  0.675055\n",
       "22  3.0  3.0  1.0  0.674369\n",
       "16  3.0  1.0  1.0  0.674253\n",
       "8   2.0  1.0  1.0  0.674082"
      ]
     },
     "execution_count": 72,
     "metadata": {},
     "output_type": "execute_result"
    }
   ],
   "source": [
    "from sklearn.ensemble import VotingClassifier\n",
    "df_n = pd.DataFrame(columns=('w1', 'w2', 'w3', 'f1'))\n",
    "\n",
    "i = 0\n",
    "for w1 in range(1,4):\n",
    "    for w2 in range(1,4):\n",
    "        for w3 in range(1,4):\n",
    "\n",
    "            if len(set((w1,w2,w3))) == 1: \n",
    "                continue\n",
    "            voting_classifier = VotingClassifier(estimators3,voting='soft',weights=(w1,w2,w3)).fit(X_train, y_train)\n",
    "            #print((w1,w2,w3))\n",
    "            #print(classification_report(y_test, voting_classifier.predict(X_test)))\n",
    "            \n",
    "            df_l = pd.DataFrame(classification_report(y_test, voting_classifier.predict(X_test), output_dict=True))\n",
    "            df_l.ix[0,3]\n",
    "            df_n.loc[i] = [w1, w2, w3, df_l.ix[0,3]]\n",
    "            i += 1\n",
    "df_n.sort_values(by='f1', ascending=False)\n"
   ]
  },
  {
   "cell_type": "code",
   "execution_count": 73,
   "metadata": {
    "colab": {},
    "colab_type": "code",
    "id": "bhtThwmC4-qn"
   },
   "outputs": [],
   "source": [
    "voting_classifier = VotingClassifier(estimators3,voting='soft',weights=[1,2,2]).fit(X_train, y_train)"
   ]
  },
  {
   "cell_type": "code",
   "execution_count": 74,
   "metadata": {
    "colab": {
     "base_uri": "https://localhost:8080/",
     "height": 170
    },
    "colab_type": "code",
    "id": "5h729m1M4_Hc",
    "outputId": "7b44f5ce-7ff4-438e-cf77-65dc2ac694b6"
   },
   "outputs": [
    {
     "name": "stdout",
     "output_type": "stream",
     "text": [
      "              precision    recall  f1-score   support\n",
      "\n",
      "          -1       0.73      0.85      0.79      8192\n",
      "           1       0.67      0.50      0.57      5008\n",
      "\n",
      "    accuracy                           0.71     13200\n",
      "   macro avg       0.70      0.67      0.68     13200\n",
      "weighted avg       0.71      0.71      0.70     13200\n",
      "\n"
     ]
    }
   ],
   "source": [
    "print(classification_report(y_test, voting_classifier.predict(X_test)))"
   ]
  },
  {
   "cell_type": "markdown",
   "metadata": {
    "colab_type": "text",
    "id": "hJj5BI1KIvqY"
   },
   "source": [
    "El Voting classifier nos da una de las mejores puntuaciones de f-1, el mismo que NB, promediamos un F-1 de 68% por lo que este modelo sera seleccionado para ser serializado"
   ]
  },
  {
   "cell_type": "markdown",
   "metadata": {
    "colab_type": "text",
    "id": "gW07r7BuMvul"
   },
   "source": [
    "\n",
    "**5. Seleccione los 2 mejores modelos, serialicelos y envíelos a evaluación. Recuerde que el\n",
    "modelo serializado debe ser posterior al fit , para poder ejecutar predict en los nuevos\n",
    "datos.**\n",
    "\n"
   ]
  },
  {
   "cell_type": "markdown",
   "metadata": {
    "colab_type": "text",
    "id": "dVsKmAN7JdZ7"
   },
   "source": [
    "Los dos mejores modelos son naive bayes, y voting classifier. Serializamos ambos"
   ]
  },
  {
   "cell_type": "code",
   "execution_count": 75,
   "metadata": {
    "colab": {},
    "colab_type": "code",
    "id": "HAryRhLMIuxU"
   },
   "outputs": [],
   "source": [
    "pickle.dump(X_train, open('TTH-X_train.sav', 'wb'))\n",
    "pickle.dump(X_test, open('TTH-X_test.sav', 'wb'))\n",
    "pickle.dump(y_train, open('TTH-y_train.sav', 'wb'))\n",
    "pickle.dump(y_test, open('TTH-y_test.sav', 'wb'))\n",
    "NV_modelo_1 = pickle.dump(NB, open('modelo-1.sav','wb')) # Naive Bayes\n",
    "VC_modelo_2 = pickle.dump(voting_classifier, open('modelo-2.sav','wb')) # Voting classifier\n"
   ]
  },
  {
   "cell_type": "markdown",
   "metadata": {
    "colab_type": "text",
    "id": "h5cVyq5fMykg"
   },
   "source": [
    "**6. La evaluación del modelo será realizada en función a un conjunto de datos reservados al cual no tienen acceso.**"
   ]
  },
  {
   "cell_type": "code",
   "execution_count": null,
   "metadata": {},
   "outputs": [],
   "source": []
  }
 ],
 "metadata": {
  "colab": {
   "collapsed_sections": [],
   "machine_shape": "hm",
   "name": "Prueba 1: Análisis de Sentimientos de Twitter.ipynb",
   "provenance": [],
   "version": "0.3.2"
  },
  "kernelspec": {
   "display_name": "Python 3",
   "language": "python",
   "name": "python3"
  },
  "language_info": {
   "codemirror_mode": {
    "name": "ipython",
    "version": 3
   },
   "file_extension": ".py",
   "mimetype": "text/x-python",
   "name": "python",
   "nbconvert_exporter": "python",
   "pygments_lexer": "ipython3",
   "version": "3.7.3"
  }
 },
 "nbformat": 4,
 "nbformat_minor": 1
}
