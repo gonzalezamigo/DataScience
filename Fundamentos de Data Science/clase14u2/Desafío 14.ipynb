{
 "cells": [
  {
   "cell_type": "markdown",
   "metadata": {},
   "source": [
    "# Desafío - Dimensionalidad y Agrupación (II)\n",
    "## Desafío 1: Preparación del ambiente de trabajo\n",
    "Para este desafío trabajaremos de manera conjunta identificando la paleta de colores de carátulas\n",
    "de álbumes.\n",
    "- Las imágenes se encuentran en una carpeta con el nombre album_covers\n",
    "- Cada imagen tiene la siguiente nomenclatura: artista-nombre-del-album.jpg .\n",
    "El objetivo es generar un método que nos permita identificar la dominancia de una cantidad finita de\n",
    "colores.\n",
    "Para importar imágenes y visualizarlas, vamos a importar las siguientes librerías:\n",
    "- Comencemos por incluír las librerías clásicas: pandas , numpy y matplotlib.pyplot .\n",
    "- sklearn.cluster.KMeans : para extraer los principales componentes de una matriz numérica.\n",
    "- skimage.io : Para poder ingresar y leer imágenes."
   ]
  },
  {
   "cell_type": "code",
   "execution_count": 1,
   "metadata": {},
   "outputs": [],
   "source": [
    "import pandas as pd\n",
    "import numpy as np\n",
    "import matplotlib.pyplot as plt\n",
    "\n",
    "\n",
    "from sklearn.cluster import KMeans, MiniBatchKMeans\n",
    "from skimage import io\n",
    "\n",
    "import warnings \n",
    "warnings.filterwarnings(action='ignore')\n"
   ]
  },
  {
   "cell_type": "markdown",
   "metadata": {},
   "source": [
    "## Desafío 2: Importación de imagenes\n",
    "- Comencemos por ingresar una imágen a nuestro ambiente de trabajo. Para ello ocuparemos io.imread . ¿Qué devuelve?\n",
    "- Para visualizar la imágen en el notebook, ocupe io.imshow ."
   ]
  },
  {
   "cell_type": "code",
   "execution_count": 2,
   "metadata": {},
   "outputs": [
    {
     "name": "stdout",
     "output_type": "stream",
     "text": [
      " El volumen de la unidad C no tiene etiqueta.\n",
      " El n£mero de serie del volumen es: 80C1-8572\n",
      "\n",
      " Directorio de C:\\Users\\egonz\\OneDrive\\Escritorio\\Desafios\\Unidad 2\\clase14u2\\album_covers\n",
      "\n",
      "08-06-2019  11:04    <DIR>          .\n",
      "08-06-2019  11:04    <DIR>          ..\n",
      "24-09-2018  13:45             6.148 .DS_Store\n",
      "24-09-2018  13:45           300.260 alt-j-this-is-all-yours.jpg\n",
      "24-09-2018  13:45            94.751 altar-of-plagues-teethed-glory-and-injury.jpg\n",
      "24-09-2018  13:45           147.352 avalanches-since-i-left-you.jpg\n",
      "24-09-2018  13:45            62.222 backstreet-boys-millenium.jpg\n",
      "24-09-2018  13:45            42.512 big-krit-4eva-is-a-mighty.webp\n",
      "24-09-2018  13:45           173.614 britney-spears-baby-one-more-time.jpg\n",
      "24-09-2018  13:45           158.334 brockhampton-saturation-ii.jpg\n",
      "24-09-2018  13:45            34.730 car-bomb-meta.jpg\n",
      "24-09-2018  13:45            49.463 carly-rae-jepsen-emotion-side-b.jpg\n",
      "24-09-2018  13:45           916.944 carly-rae-jepsen-emotion.png\n",
      "24-09-2018  13:45           237.616 cloudkicker-let-yourself-be-huge.jpg\n",
      "24-09-2018  13:45         1.077.771 colin-stetson-sarah-neufeld-never-were-the-way-she-was.jpg\n",
      "24-09-2018  13:45            42.238 darkthrone-a-blaze-in-the-northern-sky.jpg\n",
      "24-09-2018  13:45           179.905 de-la-soul-3-feets-and-rising.jpg\n",
      "24-09-2018  13:45            62.622 deafheaven-roads-to-judah.jpg\n",
      "24-09-2018  13:45            61.213 deafheaven-sunbather.jpg\n",
      "24-09-2018  13:45           168.145 deathspell-omega-paracletus.jpg\n",
      "24-09-2018  13:45           130.786 deltron-3030-self-titled.jpg\n",
      "24-09-2018  13:45           514.492 denzel-curry-imperial.jpg\n",
      "24-09-2018  13:45         1.013.628 drake-take-care.jpg\n",
      "24-09-2018  13:45            55.264 dua-lipa-self-titled.jpeg\n",
      "24-09-2018  13:45           864.652 feist-pleasure.jpg\n",
      "24-09-2018  13:45           203.057 haken-aquarius.jpg\n",
      "24-09-2018  13:45           518.297 hop-along-bark-your-head-off.jpg\n",
      "24-09-2018  13:45           200.998 hop-along-painted-shut.jpg\n",
      "24-09-2018  13:45           149.378 immolation-close-to-a-world-below.jpg\n",
      "24-09-2018  13:45           164.138 immolation-dawn-of-possession.jpg\n",
      "24-09-2018  13:45             4.271 james-blake-self-titled.jpeg\n",
      "24-09-2018  13:45            36.765 jamie-xx-in-colour.jpeg\n",
      "24-09-2018  13:45           292.934 jay-z-kanye-west-watch-the-throne.jpeg\n",
      "24-09-2018  13:45            13.517 jon-hopkins-immunity.jpg\n",
      "24-09-2018  13:45            93.255 kendric-lamar-to-pimp-a-butterfly.jpg\n",
      "24-09-2018  13:45           192.014 lauryn-hill-the-miseducation-of-lauryn-hill.jpg\n",
      "24-09-2018  13:45            32.883 meshuggah-destroy-erase-create.jpg\n",
      "24-09-2018  13:45           322.831 nails-abandon-all-life.jpg\n",
      "24-09-2018  13:45            28.610 nsync-self-titled.jpg\n",
      "24-09-2018  13:45            71.494 opeth-blackwater-park.jpg\n",
      "24-09-2018  13:45           241.515 outkast-stankonia.jpg\n",
      "24-09-2018  13:45           114.013 the-clash-london-calling.jpg\n",
      "24-09-2018  13:45           100.218 the_weakerthans-reconstruction_site-frontal.jpg\n",
      "24-09-2018  13:45            79.547 wu-tang-clan-enter-the-wu-tang-36-chambers.jpg\n",
      "              42 archivos      9.254.397 bytes\n",
      "               2 dirs  254.052.753.408 bytes libres\n"
     ]
    }
   ],
   "source": [
    "! dir album_covers"
   ]
  },
  {
   "cell_type": "code",
   "execution_count": 3,
   "metadata": {},
   "outputs": [],
   "source": [
    "imagen = io.imread('car-bomb-meta.jpg')"
   ]
  },
  {
   "cell_type": "code",
   "execution_count": 4,
   "metadata": {},
   "outputs": [
    {
     "data": {
      "text/plain": [
       "array([[[17, 24, 34],\n",
       "        [17, 24, 34],\n",
       "        [17, 24, 34],\n",
       "        ...,\n",
       "        [35, 39, 42],\n",
       "        [35, 39, 42],\n",
       "        [35, 39, 42]],\n",
       "\n",
       "       [[17, 24, 34],\n",
       "        [17, 24, 34],\n",
       "        [17, 24, 34],\n",
       "        ...,\n",
       "        [35, 39, 42],\n",
       "        [35, 39, 42],\n",
       "        [35, 39, 42]],\n",
       "\n",
       "       [[17, 24, 34],\n",
       "        [17, 24, 34],\n",
       "        [17, 24, 34],\n",
       "        ...,\n",
       "        [35, 39, 42],\n",
       "        [35, 39, 42],\n",
       "        [35, 39, 42]],\n",
       "\n",
       "       ...,\n",
       "\n",
       "       [[17, 24, 34],\n",
       "        [17, 24, 34],\n",
       "        [17, 24, 34],\n",
       "        ...,\n",
       "        [35, 39, 42],\n",
       "        [35, 39, 42],\n",
       "        [35, 39, 42]],\n",
       "\n",
       "       [[17, 24, 34],\n",
       "        [17, 24, 34],\n",
       "        [17, 24, 34],\n",
       "        ...,\n",
       "        [35, 39, 42],\n",
       "        [35, 39, 42],\n",
       "        [35, 39, 42]],\n",
       "\n",
       "       [[17, 24, 34],\n",
       "        [17, 24, 34],\n",
       "        [17, 24, 34],\n",
       "        ...,\n",
       "        [35, 39, 42],\n",
       "        [35, 39, 42],\n",
       "        [35, 39, 42]]], dtype=uint8)"
      ]
     },
     "execution_count": 4,
     "metadata": {},
     "output_type": "execute_result"
    }
   ],
   "source": [
    "imagen"
   ]
  },
  {
   "cell_type": "code",
   "execution_count": 5,
   "metadata": {},
   "outputs": [
    {
     "data": {
      "text/plain": [
       "(700, 700, 3)"
      ]
     },
     "execution_count": 5,
     "metadata": {},
     "output_type": "execute_result"
    }
   ],
   "source": [
    "imagen.shape"
   ]
  },
  {
   "cell_type": "code",
   "execution_count": 6,
   "metadata": {},
   "outputs": [
    {
     "data": {
      "text/plain": [
       "numpy.ndarray"
      ]
     },
     "execution_count": 6,
     "metadata": {},
     "output_type": "execute_result"
    }
   ],
   "source": [
    "type(imagen)"
   ]
  },
  {
   "cell_type": "code",
   "execution_count": 7,
   "metadata": {},
   "outputs": [
    {
     "data": {
      "text/plain": [
       "<matplotlib.image.AxesImage at 0x1230c8efa20>"
      ]
     },
     "execution_count": 7,
     "metadata": {},
     "output_type": "execute_result"
    },
    {
     "data": {
      "image/png": "[encoded data removed]",
      "text/plain": [
       "<Figure size 432x288 with 1 Axes>"
      ]
     },
     "metadata": {
      "needs_background": "light"
     },
     "output_type": "display_data"
    }
   ],
   "source": [
    "io.imshow(imagen)"
   ]
  },
  {
   "cell_type": "code",
   "execution_count": null,
   "metadata": {},
   "outputs": [],
   "source": []
  },
  {
   "cell_type": "markdown",
   "metadata": {},
   "source": [
    "## Desafío 3: Preprocesamiento de imágenes y KMeans\n",
    "- Con la representación numérica de la imágen, vamos a extraer la altura, el ancho y la cantidad de canales mediante shape.\n",
    "- Posteriormente redimensionaremos la imágen con reshape .\n",
    "- Partamos por inicializar nuestro algoritmo KMeans con un k=8 , ¿Qué significará esto?\n",
    "- Vuelva a implementar el mismo algoritmo con MiniBatchKMeans . ¿Qué diferencia existe con KMeans ?\n"
   ]
  },
  {
   "cell_type": "code",
   "execution_count": 8,
   "metadata": {},
   "outputs": [
    {
     "data": {
      "text/plain": [
       "array([17, 24, 34], dtype=uint8)"
      ]
     },
     "execution_count": 8,
     "metadata": {},
     "output_type": "execute_result"
    }
   ],
   "source": [
    "imagen[0][0]# genera un un cubo representacion numerica del la imagen"
   ]
  },
  {
   "cell_type": "code",
   "execution_count": 10,
   "metadata": {},
   "outputs": [],
   "source": [
    "height, width, dims= imagen.shape  # funciona solo en numpay"
   ]
  },
  {
   "cell_type": "code",
   "execution_count": 11,
   "metadata": {},
   "outputs": [],
   "source": [
    "reshape_imagen = imagen.reshape(height * width, dims)"
   ]
  },
  {
   "cell_type": "code",
   "execution_count": 12,
   "metadata": {},
   "outputs": [],
   "source": [
    "modelo_km = KMeans(n_clusters =8)"
   ]
  },
  {
   "cell_type": "code",
   "execution_count": 13,
   "metadata": {},
   "outputs": [
    {
     "data": {
      "text/plain": [
       "KMeans(algorithm='auto', copy_x=True, init='k-means++', max_iter=300,\n",
       "    n_clusters=8, n_init=10, n_jobs=None, precompute_distances='auto',\n",
       "    random_state=None, tol=0.0001, verbose=0)"
      ]
     },
     "execution_count": 13,
     "metadata": {},
     "output_type": "execute_result"
    }
   ],
   "source": [
    "modelo_km.fit(reshape_imagen)"
   ]
  },
  {
   "cell_type": "code",
   "execution_count": 14,
   "metadata": {},
   "outputs": [
    {
     "data": {
      "text/plain": [
       "array([[183.64221557, 175.67702096, 154.87874252],\n",
       "       [ 35.05328179,  39.02024392,  42.05297422],\n",
       "       [214.07887559,  39.01479265,  44.05345116],\n",
       "       [140.29262015,  33.50231249,  48.94092097],\n",
       "       [ 16.90848643,  23.98611067,  33.87575237],\n",
       "       [ 90.28091201, 125.07794992, 148.20101335],\n",
       "       [245.054     , 163.102     ,  11.32533333],\n",
       "       [ 84.35317238,  39.05334082,  40.56765862]])"
      ]
     },
     "execution_count": 14,
     "metadata": {},
     "output_type": "execute_result"
    }
   ],
   "source": [
    "modelo_km.cluster_centers_"
   ]
  },
  {
   "cell_type": "markdown",
   "metadata": {},
   "source": [
    "## Desafío 4: Extracción de valores\n",
    "- Ahora extraeremos las etiquetas predichas con labels_ . Hasta el momento las etiquetas hacen referencia a cada centroide. Para imputar sentido en éstos, debemos extraer los valores de los centroides.\n",
    "- Para extraer los centroides (valores característicos), utilicemos el atributo cluster_centers_ .\n",
    "- Con las etiquetas, generaremos un conteo de ocurrencia con np.unique . Para extraer el conteo, debemos implementar la opción return_counts=True .\n"
   ]
  },
  {
   "cell_type": "code",
   "execution_count": 15,
   "metadata": {},
   "outputs": [],
   "source": [
    "centro_extraido = modelo_km.cluster_centers_\n",
    "new_colors_pred = modelo_km.cluster_centers_[\n",
    "    modelo_km.predict(reshape_imagen)].astype(int)"
   ]
  },
  {
   "cell_type": "code",
   "execution_count": 16,
   "metadata": {},
   "outputs": [
    {
     "data": {
      "text/plain": [
       "array([[16, 23, 33],\n",
       "       [16, 23, 33],\n",
       "       [16, 23, 33],\n",
       "       ...,\n",
       "       [35, 39, 42],\n",
       "       [35, 39, 42],\n",
       "       [35, 39, 42]])"
      ]
     },
     "execution_count": 16,
     "metadata": {},
     "output_type": "execute_result"
    }
   ],
   "source": [
    "new_colors_pred"
   ]
  },
  {
   "cell_type": "code",
   "execution_count": 17,
   "metadata": {},
   "outputs": [],
   "source": [
    "unique, count = np.unique(modelo_km.labels_, return_counts = True)"
   ]
  },
  {
   "cell_type": "code",
   "execution_count": 18,
   "metadata": {},
   "outputs": [
    {
     "data": {
      "text/plain": [
       "array([0, 1, 2, 3, 4, 5, 6, 7])"
      ]
     },
     "execution_count": 18,
     "metadata": {},
     "output_type": "execute_result"
    }
   ],
   "source": [
    "unique"
   ]
  },
  {
   "cell_type": "code",
   "execution_count": 19,
   "metadata": {},
   "outputs": [
    {
     "data": {
      "text/plain": [
       "array([ 18704, 234093,  71860,  24866, 126932,  10263,   1500,   1782],\n",
       "      dtype=int64)"
      ]
     },
     "execution_count": 19,
     "metadata": {},
     "output_type": "execute_result"
    }
   ],
   "source": [
    "count"
   ]
  },
  {
   "cell_type": "code",
   "execution_count": 20,
   "metadata": {},
   "outputs": [
    {
     "data": {
      "text/plain": [
       "(490000,)"
      ]
     },
     "execution_count": 20,
     "metadata": {},
     "output_type": "execute_result"
    }
   ],
   "source": [
    "modelo_km.labels_.shape"
   ]
  },
  {
   "cell_type": "markdown",
   "metadata": {},
   "source": [
    "## Desafío 5: Conversión rgb a hex\n",
    "- Con los centroides, vamos a convertirlos a formato hexadecimal. Vamos a generar una función y la pasaremos con map por cada centroide."
   ]
  },
  {
   "cell_type": "code",
   "execution_count": 21,
   "metadata": {},
   "outputs": [],
   "source": [
    "def rgb_hex_it(rgb):\n",
    "    tmp= list(map(lambda x:  int(x), rgb))\n",
    "    return '#%02x%02x%02x' % (tmp[0], tmp[1], tmp[2])"
   ]
  },
  {
   "cell_type": "code",
   "execution_count": 22,
   "metadata": {},
   "outputs": [],
   "source": [
    "hex_holder = list(map(lambda x: rgb_hex_it(x), centro_extraido))"
   ]
  },
  {
   "cell_type": "code",
   "execution_count": 23,
   "metadata": {},
   "outputs": [
    {
     "data": {
      "text/plain": [
       "array(['#101721', '#23272a', '#542728', '#5a7d94', '#8c2130', '#b7af9a',\n",
       "       '#d6272c', '#f5a30b'], dtype='<U7')"
      ]
     },
     "execution_count": 23,
     "metadata": {},
     "output_type": "execute_result"
    }
   ],
   "source": [
    "np.unique(hex_holder)\n",
    "#type(hex_holder)"
   ]
  },
  {
   "cell_type": "markdown",
   "metadata": {},
   "source": [
    "## Desafío 6: Definición de base\n",
    "Ahora generaremos un DataFrame con las siguientes variables:\n",
    "- El color hex .\n",
    "- La ocurrencia del color en cada pixel count .\n",
    "- El porcentaje de ocurrencia de cada color respecto a cluster_centers_ .\n",
    "Posteriormente ordenaremos los colores de forma descendente por el porcentaje de ocurrencia.\n"
   ]
  },
  {
   "cell_type": "code",
   "execution_count": 24,
   "metadata": {},
   "outputs": [
    {
     "data": {
      "text/html": [
       "<div>\n",
       "<style scoped>\n",
       "    .dataframe tbody tr th:only-of-type {\n",
       "        vertical-align: middle;\n",
       "    }\n",
       "\n",
       "    .dataframe tbody tr th {\n",
       "        vertical-align: top;\n",
       "    }\n",
       "\n",
       "    .dataframe thead th {\n",
       "        text-align: right;\n",
       "    }\n",
       "</style>\n",
       "<table border=\"1\" class=\"dataframe\">\n",
       "  <thead>\n",
       "    <tr style=\"text-align: right;\">\n",
       "      <th></th>\n",
       "      <th>hex</th>\n",
       "      <th>count</th>\n",
       "      <th>percentage</th>\n",
       "    </tr>\n",
       "  </thead>\n",
       "  <tbody>\n",
       "    <tr>\n",
       "      <th>1</th>\n",
       "      <td>#23272a</td>\n",
       "      <td>234093</td>\n",
       "      <td>0.477741</td>\n",
       "    </tr>\n",
       "    <tr>\n",
       "      <th>4</th>\n",
       "      <td>#101721</td>\n",
       "      <td>126932</td>\n",
       "      <td>0.259045</td>\n",
       "    </tr>\n",
       "    <tr>\n",
       "      <th>2</th>\n",
       "      <td>#d6272c</td>\n",
       "      <td>71860</td>\n",
       "      <td>0.146653</td>\n",
       "    </tr>\n",
       "    <tr>\n",
       "      <th>3</th>\n",
       "      <td>#8c2130</td>\n",
       "      <td>24866</td>\n",
       "      <td>0.050747</td>\n",
       "    </tr>\n",
       "    <tr>\n",
       "      <th>0</th>\n",
       "      <td>#b7af9a</td>\n",
       "      <td>18704</td>\n",
       "      <td>0.038171</td>\n",
       "    </tr>\n",
       "    <tr>\n",
       "      <th>5</th>\n",
       "      <td>#5a7d94</td>\n",
       "      <td>10263</td>\n",
       "      <td>0.020945</td>\n",
       "    </tr>\n",
       "    <tr>\n",
       "      <th>7</th>\n",
       "      <td>#542728</td>\n",
       "      <td>1782</td>\n",
       "      <td>0.003637</td>\n",
       "    </tr>\n",
       "    <tr>\n",
       "      <th>6</th>\n",
       "      <td>#f5a30b</td>\n",
       "      <td>1500</td>\n",
       "      <td>0.003061</td>\n",
       "    </tr>\n",
       "  </tbody>\n",
       "</table>\n",
       "</div>"
      ],
      "text/plain": [
       "       hex   count  percentage\n",
       "1  #23272a  234093    0.477741\n",
       "4  #101721  126932    0.259045\n",
       "2  #d6272c   71860    0.146653\n",
       "3  #8c2130   24866    0.050747\n",
       "0  #b7af9a   18704    0.038171\n",
       "5  #5a7d94   10263    0.020945\n",
       "7  #542728    1782    0.003637\n",
       "6  #f5a30b    1500    0.003061"
      ]
     },
     "execution_count": 24,
     "metadata": {},
     "output_type": "execute_result"
    }
   ],
   "source": [
    "demo = pd.concat([pd.Series(hex_holder), pd.Series(count)],axis=1)\n",
    "\n",
    "demo.columns=['hex', 'count']\n",
    "\n",
    "demo['percentage']= demo ['count']/ np.sum(demo['count'])\n",
    "demo=demo.sort_values(by='percentage', ascending = False)\n",
    "demo"
   ]
  },
  {
   "cell_type": "markdown",
   "metadata": {},
   "source": [
    "## Desafío 7: Visualización\n",
    "Genere un gráfico de barras donde presente el porcentaje de cada color. Las barras deben estar\n",
    "coloreadas con el color inferido"
   ]
  },
  {
   "cell_type": "code",
   "execution_count": 25,
   "metadata": {},
   "outputs": [
    {
     "data": {
      "text/plain": [
       "<BarContainer object of 8 artists>"
      ]
     },
     "execution_count": 25,
     "metadata": {},
     "output_type": "execute_result"
    },
    {
     "data": {
      "image/png": "[encoded data removed]",
      "text/plain": [
       "<Figure size 432x288 with 1 Axes>"
      ]
     },
     "metadata": {
      "needs_background": "light"
     },
     "output_type": "display_data"
    }
   ],
   "source": [
    "plt.barh(demo['hex'],demo['percentage'], color =demo['hex'])"
   ]
  },
  {
   "cell_type": "markdown",
   "metadata": {},
   "source": [
    "## Vuelva a implementar el mismo algoritmo con MiniBatchKMeans. ¿Qué diferencia existe con KMeans?"
   ]
  },
  {
   "cell_type": "code",
   "execution_count": 38,
   "metadata": {},
   "outputs": [
    {
     "data": {
      "text/plain": [
       "MiniBatchKMeans(batch_size=100, compute_labels=True, init='k-means++',\n",
       "        init_size=None, max_iter=100, max_no_improvement=10, n_clusters=8,\n",
       "        n_init=3, random_state=None, reassignment_ratio=0.01, tol=0.0,\n",
       "        verbose=0)"
      ]
     },
     "execution_count": 38,
     "metadata": {},
     "output_type": "execute_result"
    }
   ],
   "source": [
    "modelo_MiniBatchKmeans = MiniBatchKMeans(n_clusters = 8)\n",
    "modelo_MiniBatchKmeans"
   ]
  },
  {
   "cell_type": "code",
   "execution_count": 39,
   "metadata": {},
   "outputs": [
    {
     "data": {
      "text/plain": [
       "MiniBatchKMeans(batch_size=100, compute_labels=True, init='k-means++',\n",
       "        init_size=None, max_iter=100, max_no_improvement=10, n_clusters=8,\n",
       "        n_init=3, random_state=None, reassignment_ratio=0.01, tol=0.0,\n",
       "        verbose=0)"
      ]
     },
     "execution_count": 39,
     "metadata": {},
     "output_type": "execute_result"
    }
   ],
   "source": [
    "modelo_MiniBatchKmeans.fit(reshape_imagen)"
   ]
  },
  {
   "cell_type": "code",
   "execution_count": 40,
   "metadata": {},
   "outputs": [
    {
     "data": {
      "text/plain": [
       "array([[ 35.12537764,  38.95619335,  41.98942598],\n",
       "       [214.29545455,  38.98181818,  43.86818182],\n",
       "       [183.88888889, 176.26666667, 155.31111111],\n",
       "       [139.33802817,  33.        ,  48.85915493],\n",
       "       [247.33333333, 166.16666667,   8.33333333],\n",
       "       [ 16.7877095 ,  24.11731844,  33.75698324],\n",
       "       [ 90.02941176, 125.85294118, 149.64705882],\n",
       "       [ 72.75      ,  89.75      ,  99.5       ]])"
      ]
     },
     "execution_count": 40,
     "metadata": {},
     "output_type": "execute_result"
    }
   ],
   "source": [
    "modelo_MiniBatchKmeans.cluster_centers_"
   ]
  },
  {
   "cell_type": "code",
   "execution_count": 41,
   "metadata": {},
   "outputs": [
    {
     "data": {
      "text/plain": [
       "(8, 3)"
      ]
     },
     "execution_count": 41,
     "metadata": {},
     "output_type": "execute_result"
    }
   ],
   "source": [
    "modelo_MiniBatchKmeans.cluster_centers_.shape"
   ]
  },
  {
   "cell_type": "code",
   "execution_count": 42,
   "metadata": {},
   "outputs": [],
   "source": [
    "extract_center = modelo_MiniBatchKmeans.cluster_centers_ # los canales rgd solo funcionan con número enteros\n",
    "new_colors_pred = modelo_MiniBatchKmeans.cluster_centers_[\n",
    "    modelo_MiniBatchKmeans.predict(reshape_imagen)].astype(int)"
   ]
  },
  {
   "cell_type": "code",
   "execution_count": 43,
   "metadata": {},
   "outputs": [],
   "source": [
    "new_colors_pred\n",
    "unique ,count = np.unique(modelo_MiniBatchKmeans.labels_,return_counts= True)"
   ]
  },
  {
   "cell_type": "code",
   "execution_count": 44,
   "metadata": {},
   "outputs": [
    {
     "data": {
      "text/plain": [
       "(490000,)"
      ]
     },
     "execution_count": 44,
     "metadata": {},
     "output_type": "execute_result"
    }
   ],
   "source": [
    "unique # clases son unicas de etiquetas\n",
    "count  # cantidad de ocurrencias de las etiquetas\n",
    "modelo_MiniBatchKmeans.labels_.shape  # frecuencia total de ocurrencias"
   ]
  },
  {
   "cell_type": "code",
   "execution_count": 45,
   "metadata": {},
   "outputs": [],
   "source": [
    "hex_holder = list(map(lambda x: rgb_hex_it(x), extract_center))"
   ]
  },
  {
   "cell_type": "code",
   "execution_count": 46,
   "metadata": {},
   "outputs": [
    {
     "data": {
      "text/plain": [
       "array(['#101821', '#232629', '#485963', '#5a7d95', '#8b2130', '#b7b09b',\n",
       "       '#d6262b', '#f7a608'], dtype='<U7')"
      ]
     },
     "execution_count": 46,
     "metadata": {},
     "output_type": "execute_result"
    }
   ],
   "source": [
    "np.unique(hex_holder)"
   ]
  },
  {
   "cell_type": "code",
   "execution_count": 49,
   "metadata": {},
   "outputs": [
    {
     "data": {
      "text/html": [
       "<div>\n",
       "<style scoped>\n",
       "    .dataframe tbody tr th:only-of-type {\n",
       "        vertical-align: middle;\n",
       "    }\n",
       "\n",
       "    .dataframe tbody tr th {\n",
       "        vertical-align: top;\n",
       "    }\n",
       "\n",
       "    .dataframe thead th {\n",
       "        text-align: right;\n",
       "    }\n",
       "</style>\n",
       "<table border=\"1\" class=\"dataframe\">\n",
       "  <thead>\n",
       "    <tr style=\"text-align: right;\">\n",
       "      <th></th>\n",
       "      <th>hex</th>\n",
       "      <th>count</th>\n",
       "      <th>percentage</th>\n",
       "    </tr>\n",
       "  </thead>\n",
       "  <tbody>\n",
       "    <tr>\n",
       "      <th>0</th>\n",
       "      <td>#232629</td>\n",
       "      <td>234693</td>\n",
       "      <td>0.478965</td>\n",
       "    </tr>\n",
       "    <tr>\n",
       "      <th>5</th>\n",
       "      <td>#101821</td>\n",
       "      <td>126941</td>\n",
       "      <td>0.259063</td>\n",
       "    </tr>\n",
       "    <tr>\n",
       "      <th>1</th>\n",
       "      <td>#d6262b</td>\n",
       "      <td>71869</td>\n",
       "      <td>0.146671</td>\n",
       "    </tr>\n",
       "    <tr>\n",
       "      <th>3</th>\n",
       "      <td>#8b2130</td>\n",
       "      <td>25655</td>\n",
       "      <td>0.052357</td>\n",
       "    </tr>\n",
       "    <tr>\n",
       "      <th>2</th>\n",
       "      <td>#b7b09b</td>\n",
       "      <td>18704</td>\n",
       "      <td>0.038171</td>\n",
       "    </tr>\n",
       "    <tr>\n",
       "      <th>6</th>\n",
       "      <td>#5a7d95</td>\n",
       "      <td>9905</td>\n",
       "      <td>0.020214</td>\n",
       "    </tr>\n",
       "    <tr>\n",
       "      <th>4</th>\n",
       "      <td>#f7a608</td>\n",
       "      <td>1493</td>\n",
       "      <td>0.003047</td>\n",
       "    </tr>\n",
       "    <tr>\n",
       "      <th>7</th>\n",
       "      <td>#485963</td>\n",
       "      <td>740</td>\n",
       "      <td>0.001510</td>\n",
       "    </tr>\n",
       "  </tbody>\n",
       "</table>\n",
       "</div>"
      ],
      "text/plain": [
       "       hex   count  percentage\n",
       "0  #232629  234693    0.478965\n",
       "5  #101821  126941    0.259063\n",
       "1  #d6262b   71869    0.146671\n",
       "3  #8b2130   25655    0.052357\n",
       "2  #b7b09b   18704    0.038171\n",
       "6  #5a7d95    9905    0.020214\n",
       "4  #f7a608    1493    0.003047\n",
       "7  #485963     740    0.001510"
      ]
     },
     "execution_count": 49,
     "metadata": {},
     "output_type": "execute_result"
    }
   ],
   "source": [
    "demo2 = pd.concat([pd.Series(hex_holder),pd.Series(count)], axis=1)\n",
    "\n",
    "demo2.columns =['hex', 'count']\n",
    "\n",
    "demo2['percentage'] = demo2 ['count'] /np.sum(demo2 ['count'])\n",
    "demo2 = demo2.sort_values(by= 'percentage', ascending= False)\n",
    "demo2"
   ]
  },
  {
   "cell_type": "code",
   "execution_count": 50,
   "metadata": {},
   "outputs": [
    {
     "data": {
      "text/plain": [
       "<BarContainer object of 8 artists>"
      ]
     },
     "execution_count": 50,
     "metadata": {},
     "output_type": "execute_result"
    },
    {
     "data": {
      "image/png": "[encoded data removed]",
      "text/plain": [
       "<Figure size 432x288 with 1 Axes>"
      ]
     },
     "metadata": {
      "needs_background": "light"
     },
     "output_type": "display_data"
    }
   ],
   "source": [
    "plt.barh(demo2 ['hex'], demo2 ['percentage'], color =demo2  ['hex']  )"
   ]
  },
  {
   "cell_type": "code",
   "execution_count": 53,
   "metadata": {},
   "outputs": [
    {
     "data": {
      "text/html": [
       "<div>\n",
       "<style scoped>\n",
       "    .dataframe tbody tr th:only-of-type {\n",
       "        vertical-align: middle;\n",
       "    }\n",
       "\n",
       "    .dataframe tbody tr th {\n",
       "        vertical-align: top;\n",
       "    }\n",
       "\n",
       "    .dataframe thead th {\n",
       "        text-align: right;\n",
       "    }\n",
       "</style>\n",
       "<table border=\"1\" class=\"dataframe\">\n",
       "  <thead>\n",
       "    <tr style=\"text-align: right;\">\n",
       "      <th></th>\n",
       "      <th>hex</th>\n",
       "      <th>count</th>\n",
       "      <th>percentage</th>\n",
       "    </tr>\n",
       "  </thead>\n",
       "  <tbody>\n",
       "    <tr>\n",
       "      <th>0</th>\n",
       "      <td>True</td>\n",
       "      <td>True</td>\n",
       "      <td>True</td>\n",
       "    </tr>\n",
       "    <tr>\n",
       "      <th>5</th>\n",
       "      <td>True</td>\n",
       "      <td>True</td>\n",
       "      <td>True</td>\n",
       "    </tr>\n",
       "    <tr>\n",
       "      <th>1</th>\n",
       "      <td>True</td>\n",
       "      <td>True</td>\n",
       "      <td>True</td>\n",
       "    </tr>\n",
       "    <tr>\n",
       "      <th>3</th>\n",
       "      <td>True</td>\n",
       "      <td>True</td>\n",
       "      <td>True</td>\n",
       "    </tr>\n",
       "    <tr>\n",
       "      <th>2</th>\n",
       "      <td>True</td>\n",
       "      <td>True</td>\n",
       "      <td>True</td>\n",
       "    </tr>\n",
       "    <tr>\n",
       "      <th>6</th>\n",
       "      <td>True</td>\n",
       "      <td>True</td>\n",
       "      <td>True</td>\n",
       "    </tr>\n",
       "    <tr>\n",
       "      <th>4</th>\n",
       "      <td>True</td>\n",
       "      <td>True</td>\n",
       "      <td>True</td>\n",
       "    </tr>\n",
       "    <tr>\n",
       "      <th>7</th>\n",
       "      <td>True</td>\n",
       "      <td>True</td>\n",
       "      <td>True</td>\n",
       "    </tr>\n",
       "  </tbody>\n",
       "</table>\n",
       "</div>"
      ],
      "text/plain": [
       "    hex  count  percentage\n",
       "0  True   True        True\n",
       "5  True   True        True\n",
       "1  True   True        True\n",
       "3  True   True        True\n",
       "2  True   True        True\n",
       "6  True   True        True\n",
       "4  True   True        True\n",
       "7  True   True        True"
      ]
     },
     "execution_count": 53,
     "metadata": {},
     "output_type": "execute_result"
    }
   ],
   "source": [
    "demo == demo2"
   ]
  },
  {
   "cell_type": "code",
   "execution_count": null,
   "metadata": {},
   "outputs": [],
   "source": [
    "# para el resultado final no hay diferencias entre ambos modelos"
   ]
  },
  {
   "cell_type": "code",
   "execution_count": null,
   "metadata": {},
   "outputs": [],
   "source": []
  }
 ],
 "metadata": {
  "kernelspec": {
   "display_name": "Python 3",
   "language": "python",
   "name": "python3"
  },
  "language_info": {
   "codemirror_mode": {
    "name": "ipython",
    "version": 3
   },
   "file_extension": ".py",
   "mimetype": "text/x-python",
   "name": "python",
   "nbconvert_exporter": "python",
   "pygments_lexer": "ipython3",
   "version": "3.7.3"
  }
 },
 "nbformat": 4,
 "nbformat_minor": 2
}
