{
 "cells": [
  {
   "cell_type": "code",
   "execution_count": 24,
   "metadata": {},
   "outputs": [],
   "source": [
    "import numpy as np\n",
    "import pandas as pd"
   ]
  },
  {
   "cell_type": "markdown",
   "metadata": {},
   "source": [
    "# desafio control de flujo"
   ]
  },
  {
   "cell_type": "markdown",
   "metadata": {},
   "source": [
    "### d1"
   ]
  },
  {
   "cell_type": "code",
   "execution_count": 4,
   "metadata": {},
   "outputs": [],
   "source": [
    "arreglo1 = np.linspace(1,50, dtype= int)"
   ]
  },
  {
   "cell_type": "code",
   "execution_count": 5,
   "metadata": {},
   "outputs": [
    {
     "data": {
      "text/plain": [
       "array([ 1,  2,  3,  4,  5,  6,  7,  8,  9, 10, 11, 12, 13, 14, 15, 16, 17,\n",
       "       18, 19, 20, 21, 22, 23, 24, 25, 26, 27, 28, 29, 30, 31, 32, 33, 34,\n",
       "       35, 36, 37, 38, 39, 40, 41, 42, 43, 44, 45, 46, 47, 48, 49, 50])"
      ]
     },
     "execution_count": 5,
     "metadata": {},
     "output_type": "execute_result"
    }
   ],
   "source": [
    "arreglo1"
   ]
  },
  {
   "cell_type": "code",
   "execution_count": 6,
   "metadata": {},
   "outputs": [],
   "source": [
    "arreglo2 = np.linspace(50,150, dtype= int)"
   ]
  },
  {
   "cell_type": "code",
   "execution_count": 10,
   "metadata": {},
   "outputs": [
    {
     "data": {
      "text/plain": [
       "array([ 50,  52,  54,  56,  58,  60,  62,  64,  66,  68,  70,  72,  74,\n",
       "        76,  78,  80,  82,  84,  86,  88,  90,  92,  94,  96,  98, 101,\n",
       "       103, 105, 107, 109, 111, 113, 115, 117, 119, 121, 123, 125, 127,\n",
       "       129, 131, 133, 135, 137, 139, 141, 143, 145, 147, 150])"
      ]
     },
     "execution_count": 10,
     "metadata": {},
     "output_type": "execute_result"
    }
   ],
   "source": [
    "arreglo2"
   ]
  },
  {
   "cell_type": "markdown",
   "metadata": {},
   "source": [
    "### d2"
   ]
  },
  {
   "cell_type": "code",
   "execution_count": 11,
   "metadata": {},
   "outputs": [
    {
     "name": "stdout",
     "output_type": "stream",
     "text": [
      "el numero es impar:  1\n",
      "el numero es par:  2\n",
      "el numero es impar:  3\n",
      "el numero es par:  4\n",
      "el numero es impar:  5\n",
      "el numero es par:  6\n",
      "el numero es impar:  7\n",
      "el numero es par:  8\n",
      "el numero es impar:  9\n",
      "el numero es par:  10\n",
      "el numero es impar:  11\n",
      "el numero es par:  12\n",
      "el numero es impar:  13\n",
      "el numero es par:  14\n",
      "el numero es impar:  15\n",
      "el numero es par:  16\n",
      "el numero es impar:  17\n",
      "el numero es par:  18\n",
      "el numero es impar:  19\n",
      "el numero es par:  20\n",
      "el numero es impar:  21\n",
      "el numero es par:  22\n",
      "el numero es impar:  23\n",
      "el numero es par:  24\n",
      "el numero es impar:  25\n",
      "el numero es par:  26\n",
      "el numero es impar:  27\n",
      "el numero es par:  28\n",
      "el numero es impar:  29\n",
      "el numero es par:  30\n",
      "el numero es impar:  31\n",
      "el numero es par:  32\n",
      "el numero es impar:  33\n",
      "el numero es par:  34\n",
      "el numero es impar:  35\n",
      "el numero es par:  36\n",
      "el numero es impar:  37\n",
      "el numero es par:  38\n",
      "el numero es impar:  39\n",
      "el numero es par:  40\n",
      "el numero es impar:  41\n",
      "el numero es par:  42\n",
      "el numero es impar:  43\n",
      "el numero es par:  44\n",
      "el numero es impar:  45\n",
      "el numero es par:  46\n",
      "el numero es impar:  47\n",
      "el numero es par:  48\n",
      "el numero es impar:  49\n",
      "el numero es par:  50\n"
     ]
    }
   ],
   "source": [
    "for i in arreglo1:\n",
    "    if i%2 ==0:\n",
    "        print('el numero es par: ',i)\n",
    "    else:\n",
    "        print('el numero es impar: ',i)"
   ]
  },
  {
   "cell_type": "markdown",
   "metadata": {},
   "source": [
    "### d3"
   ]
  },
  {
   "cell_type": "code",
   "execution_count": 19,
   "metadata": {},
   "outputs": [
    {
     "name": "stdout",
     "output_type": "stream",
     "text": [
      "hay 34 numeros que son divisible por 2 o 3\n",
      "hay 9 numeros que son divisible por 2 y 3\n",
      "hay 8 numeros que son divisible por 3 y no por 2\n",
      "hay 16 numeros que no son divisibles por 2 ni 3\n"
     ]
    }
   ],
   "source": [
    "contador1=0\n",
    "contador2=0\n",
    "contador3=0\n",
    "contador4=0\n",
    "\n",
    "for i in arreglo2:\n",
    "    if i%2 ==0 or i%3 ==0:\n",
    "        contador1 += 1\n",
    "        \n",
    "    if i%2 ==0 and i%3 ==0:\n",
    "        contador2 += 1\n",
    "    \n",
    "    if i%3 ==0 and i%2 != 0:\n",
    "        contador3 += 1\n",
    "    \n",
    "    if i%3 != 0 and i%2 != 0:\n",
    "        contador4 += 1\n",
    "\n",
    "print('hay {} numeros que son divisible por 2 o 3'.format(contador1))\n",
    "print('hay {} numeros que son divisible por 2 y 3'.format(contador2))\n",
    "print('hay {} numeros que son divisible por 3 y no por 2'.format(contador3))\n",
    "print('hay {} numeros que no son divisibles por 2 ni 3'.format(contador4))\n",
    "        "
   ]
  },
  {
   "cell_type": "markdown",
   "metadata": {},
   "source": [
    "### d4"
   ]
  },
  {
   "cell_type": "code",
   "execution_count": 21,
   "metadata": {},
   "outputs": [
    {
     "name": "stdout",
     "output_type": "stream",
     "text": [
      "0\n",
      "1\n",
      "4\n",
      "9\n",
      "16\n",
      "25\n",
      "36\n",
      "49\n",
      "64\n",
      "81\n",
      "100\n",
      "121\n",
      "144\n",
      "169\n",
      "196\n",
      "225\n",
      "256\n",
      "289\n",
      "324\n",
      "361\n",
      "400\n",
      "441\n",
      "484\n",
      "529\n",
      "576\n",
      "625\n",
      "676\n",
      "729\n",
      "784\n",
      "841\n",
      "900\n",
      "961\n",
      "1024\n",
      "1089\n",
      "1156\n",
      "1225\n",
      "1296\n",
      "1369\n",
      "1444\n",
      "1521\n",
      "1600\n",
      "1681\n",
      "1764\n",
      "1849\n",
      "1936\n",
      "2025\n",
      "2116\n",
      "2209\n",
      "2304\n",
      "2401\n",
      "2500\n",
      "2601\n",
      "2704\n",
      "2809\n",
      "2916\n",
      "3025\n",
      "3136\n",
      "3249\n",
      "3364\n",
      "3481\n",
      "3600\n",
      "3721\n",
      "3844\n",
      "3969\n",
      "4096\n",
      "4225\n",
      "4356\n",
      "4489\n",
      "4624\n",
      "4761\n",
      "4900\n",
      "5041\n",
      "5184\n",
      "5329\n",
      "5476\n",
      "5625\n",
      "5776\n",
      "5929\n",
      "6084\n",
      "6241\n",
      "6400\n",
      "6561\n",
      "6724\n",
      "6889\n",
      "7056\n",
      "7225\n",
      "7396\n",
      "7569\n",
      "7744\n",
      "7921\n",
      "8100\n",
      "8281\n",
      "8464\n",
      "8649\n",
      "8836\n",
      "9025\n",
      "9216\n",
      "9409\n",
      "9604\n",
      "9801\n"
     ]
    }
   ],
   "source": [
    "for i in range(100):\n",
    "    print(i**2)\n",
    "#la i esta mayuscula por lo que el ciclo no la reconoce"
   ]
  },
  {
   "cell_type": "markdown",
   "metadata": {},
   "source": [
    "### d5"
   ]
  },
  {
   "cell_type": "code",
   "execution_count": 25,
   "metadata": {},
   "outputs": [],
   "source": [
    "df = pd.read_csv('flights.csv')"
   ]
  },
  {
   "cell_type": "code",
   "execution_count": 36,
   "metadata": {},
   "outputs": [],
   "source": [
    "media_pasajeros = np.mean(df['passengers'])"
   ]
  },
  {
   "cell_type": "code",
   "execution_count": 32,
   "metadata": {},
   "outputs": [],
   "source": [
    "df['underperforming']= 0"
   ]
  },
  {
   "cell_type": "code",
   "execution_count": 51,
   "metadata": {},
   "outputs": [
    {
     "name": "stderr",
     "output_type": "stream",
     "text": [
      "C:\\Users\\egonz\\Anaconda3\\lib\\site-packages\\ipykernel_launcher.py:3: FutureWarning: set_value is deprecated and will be removed in a future release. Please use .at[] or .iat[] accessors instead\n",
      "  This is separate from the ipykernel package so we can avoid doing imports until\n"
     ]
    }
   ],
   "source": [
    "for index, rowserie in df.iterrows():\n",
    "    if rowserie['passengers']< media_pasajeros:\n",
    "        df.set_value(index,'underperforming', 1)"
   ]
  },
  {
   "cell_type": "code",
   "execution_count": 53,
   "metadata": {},
   "outputs": [],
   "source": [
    "objeto = df[df['underperforming']==1]['month']"
   ]
  },
  {
   "cell_type": "code",
   "execution_count": 59,
   "metadata": {},
   "outputs": [
    {
     "data": {
      "text/plain": [
       "February     8\n",
       "November     8\n",
       "January      8\n",
       "October      8\n",
       "March        7\n",
       "June         7\n",
       "December     7\n",
       "April        7\n",
       "August       7\n",
       "May          7\n",
       "July         7\n",
       "September    7\n",
       "Name: month, dtype: int64"
      ]
     },
     "execution_count": 59,
     "metadata": {},
     "output_type": "execute_result"
    }
   ],
   "source": [
    "objeto.value_counts()"
   ]
  },
  {
   "cell_type": "markdown",
   "metadata": {},
   "source": [
    "### d6"
   ]
  },
  {
   "cell_type": "code",
   "execution_count": 63,
   "metadata": {},
   "outputs": [],
   "source": [
    "desviacion_estandar = np.std(df['passengers'])"
   ]
  },
  {
   "cell_type": "code",
   "execution_count": 65,
   "metadata": {},
   "outputs": [],
   "source": [
    "df['outlier']= 0"
   ]
  },
  {
   "cell_type": "code",
   "execution_count": 66,
   "metadata": {},
   "outputs": [
    {
     "name": "stdout",
     "output_type": "stream",
     "text": [
      "hay 53 casos extremos \n"
     ]
    },
    {
     "name": "stderr",
     "output_type": "stream",
     "text": [
      "C:\\Users\\egonz\\Anaconda3\\lib\\site-packages\\ipykernel_launcher.py:5: FutureWarning: set_value is deprecated and will be removed in a future release. Please use .at[] or .iat[] accessors instead\n",
      "  \"\"\"\n"
     ]
    }
   ],
   "source": [
    "cont=0\n",
    "for index, rowserie in df.iterrows():\n",
    "    if rowserie['passengers']<(media_pasajeros-desviacion_estandar) or rowserie['passengers']>(media_pasajeros+desviacion_estandar\n",
    "                                                                                                ):\n",
    "        df.set_value(index,'outlier', 1)\n",
    "        cont +=1\n",
    "print('hay {} casos extremos '.format(cont))\n",
    "        \n",
    "        "
   ]
  },
  {
   "cell_type": "code",
   "execution_count": null,
   "metadata": {},
   "outputs": [],
   "source": []
  }
 ],
 "metadata": {
  "kernelspec": {
   "display_name": "Python 3",
   "language": "python",
   "name": "python3"
  },
  "language_info": {
   "codemirror_mode": {
    "name": "ipython",
    "version": 3
   },
   "file_extension": ".py",
   "mimetype": "text/x-python",
   "name": "python",
   "nbconvert_exporter": "python",
   "pygments_lexer": "ipython3",
   "version": "3.7.3"
  }
 },
 "nbformat": 4,
 "nbformat_minor": 2
}
