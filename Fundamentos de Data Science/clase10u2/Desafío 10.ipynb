{
 "cells": [
  {
   "cell_type": "markdown",
   "metadata": {},
   "source": [
    "# Desafío - Regresión desde el aprendizaje de máquinas"
   ]
  },
  {
   "cell_type": "markdown",
   "metadata": {},
   "source": [
    "## Esteban Gonzalez Amigo"
   ]
  },
  {
   "cell_type": "markdown",
   "metadata": {},
   "source": [
    "## Desafío 1: Prepare el ambiente de trabajo\n",
    "- Importe las librerías básicas para el análisis de datos.\n",
    "- Importe el módulo linear_model , y las funciones mean_squared_error , r2_score y train_test_split .\n",
    "- Importe la base de datos boston.csv y elimine la columna Unnamed: 0 .\n",
    "- Obtenga las medidas descriptivas de la base de datos con .describe() ."
   ]
  },
  {
   "cell_type": "code",
   "execution_count": 1,
   "metadata": {},
   "outputs": [],
   "source": [
    "import warnings\n",
    "warnings.filterwarnings('ignore')\n",
    "import pandas as pd\n",
    "import numpy as np\n",
    "from scipy import stats\n",
    "import matplotlib.pyplot as plt\n",
    "import seaborn as sns\n",
    "import statsmodels.api as sm\n",
    "import statsmodels.formula.api as smf\n",
    "\n",
    "from sklearn import linear_model\n",
    "\n",
    "\n",
    "from sklearn.linear_model import LinearRegression\n",
    "from sklearn.metrics import mean_squared_error, r2_score\n",
    "from sklearn.model_selection import train_test_split\n",
    "\n",
    "plt.style.use('seaborn-whitegrid')\n",
    "plt.rcParams['figure.figsize'] =(10, 6)"
   ]
  },
  {
   "cell_type": "code",
   "execution_count": 2,
   "metadata": {},
   "outputs": [],
   "source": [
    "df= pd.read_csv('Boston.csv').drop('Unnamed: 0', axis=1)"
   ]
  },
  {
   "cell_type": "code",
   "execution_count": 3,
   "metadata": {},
   "outputs": [
    {
     "data": {
      "text/html": [
       "<div>\n",
       "<style scoped>\n",
       "    .dataframe tbody tr th:only-of-type {\n",
       "        vertical-align: middle;\n",
       "    }\n",
       "\n",
       "    .dataframe tbody tr th {\n",
       "        vertical-align: top;\n",
       "    }\n",
       "\n",
       "    .dataframe thead th {\n",
       "        text-align: right;\n",
       "    }\n",
       "</style>\n",
       "<table border=\"1\" class=\"dataframe\">\n",
       "  <thead>\n",
       "    <tr style=\"text-align: right;\">\n",
       "      <th></th>\n",
       "      <th>crim</th>\n",
       "      <th>zn</th>\n",
       "      <th>indus</th>\n",
       "      <th>chas</th>\n",
       "      <th>nox</th>\n",
       "      <th>rm</th>\n",
       "      <th>age</th>\n",
       "      <th>dis</th>\n",
       "      <th>rad</th>\n",
       "      <th>tax</th>\n",
       "      <th>ptratio</th>\n",
       "      <th>black</th>\n",
       "      <th>lstat</th>\n",
       "      <th>medv</th>\n",
       "    </tr>\n",
       "  </thead>\n",
       "  <tbody>\n",
       "    <tr>\n",
       "      <th>count</th>\n",
       "      <td>506.000000</td>\n",
       "      <td>506.000000</td>\n",
       "      <td>506.000000</td>\n",
       "      <td>506.000000</td>\n",
       "      <td>506.000000</td>\n",
       "      <td>506.000000</td>\n",
       "      <td>506.000000</td>\n",
       "      <td>506.000000</td>\n",
       "      <td>506.000000</td>\n",
       "      <td>506.000000</td>\n",
       "      <td>506.000000</td>\n",
       "      <td>506.000000</td>\n",
       "      <td>506.000000</td>\n",
       "      <td>506.000000</td>\n",
       "    </tr>\n",
       "    <tr>\n",
       "      <th>mean</th>\n",
       "      <td>3.613524</td>\n",
       "      <td>11.363636</td>\n",
       "      <td>11.136779</td>\n",
       "      <td>0.069170</td>\n",
       "      <td>0.554695</td>\n",
       "      <td>6.284634</td>\n",
       "      <td>68.574901</td>\n",
       "      <td>3.795043</td>\n",
       "      <td>9.549407</td>\n",
       "      <td>408.237154</td>\n",
       "      <td>18.455534</td>\n",
       "      <td>356.674032</td>\n",
       "      <td>12.653063</td>\n",
       "      <td>22.532806</td>\n",
       "    </tr>\n",
       "    <tr>\n",
       "      <th>std</th>\n",
       "      <td>8.601545</td>\n",
       "      <td>23.322453</td>\n",
       "      <td>6.860353</td>\n",
       "      <td>0.253994</td>\n",
       "      <td>0.115878</td>\n",
       "      <td>0.702617</td>\n",
       "      <td>28.148861</td>\n",
       "      <td>2.105710</td>\n",
       "      <td>8.707259</td>\n",
       "      <td>168.537116</td>\n",
       "      <td>2.164946</td>\n",
       "      <td>91.294864</td>\n",
       "      <td>7.141062</td>\n",
       "      <td>9.197104</td>\n",
       "    </tr>\n",
       "    <tr>\n",
       "      <th>min</th>\n",
       "      <td>0.006320</td>\n",
       "      <td>0.000000</td>\n",
       "      <td>0.460000</td>\n",
       "      <td>0.000000</td>\n",
       "      <td>0.385000</td>\n",
       "      <td>3.561000</td>\n",
       "      <td>2.900000</td>\n",
       "      <td>1.129600</td>\n",
       "      <td>1.000000</td>\n",
       "      <td>187.000000</td>\n",
       "      <td>12.600000</td>\n",
       "      <td>0.320000</td>\n",
       "      <td>1.730000</td>\n",
       "      <td>5.000000</td>\n",
       "    </tr>\n",
       "    <tr>\n",
       "      <th>25%</th>\n",
       "      <td>0.082045</td>\n",
       "      <td>0.000000</td>\n",
       "      <td>5.190000</td>\n",
       "      <td>0.000000</td>\n",
       "      <td>0.449000</td>\n",
       "      <td>5.885500</td>\n",
       "      <td>45.025000</td>\n",
       "      <td>2.100175</td>\n",
       "      <td>4.000000</td>\n",
       "      <td>279.000000</td>\n",
       "      <td>17.400000</td>\n",
       "      <td>375.377500</td>\n",
       "      <td>6.950000</td>\n",
       "      <td>17.025000</td>\n",
       "    </tr>\n",
       "    <tr>\n",
       "      <th>50%</th>\n",
       "      <td>0.256510</td>\n",
       "      <td>0.000000</td>\n",
       "      <td>9.690000</td>\n",
       "      <td>0.000000</td>\n",
       "      <td>0.538000</td>\n",
       "      <td>6.208500</td>\n",
       "      <td>77.500000</td>\n",
       "      <td>3.207450</td>\n",
       "      <td>5.000000</td>\n",
       "      <td>330.000000</td>\n",
       "      <td>19.050000</td>\n",
       "      <td>391.440000</td>\n",
       "      <td>11.360000</td>\n",
       "      <td>21.200000</td>\n",
       "    </tr>\n",
       "    <tr>\n",
       "      <th>75%</th>\n",
       "      <td>3.677082</td>\n",
       "      <td>12.500000</td>\n",
       "      <td>18.100000</td>\n",
       "      <td>0.000000</td>\n",
       "      <td>0.624000</td>\n",
       "      <td>6.623500</td>\n",
       "      <td>94.075000</td>\n",
       "      <td>5.188425</td>\n",
       "      <td>24.000000</td>\n",
       "      <td>666.000000</td>\n",
       "      <td>20.200000</td>\n",
       "      <td>396.225000</td>\n",
       "      <td>16.955000</td>\n",
       "      <td>25.000000</td>\n",
       "    </tr>\n",
       "    <tr>\n",
       "      <th>max</th>\n",
       "      <td>88.976200</td>\n",
       "      <td>100.000000</td>\n",
       "      <td>27.740000</td>\n",
       "      <td>1.000000</td>\n",
       "      <td>0.871000</td>\n",
       "      <td>8.780000</td>\n",
       "      <td>100.000000</td>\n",
       "      <td>12.126500</td>\n",
       "      <td>24.000000</td>\n",
       "      <td>711.000000</td>\n",
       "      <td>22.000000</td>\n",
       "      <td>396.900000</td>\n",
       "      <td>37.970000</td>\n",
       "      <td>50.000000</td>\n",
       "    </tr>\n",
       "  </tbody>\n",
       "</table>\n",
       "</div>"
      ],
      "text/plain": [
       "             crim          zn       indus        chas         nox          rm  \\\n",
       "count  506.000000  506.000000  506.000000  506.000000  506.000000  506.000000   \n",
       "mean     3.613524   11.363636   11.136779    0.069170    0.554695    6.284634   \n",
       "std      8.601545   23.322453    6.860353    0.253994    0.115878    0.702617   \n",
       "min      0.006320    0.000000    0.460000    0.000000    0.385000    3.561000   \n",
       "25%      0.082045    0.000000    5.190000    0.000000    0.449000    5.885500   \n",
       "50%      0.256510    0.000000    9.690000    0.000000    0.538000    6.208500   \n",
       "75%      3.677082   12.500000   18.100000    0.000000    0.624000    6.623500   \n",
       "max     88.976200  100.000000   27.740000    1.000000    0.871000    8.780000   \n",
       "\n",
       "              age         dis         rad         tax     ptratio       black  \\\n",
       "count  506.000000  506.000000  506.000000  506.000000  506.000000  506.000000   \n",
       "mean    68.574901    3.795043    9.549407  408.237154   18.455534  356.674032   \n",
       "std     28.148861    2.105710    8.707259  168.537116    2.164946   91.294864   \n",
       "min      2.900000    1.129600    1.000000  187.000000   12.600000    0.320000   \n",
       "25%     45.025000    2.100175    4.000000  279.000000   17.400000  375.377500   \n",
       "50%     77.500000    3.207450    5.000000  330.000000   19.050000  391.440000   \n",
       "75%     94.075000    5.188425   24.000000  666.000000   20.200000  396.225000   \n",
       "max    100.000000   12.126500   24.000000  711.000000   22.000000  396.900000   \n",
       "\n",
       "            lstat        medv  \n",
       "count  506.000000  506.000000  \n",
       "mean    12.653063   22.532806  \n",
       "std      7.141062    9.197104  \n",
       "min      1.730000    5.000000  \n",
       "25%      6.950000   17.025000  \n",
       "50%     11.360000   21.200000  \n",
       "75%     16.955000   25.000000  \n",
       "max     37.970000   50.000000  "
      ]
     },
     "execution_count": 3,
     "metadata": {},
     "output_type": "execute_result"
    }
   ],
   "source": [
    "df.describe()"
   ]
  },
  {
   "cell_type": "markdown",
   "metadata": {},
   "source": [
    "## Desafío 2: División de la muestra\n",
    "- Genere conjuntos de entrenamiento y validación con train_test_split .\n",
    "- Genere segmentaciones del 33% para las muestras de validación.\n",
    "- Incluya una semilla pseudoaleatoria"
   ]
  },
  {
   "cell_type": "code",
   "execution_count": 4,
   "metadata": {},
   "outputs": [],
   "source": [
    "df_copia = df.copy()\n",
    "\n",
    "y_vec = df_copia.loc[:,'medv']\n",
    "x_mat = df_copia.loc[:,'crim':'lstat']\n",
    "\n",
    "x_train, x_test, y_train, y_test = train_test_split(x_mat, y_vec, test_size =.33, random_state= 11238)"
   ]
  },
  {
   "cell_type": "markdown",
   "metadata": {},
   "source": [
    "## Desafío 3: Generación de modelos\n",
    "- Ahora implementaremos dos versiones del modelo lineal:\n",
    "    - Con intercepto y atributos normalizados.\n",
    "    - Sin intercepto y atributos no normalizados.\n",
    "- Cada versión debe generarse en un nuevo objeto inicializado.\n",
    "- Posteriormente se deben entrenar los modelos especificando la matriz y vector de entrenamiento.\n",
    "- Con los modelos entrenados, genere una predicción de matriz de validación."
   ]
  },
  {
   "cell_type": "code",
   "execution_count": 5,
   "metadata": {},
   "outputs": [
    {
     "data": {
      "text/plain": [
       "array([ 3.05315878e+01,  2.47509314e+01,  1.98103846e+01,  1.74228233e+01,\n",
       "        2.25097011e+01,  2.70581758e+01,  2.27794388e+01,  2.87158252e+01,\n",
       "        2.31071985e+01,  1.57602374e+01,  3.08889617e+01,  2.21239020e+01,\n",
       "        2.10752936e+01,  2.74150439e+01,  1.92712447e+01,  1.88343331e+01,\n",
       "        2.98851489e+01,  2.50525300e+01,  2.01623234e+01,  1.71084839e+01,\n",
       "        1.27629436e+01,  2.62957895e+01,  1.31452754e+01,  1.69603810e+01,\n",
       "        2.03018537e+01,  3.14808910e+01,  2.46209742e+01,  1.53831297e+01,\n",
       "        2.03314108e+01,  1.73322921e+01,  1.67194707e+01,  2.01267261e+01,\n",
       "        2.76940059e+01,  1.82123698e+01,  1.13458379e+01,  2.31696468e+01,\n",
       "        2.36044692e+01,  1.33813887e+01,  3.34363855e+01,  2.88412473e+01,\n",
       "        1.46399803e+01,  2.07905064e+01,  3.32569220e+01,  2.54876889e+01,\n",
       "        2.28698204e+01,  3.52876019e+01,  2.18014403e+01,  2.66370600e+01,\n",
       "        2.86293835e+01,  2.55062741e+01,  2.00705471e+01,  2.42681654e+01,\n",
       "        1.89254216e+01,  1.90816137e+01,  2.11861775e+01,  1.69783186e+01,\n",
       "        2.23631493e+01,  2.20553553e+01,  2.32446693e+01,  2.42377254e+01,\n",
       "        2.18939077e+01,  1.60197654e+01,  2.59365749e+01,  1.37475106e+01,\n",
       "        2.08469936e+01,  3.83280766e+01,  1.37786521e+01,  1.49854985e+01,\n",
       "        2.67355505e+01,  3.00723417e+01,  1.89988486e+01,  1.52927436e+01,\n",
       "        3.28669488e+01,  3.05099425e+01,  3.79628855e+01,  1.72183355e+01,\n",
       "        1.92870640e+01,  3.18035433e+01,  1.01965863e+01,  1.37948682e+01,\n",
       "        1.92247542e+01,  2.27392186e+01,  2.52427098e+01,  1.71628168e+01,\n",
       "        2.58894446e+01,  2.85627654e+01,  3.47074375e+01,  2.05052402e+01,\n",
       "        2.65254056e+01,  2.98284819e+01,  9.82462252e+00,  1.83087450e+01,\n",
       "        4.12643626e+01,  4.21086473e+01,  4.26953268e+01,  3.12718732e+01,\n",
       "        2.64191884e+01,  1.34708220e+01,  2.82902644e+01,  1.79634028e+01,\n",
       "        1.91499006e+01,  2.83640824e+01,  1.72507642e+01,  3.35412091e+01,\n",
       "        3.12839837e+01,  2.98985469e+01,  1.42585788e+01,  3.25941084e+01,\n",
       "        3.65421209e+01,  1.73737205e+01,  1.59849185e+01,  1.74498695e+01,\n",
       "        1.71131135e+01,  1.83963563e+01,  1.97082654e+01,  1.22688061e+01,\n",
       "        2.87451513e+01,  1.69623295e+01,  2.50014900e+01,  2.24987067e+01,\n",
       "        2.81812372e+01,  3.56807376e+01,  2.00986376e+01,  1.70716286e+01,\n",
       "        1.38335532e+01,  3.23311817e+01,  1.80378919e+01,  2.50671402e+01,\n",
       "        2.61154830e+01,  2.30656597e+01,  1.76440739e+01,  3.21524325e+01,\n",
       "        1.79102793e+01,  2.30236503e+01,  1.24405086e+01,  1.00999765e+01,\n",
       "        4.32583375e+00,  2.85659209e+01,  2.03889172e+01,  2.37891232e+01,\n",
       "        1.89121754e+01,  1.34460116e+01,  1.27927270e+01,  2.69275716e+01,\n",
       "        1.42643136e+01, -1.07259689e-02,  2.18940432e+01,  2.86513601e+01,\n",
       "        2.47273557e+01,  2.94758750e+01,  1.54428122e+01,  2.17862711e+01,\n",
       "        2.34000941e+01,  2.03944535e+01,  2.49178305e+01,  2.31680023e+01,\n",
       "        3.15678593e+01,  2.96340682e+01,  3.31401267e+01,  7.06868351e+00,\n",
       "        3.65070452e+01,  2.08196467e+01,  2.39355320e+01,  2.32040466e+01,\n",
       "        3.63056467e+01,  2.93419148e+01,  1.79905448e+01])"
      ]
     },
     "execution_count": 5,
     "metadata": {},
     "output_type": "execute_result"
    }
   ],
   "source": [
    "modelo = linear_model.LinearRegression(fit_intercept=True, normalize=True)\n",
    "\n",
    "#modelo train\n",
    "modelo.fit(x_train, y_train)\n",
    "\n",
    "#modelo predicho\n",
    "modelo_yhat = modelo.predict(x_test)\n",
    "\n",
    "modelo_yhat"
   ]
  },
  {
   "cell_type": "code",
   "execution_count": 6,
   "metadata": {},
   "outputs": [
    {
     "data": {
      "text/plain": [
       "array([29.73800187, 22.44563267, 21.65888321, 17.68558194, 21.81107521,\n",
       "       26.26406006, 24.14449212, 27.92764272, 26.38722571, 18.55646924,\n",
       "       30.69505765, 21.09043413, 21.27463189, 26.90444757, 19.13893758,\n",
       "       18.3236963 , 30.9126002 , 25.36492171, 21.1083799 , 18.53905325,\n",
       "       13.7354785 , 24.93742552, 13.43840824, 17.95423134, 20.73604273,\n",
       "       31.05098143, 24.78180479, 15.04101684, 22.09414355, 19.47982552,\n",
       "       18.06430259, 19.79934425, 27.00193991, 19.7348754 , 11.90445514,\n",
       "       22.39645955, 25.29917717, 15.9635396 , 32.5969429 , 30.18422243,\n",
       "       11.40429796, 20.11958314, 32.20809619, 22.63540588, 25.91493132,\n",
       "       35.09560325, 20.98802851, 28.03057409, 27.75630633, 25.8394719 ,\n",
       "       20.80481176, 25.15316284, 20.28313381, 20.4115492 , 22.12846452,\n",
       "       15.94892859, 21.79763238, 24.68046034, 22.67055216, 23.36702254,\n",
       "       21.74813572, 17.70028931, 25.53843526, 14.92039121, 19.09049717,\n",
       "       43.09443879, 10.58269771, 16.15938287, 25.67969744, 29.37858724,\n",
       "       21.12596924, 16.71902649, 33.26146437, 30.38375167, 37.76594507,\n",
       "       19.89828995, 20.34166128, 30.40108434, 10.81876379, 14.8678751 ,\n",
       "       21.13095889, 22.05746475, 24.11491534, 18.31527103, 23.48505771,\n",
       "       28.0526707 , 33.85040638, 22.81452618, 26.62685292, 29.87417024,\n",
       "       11.37532572, 15.8238341 , 41.17591478, 41.75941611, 43.05021069,\n",
       "       31.47427525, 25.5358456 , 11.96507417, 27.77821284, 17.58437768,\n",
       "       21.64357277, 26.5588161 , 17.13898114, 32.6489889 , 32.98076719,\n",
       "       28.72852094, 15.83523255, 32.22203772, 37.78726487, 18.56259723,\n",
       "       17.18876844, 19.68229207, 15.47148118, 18.11766155, 21.25243403,\n",
       "       12.15726567, 27.60345211, 16.66955144, 24.31960003, 21.05863052,\n",
       "       27.24436949, 35.20149288, 16.62256285, 18.51418372, 15.43974326,\n",
       "       31.94709596, 20.21424486, 24.67550192, 25.74965458, 23.91310019,\n",
       "       19.01698029, 30.16259317, 18.10910059, 22.2045681 , 12.22759969,\n",
       "        9.24148315,  5.60697642, 28.73864953, 19.58546779, 22.99413215,\n",
       "       19.05643468, 14.84075807, 11.72599461, 25.66590227, 16.60986162,\n",
       "       -1.22051557, 23.53809229, 26.97778646, 23.64300182, 28.07472193,\n",
       "       14.96217261, 23.3169848 , 22.25116515, 18.64073114, 26.09392181,\n",
       "       22.21116317, 31.16998378, 28.20390347, 31.35870716,  6.02416869,\n",
       "       37.42662215, 20.23087016, 23.23177479, 25.15454747, 35.55959422,\n",
       "       30.25691865, 19.19969853])"
      ]
     },
     "execution_count": 6,
     "metadata": {},
     "output_type": "execute_result"
    }
   ],
   "source": [
    "modelo_sin = linear_model.LinearRegression(fit_intercept=False, normalize=False)\n",
    "\n",
    "#modelo train\n",
    "modelo_sin.fit(x_train, y_train)\n",
    "\n",
    "#modelo predicho\n",
    "modelo_sin_yhat = modelo_sin.predict(x_test)\n",
    "\n",
    "modelo_sin_yhat"
   ]
  },
  {
   "cell_type": "markdown",
   "metadata": {},
   "source": [
    "## Desafío 4: Obtención de métricas\n",
    "- Ahora generemos una función llamada report_scores que ingrese como argumentos el vector de datos predichos y el vector de datos por validar.\n",
    "- La función debe imprimir las métricas del Error Cuadrático Promedio y R2.\n",
    "- Reporte las métricas para ambos modelos. En base a ello, seleccione el mejor modelo"
   ]
  },
  {
   "cell_type": "code",
   "execution_count": 7,
   "metadata": {},
   "outputs": [],
   "source": [
    "def repost_scores(model_yhat,v_x_valid):\n",
    "    print('El error cuadratico es: ', mean_squared_error(v_x_valid, model_yhat))\n",
    "    print('El valor R2 es: ', r2_score(v_x_valid, model_yhat))"
   ]
  },
  {
   "cell_type": "code",
   "execution_count": 8,
   "metadata": {},
   "outputs": [
    {
     "name": "stdout",
     "output_type": "stream",
     "text": [
      "El error cuadratico es:  30.697831517740727\n",
      "El valor R2 es:  0.6005199127106764\n"
     ]
    }
   ],
   "source": [
    "repost_scores(modelo_yhat, y_test)"
   ]
  },
  {
   "cell_type": "code",
   "execution_count": 9,
   "metadata": {},
   "outputs": [
    {
     "name": "stdout",
     "output_type": "stream",
     "text": [
      "El error cuadratico es:  34.26939996145279\n",
      "El valor R2 es:  0.5540420215010208\n"
     ]
    }
   ],
   "source": [
    "repost_scores(modelo_sin_yhat, y_test)"
   ]
  },
  {
   "cell_type": "code",
   "execution_count": 10,
   "metadata": {},
   "outputs": [],
   "source": [
    "# el mejor r2 debe ser mayor\n",
    "# el mejor error cuadratico es el menor"
   ]
  },
  {
   "cell_type": "markdown",
   "metadata": {},
   "source": [
    "# Desafío 5: Refactorización del modelo\n",
    "- Genere una función llamada fetch_features que ingrese como argumentos la base de datos y el nombre del vector objetivo. El nombre del vector debe ser medv por defecto\n",
    "- La función debe retornar una lista con las correlaciones entre cada atributo y el vector objetivo y su nombre.\n",
    "- Reporte brevemente cuales los 6 atributos con una mayor correlación con medv\n"
   ]
  },
  {
   "cell_type": "code",
   "execution_count": 11,
   "metadata": {},
   "outputs": [],
   "source": [
    "def fetch_features(df, medv):\n",
    "    columns = df.columns\n",
    "    attr_name, pearson_r, abs_pearson_r = [], [], []\n",
    "\n",
    "    for col in columns:\n",
    "        if col != medv:\n",
    "            attr_name.append(col)\n",
    "            pearson_r.append(df[col].corr(df[medv]))\n",
    "            abs_pearson_r.append(abs(df[col].corr(df[medv])))\n",
    "\n",
    "    features = pd.DataFrame(\n",
    "        {'attribute': attr_name,\n",
    "        'corr': pearson_r,\n",
    "        'abs_corr': abs_pearson_r}\n",
    "    )\n",
    "\n",
    "    features= features.set_index('attribute')\n",
    "    tabla = features.sort_values(by=['abs_corr'], ascending= False)\n",
    "    \n",
    "    print(attr_name)\n",
    "    print(pearson_r)\n",
    "    print(abs_pearson_r)\n",
    "    \n",
    "    return tabla.head(6)"
   ]
  },
  {
   "cell_type": "code",
   "execution_count": 12,
   "metadata": {},
   "outputs": [
    {
     "name": "stdout",
     "output_type": "stream",
     "text": [
      "['crim', 'zn', 'indus', 'chas', 'nox', 'rm', 'age', 'dis', 'rad', 'tax', 'ptratio', 'black', 'lstat']\n",
      "[-0.38830460858681154, 0.3604453424505432, -0.4837251600283729, 0.17526017719029843, -0.4273207723732826, 0.6953599470715393, -0.3769545650045963, 0.24992873408590388, -0.381626230639778, -0.4685359335677669, -0.5077866855375621, 0.33346081965706637, -0.7376627261740151]\n",
      "[0.38830460858681154, 0.3604453424505432, 0.4837251600283729, 0.17526017719029843, 0.4273207723732826, 0.6953599470715393, 0.3769545650045963, 0.24992873408590388, 0.381626230639778, 0.4685359335677669, 0.5077866855375621, 0.33346081965706637, 0.7376627261740151]\n"
     ]
    },
    {
     "data": {
      "text/html": [
       "<div>\n",
       "<style scoped>\n",
       "    .dataframe tbody tr th:only-of-type {\n",
       "        vertical-align: middle;\n",
       "    }\n",
       "\n",
       "    .dataframe tbody tr th {\n",
       "        vertical-align: top;\n",
       "    }\n",
       "\n",
       "    .dataframe thead th {\n",
       "        text-align: right;\n",
       "    }\n",
       "</style>\n",
       "<table border=\"1\" class=\"dataframe\">\n",
       "  <thead>\n",
       "    <tr style=\"text-align: right;\">\n",
       "      <th></th>\n",
       "      <th>corr</th>\n",
       "      <th>abs_corr</th>\n",
       "    </tr>\n",
       "    <tr>\n",
       "      <th>attribute</th>\n",
       "      <th></th>\n",
       "      <th></th>\n",
       "    </tr>\n",
       "  </thead>\n",
       "  <tbody>\n",
       "    <tr>\n",
       "      <th>lstat</th>\n",
       "      <td>-0.737663</td>\n",
       "      <td>0.737663</td>\n",
       "    </tr>\n",
       "    <tr>\n",
       "      <th>rm</th>\n",
       "      <td>0.695360</td>\n",
       "      <td>0.695360</td>\n",
       "    </tr>\n",
       "    <tr>\n",
       "      <th>ptratio</th>\n",
       "      <td>-0.507787</td>\n",
       "      <td>0.507787</td>\n",
       "    </tr>\n",
       "    <tr>\n",
       "      <th>indus</th>\n",
       "      <td>-0.483725</td>\n",
       "      <td>0.483725</td>\n",
       "    </tr>\n",
       "    <tr>\n",
       "      <th>tax</th>\n",
       "      <td>-0.468536</td>\n",
       "      <td>0.468536</td>\n",
       "    </tr>\n",
       "    <tr>\n",
       "      <th>nox</th>\n",
       "      <td>-0.427321</td>\n",
       "      <td>0.427321</td>\n",
       "    </tr>\n",
       "  </tbody>\n",
       "</table>\n",
       "</div>"
      ],
      "text/plain": [
       "               corr  abs_corr\n",
       "attribute                    \n",
       "lstat     -0.737663  0.737663\n",
       "rm         0.695360  0.695360\n",
       "ptratio   -0.507787  0.507787\n",
       "indus     -0.483725  0.483725\n",
       "tax       -0.468536  0.468536\n",
       "nox       -0.427321  0.427321"
      ]
     },
     "execution_count": 12,
     "metadata": {},
     "output_type": "execute_result"
    }
   ],
   "source": [
    "fetch_features(df_copia, 'medv')"
   ]
  },
  {
   "cell_type": "code",
   "execution_count": null,
   "metadata": {},
   "outputs": [],
   "source": []
  },
  {
   "cell_type": "markdown",
   "metadata": {},
   "source": [
    "## Desafío 6: Refactorización del modelo predictivo\n",
    "- Genere otros conjuntos de entrenamiento y validación en base a una matriz con los 6 atributos identificados y el vector objetivo.\n",
    "- Entrene un modelo en base al mejor desempeño.\n",
    "- Reporte las métricas para el nuevo modelo.\n"
   ]
  },
  {
   "cell_type": "code",
   "execution_count": 13,
   "metadata": {},
   "outputs": [],
   "source": [
    "y_vec2=df['medv']\n",
    "\n",
    "x_mat2=df.loc[:,['lstat', 'rm', 'ptratio', 'indus', 'tax', 'nox']]"
   ]
  },
  {
   "cell_type": "code",
   "execution_count": 14,
   "metadata": {},
   "outputs": [],
   "source": [
    "## se hace toodo de nuevo"
   ]
  },
  {
   "cell_type": "code",
   "execution_count": 15,
   "metadata": {},
   "outputs": [],
   "source": [
    "x_train2, x_test2, y_train2, y_test2 = train_test_split(x_mat2, y_vec2, test_size =.33, random_state= 11238)"
   ]
  },
  {
   "cell_type": "code",
   "execution_count": 20,
   "metadata": {},
   "outputs": [
    {
     "name": "stdout",
     "output_type": "stream",
     "text": [
      "Modelo 3\n",
      "La cantidad de predicciones realizadas en x_test son:  167 \n",
      "\n",
      "las predicciones son: \n",
      " [31.7154155  24.86653591 21.61377952 19.49294024 21.2161735  26.13967462\n",
      " 25.08101932 28.79999134 23.52759539 20.90434083 28.3738251  22.58028404\n",
      " 19.46077415 28.04063226 17.67793017 19.49272448 31.2664637  25.42080231\n",
      " 23.23468695 17.14740981 15.10293691 24.99615742 16.15015849 15.50423755\n",
      " 20.78768924 32.65013017 24.77688799 18.86346762 18.39245434 16.89961266\n",
      " 18.09143602 19.26992544 26.08310975 17.46071904 13.54108939 22.78144451\n",
      " 23.80352985 18.2991265  31.82150031 31.05867465 18.32267256 19.76828209\n",
      " 34.65560416 27.0308222  28.1548651  33.92956697 23.00042356 29.42845064\n",
      " 29.10995088 25.86561102 19.07713735 27.6824574  17.12353655 15.86969425\n",
      " 22.5138358  17.92516194 24.62439942 19.65164806 22.76785078 24.7127325\n",
      " 19.51239488 14.49680611 25.62624888 14.34669708 21.01931291 36.21089149\n",
      " 14.06228619 17.086307   27.60304903 30.74500657 19.93749419 16.98147604\n",
      " 32.55282249 26.09733132 36.81354585 21.19417813 20.86042592 29.54541149\n",
      " 10.69084693 16.01240508 20.83833551 21.62713532 25.09646358 17.96654223\n",
      " 23.76339887 29.71715529 33.75758154 25.72867223 26.50599843 30.37303515\n",
      " 11.80310992 16.23253097 39.91749162 39.48067505 41.09976207 31.10408294\n",
      " 26.72966789 11.88366562 27.13435772 16.86147358 16.66234947 28.09144022\n",
      " 15.99780091 32.66215147 32.69437838 31.27857446 16.33648339 33.9294879\n",
      " 36.94292184 19.28635841 17.69349937 18.69618636 15.82711192 19.93893408\n",
      " 19.10099633 11.32963907 27.15326242 20.43024862 24.32561778 22.45039908\n",
      " 28.99464833 34.04457659 17.22003653 16.4652696  14.12641485 30.61804513\n",
      " 17.6312976  26.50273679 24.9203088  27.62706328 16.35165963 30.80423067\n",
      " 18.5781573  21.927067   14.58453015 12.12909047  3.57729094 28.54936415\n",
      " 21.71779436 25.58693949 18.52220237 14.72396692  9.98901079 23.01622831\n",
      " 14.48644955 -3.49639252 22.22095596 27.74574281 25.52532169 28.30085823\n",
      " 13.84543633 21.86000631 24.76173153 22.10406865 27.52810842 20.91501098\n",
      " 28.46030385 28.9468385  31.01652187  7.93710524 35.91889889 22.34082528\n",
      " 19.28167386 26.02158777 34.75476478 31.38107018 17.51120451]\n"
     ]
    }
   ],
   "source": [
    "modelo_3 = linear_model.LinearRegression(fit_intercept = True, normalize = True)\n",
    "modelo_3_train = modelo_3.fit(x_train2, y_train2)\n",
    "modelo_3_yhat = modelo_3.predict(x_test2)\n",
    "\n",
    "print(\"Modelo 3\")\n",
    "print(\"La cantidad de predicciones realizadas en x_test son: \", len(modelo_3_yhat), \"\\n\")\n",
    "print(\"las predicciones son: \\n\",  modelo_3_yhat)"
   ]
  },
  {
   "cell_type": "code",
   "execution_count": 21,
   "metadata": {},
   "outputs": [
    {
     "name": "stdout",
     "output_type": "stream",
     "text": [
      "Promedio del error cuadrático:  37.5\n",
      "R-cuadrado:  0.51\n"
     ]
    }
   ],
   "source": [
    "prom_error_cuadratico_3 = mean_squared_error(y_test2, modelo_3_yhat).round(1)\n",
    "r_cuadrado_3 = r2_score(y_test2, modelo_3_yhat).round(2)\n",
    "\n",
    "print(\"Promedio del error cuadrático: \", prom_error_cuadratico_3)\n",
    "print(\"R-cuadrado: \", r_cuadrado_3)"
   ]
  },
  {
   "cell_type": "markdown",
   "metadata": {},
   "source": [
    "## Desafío 7: Predicción de casos\n",
    "- A continuación se generaron dos arrays que representan el peor escenario posible ( worst_neighbor ) y el mejor escenario posible ( best_neighbor ).\n",
    "- Ingrese los arrays en el modelo entrenado y reporte cuál sería el valor esperado dada las condiciones."
   ]
  },
  {
   "cell_type": "code",
   "execution_count": 23,
   "metadata": {},
   "outputs": [
    {
     "data": {
      "text/plain": [
       "(array([59.97435265]), array([118.55978502]))"
      ]
     },
     "execution_count": 23,
     "metadata": {},
     "output_type": "execute_result"
    }
   ],
   "source": [
    "worst_neighbor = np.array([37.9, 12.6, 3.5, 27.7, 187, 0.87]).reshape(1,-1)\n",
    "best_neighbor = np.array([1.73, 22, 8.7, 0.46, 711, 0.38]).reshape(1,-1)\n",
    "\n",
    "modelo_worst_yhat = modelo_3.predict(worst_neighbor)\n",
    "modelo_best_yhat = modelo_3.predict(best_neighbor)\n",
    "\n",
    "modelo_worst_yhat, modelo_best_yhat"
   ]
  },
  {
   "cell_type": "code",
   "execution_count": null,
   "metadata": {},
   "outputs": [],
   "source": []
  }
 ],
 "metadata": {
  "kernelspec": {
   "display_name": "Python 3",
   "language": "python",
   "name": "python3"
  },
  "language_info": {
   "codemirror_mode": {
    "name": "ipython",
    "version": 3
   },
   "file_extension": ".py",
   "mimetype": "text/x-python",
   "name": "python",
   "nbconvert_exporter": "python",
   "pygments_lexer": "ipython3",
   "version": "3.7.3"
  }
 },
 "nbformat": 4,
 "nbformat_minor": 2
}
