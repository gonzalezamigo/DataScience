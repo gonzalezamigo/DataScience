{
 "cells": [
  {
   "cell_type": "markdown",
   "metadata": {},
   "source": [
    "# Desafío - Calculando probabilidades"
   ]
  },
  {
   "cell_type": "markdown",
   "metadata": {},
   "source": [
    "## Esteban Gonzalez Amigo"
   ]
  },
  {
   "cell_type": "markdown",
   "metadata": {},
   "source": [
    "### Desafío 1: Lectura de archivos"
   ]
  },
  {
   "cell_type": "code",
   "execution_count": 1,
   "metadata": {},
   "outputs": [],
   "source": [
    "import pandas as pd\n",
    "import numpy as np\n",
    "\n",
    "df= pd.read_csv('worldcup2014.csv')"
   ]
  },
  {
   "cell_type": "code",
   "execution_count": 35,
   "metadata": {},
   "outputs": [
    {
     "data": {
      "text/html": [
       "<div>\n",
       "<style scoped>\n",
       "    .dataframe tbody tr th:only-of-type {\n",
       "        vertical-align: middle;\n",
       "    }\n",
       "\n",
       "    .dataframe tbody tr th {\n",
       "        vertical-align: top;\n",
       "    }\n",
       "\n",
       "    .dataframe thead th {\n",
       "        text-align: right;\n",
       "    }\n",
       "</style>\n",
       "<table border=\"1\" class=\"dataframe\">\n",
       "  <thead>\n",
       "    <tr style=\"text-align: right;\">\n",
       "      <th></th>\n",
       "      <th>team</th>\n",
       "      <th>continent</th>\n",
       "      <th>group</th>\n",
       "      <th>group_pos</th>\n",
       "      <th>cantidad_juegos</th>\n",
       "      <th>juegos_ganados</th>\n",
       "      <th>juegos_empatados</th>\n",
       "      <th>juegos_perdidos</th>\n",
       "      <th>goles_favor</th>\n",
       "      <th>goles_contra</th>\n",
       "      <th>goles_diferencia</th>\n",
       "      <th>puntos</th>\n",
       "      <th>clasificado</th>\n",
       "    </tr>\n",
       "  </thead>\n",
       "  <tbody>\n",
       "    <tr>\n",
       "      <th>0</th>\n",
       "      <td>Brazil</td>\n",
       "      <td>southamerica</td>\n",
       "      <td>A</td>\n",
       "      <td>1</td>\n",
       "      <td>3</td>\n",
       "      <td>2</td>\n",
       "      <td>1</td>\n",
       "      <td>0</td>\n",
       "      <td>7</td>\n",
       "      <td>2</td>\n",
       "      <td>5</td>\n",
       "      <td>7</td>\n",
       "      <td>1</td>\n",
       "    </tr>\n",
       "    <tr>\n",
       "      <th>1</th>\n",
       "      <td>Mexico</td>\n",
       "      <td>northamerica</td>\n",
       "      <td>A</td>\n",
       "      <td>2</td>\n",
       "      <td>3</td>\n",
       "      <td>2</td>\n",
       "      <td>1</td>\n",
       "      <td>0</td>\n",
       "      <td>4</td>\n",
       "      <td>1</td>\n",
       "      <td>3</td>\n",
       "      <td>7</td>\n",
       "      <td>1</td>\n",
       "    </tr>\n",
       "    <tr>\n",
       "      <th>2</th>\n",
       "      <td>Croatia</td>\n",
       "      <td>europe</td>\n",
       "      <td>A</td>\n",
       "      <td>3</td>\n",
       "      <td>3</td>\n",
       "      <td>1</td>\n",
       "      <td>0</td>\n",
       "      <td>2</td>\n",
       "      <td>6</td>\n",
       "      <td>6</td>\n",
       "      <td>0</td>\n",
       "      <td>3</td>\n",
       "      <td>0</td>\n",
       "    </tr>\n",
       "    <tr>\n",
       "      <th>3</th>\n",
       "      <td>Cameroon</td>\n",
       "      <td>africa</td>\n",
       "      <td>A</td>\n",
       "      <td>4</td>\n",
       "      <td>3</td>\n",
       "      <td>0</td>\n",
       "      <td>0</td>\n",
       "      <td>3</td>\n",
       "      <td>1</td>\n",
       "      <td>9</td>\n",
       "      <td>−8</td>\n",
       "      <td>0</td>\n",
       "      <td>0</td>\n",
       "    </tr>\n",
       "    <tr>\n",
       "      <th>4</th>\n",
       "      <td>Netherlands</td>\n",
       "      <td>europe</td>\n",
       "      <td>B</td>\n",
       "      <td>1</td>\n",
       "      <td>3</td>\n",
       "      <td>3</td>\n",
       "      <td>0</td>\n",
       "      <td>0</td>\n",
       "      <td>10</td>\n",
       "      <td>3</td>\n",
       "      <td>7</td>\n",
       "      <td>9</td>\n",
       "      <td>1</td>\n",
       "    </tr>\n",
       "  </tbody>\n",
       "</table>\n",
       "</div>"
      ],
      "text/plain": [
       "          team     continent group  group_pos  cantidad_juegos  \\\n",
       "0       Brazil  southamerica     A          1                3   \n",
       "1       Mexico  northamerica     A          2                3   \n",
       "2      Croatia        europe     A          3                3   \n",
       "3     Cameroon        africa     A          4                3   \n",
       "4  Netherlands        europe     B          1                3   \n",
       "\n",
       "   juegos_ganados  juegos_empatados  juegos_perdidos  goles_favor  \\\n",
       "0               2                 1                0            7   \n",
       "1               2                 1                0            4   \n",
       "2               1                 0                2            6   \n",
       "3               0                 0                3            1   \n",
       "4               3                 0                0           10   \n",
       "\n",
       "   goles_contra goles_diferencia  puntos  clasificado  \n",
       "0             2                5       7            1  \n",
       "1             1                3       7            1  \n",
       "2             6                0       3            0  \n",
       "3             9               −8       0            0  \n",
       "4             3                7       9            1  "
      ]
     },
     "execution_count": 35,
     "metadata": {},
     "output_type": "execute_result"
    }
   ],
   "source": [
    "df.head()"
   ]
  },
  {
   "cell_type": "markdown",
   "metadata": {},
   "source": [
    "### Desafío 2: Estime las frecuencias de continent"
   ]
  },
  {
   "cell_type": "code",
   "execution_count": 3,
   "metadata": {},
   "outputs": [
    {
     "data": {
      "text/plain": [
       "europe          13\n",
       "southamerica     6\n",
       "africa           5\n",
       "asia             4\n",
       "northamerica     4\n",
       "Name: continent, dtype: int64"
      ]
     },
     "execution_count": 3,
     "metadata": {},
     "output_type": "execute_result"
    }
   ],
   "source": [
    "df['continent'].value_counts()"
   ]
  },
  {
   "cell_type": "code",
   "execution_count": 4,
   "metadata": {},
   "outputs": [
    {
     "data": {
      "text/plain": [
       "europe          0.40625\n",
       "southamerica    0.18750\n",
       "africa          0.15625\n",
       "asia            0.12500\n",
       "northamerica    0.12500\n",
       "Name: continent, dtype: float64"
      ]
     },
     "execution_count": 4,
     "metadata": {},
     "output_type": "execute_result"
    }
   ],
   "source": [
    "df['continent'].value_counts('%')\n",
    "# el continente de mayor presencia en la muestra es Europa"
   ]
  },
  {
   "cell_type": "code",
   "execution_count": 37,
   "metadata": {},
   "outputs": [
    {
     "name": "stdout",
     "output_type": "stream",
     "text": [
      "la probabilidad de elegir un equipo asiatico al azar es:  0.125\n"
     ]
    }
   ],
   "source": [
    "probabilidad_equipo_asiatico = 4/len(df) # se divide la cantidad de equipos asiaticos por la cantidad total de equipos\n",
    "print('la probabilidad de elegir un equipo asiatico al azar es: ', probabilidad_equipo_asiatico)"
   ]
  },
  {
   "cell_type": "code",
   "execution_count": 36,
   "metadata": {},
   "outputs": [
    {
     "name": "stdout",
     "output_type": "stream",
     "text": [
      "la probabilidad de elegir un equipo africano al azar es:  0.15625\n"
     ]
    }
   ],
   "source": [
    "probabilidad_equipo_africano = 5/len(df)# se divide la cantidad de equipos africanos por la cantidad total de equipos\n",
    "print('la probabilidad de elegir un equipo africano al azar es: ', probabilidad_equipo_africano)"
   ]
  },
  {
   "cell_type": "markdown",
   "metadata": {},
   "source": [
    "### Desafío 3: Probabilidades por continente"
   ]
  },
  {
   "cell_type": "code",
   "execution_count": 9,
   "metadata": {},
   "outputs": [],
   "source": [
    "df_europe = df[df['continent'] == 'europe']"
   ]
  },
  {
   "cell_type": "code",
   "execution_count": 10,
   "metadata": {},
   "outputs": [],
   "source": [
    "df_southamerica = df[df['continent'] == 'southamerica']"
   ]
  },
  {
   "cell_type": "code",
   "execution_count": 11,
   "metadata": {},
   "outputs": [],
   "source": [
    "df_africa = df[df['continent'] == 'africa']"
   ]
  },
  {
   "cell_type": "code",
   "execution_count": 46,
   "metadata": {},
   "outputs": [],
   "source": [
    "df_asia = df[df['continent'] == 'asia']"
   ]
  },
  {
   "cell_type": "code",
   "execution_count": 13,
   "metadata": {},
   "outputs": [],
   "source": [
    "df_northamerica = df[df['continent'] == 'northamerica']"
   ]
  },
  {
   "cell_type": "markdown",
   "metadata": {},
   "source": [
    "### Desafío 4: Calcule la probabilidad de clasificación a la siguiente ronda"
   ]
  },
  {
   "cell_type": "code",
   "execution_count": 14,
   "metadata": {},
   "outputs": [],
   "source": [
    "lista = [df_europe, df_southamerica, df_africa, df_asia, df_northamerica]"
   ]
  },
  {
   "cell_type": "code",
   "execution_count": 44,
   "metadata": {},
   "outputs": [
    {
     "name": "stdout",
     "output_type": "stream",
     "text": [
      "0    0.538462\n",
      "1    0.461538\n",
      "Name: clasificado, dtype: float64 \n",
      "\n",
      "1    0.833333\n",
      "0    0.166667\n",
      "Name: clasificado, dtype: float64 \n",
      "\n",
      "0    0.6\n",
      "1    0.4\n",
      "Name: clasificado, dtype: float64 \n",
      "\n",
      "0    1.0\n",
      "Name: clasificado, dtype: float64 \n",
      "\n",
      "1    0.75\n",
      "0    0.25\n",
      "Name: clasificado, dtype: float64 \n",
      "\n"
     ]
    }
   ],
   "source": [
    "for i in lista:\n",
    "    prob_ronda = i['clasificado'].value_counts('%')\n",
    "    print(prob_ronda, '\\n')"
   ]
  },
  {
   "cell_type": "code",
   "execution_count": 47,
   "metadata": {},
   "outputs": [
    {
     "name": "stdout",
     "output_type": "stream",
     "text": [
      "la probabilidad que un pais de asia pase a al siguiente ronda es:  0.0\n"
     ]
    }
   ],
   "source": [
    "prob_pais_asia_sigronda = 0/len(df_asia)\n",
    "print('la probabilidad que un pais de asia pase a al siguiente ronda es: ',prob_pais_asia_sigronda)"
   ]
  },
  {
   "cell_type": "code",
   "execution_count": 18,
   "metadata": {},
   "outputs": [],
   "source": [
    "#los continentes con mayor posibilidad de clasificar son sudamerica y norteamerica\n",
    "print('los continentes con mayor posibilidad de clasificar son: ', )"
   ]
  },
  {
   "cell_type": "code",
   "execution_count": 54,
   "metadata": {},
   "outputs": [
    {
     "name": "stdout",
     "output_type": "stream",
     "text": [
      "la probabilidad que un pais europeo no pase a la siguiente ronda es:  0.54\n"
     ]
    }
   ],
   "source": [
    "prob_no_pasa_euro = round(7/len(df_europe),2)\n",
    "print('la probabilidad que un pais europeo no pase a la siguiente ronda es: ',prob_no_pasa_euro)"
   ]
  },
  {
   "cell_type": "markdown",
   "metadata": {},
   "source": [
    "### Desafío 5: Refactorización\n"
   ]
  },
  {
   "cell_type": "code",
   "execution_count": 57,
   "metadata": {},
   "outputs": [
    {
     "name": "stdout",
     "output_type": "stream",
     "text": [
      "1    0.6\n",
      "0    0.4\n",
      "Name: juegos_ganados, dtype: float64\n",
      "1    0.461538\n",
      "2    0.230769\n",
      "3    0.153846\n",
      "0    0.153846\n",
      "Name: juegos_ganados, dtype: float64\n",
      "0    1.0\n",
      "Name: juegos_ganados, dtype: float64\n",
      "2    0.50\n",
      "1    0.25\n",
      "0    0.25\n",
      "Name: juegos_ganados, dtype: float64\n",
      "2    0.500000\n",
      "3    0.333333\n",
      "1    0.166667\n",
      "Name: juegos_ganados, dtype: float64\n"
     ]
    }
   ],
   "source": [
    "for d in [df_africa, df_europe, df_asia, df_northamerica, df_southamerica]:\n",
    "    print(d['juegos_ganados'].value_counts('%'))\n"
   ]
  },
  {
   "cell_type": "code",
   "execution_count": 58,
   "metadata": {},
   "outputs": [
    {
     "name": "stdout",
     "output_type": "stream",
     "text": [
      "['europe']\n",
      "1    0.846154\n",
      "0    0.153846\n",
      "dtype: float64 \n",
      "\n",
      "['southamerica']\n",
      "1    1.0\n",
      "dtype: float64 \n",
      "\n",
      "['africa']\n",
      "1    0.6\n",
      "0    0.4\n",
      "dtype: float64 \n",
      "\n",
      "['asia']\n",
      "0    1.0\n",
      "dtype: float64 \n",
      "\n",
      "['northamerica']\n",
      "1    0.75\n",
      "0    0.25\n",
      "dtype: float64 \n",
      "\n"
     ]
    }
   ],
   "source": [
    "for i in lista:\n",
    "    nuevo_arreglo = np.where (i['juegos_ganados']== 0,0,1)\n",
    "    print (i.continent.unique())\n",
    "    print(pd.Series(nuevo_arreglo).value_counts('%'),'\\n')"
   ]
  },
  {
   "cell_type": "code",
   "execution_count": 23,
   "metadata": {},
   "outputs": [],
   "source": [
    "# El continente con mayor posibilidad de ganar juegos es sudamerica\n",
    "# africa es el contienente que tiene un nivel similar entre juegos ganados y perdidos"
   ]
  },
  {
   "cell_type": "code",
   "execution_count": 59,
   "metadata": {},
   "outputs": [
    {
     "name": "stdout",
     "output_type": "stream",
     "text": [
      "['europe']\n",
      "1    0.692308\n",
      "0    0.307692\n",
      "dtype: float64 \n",
      "\n",
      "['southamerica']\n",
      "1    0.5\n",
      "0    0.5\n",
      "dtype: float64 \n",
      "\n",
      "['africa']\n",
      "1    1.0\n",
      "dtype: float64 \n",
      "\n",
      "['asia']\n",
      "1    1.0\n",
      "dtype: float64 \n",
      "\n",
      "['northamerica']\n",
      "1    0.5\n",
      "0    0.5\n",
      "dtype: float64 \n",
      "\n"
     ]
    }
   ],
   "source": [
    "for i in lista:\n",
    "    nuevo_arreglo = np.where (i['juegos_perdidos']== 0,0,1)\n",
    "    print (i.continent.unique())\n",
    "    print(pd.Series(nuevo_arreglo).value_counts('%'),'\\n')"
   ]
  },
  {
   "cell_type": "code",
   "execution_count": 25,
   "metadata": {},
   "outputs": [],
   "source": [
    "# el contienente con mayores posibilidades de perder es asia"
   ]
  }
 ],
 "metadata": {
  "kernelspec": {
   "display_name": "Python 3",
   "language": "python",
   "name": "python3"
  },
  "language_info": {
   "codemirror_mode": {
    "name": "ipython",
    "version": 3
   },
   "file_extension": ".py",
   "mimetype": "text/x-python",
   "name": "python",
   "nbconvert_exporter": "python",
   "pygments_lexer": "ipython3",
   "version": "3.7.3"
  }
 },
 "nbformat": 4,
 "nbformat_minor": 2
}
