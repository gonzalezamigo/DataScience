{
 "cells": [
  {
   "cell_type": "markdown",
   "metadata": {},
   "source": [
    "# Desafío - Gráficos"
   ]
  },
  {
   "cell_type": "markdown",
   "metadata": {},
   "source": [
    "## Esteban Gonzalez"
   ]
  },
  {
   "cell_type": "markdown",
   "metadata": {},
   "source": [
    "### 1. Genere una submuestra de casos"
   ]
  },
  {
   "cell_type": "code",
   "execution_count": 1,
   "metadata": {},
   "outputs": [],
   "source": [
    "import matplotlib.pyplot as plt\n",
    "import numpy as np\n",
    "import pandas as pd\n",
    "import scipy.stats as stats\n",
    "df = pd.read_csv('qog_std_cs_jan18.csv')"
   ]
  },
  {
   "cell_type": "code",
   "execution_count": 2,
   "metadata": {},
   "outputs": [],
   "source": [
    "df2= df.copy()"
   ]
  },
  {
   "cell_type": "code",
   "execution_count": null,
   "metadata": {},
   "outputs": [],
   "source": []
  },
  {
   "cell_type": "code",
   "execution_count": 3,
   "metadata": {},
   "outputs": [],
   "source": [
    "df2['region_codificada']= df2['ht_region'].replace([1,2,3,4,5,6,7,8,9,10],\n",
    "    ['EastEurope', 'LatAm', 'NorthAfrica', 'SubSaharian', 'WesternDem',\n",
    "    'EastAsia', 'SouthEastAsia', 'SouthAsia', 'Pacific', 'Caribbean'])"
   ]
  },
  {
   "cell_type": "code",
   "execution_count": 4,
   "metadata": {},
   "outputs": [],
   "source": [
    "sample_am= df2.sample(frac=0.5, random_state=2496)"
   ]
  },
  {
   "cell_type": "code",
   "execution_count": 5,
   "metadata": {},
   "outputs": [
    {
     "data": {
      "text/plain": [
       "(97, 1883)"
      ]
     },
     "execution_count": 5,
     "metadata": {},
     "output_type": "execute_result"
    }
   ],
   "source": [
    "sample_am.shape"
   ]
  },
  {
   "cell_type": "code",
   "execution_count": 6,
   "metadata": {},
   "outputs": [
    {
     "name": "stderr",
     "output_type": "stream",
     "text": [
      "C:\\Users\\egonz\\Anaconda3\\Anaconda3.2\\lib\\site-packages\\pandas\\core\\indexing.py:1494: FutureWarning: \n",
      "Passing list-likes to .loc or [] with any missing label will raise\n",
      "KeyError in the future, you can use .reindex() as an alternative.\n",
      "\n",
      "See the documentation here:\n",
      "https://pandas.pydata.org/pandas-docs/stable/indexing.html#deprecate-loc-reindex-listlike\n",
      "  return self._getitem_tuple(key)\n"
     ]
    }
   ],
   "source": [
    "subset_sample_am = sample_am.loc[:,['cname', 'undp_hdi', 'ccodealp', 'ht_region', 'gle_cgdpc', ' imf_pop',\n",
    "                             'ffp_hf', 'wef_qes', 'wdi_expedu', 'wdi_ners', 'region_codificada']]"
   ]
  },
  {
   "cell_type": "code",
   "execution_count": 7,
   "metadata": {},
   "outputs": [
    {
     "data": {
      "text/plain": [
       "(97, 11)"
      ]
     },
     "execution_count": 7,
     "metadata": {},
     "output_type": "execute_result"
    }
   ],
   "source": [
    "subset_sample_am.shape"
   ]
  },
  {
   "cell_type": "code",
   "execution_count": null,
   "metadata": {},
   "outputs": [],
   "source": []
  },
  {
   "cell_type": "markdown",
   "metadata": {},
   "source": [
    "# 2. Genere una función que ingrese su objeto y devuelva:\n",
    "Por cada variable existente en su objeto, calcule las medidas descriptivas para los casos\n",
    "contínuos\n",
    "\n",
    "Para cada variable discreta, que calcule la frecuencia.\n",
    "\n",
    "Reporte las estadísticas descriptivas para gle_cgdpc , undp_hdi , imf_pop .\n",
    "\n",
    "Compare las estadísticas con algún compañero. ¿Ve alguna diferencia substancial en alguna\n",
    "de ellas?\n"
   ]
  },
  {
   "cell_type": "code",
   "execution_count": 8,
   "metadata": {},
   "outputs": [],
   "source": [
    "def clasifica_variables(x):   \n",
    "    for i,v in x.iteritems():\n",
    "        if v.dtype== 'int64':\n",
    "            print(v.describe().round(2))\n",
    "        elif v.dtype== 'float64':\n",
    "            print(v.describe().round(2))\n",
    "        elif v.dtype== 'object':\n",
    "            print(v.value_counts())\n",
    "    "
   ]
  },
  {
   "cell_type": "code",
   "execution_count": 9,
   "metadata": {},
   "outputs": [
    {
     "name": "stdout",
     "output_type": "stream",
     "text": [
      "count       96.00\n",
      "mean     13173.87\n",
      "std      13515.28\n",
      "min        332.27\n",
      "25%       2989.37\n",
      "50%       9289.48\n",
      "75%      17614.97\n",
      "max      64342.71\n",
      "Name: gle_cgdpc, dtype: float64\n",
      "count    94.00\n",
      "mean      0.70\n",
      "std       0.15\n",
      "min       0.35\n",
      "25%       0.59\n",
      "50%       0.73\n",
      "75%       0.80\n",
      "max       0.94\n",
      "Name: undp_hdi, dtype: float64\n",
      "count    0.0\n",
      "mean     NaN\n",
      "std      NaN\n",
      "min      NaN\n",
      "25%      NaN\n",
      "50%      NaN\n",
      "75%      NaN\n",
      "max      NaN\n",
      "Name: imf_pop, dtype: float64\n"
     ]
    }
   ],
   "source": [
    "x = subset_sample_am.loc[:,['gle_cgdpc' ,'undp_hdi' ,'imf_pop']]\n",
    "clasifica_variables(x)\n",
    "\n",
    "\n",
    "\n",
    "# al comparar la funcion arroja resultaodos similares"
   ]
  },
  {
   "cell_type": "markdown",
   "metadata": {},
   "source": [
    "### 3. Genere una función que liste las observaciones perdidas de una variable"
   ]
  },
  {
   "cell_type": "markdown",
   "metadata": {},
   "source": [
    "### La función debe contener los siguientes argumentos:\n",
    "dataframe : La función debe ingresar un objeto DataFrame.\n",
    "\n",
    "var : Variable a inspeccionar.\n",
    "\n",
    "print_list : Opción para imprimir la lista de observaciones perdidas en la variable.\n",
    "\n",
    "Debe ser False por defecto.\n",
    "\n",
    "La función debe retornar la cantidad de casos perdidos y el porcentaje correspondiente.\n",
    "\n",
    "Cuando print_list = True , debe retornar la lista de casos.\n",
    "\n",
    "Analice todas las variables y sus casos perdidos.\n",
    "\n",
    "Para las 3 variables con un mayor porcentaje de casos perdidos, solicite la lista de países con\n",
    "ausencia de datos.\n"
   ]
  },
  {
   "cell_type": "code",
   "execution_count": 10,
   "metadata": {},
   "outputs": [],
   "source": [
    "def perdidas(dataframe, var, print_list = False):\n",
    "    \n",
    "    cantidad_perdidos = dataframe[var].isnull().value_counts().get(True)\n",
    "    porcentaje_perdidos = dataframe[var].isnull().value_counts('%').get(True) \n",
    "    df_trabajo = dataframe[var]\n",
    "    if cantidad_perdidos == None:\n",
    "        cantidad_perdidos =0\n",
    "    if porcentaje_perdidos == None:\n",
    "        cantidad_perdidos =0\n",
    "    \n",
    "    print('la cantidad de casos perdidos es de :',cantidad_perdidos)\n",
    "    print('su porcentaje es de: ',porcentaje_perdidos)\n",
    "    \n",
    "    df_temporal= dataframe[df_trabajo.isnull()]['cname']\n",
    "    \n",
    "    if print_list is True:\n",
    "        print(df_temporal) "
   ]
  },
  {
   "cell_type": "code",
   "execution_count": 11,
   "metadata": {},
   "outputs": [
    {
     "name": "stdout",
     "output_type": "stream",
     "text": [
      "la cantidad de casos perdidos es de : 3\n",
      "su porcentaje es de:  0.030927835051546393\n",
      "89     Korea, North\n",
      "37           Taiwan\n",
      "148      San Marino\n",
      "Name: cname, dtype: object\n"
     ]
    }
   ],
   "source": [
    "perdidas(subset_sample_am,'undp_hdi', True)"
   ]
  },
  {
   "cell_type": "markdown",
   "metadata": {},
   "source": [
    "### 4. Grafique los histogramas\n",
    "Genere una función que grafique un histograma en conjunto y señale las medias.\n",
    "La función debe incluír los siguientes argumentos:\n",
    "dataframe : La base de datos donde se encuentran los datos específicos.\n",
    "var : La variable a graficar.\n",
    "sample_mean : Booleano. Si es verdadero, debe generar una recta vertical indicando la\n",
    "media de la variable en la selección muestral. Por defecto debe ser False .\n",
    "true_mean : Booleano. Si es verdadero, debe generar una recta vertical indicando la\n",
    "media de variable en la base de datos completa.\n",
    "Implemente las funciones para las 4 variables seleccionadas según su grupo.\n",
    "¿En qué variables la media de la submuestra es mayor a la de la muestra completa?"
   ]
  },
  {
   "cell_type": "code",
   "execution_count": 12,
   "metadata": {},
   "outputs": [],
   "source": [
    "def grafico_histograma (dataframe, var, sample_min =False, true_min= False):\n",
    "    plt.hist(dataframe[var].dropna())\n",
    "    \n",
    "    if sample_min == True:\n",
    "        plt.axvline(dataframe[var].mean(), lw=3, color= 'tomato', linestyle='--')\n",
    "    if true_min== True:\n",
    "        plt.axvline(df[var].mean(), lw=3, color= 'dodgerblue', linestyle='--')"
   ]
  },
  {
   "cell_type": "code",
   "execution_count": 13,
   "metadata": {},
   "outputs": [
    {
     "data": {
      "image/png": "[encoded data removed]",
      "text/plain": [
       "<Figure size 432x288 with 1 Axes>"
      ]
     },
     "metadata": {
      "needs_background": "light"
     },
     "output_type": "display_data"
    }
   ],
   "source": [
    "grafico_histograma(subset_sample_am, 'undp_hdi', True, True)"
   ]
  },
  {
   "cell_type": "code",
   "execution_count": 14,
   "metadata": {},
   "outputs": [
    {
     "data": {
      "text/plain": [
       "' \\n usar la funcion en estas 4 variables:\\n \\nffp_hf : Human Flight and Brain Drain\\nwef_qes : Quality of the educational system\\nwdi_expedu : Government expenditure on education, total (% of GDP)\\nwdi_ners : School enrollment, secondary (% net)'"
      ]
     },
     "execution_count": 14,
     "metadata": {},
     "output_type": "execute_result"
    }
   ],
   "source": [
    "''' \n",
    " usar la funcion en estas 4 variables:\n",
    " \n",
    "ffp_hf : Human Flight and Brain Drain\n",
    "wef_qes : Quality of the educational system\n",
    "wdi_expedu : Government expenditure on education, total (% of GDP)\n",
    "wdi_ners : School enrollment, secondary (% net)'''"
   ]
  },
  {
   "cell_type": "code",
   "execution_count": 15,
   "metadata": {},
   "outputs": [
    {
     "data": {
      "image/png": "[encoded data removed]",
      "text/plain": [
       "<Figure size 432x288 with 1 Axes>"
      ]
     },
     "metadata": {
      "needs_background": "light"
     },
     "output_type": "display_data"
    }
   ],
   "source": [
    "grafico_histograma(subset_sample_am, 'ffp_hf', True, True)"
   ]
  },
  {
   "cell_type": "code",
   "execution_count": 16,
   "metadata": {},
   "outputs": [
    {
     "data": {
      "image/png": "[encoded data removed]",
      "text/plain": [
       "<Figure size 432x288 with 1 Axes>"
      ]
     },
     "metadata": {
      "needs_background": "light"
     },
     "output_type": "display_data"
    }
   ],
   "source": [
    "grafico_histograma(subset_sample_am, 'wef_qes', True, True)"
   ]
  },
  {
   "cell_type": "code",
   "execution_count": 17,
   "metadata": {},
   "outputs": [
    {
     "data": {
      "image/png": "[encoded data removed]",
      "text/plain": [
       "<Figure size 432x288 with 1 Axes>"
      ]
     },
     "metadata": {
      "needs_background": "light"
     },
     "output_type": "display_data"
    }
   ],
   "source": [
    "grafico_histograma(subset_sample_am, 'wdi_expedu', True, True)"
   ]
  },
  {
   "cell_type": "code",
   "execution_count": 18,
   "metadata": {},
   "outputs": [
    {
     "data": {
      "image/png": "[encoded data removed]",
      "text/plain": [
       "<Figure size 432x288 with 1 Axes>"
      ]
     },
     "metadata": {
      "needs_background": "light"
     },
     "output_type": "display_data"
    }
   ],
   "source": [
    "grafico_histograma(subset_sample_am, 'wdi_ners', True, True)"
   ]
  },
  {
   "cell_type": "code",
   "execution_count": 19,
   "metadata": {},
   "outputs": [],
   "source": [
    "# la submuestra es mayor en la media de las variables: undp_hdi, wdi_expedu, wdi_ners"
   ]
  },
  {
   "cell_type": "markdown",
   "metadata": {},
   "source": [
    "### 5. Genere una función que devuelva un dotplot\n",
    "La función debe contener los siguientes argumentos como argumentos:\n",
    "dataframe : La tabla de datos donde buscar las variables.\n",
    "plot_var : La variable a analizar y extraer las medias.\n",
    "plot_by : La variable agrupadora.\n",
    "global_stat : Booleano. Si es True debe graficar la media global de la variable. Por\n",
    "defecto debe ser False .\n",
    "statistic: Debe presentar dos opciones. mean para la media y median para la mediana.\n",
    "Por defecto debe ser mean .\n",
    "Implemente la función en las 3 variables con una menor cantidad de datos perdidos."
   ]
  },
  {
   "cell_type": "code",
   "execution_count": 20,
   "metadata": {},
   "outputs": [],
   "source": [
    "def dotplot(dataframe, plot_var, plot_by, global_stat=False, statistic= 'mean'):\n",
    "    data_frame_mean= round(dataframe.groupby(plot_by)[plot_var].mean(),2)\n",
    "    data_frame_median= round(dataframe.groupby(plot_by)[plot_var].median(),2)\n",
    "    data_frame_media_global= dataframe[plot_var].mean()\n",
    "    \n",
    "    if global_stat==True:\n",
    "        plt.axvline(dataframe[plot_var].mean(), lw=3, color= 'tomato', linestyle='--')\n",
    "        \n",
    "    if statistic == 'mean':\n",
    "        plt.plot(data_frame_mean.values, data_frame_mean.index, 'o', color = 'red')\n",
    "    elif statistic =='median':\n",
    "        plt.plot(data_frame_median.values, data_frame_median.index, 'o', color = 'red')   "
   ]
  },
  {
   "cell_type": "code",
   "execution_count": null,
   "metadata": {},
   "outputs": [],
   "source": []
  },
  {
   "cell_type": "code",
   "execution_count": 21,
   "metadata": {},
   "outputs": [
    {
     "data": {
      "text/html": [
       "<div>\n",
       "<style scoped>\n",
       "    .dataframe tbody tr th:only-of-type {\n",
       "        vertical-align: middle;\n",
       "    }\n",
       "\n",
       "    .dataframe tbody tr th {\n",
       "        vertical-align: top;\n",
       "    }\n",
       "\n",
       "    .dataframe thead th {\n",
       "        text-align: right;\n",
       "    }\n",
       "</style>\n",
       "<table border=\"1\" class=\"dataframe\">\n",
       "  <thead>\n",
       "    <tr style=\"text-align: right;\">\n",
       "      <th></th>\n",
       "      <th>variable</th>\n",
       "      <th>perdidos</th>\n",
       "    </tr>\n",
       "  </thead>\n",
       "  <tbody>\n",
       "    <tr>\n",
       "      <th>4</th>\n",
       "      <td>gle_cgdpc</td>\n",
       "      <td>1.0</td>\n",
       "    </tr>\n",
       "    <tr>\n",
       "      <th>1</th>\n",
       "      <td>undp_hdi</td>\n",
       "      <td>3.0</td>\n",
       "    </tr>\n",
       "    <tr>\n",
       "      <th>6</th>\n",
       "      <td>ffp_hf</td>\n",
       "      <td>4.0</td>\n",
       "    </tr>\n",
       "    <tr>\n",
       "      <th>7</th>\n",
       "      <td>wef_qes</td>\n",
       "      <td>20.0</td>\n",
       "    </tr>\n",
       "    <tr>\n",
       "      <th>8</th>\n",
       "      <td>wdi_expedu</td>\n",
       "      <td>26.0</td>\n",
       "    </tr>\n",
       "    <tr>\n",
       "      <th>9</th>\n",
       "      <td>wdi_ners</td>\n",
       "      <td>28.0</td>\n",
       "    </tr>\n",
       "    <tr>\n",
       "      <th>5</th>\n",
       "      <td>imf_pop</td>\n",
       "      <td>97.0</td>\n",
       "    </tr>\n",
       "    <tr>\n",
       "      <th>0</th>\n",
       "      <td>cname</td>\n",
       "      <td>NaN</td>\n",
       "    </tr>\n",
       "    <tr>\n",
       "      <th>2</th>\n",
       "      <td>ccodealp</td>\n",
       "      <td>NaN</td>\n",
       "    </tr>\n",
       "    <tr>\n",
       "      <th>3</th>\n",
       "      <td>ht_region</td>\n",
       "      <td>NaN</td>\n",
       "    </tr>\n",
       "    <tr>\n",
       "      <th>10</th>\n",
       "      <td>region_codificada</td>\n",
       "      <td>NaN</td>\n",
       "    </tr>\n",
       "  </tbody>\n",
       "</table>\n",
       "</div>"
      ],
      "text/plain": [
       "             variable  perdidos\n",
       "4           gle_cgdpc       1.0\n",
       "1            undp_hdi       3.0\n",
       "6              ffp_hf       4.0\n",
       "7             wef_qes      20.0\n",
       "8          wdi_expedu      26.0\n",
       "9            wdi_ners      28.0\n",
       "5             imf_pop      97.0\n",
       "0               cname       NaN\n",
       "2            ccodealp       NaN\n",
       "3           ht_region       NaN\n",
       "10  region_codificada       NaN"
      ]
     },
     "execution_count": 21,
     "metadata": {},
     "output_type": "execute_result"
    }
   ],
   "source": [
    "nombre_columna=[]\n",
    "contador_na=[]\n",
    "for colnames, serie in subset_sample_am.iteritems():\n",
    "    nombre_columna.append(colnames)\n",
    "    contador_na.append(serie.isna().value_counts().get(True))\n",
    "    \n",
    "df_temporal2= pd.DataFrame(\n",
    "    {'variable': nombre_columna,\n",
    "     'perdidos': contador_na })\n",
    "\n",
    "df_temporal2.sort_values(by='perdidos')\n",
    "    "
   ]
  },
  {
   "cell_type": "code",
   "execution_count": 22,
   "metadata": {},
   "outputs": [
    {
     "data": {
      "image/png": "[encoded data removed]",
      "text/plain": [
       "<Figure size 432x288 with 1 Axes>"
      ]
     },
     "metadata": {
      "needs_background": "light"
     },
     "output_type": "display_data"
    }
   ],
   "source": [
    "dotplot(subset_sample_am, 'gle_cgdpc', 'region_codificada', True, 'mean' )"
   ]
  },
  {
   "cell_type": "code",
   "execution_count": 23,
   "metadata": {},
   "outputs": [
    {
     "data": {
      "image/png": "[encoded data removed]",
      "text/plain": [
       "<Figure size 432x288 with 1 Axes>"
      ]
     },
     "metadata": {
      "needs_background": "light"
     },
     "output_type": "display_data"
    }
   ],
   "source": [
    "dotplot(subset_sample_am, 'undp_hdi', 'region_codificada', True, 'mean' )"
   ]
  },
  {
   "cell_type": "code",
   "execution_count": 24,
   "metadata": {},
   "outputs": [
    {
     "data": {
      "image/png": "[encoded data removed]",
      "text/plain": [
       "<Figure size 432x288 with 1 Axes>"
      ]
     },
     "metadata": {
      "needs_background": "light"
     },
     "output_type": "display_data"
    }
   ],
   "source": [
    "dotplot(subset_sample_am, 'ffp_hf', 'region_codificada', True, 'mean' )"
   ]
  },
  {
   "cell_type": "markdown",
   "metadata": {},
   "source": [
    "### 6. Guarde la base de datos\n",
    "La submuestra creada tiene un método llamado to_csv .\n",
    "Acceda a éste y guarde la base de datos con la siguiente nomenclatura:\n",
    "subsample_<iniciales>_demo.csv .\n",
    "(Súbala a la plataforma, junto al desafío)"
   ]
  },
  {
   "cell_type": "code",
   "execution_count": 25,
   "metadata": {},
   "outputs": [],
   "source": [
    "subset_sample_am.to_csv('subsample_eaga_demo.csv')"
   ]
  },
  {
   "cell_type": "code",
   "execution_count": null,
   "metadata": {},
   "outputs": [],
   "source": []
  }
 ],
 "metadata": {
  "kernelspec": {
   "display_name": "Python 3",
   "language": "python",
   "name": "python3"
  },
  "language_info": {
   "codemirror_mode": {
    "name": "ipython",
    "version": 3
   },
   "file_extension": ".py",
   "mimetype": "text/x-python",
   "name": "python",
   "nbconvert_exporter": "python",
   "pygments_lexer": "ipython3",
   "version": "3.7.3"
  }
 },
 "nbformat": 4,
 "nbformat_minor": 2
}
