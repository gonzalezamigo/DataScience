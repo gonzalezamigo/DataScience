{
 "cells": [
  {
   "cell_type": "markdown",
   "metadata": {},
   "source": [
    "# Desafío - Funciones y probabilidad básica\n",
    "## 4/5/19"
   ]
  },
  {
   "cell_type": "markdown",
   "metadata": {},
   "source": [
    "### Desafío 1: Generación de funciones"
   ]
  },
  {
   "cell_type": "code",
   "execution_count": 5,
   "metadata": {},
   "outputs": [],
   "source": [
    "import pandas as pd\n",
    "import numpy as np\n",
    "\n",
    "df= pd.read_csv('worldcup2014.csv')"
   ]
  },
  {
   "cell_type": "code",
   "execution_count": 96,
   "metadata": {},
   "outputs": [],
   "source": [
    "def media(x):\n",
    "    \"\"\"Docstring\n",
    "        calcula el promedio de la serie de pandas ingresada \n",
    "        realiza una suma de todos los registros en la serie de pandas que es x y los divide por la cantidad de registros\n",
    "    \"\"\"\n",
    "    if isinstance(x, pd.Series)is True:\n",
    "        if x.dtype != 'object':\n",
    "            media = sum(x)/len(x)\n",
    "            return media\n",
    "    "
   ]
  },
  {
   "cell_type": "code",
   "execution_count": 97,
   "metadata": {},
   "outputs": [],
   "source": [
    "def varianza (x):\n",
    "    \"\"\"Docstring\n",
    "        calcula la varianza de una serie de pandas que es x\n",
    "        lo calcula con la sumatoria de x menos la media de x elevado al cuadrado y partido por el largo de la \n",
    "        serie de pandas\n",
    "    \"\"\"\n",
    "    if isinstance(x, pd.Series)is True:\n",
    "        if x.dtype != 'object':\n",
    "            varianza = sum((x-media(x))**2)/len(x)\n",
    "            return varianza\n",
    "    \n",
    "    "
   ]
  },
  {
   "cell_type": "code",
   "execution_count": 9,
   "metadata": {},
   "outputs": [
    {
     "data": {
      "text/plain": [
       "4.25"
      ]
     },
     "execution_count": 9,
     "metadata": {},
     "output_type": "execute_result"
    }
   ],
   "source": [
    "media(df['goles_favor'])"
   ]
  },
  {
   "cell_type": "code",
   "execution_count": 10,
   "metadata": {},
   "outputs": [
    {
     "data": {
      "text/plain": [
       "4.25"
      ]
     },
     "execution_count": 10,
     "metadata": {},
     "output_type": "execute_result"
    }
   ],
   "source": [
    "df['goles_favor'].mean()"
   ]
  },
  {
   "cell_type": "code",
   "execution_count": 11,
   "metadata": {},
   "outputs": [
    {
     "data": {
      "text/plain": [
       "5.1875"
      ]
     },
     "execution_count": 11,
     "metadata": {},
     "output_type": "execute_result"
    }
   ],
   "source": [
    "varianza(df['goles_favor'])"
   ]
  },
  {
   "cell_type": "code",
   "execution_count": 12,
   "metadata": {},
   "outputs": [
    {
     "data": {
      "text/plain": [
       "5.1875"
      ]
     },
     "execution_count": 12,
     "metadata": {},
     "output_type": "execute_result"
    }
   ],
   "source": [
    "np.std(df['goles_favor'])**2"
   ]
  },
  {
   "cell_type": "code",
   "execution_count": 13,
   "metadata": {},
   "outputs": [
    {
     "data": {
      "text/plain": [
       "4.25"
      ]
     },
     "execution_count": 13,
     "metadata": {},
     "output_type": "execute_result"
    }
   ],
   "source": [
    "media(df['goles_contra'])"
   ]
  },
  {
   "cell_type": "code",
   "execution_count": 14,
   "metadata": {},
   "outputs": [
    {
     "data": {
      "text/plain": [
       "4.8125"
      ]
     },
     "execution_count": 14,
     "metadata": {},
     "output_type": "execute_result"
    }
   ],
   "source": [
    "varianza(df['goles_contra'])"
   ]
  },
  {
   "cell_type": "code",
   "execution_count": 15,
   "metadata": {},
   "outputs": [
    {
     "data": {
      "text/plain": [
       "4.21875"
      ]
     },
     "execution_count": 15,
     "metadata": {},
     "output_type": "execute_result"
    }
   ],
   "source": [
    "media(df['puntos'])"
   ]
  },
  {
   "cell_type": "code",
   "execution_count": 16,
   "metadata": {},
   "outputs": [
    {
     "data": {
      "text/plain": [
       "8.0458984375"
      ]
     },
     "execution_count": 16,
     "metadata": {},
     "output_type": "execute_result"
    }
   ],
   "source": [
    "varianza(df['puntos'])"
   ]
  },
  {
   "cell_type": "markdown",
   "metadata": {},
   "source": [
    "### Desafío 2"
   ]
  },
  {
   "cell_type": "code",
   "execution_count": 17,
   "metadata": {},
   "outputs": [],
   "source": [
    "df_europe = df[df['continent'] == 'europe']\n",
    "df_southamerica = df[df['continent'] == 'southamerica']\n",
    "df_africa = df[df['continent'] == 'africa']\n",
    "df_asia = df[df['continent'] == 'asia']\n",
    "df_northamerica = df[df['continent'] == 'northamerica']"
   ]
  },
  {
   "cell_type": "code",
   "execution_count": 18,
   "metadata": {},
   "outputs": [],
   "source": [
    "continent=[]\n",
    "store_mean=[]\n",
    "store_std=[]\n",
    "\n",
    "for d in[df_africa, df_europe, df_asia, df_northamerica, df_southamerica]:\n",
    "    continent.append(d.iloc[0,1])\n",
    "    store_mean.append(media(d['goles_favor']))\n",
    "    store_std.append(varianza(d['goles_favor']))\n",
    "\n",
    "tmp = pd.DataFrame({'continente': continent,\n",
    "                    'media_goles': store_mean,\n",
    "                    'std_goles': store_std})"
   ]
  },
  {
   "cell_type": "code",
   "execution_count": 19,
   "metadata": {},
   "outputs": [],
   "source": [
    "lista = [df_africa, df_europe, df_asia, df_northamerica, df_southamerica]\n",
    "def funcion_x(group_by,var):\n",
    "    continent=[]\n",
    "    store_mean=[]\n",
    "    store_std=[]\n",
    "\n",
    "    for d in group_by :\n",
    "        continent.append(d.iloc[0,1])\n",
    "        store_mean.append(media(d[var]))\n",
    "        store_std.append(varianza(d[var]))\n",
    "\n",
    "    tmp = pd.DataFrame({'continente': continent,\n",
    "                        'media_'+ var: store_mean,\n",
    "                        'std_'+ var: store_std})\n",
    "    return tmp"
   ]
  },
  {
   "cell_type": "code",
   "execution_count": 20,
   "metadata": {},
   "outputs": [
    {
     "data": {
      "text/html": [
       "<div>\n",
       "<style scoped>\n",
       "    .dataframe tbody tr th:only-of-type {\n",
       "        vertical-align: middle;\n",
       "    }\n",
       "\n",
       "    .dataframe tbody tr th {\n",
       "        vertical-align: top;\n",
       "    }\n",
       "\n",
       "    .dataframe thead th {\n",
       "        text-align: right;\n",
       "    }\n",
       "</style>\n",
       "<table border=\"1\" class=\"dataframe\">\n",
       "  <thead>\n",
       "    <tr style=\"text-align: right;\">\n",
       "      <th></th>\n",
       "      <th>continente</th>\n",
       "      <th>media_goles_contra</th>\n",
       "      <th>std_goles_contra</th>\n",
       "    </tr>\n",
       "  </thead>\n",
       "  <tbody>\n",
       "    <tr>\n",
       "      <th>0</th>\n",
       "      <td>africa</td>\n",
       "      <td>5.600000</td>\n",
       "      <td>3.840000</td>\n",
       "    </tr>\n",
       "    <tr>\n",
       "      <th>1</th>\n",
       "      <td>europe</td>\n",
       "      <td>4.000000</td>\n",
       "      <td>3.538462</td>\n",
       "    </tr>\n",
       "    <tr>\n",
       "      <th>2</th>\n",
       "      <td>asia</td>\n",
       "      <td>6.250000</td>\n",
       "      <td>3.187500</td>\n",
       "    </tr>\n",
       "    <tr>\n",
       "      <th>3</th>\n",
       "      <td>northamerica</td>\n",
       "      <td>3.500000</td>\n",
       "      <td>8.250000</td>\n",
       "    </tr>\n",
       "    <tr>\n",
       "      <th>4</th>\n",
       "      <td>southamerica</td>\n",
       "      <td>2.833333</td>\n",
       "      <td>0.472222</td>\n",
       "    </tr>\n",
       "  </tbody>\n",
       "</table>\n",
       "</div>"
      ],
      "text/plain": [
       "     continente  media_goles_contra  std_goles_contra\n",
       "0        africa            5.600000          3.840000\n",
       "1        europe            4.000000          3.538462\n",
       "2          asia            6.250000          3.187500\n",
       "3  northamerica            3.500000          8.250000\n",
       "4  southamerica            2.833333          0.472222"
      ]
     },
     "execution_count": 20,
     "metadata": {},
     "output_type": "execute_result"
    }
   ],
   "source": [
    "funcion_x(lista,'goles_contra')"
   ]
  },
  {
   "cell_type": "markdown",
   "metadata": {},
   "source": [
    "### Desafío 3: Simulaciones"
   ]
  },
  {
   "cell_type": "code",
   "execution_count": 21,
   "metadata": {},
   "outputs": [],
   "source": [
    "def generate_pet():\n",
    "    pet = np.random.choice(['gato', 'perro'])\n",
    "    return pet"
   ]
  },
  {
   "cell_type": "code",
   "execution_count": 93,
   "metadata": {},
   "outputs": [
    {
     "name": "stdout",
     "output_type": "stream",
     "text": [
      "['gato', 'perro', 'perro', 'gato', 'gato', 'perro', 'gato', 'perro', 'gato', 'perro', 'gato', 'perro', 'perro', 'perro', 'perro', 'perro', 'perro', 'perro', 'gato', 'gato']\n"
     ]
    }
   ],
   "source": [
    "np.random.seed(2)\n",
    "lista_pet=[]\n",
    "\n",
    "for i in range(0,20):\n",
    "    lista_pet.append(generate_pet())\n",
    "print (lista_pet)\n",
    "    "
   ]
  },
  {
   "cell_type": "code",
   "execution_count": 94,
   "metadata": {},
   "outputs": [
    {
     "name": "stdout",
     "output_type": "stream",
     "text": [
      "la probabilidad de elegir un perro al azar es de:  0.6\n",
      "la probabilidad de elegir un gato al azar es de:  0.4\n"
     ]
    }
   ],
   "source": [
    "probabilidad_perro = lista_pet.count('perro')/len(lista_pet)\n",
    "\n",
    "probabilidad_gato = lista_pet.count('gato')/len(lista_pet)\n",
    "\n",
    "print(\"la probabilidad de elegir un perro al azar es de: \" ,probabilidad_perro)\n",
    "print(\"la probabilidad de elegir un gato al azar es de: \" ,probabilidad_gato)\n"
   ]
  },
  {
   "cell_type": "code",
   "execution_count": 95,
   "metadata": {},
   "outputs": [],
   "source": [
    "# np.randome.seed(2) sirve para fijar el valor de la semilla de los numeros aleatorios y asi obtener los mismos números aleatorios cada vez "
   ]
  },
  {
   "cell_type": "markdown",
   "metadata": {},
   "source": [
    "### Desafío 4: Función simuladora\n"
   ]
  },
  {
   "cell_type": "code",
   "execution_count": 76,
   "metadata": {},
   "outputs": [],
   "source": [
    "def simulate_pets_prob(x):\n",
    "    np.random.seed(1)\n",
    "    contador1=0\n",
    "    contador2=0\n",
    "    contador3=0\n",
    "    for i in range (x):\n",
    "        young_pet = generate_pet()\n",
    "        old_pet = generate_pet()\n",
    "        if young_pet == 'perro' or old_pet == 'perro':\n",
    "            contador1 += 1\n",
    "        if old_pet == 'perro':\n",
    "            contador2 += 1\n",
    "        if young_pet == 'perro' and old_pet == 'perro':\n",
    "            contador3 += 1\n",
    "    return contador1, contador2, contador3\n",
    "    "
   ]
  },
  {
   "cell_type": "code",
   "execution_count": 80,
   "metadata": {},
   "outputs": [
    {
     "data": {
      "text/plain": [
       "(73, 49, 28)"
      ]
     },
     "execution_count": 80,
     "metadata": {},
     "output_type": "execute_result"
    }
   ],
   "source": [
    "simulate_pets_prob(100)"
   ]
  },
  {
   "cell_type": "code",
   "execution_count": 79,
   "metadata": {},
   "outputs": [],
   "source": [
    "#  El caso menos probable es el de las ocasiones donde los dos sean perros\n",
    "# El caso mas probable es el de  las ocasiones donde por lo menos uno de los animales sea un perro."
   ]
  }
 ],
 "metadata": {
  "kernelspec": {
   "display_name": "Python 3",
   "language": "python",
   "name": "python3"
  },
  "language_info": {
   "codemirror_mode": {
    "name": "ipython",
    "version": 3
   },
   "file_extension": ".py",
   "mimetype": "text/x-python",
   "name": "python",
   "nbconvert_exporter": "python",
   "pygments_lexer": "ipython3",
   "version": "3.7.3"
  }
 },
 "nbformat": 4,
 "nbformat_minor": 2
}
